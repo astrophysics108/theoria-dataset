{
  "nbformat": 4,
  "nbformat_minor": 0,
  "metadata": {
    "colab": {
      "provenance": []
    },
    "kernelspec": {
      "name": "python3",
      "display_name": "Python 3"
    },
    "language_info": {
      "name": "python"
    }
  },
  "cells": [
    {
      "cell_type": "markdown",
      "metadata": {},
      "source": [
        "# Rydberg Formula\n",
        "\n",
        "This notebook contains the programmatic verification for the **Rydberg Formula** entry from the THEORIA dataset.\n",
        "\n",
        "**Entry ID:** rydberg_formula  \n",
        "**Required Library:** sympy 1.12.0\n",
        "\n",
        "## Description\n",
        "The Rydberg formula describes the wavelengths of spectral lines in hydrogen and hydrogen-like atoms. It predicts the wavelength of light emitted when an electron transitions between energy levels, with the wavenumber proportional to the difference in inverse squares of the principal quantum numbers. This empirical formula, discovered before quantum mechanics, provided crucial evidence for quantized energy levels in atoms and laid the foundation for atomic spectroscopy.\n",
        "\n",
        "## Installation\n",
        "First, let's install the required library:"
      ]
    },
    {
      "cell_type": "code",
      "metadata": {},
      "source": [
        "# Install required library with exact version\n",
        "!pip install sympy==1.12.0"
      ],
      "execution_count": null,
      "outputs": []
    },
    {
      "cell_type": "markdown",
      "metadata": {},
      "source": [
        "## Programmatic Verification\n",
        "\n",
        "The following code verifies the derivation mathematically:"
      ]
    },
    {
      "cell_type": "code",
      "metadata": {},
      "source": [
        "import sympy as sp\n",
        "import math\n",
        "\n",
        "# Define symbols\n",
        "lam, R_inf, n1, n2, h, c = sp.symbols('lambda R_inf n1 n2 h c', positive=True, real=True)\n",
        "\n",
        "# Rydberg formula\n",
        "rydberg_eq = sp.Eq(1/lam, R_inf * (1/n1**2 - 1/n2**2))\n",
        "\n",
        "# Solve for wavelength\n",
        "lambda_solved = sp.solve(rydberg_eq, lam)[0]\n",
        "lambda_expected = 1 / (R_inf * (1/n1**2 - 1/n2**2))\n",
        "assert sp.simplify(lambda_solved - lambda_expected) == 0\n",
        "\n",
        "# Test with physical constants and known transitions\n",
        "R_inf_val = 1.097e7  # m^-1 (Rydberg constant)\n",
        "c_val = 3e8          # m/s (speed of light)\n",
        "\n",
        "# Lyman series (n1=1): Lyman-alpha transition (n2=2 → n1=1)\n",
        "n1_val, n2_val = 1, 2\n",
        "wavenumber = R_inf_val * (1/n1_val**2 - 1/n2_val**2)\n",
        "lambda_lyman_alpha = 1 / wavenumber\n",
        "\n",
        "# Should be around 121.6 nm (UV)\n",
        "expected_lambda = 121.6e-9  # meters\n",
        "relative_error = abs(lambda_lyman_alpha - expected_lambda) / expected_lambda\n",
        "assert relative_error < 0.1, f'Lyman-alpha wavelength error too large: {relative_error}'\n",
        "\n",
        "# Balmer series (n1=2): Balmer-alpha (Hα) transition (n2=3 → n1=2)\n",
        "n1_val, n2_val = 2, 3\n",
        "wavenumber_balmer = R_inf_val * (1/n1_val**2 - 1/n2_val**2)\n",
        "lambda_balmer_alpha = 1 / wavenumber_balmer\n",
        "\n",
        "# Should be around 656.3 nm (red visible)\n",
        "expected_balmer = 656.3e-9  # meters\n",
        "relative_error_balmer = abs(lambda_balmer_alpha - expected_balmer) / expected_balmer\n",
        "assert relative_error_balmer < 0.1, f'Balmer-alpha wavelength error too large'\n",
        "\n",
        "# Verify series convergence: as n2 → ∞, approaches series limit\n",
        "n1_limit = 2  # Balmer series\n",
        "lambda_limit = 1 / (R_inf_val / n1_limit**2)\n",
        "# Series limit should be 364.6 nm for Balmer\n",
        "expected_limit = 364.6e-9\n",
        "limit_error = abs(lambda_limit - expected_limit) / expected_limit\n",
        "assert limit_error < 0.1, 'Series limit error too large'\n",
        "\n",
        "# Test that n2 > n1 gives positive wavenumber (emission)\n",
        "assert 1/n1_val**2 - 1/n2_val**2 > 0, 'Invalid transition: n2 must be > n1 for emission'\n"
      ],
      "execution_count": null,
      "outputs": []
    },
    {
      "cell_type": "markdown",
      "metadata": {},
      "source": [
        "## Source\n",
        "\n",
        "📖 **View this entry:** [theoria-dataset.org/entries.html?entry=rydberg_formula.json](https://theoria-dataset.org/entries.html?entry=rydberg_formula.json)\n",
        "\n",
        "This verification code is part of the [THEORIA dataset](https://github.com/theoria-dataset/theoria-dataset), ",
        "a curated collection of theoretical physics derivations with programmatic verification.\n",
        "\n",
        "**License:** CC-BY 4.0"
      ]
    }
  ]
}