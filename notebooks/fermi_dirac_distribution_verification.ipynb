{
  "nbformat": 4,
  "nbformat_minor": 0,
  "metadata": {
    "colab": {
      "provenance": []
    },
    "kernelspec": {
      "name": "python3",
      "display_name": "Python 3"
    },
    "language_info": {
      "name": "python"
    }
  },
  "cells": [
    {
      "cell_type": "markdown",
      "metadata": {},
      "source": [
        "# Fermi-Dirac Distribution\n",
        "\n",
        "This notebook contains the programmatic verification for the **Fermi-Dirac Distribution** entry from the THEORIA dataset.\n",
        "\n",
        "**Entry ID:** fermi_dirac_distribution  \n",
        "**Required Library:** sympy 1.12.0\n",
        "\n",
        "## Description\n",
        "The Fermi-Dirac distribution describes the statistical distribution of fermions (particles with half-integer spin) in thermal equilibrium. Unlike classical particles, fermions obey the Pauli exclusion principle, limiting occupancy to one particle per quantum state. This distribution is fundamental for understanding electrons in metals, semiconductors, and degenerate matter.\n",
        "\n",
        "## Installation\n",
        "First, let's install the required library:"
      ]
    },
    {
      "cell_type": "code",
      "metadata": {},
      "source": [
        "# Install required library with exact version\n",
        "!pip install sympy==1.12.0"
      ],
      "execution_count": null,
      "outputs": []
    },
    {
      "cell_type": "markdown",
      "metadata": {},
      "source": [
        "## Programmatic Verification\n",
        "\n",
        "The following code verifies the derivation mathematically:"
      ]
    },
    {
      "cell_type": "code",
      "metadata": {},
      "source": [
        "import sympy as sp\n",
        "# Define symbols\n",
        "E, mu, k_B, T = sp.symbols('E mu k_B T', positive=True)\n",
        "# Fermi-Dirac distribution\n",
        "f_FD = 1/(sp.exp((E - mu)/(k_B*T)) + 1)\n",
        "# Verify limiting cases\n",
        "# Classical limit (E >> mu + k_B*T): should reduce to Maxwell-Boltzmann\n",
        "# When E >> mu + k_B*T, exp((E-mu)/(k_B*T)) >> 1, so f_FD ≈ exp(-(E-mu)/(k_B*T))\n",
        "# Test numerically with large E relative to mu\n",
        "E_test = mu + 10*k_B*T\n",
        "f_FD_test = f_FD.subs(E, E_test)\n",
        "f_MB_test = sp.exp(-(E_test - mu)/(k_B*T))\n",
        "# They should be approximately equal in classical limit\n",
        "classical_ratio = sp.simplify(f_FD_test / f_MB_test)\n",
        "# Zero temperature limit verification\n",
        "# At T=0: f=1 for E<mu, f=0 for E>mu (step function)\n",
        "# Test with small but finite T to avoid SymPy limit issues\n",
        "T_small = k_B*T/1000\n",
        "f_below_mu = f_FD.subs([(E, mu - k_B*T), (T, T_small)])\n",
        "f_above_mu = f_FD.subs([(E, mu + k_B*T), (T, T_small)])\n",
        "# Below mu should be close to 1, above mu should be close to 0\n",
        "print(f'At low T, f(E<mu) ≈ {float(f_below_mu.evalf()):.3f}')\n",
        "print(f'At low T, f(E>mu) ≈ {float(f_above_mu.evalf()):.6f}')\n",
        "# Verify normalization property for free electron gas\n",
        "# At T=0, integral from 0 to mu should give total number of electrons\n",
        "# This requires integration with density of states\n",
        "# Verify derivative gives Fermi function shape\n",
        "df_dE = sp.diff(f_FD, E)\n",
        "# At E = mu, the derivative should be maximum (steepest slope)\n",
        "df_at_mu = df_dE.subs(E, mu)\n",
        "expected_max = -1/(4*k_B*T)\n",
        "# Check if they're equivalent\n",
        "derivative_check = sp.simplify(df_at_mu - expected_max)\n",
        "print(f'Derivative at mu matches expected: {derivative_check == 0}')\n",
        "print('Fermi-Dirac distribution verification completed!')\n"
      ],
      "execution_count": null,
      "outputs": []
    },
    {
      "cell_type": "markdown",
      "metadata": {},
      "source": [
        "## Source\n",
        "\n",
        "📖 **View this entry:** [theoria-dataset.org/entries.html?entry=fermi_dirac_distribution.json](https://theoria-dataset.org/entries.html?entry=fermi_dirac_distribution.json)\n",
        "\n",
        "This verification code is part of the [THEORIA dataset](https://github.com/theoria-dataset/theoria-dataset), ",
        "a curated collection of theoretical physics derivations with programmatic verification.\n",
        "\n",
        "**License:** CC-BY 4.0"
      ]
    }
  ]
}