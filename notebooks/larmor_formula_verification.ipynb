{
  "nbformat": 4,
  "nbformat_minor": 0,
  "metadata": {
    "colab": {
      "provenance": []
    },
    "kernelspec": {
      "name": "python3",
      "display_name": "Python 3"
    },
    "language_info": {
      "name": "python"
    }
  },
  "cells": [
    {
      "cell_type": "markdown",
      "metadata": {},
      "source": [
        "# Larmor Formula\n",
        "\n",
        "This notebook contains the programmatic verification for the **Larmor Formula** entry from the THEORIA dataset.\n",
        "\n",
        "**Entry ID:** larmor_formula  \n",
        "**Required Library:** sympy 1.12.0\n",
        "\n",
        "## Description\n",
        "The Larmor formula describes the power radiated by a non-relativistic accelerating point charge. It shows that any accelerating charge emits electromagnetic radiation, with power proportional to the square of acceleration. This fundamental result explains energy loss in accelerating electrons, the instability of classical atomic models, and forms the basis for understanding synchrotron radiation, antenna theory, and electromagnetic braking.\n",
        "\n",
        "## Installation\n",
        "First, let's install the required library:"
      ]
    },
    {
      "cell_type": "code",
      "metadata": {},
      "source": [
        "# Install required library with exact version\n",
        "!pip install sympy==1.12.0"
      ],
      "execution_count": null,
      "outputs": []
    },
    {
      "cell_type": "markdown",
      "metadata": {},
      "source": [
        "## Programmatic Verification\n",
        "\n",
        "The following code verifies the derivation mathematically:"
      ]
    },
    {
      "cell_type": "code",
      "metadata": {},
      "source": [
        "import sympy as sp\n",
        "import math\n",
        "\n",
        "# Define symbols\n",
        "e, a, epsilon_0, c, mu_0 = sp.symbols('e a epsilon_0 c mu_0', positive=True, real=True)\n",
        "P, theta = sp.symbols('P theta', real=True)\n",
        "\n",
        "# Larmor formula\n",
        "P_larmor = (2*e**2*a**2)/(3*4*sp.pi*epsilon_0*c**3)\n",
        "\n",
        "# Verify the angular integral: ∫₀^π sin³θ dθ = 4/3\n",
        "integral_sin3 = sp.integrate(sp.sin(theta)**3, (theta, 0, sp.pi))\n",
        "expected_integral = sp.Rational(4, 3)\n",
        "assert sp.simplify(integral_sin3 - expected_integral) == 0\n",
        "\n",
        "# Test with physical constants\n",
        "e_val = 1.602e-19       # C (elementary charge)\n",
        "epsilon_0_val = 8.854e-12  # F/m (permittivity)\n",
        "c_val = 2.998e8        # m/s (speed of light)\n",
        "\n",
        "# Example: Electron in circular orbit (Bohr model)\n",
        "# For hydrogen ground state orbit\n",
        "r_bohr = 5.29e-11      # m (Bohr radius)\n",
        "v_orbital = 2.19e6     # m/s (orbital velocity)\n",
        "a_centripetal = v_orbital**2 / r_bohr  # centripetal acceleration\n",
        "\n",
        "# Calculate radiated power\n",
        "P_electron = (2*e_val**2*a_centripetal**2)/(3*4*math.pi*epsilon_0_val*c_val**3)\n",
        "\n",
        "# Calculate expected power for comparison\n",
        "# Classical Bohr atom radiated power is approximately 4.7 × 10⁻⁸ W\n",
        "expected_power = 4.7e-8  # W (corrected value)\n",
        "relative_error = abs(P_electron - expected_power) / expected_power\n",
        "# Allow reasonable error due to approximations in classical model\n",
        "assert relative_error < 0.5, f'Power calculation error: {relative_error}'\n",
        "\n",
        "# Test scaling relationships\n",
        "# Power should scale as a²\n",
        "a1, a2 = 1.0, 2.0  # arbitrary units\n",
        "P1 = (2*e_val**2*a1**2)/(3*4*math.pi*epsilon_0_val*c_val**3)\n",
        "P2 = (2*e_val**2*a2**2)/(3*4*math.pi*epsilon_0_val*c_val**3)\n",
        "power_ratio = P2 / P1\n",
        "expected_ratio = (a2/a1)**2\n",
        "assert abs(power_ratio - expected_ratio) < 1e-10, 'Quadratic scaling with acceleration failed'\n",
        "\n",
        "# Test dimensional analysis\n",
        "# [P] = [e]²[a]²/([ε₀][c]³) should have dimensions of power (ML²T⁻³)\n",
        "# [e] = AT, [a] = LT⁻², [ε₀] = A²T⁴M⁻¹L⁻³, [c] = LT⁻¹\n",
        "# [e]²[a]²/([ε₀][c]³) = (AT)²(LT⁻²)²/((A²T⁴M⁻¹L⁻³)(LT⁻¹)³)\n",
        "# = A²T²L²T⁻⁴/(A²T⁴M⁻¹L⁻³L³T⁻³) = A²L²T⁻²/(A²TM⁻¹) = ML²T⁻³ ✓\n",
        "\n",
        "# Test CGS units version\n",
        "# In CGS: P = (2e²a²)/(3c³)\n",
        "# Conversion factor between SI and CGS should be consistent\n",
        "# CGS: e in statcoulomb, a in cm/s², c in cm/s\n",
        "# SI to CGS conversion involves factors of 4πε₀\n"
      ],
      "execution_count": null,
      "outputs": []
    },
    {
      "cell_type": "markdown",
      "metadata": {},
      "source": [
        "## Source\n",
        "\n",
        "📖 **View this entry:** [theoria-dataset.org/entries.html?entry=larmor_formula.json](https://theoria-dataset.org/entries.html?entry=larmor_formula.json)\n",
        "\n",
        "This verification code is part of the [THEORIA dataset](https://github.com/theoria-dataset/theoria-dataset), ",
        "a curated collection of theoretical physics derivations with programmatic verification.\n",
        "\n",
        "**License:** CC-BY 4.0"
      ]
    }
  ]
}