{
  "nbformat": 4,
  "nbformat_minor": 0,
  "metadata": {
    "colab": {
      "provenance": []
    },
    "kernelspec": {
      "name": "python3",
      "display_name": "Python 3"
    },
    "language_info": {
      "name": "python"
    }
  },
  "cells": [
    {
      "cell_type": "markdown",
      "metadata": {},
      "source": [
        "# Reynolds Number\n",
        "\n",
        "This notebook contains the programmatic verification for the **Reynolds Number** entry from the THEORIA dataset.\n",
        "\n",
        "**Entry ID:** reynolds_number  \n",
        "**Required Library:** sympy 1.12.0\n",
        "\n",
        "## Description\n",
        "The Reynolds number is a dimensionless quantity that characterizes the ratio of inertial forces to viscous forces in fluid flow. It determines whether flow is laminar or turbulent: low Reynolds numbers indicate laminar flow dominated by viscous effects, while high Reynolds numbers indicate turbulent flow dominated by inertial effects. This parameter is fundamental in fluid mechanics and engineering design.\n",
        "\n",
        "## Installation\n",
        "First, let's install the required library:"
      ]
    },
    {
      "cell_type": "code",
      "metadata": {},
      "source": [
        "# Install required library with exact version\n",
        "!pip install sympy==1.12.0"
      ],
      "execution_count": null,
      "outputs": []
    },
    {
      "cell_type": "markdown",
      "metadata": {},
      "source": [
        "## Programmatic Verification\n",
        "\n",
        "The following code verifies the derivation mathematically:"
      ]
    },
    {
      "cell_type": "code",
      "metadata": {},
      "source": [
        "import sympy as sp\n",
        "# Define symbols\n",
        "rho, v, L, mu, nu = sp.symbols('rho v L mu nu', positive=True)\n",
        "# Reynolds number definition\n",
        "Re = (rho * v * L) / mu\n",
        "# Alternative form using kinematic viscosity\n",
        "Re_alt = (v * L) / nu\n",
        "# Verify equivalence when nu = mu/rho\n",
        "Re_substituted = Re.subs(mu, nu * rho)\n",
        "assert sp.simplify(Re_substituted - Re_alt) == 0\n",
        "# Verify dimensionless nature\n",
        "# [rho] = kg/m^3, [v] = m/s, [L] = m, [mu] = kg/(m·s)\n",
        "# [Re] = (kg/m^3)(m/s)(m) / (kg/(m·s)) = dimensionless\n",
        "# Check specific examples\n",
        "# Water at room temperature: rho ~ 1000 kg/m^3, mu ~ 1e-3 kg/(m·s)\n",
        "rho_water = 1000  # kg/m^3\n",
        "mu_water = 1e-3   # kg/(m·s)\n",
        "v_test = 1        # m/s\n",
        "L_test = 0.1      # m (10 cm pipe)\n",
        "Re_water = (rho_water * v_test * L_test) / mu_water\n",
        "assert Re_water == 100000  # High Re, turbulent flow expected\n",
        "# Air at room temperature: rho ~ 1.2 kg/m^3, mu ~ 1.8e-5 kg/(m·s)\n",
        "rho_air = 1.2\n",
        "mu_air = 1.8e-5\n",
        "Re_air = (rho_air * v_test * L_test) / mu_air\n",
        "assert abs(Re_air - 6667) < 1  # Also high Re\n",
        "# Verify that Re is dimensionless\n",
        "Re_numeric = Re.subs([(rho, rho_water), (v, v_test), (L, L_test), (mu, mu_water)])\n",
        "assert Re_numeric == 100000\n"
      ],
      "execution_count": null,
      "outputs": []
    },
    {
      "cell_type": "markdown",
      "metadata": {},
      "source": [
        "## Source\n",
        "\n",
        "📖 **View this entry:** [theoria-dataset.org/entries.html?entry=reynolds_number.json](https://theoria-dataset.org/entries.html?entry=reynolds_number.json)\n",
        "\n",
        "This verification code is part of the [THEORIA dataset](https://github.com/theoria-dataset/theoria-dataset), ",
        "a curated collection of theoretical physics derivations with programmatic verification.\n",
        "\n",
        "**License:** CC-BY 4.0"
      ]
    }
  ]
}