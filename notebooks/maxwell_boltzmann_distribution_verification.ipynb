{
  "nbformat": 4,
  "nbformat_minor": 0,
  "metadata": {
    "colab": {
      "provenance": []
    },
    "kernelspec": {
      "name": "python3",
      "display_name": "Python 3"
    },
    "language_info": {
      "name": "python"
    }
  },
  "cells": [
    {
      "cell_type": "markdown",
      "metadata": {},
      "source": [
        "# Maxwell-Boltzmann Distribution\n",
        "\n",
        "This notebook contains the programmatic verification for the **Maxwell-Boltzmann Distribution** entry from the THEORIA dataset.\n",
        "\n",
        "**Entry ID:** maxwell_boltzmann_distribution  \n",
        "**Required Library:** sympy 1.12.0\n",
        "\n",
        "## Description\n",
        "The Maxwell-Boltzmann distribution describes the probability distribution of particle speeds in a classical ideal gas at thermal equilibrium. It shows that most particles have intermediate speeds, with exponentially fewer particles at very high speeds. This distribution is fundamental to kinetic theory and statistical mechanics.\n",
        "\n",
        "## Installation\n",
        "First, let's install the required library:"
      ]
    },
    {
      "cell_type": "code",
      "metadata": {},
      "source": [
        "# Install required library with exact version\n",
        "!pip install sympy==1.12.0"
      ],
      "execution_count": null,
      "outputs": []
    },
    {
      "cell_type": "markdown",
      "metadata": {},
      "source": [
        "## Programmatic Verification\n",
        "\n",
        "The following code verifies the derivation mathematically:"
      ]
    },
    {
      "cell_type": "code",
      "metadata": {},
      "source": [
        "import sympy as sp\n",
        "# Define symbols\n",
        "v, m, k_B, T = sp.symbols('v m k_B T', positive=True)\n",
        "# Maxwell-Boltzmann distribution\n",
        "f_v = 4*sp.pi*(m/(2*sp.pi*k_B*T))**(sp.Rational(3,2)) * v**2 * sp.exp(-m*v**2/(2*k_B*T))\n",
        "# Verify normalization (integral from 0 to infinity should equal 1)\n",
        "normalization = sp.integrate(f_v, (v, 0, sp.oo))\n",
        "assert sp.simplify(normalization) == 1\n",
        "# Calculate mean speed\n",
        "mean_speed = sp.integrate(v * f_v, (v, 0, sp.oo))\n",
        "expected_mean = sp.sqrt(8*k_B*T/(sp.pi*m))\n",
        "assert sp.simplify(mean_speed - expected_mean) == 0\n",
        "# Verify that distribution peaks at most probable speed\n",
        "df_dv = sp.diff(f_v, v)\n",
        "# Set derivative to zero and solve for v_mp (most probable speed)\n",
        "v_mp_eq = sp.solve(df_dv, v)\n",
        "v_mp = sp.sqrt(2*k_B*T/m)\n",
        "# The most probable speed should be sqrt(2kT/m)\n",
        "assert any(sp.simplify(sol - v_mp) == 0 for sol in v_mp_eq if sol > 0)\n"
      ],
      "execution_count": null,
      "outputs": []
    },
    {
      "cell_type": "markdown",
      "metadata": {},
      "source": [
        "## Source\n",
        "\n",
        "📖 **View this entry:** [theoria-dataset.org/entries.html?entry=maxwell_boltzmann_distribution.json](https://theoria-dataset.org/entries.html?entry=maxwell_boltzmann_distribution.json)\n",
        "\n",
        "This verification code is part of the [THEORIA dataset](https://github.com/theoria-dataset/theoria-dataset), ",
        "a curated collection of theoretical physics derivations with programmatic verification.\n",
        "\n",
        "**License:** CC-BY 4.0"
      ]
    }
  ]
}