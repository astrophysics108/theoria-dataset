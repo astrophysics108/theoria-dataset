{
  "nbformat": 4,
  "nbformat_minor": 0,
  "metadata": {
    "colab": {
      "provenance": []
    },
    "kernelspec": {
      "name": "python3",
      "display_name": "Python 3"
    },
    "language_info": {
      "name": "python"
    }
  },
  "cells": [
    {
      "cell_type": "markdown",
      "metadata": {},
      "source": [
        "# Planck's Quantum Hypothesis\n",
        "\n",
        "This notebook contains the programmatic verification for the **Planck's Quantum Hypothesis** entry from the THEORIA dataset.\n",
        "\n",
        "**Entry ID:** plancks_quantum_hypothesis  \n",
        "**Required Library:** sympy 1.12.0\n",
        "\n",
        "## Description\n",
        "Planck's quantum hypothesis revolutionized physics by proposing that electromagnetic energy is emitted and absorbed in discrete packets called quanta, with energy proportional to frequency. This fundamental relation ended the ultraviolet catastrophe of classical physics and birthed quantum mechanics. It explains the photoelectric effect, atomic spectra, and provides the foundation for all quantum phenomena.\n",
        "\n",
        "## Installation\n",
        "First, let's install the required library:"
      ]
    },
    {
      "cell_type": "code",
      "metadata": {},
      "source": [
        "# Install required library with exact version\n",
        "!pip install sympy==1.12.0"
      ],
      "execution_count": null,
      "outputs": []
    },
    {
      "cell_type": "markdown",
      "metadata": {},
      "source": [
        "## Programmatic Verification\n",
        "\n",
        "The following code verifies the derivation mathematically:"
      ]
    },
    {
      "cell_type": "code",
      "metadata": {},
      "source": [
        "import sympy as sp\n",
        "\n",
        "# Define symbols\n",
        "h, f, k_B, T, n, x = sp.symbols('h f k_B T n x', positive=True, real=True)\n",
        "E = sp.symbols('E', real=True)\n",
        "\n",
        "# Step 6-7: Planck's quantization\n",
        "E_quantum = h * f\n",
        "E_n = n * h * f\n",
        "\n",
        "# Step 10: Dimensionless variable\n",
        "x_def = h * f / (k_B * T)\n",
        "\n",
        "# Step 12: Geometric series sum\n",
        "# Sum from n=0 to infinity of e^(-nx) = 1/(1-e^(-x))\n",
        "denominator = 1 / (1 - sp.exp(-x))\n",
        "\n",
        "# Step 13: Derivative of geometric series for numerator\n",
        "# Sum from n=0 to infinity of n*e^(-nx) = e^(-x)/(1-e^(-x))^2\n",
        "numerator_sum = sp.exp(-x) / (1 - sp.exp(-x))**2\n",
        "\n",
        "# Step 14-16: Calculate average energy\n",
        "average_energy = h * f * numerator_sum * (1 - sp.exp(-x))\n",
        "average_energy_simplified = sp.simplify(average_energy)\n",
        "\n",
        "# Expected result: hf/(e^(hf/kT) - 1)\n",
        "expected_result = h * f / (sp.exp(h*f/(k_B*T)) - 1)\n",
        "\n",
        "# Substitute x back\n",
        "average_energy_substituted = average_energy_simplified.subs(x, h*f/(k_B*T))\n",
        "\n",
        "# Verify they are equal\n",
        "difference = sp.simplify(average_energy_substituted - expected_result)\n",
        "assert difference == 0\n",
        "\n",
        "# Test classical limit: hf << kT (x << 1)\n",
        "# In this limit, e^x ≈ 1 + x, so e^x - 1 ≈ x\n",
        "# Therefore <E> ≈ hf/x = hf/(hf/kT) = kT\n",
        "classical_limit = expected_result.series(x, 0, 2).removeO()\n",
        "expected_classical = k_B * T\n",
        "\n",
        "# Verify classical limit\n",
        "classical_diff = sp.simplify(classical_limit.subs(x, h*f/(k_B*T)) - expected_classical)\n",
        "# The leading term should be kT\n",
        "\n",
        "# Test high frequency limit: hf >> kT (x >> 1)\n",
        "# In this limit, e^(-x) → 0, so <E> ≈ hf*e^(-x) → 0\n",
        "# This prevents the ultraviolet catastrophe\n",
        "\n",
        "# Test photoelectric effect: E_photon = hf\n",
        "photon_energy = h * f\n",
        "assert photon_energy == E_quantum\n",
        "\n",
        "# Verify quantization for multiple quanta\n",
        "E_2_quanta = 2 * h * f\n",
        "E_3_quanta = 3 * h * f\n",
        "assert E_2_quanta == E_n.subs(n, 2)\n",
        "assert E_3_quanta == E_n.subs(n, 3)\n"
      ],
      "execution_count": null,
      "outputs": []
    },
    {
      "cell_type": "markdown",
      "metadata": {},
      "source": [
        "## Source\n",
        "\n",
        "📖 **View this entry:** [theoria-dataset.org/entries.html?entry=plancks_quantum_hypothesis.json](https://theoria-dataset.org/entries.html?entry=plancks_quantum_hypothesis.json)\n",
        "\n",
        "This verification code is part of the [THEORIA dataset](https://github.com/theoria-dataset/theoria-dataset), ",
        "a curated collection of theoretical physics derivations with programmatic verification.\n",
        "\n",
        "**License:** CC-BY 4.0"
      ]
    }
  ]
}