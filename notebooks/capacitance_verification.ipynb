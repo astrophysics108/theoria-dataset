{
  "nbformat": 4,
  "nbformat_minor": 0,
  "metadata": {
    "colab": {
      "provenance": []
    },
    "kernelspec": {
      "name": "python3",
      "display_name": "Python 3"
    },
    "language_info": {
      "name": "python"
    }
  },
  "cells": [
    {
      "cell_type": "markdown",
      "metadata": {},
      "source": [
        "# Capacitance\n",
        "\n",
        "This notebook contains the programmatic verification for the **Capacitance** entry from the THEORIA dataset.\n",
        "\n",
        "**Entry ID:** capacitance  \n",
        "**Required Library:** sympy 1.12.0\n",
        "\n",
        "## Description\n",
        "Capacitance is the ability of a system to store electric charge per unit voltage. Capacitors store electrical energy in the electric field between conducting plates and are fundamental components in electronic circuits for energy storage, filtering, and timing applications.\n",
        "\n",
        "## Installation\n",
        "First, let's install the required library:"
      ]
    },
    {
      "cell_type": "code",
      "metadata": {},
      "source": [
        "# Install required library with exact version\n",
        "!pip install sympy==1.12.0"
      ],
      "execution_count": null,
      "outputs": []
    },
    {
      "cell_type": "markdown",
      "metadata": {},
      "source": [
        "## Programmatic Verification\n",
        "\n",
        "The following code verifies the derivation mathematically:"
      ]
    },
    {
      "cell_type": "code",
      "metadata": {},
      "source": [
        "import math\n",
        "\n",
        "# Constants\n",
        "epsilon_0 = 8.854e-12  # F/m\n",
        "\n",
        "print('Capacitance Verification\\n')\n",
        "print('=' * 40)\n",
        "\n",
        "def parallel_plate_capacitance(A, d, epsilon_r=1):\n",
        "    \"\"\"Calculate capacitance of parallel plate capacitor\"\"\"\n",
        "    return epsilon_0 * epsilon_r * A / d\n",
        "\n",
        "def energy_stored(C, V):\n",
        "    \"\"\"Calculate energy stored in capacitor\"\"\"\n",
        "    return 0.5 * C * V**2\n",
        "\n",
        "# Test 1: Basic capacitor\n",
        "print('Test 1: Parallel plate capacitor')\n",
        "A = 0.01  # plate area in m² (10 cm²)\n",
        "d = 1e-3  # separation in m (1 mm)\n",
        "V = 12.0  # voltage in V\n",
        "\n",
        "C = parallel_plate_capacitance(A, d)\n",
        "Q = C * V\n",
        "U = energy_stored(C, V)\n",
        "\n",
        "print(f'  Capacitance: {C*1e12:.1f} pF')\n",
        "print(f'  Charge stored: {Q*1e9:.1f} nC')\n",
        "print(f'  Energy stored: {U*1e6:.1f} μJ')\n",
        "\n",
        "# Test 2: Energy formula equivalence\n",
        "print('\\nTest 2: Energy formula verification')\n",
        "U1 = 0.5 * C * V**2  # U = ½CV²\n",
        "U2 = 0.5 * Q * V    # U = ½QV\n",
        "U3 = Q**2 / (2 * C) # U = Q²/(2C)\n",
        "\n",
        "print(f'  U = ½CV²: {U1*1e6:.3f} μJ')\n",
        "print(f'  U = ½QV:  {U2*1e6:.3f} μJ')\n",
        "print(f'  U = Q²/2C: {U3*1e6:.3f} μJ')\n",
        "print(f'  All formulas agree: {math.isclose(U1, U2) and math.isclose(U2, U3)}')\n",
        "\n",
        "# Test 3: Series and parallel combinations\n",
        "def capacitors_series(*capacitances):\n",
        "    \"\"\"Calculate total capacitance for series connection\"\"\"\n",
        "    return 1 / sum(1/C for C in capacitances)\n",
        "\n",
        "def capacitors_parallel(*capacitances):\n",
        "    \"\"\"Calculate total capacitance for parallel connection\"\"\"\n",
        "    return sum(capacitances)\n",
        "\n",
        "print('\\nTest 3: Capacitor combinations')\n",
        "C1, C2, C3 = 10e-6, 22e-6, 47e-6  # capacitances in F\n",
        "\n",
        "C_series = capacitors_series(C1, C2, C3)\n",
        "C_parallel = capacitors_parallel(C1, C2, C3)\n",
        "\n",
        "print(f'  Series total: {C_series*1e6:.1f} μF')\n",
        "print(f'  Parallel total: {C_parallel*1e6:.0f} μF')\n",
        "\n",
        "# Verify series formula\n",
        "C_series_manual = 1 / (1/C1 + 1/C2 + 1/C3)\n",
        "print(f'  Series verification: {math.isclose(C_series, C_series_manual)}')\n",
        "\n",
        "print('\\nAll capacitance relationships verified!')\n"
      ],
      "execution_count": null,
      "outputs": []
    },
    {
      "cell_type": "markdown",
      "metadata": {},
      "source": [
        "## Source\n",
        "\n",
        "📖 **View this entry:** [theoria-dataset.org/entries.html?entry=capacitance.json](https://theoria-dataset.org/entries.html?entry=capacitance.json)\n",
        "\n",
        "This verification code is part of the [THEORIA dataset](https://github.com/theoria-dataset/theoria-dataset), ",
        "a curated collection of theoretical physics derivations with programmatic verification.\n",
        "\n",
        "**License:** CC-BY 4.0"
      ]
    }
  ]
}