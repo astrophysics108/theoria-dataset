{
  "nbformat": 4,
  "nbformat_minor": 0,
  "metadata": {
    "colab": {
      "provenance": []
    },
    "kernelspec": {
      "name": "python3",
      "display_name": "Python 3"
    },
    "language_info": {
      "name": "python"
    }
  },
  "cells": [
    {
      "cell_type": "markdown",
      "metadata": {},
      "source": [
        "# Thin Lens Equation\n",
        "\n",
        "This notebook contains the programmatic verification for the **Thin Lens Equation** entry from the THEORIA dataset.\n",
        "\n",
        "**Entry ID:** lens_equation  \n",
        "**Required Library:** sympy 1.12.0\n",
        "\n",
        "## Description\n",
        "The thin lens equation relates the focal length of a lens to the object and image distances, forming the foundation of geometric optics. It describes how lenses form images by refraction, enabling the design of optical instruments from eyeglasses to telescopes. The equation applies to both converging and diverging lenses, with sign conventions determining whether images are real or virtual, upright or inverted.\n",
        "\n",
        "## Installation\n",
        "First, let's install the required library:"
      ]
    },
    {
      "cell_type": "code",
      "metadata": {},
      "source": [
        "# Install required library with exact version\n",
        "!pip install sympy==1.12.0"
      ],
      "execution_count": null,
      "outputs": []
    },
    {
      "cell_type": "markdown",
      "metadata": {},
      "source": [
        "## Programmatic Verification\n",
        "\n",
        "The following code verifies the derivation mathematically:"
      ]
    },
    {
      "cell_type": "code",
      "metadata": {},
      "source": [
        "import sympy as sp\n",
        "\n",
        "# Define symbols\n",
        "f, d_o, d_i, M, h_o, h_i = sp.symbols('f d_o d_i M h_o h_i', real=True)\n",
        "n, R1, R2 = sp.symbols('n R1 R2', real=True)\n",
        "\n",
        "# Thin lens equation\n",
        "lens_eq = sp.Eq(1/f, 1/d_o + 1/d_i)\n",
        "\n",
        "# Solve for image distance\n",
        "d_i_solved = sp.solve(lens_eq, d_i)[0]\n",
        "d_i_expected = (f * d_o) / (d_o - f)\n",
        "assert sp.simplify(d_i_solved - d_i_expected) == 0\n",
        "\n",
        "# Magnification equation\n",
        "mag_eq = sp.Eq(M, -d_i/d_o)\n",
        "\n",
        "# Test with specific examples\n",
        "# Example 1: Converging lens, object beyond focal point\n",
        "f_val = 10.0  # cm (converging lens)\n",
        "d_o_val = 30.0  # cm (object distance)\n",
        "\n",
        "# Calculate image distance\n",
        "d_i_val = (f_val * d_o_val) / (d_o_val - f_val)\n",
        "expected_d_i = 15.0  # cm\n",
        "assert abs(d_i_val - expected_d_i) < 0.1\n",
        "\n",
        "# Calculate magnification\n",
        "M_val = -d_i_val / d_o_val\n",
        "expected_M = -0.5  # inverted, reduced image\n",
        "assert abs(M_val - expected_M) < 0.01\n",
        "\n",
        "# Example 2: Object at focal point (d_o = f)\n",
        "# Image should be at infinity\n",
        "d_o_focal = f_val\n",
        "# d_i approaches infinity as d_o approaches f\n",
        "\n",
        "# Example 3: Diverging lens\n",
        "f_div = -10.0  # cm (diverging lens)\n",
        "d_o_div = 20.0  # cm\n",
        "d_i_div = (f_div * d_o_div) / (d_o_div - f_div)\n",
        "# Should be negative (virtual image)\n",
        "assert d_i_div < 0, 'Diverging lens should produce virtual image'\n",
        "\n",
        "# Magnification for diverging lens\n",
        "M_div = -d_i_div / d_o_div\n",
        "# Should be positive (upright) and less than 1 (reduced)\n",
        "assert M_div > 0 and M_div < 1, 'Diverging lens should produce upright, reduced image'\n",
        "\n",
        "# Test lensmaker's equation consistency\n",
        "# For a symmetric biconvex lens: R1 = R, R2 = -R\n",
        "R = sp.symbols('R', positive=True)\n",
        "f_lensmaker = 1 / ((n-1) * (1/R - 1/(-R)))\n",
        "f_simplified = R / (2*(n-1))\n",
        "assert sp.simplify(f_lensmaker - f_simplified) == 0\n"
      ],
      "execution_count": null,
      "outputs": []
    },
    {
      "cell_type": "markdown",
      "metadata": {},
      "source": [
        "## Source\n",
        "\n",
        "📖 **View this entry:** [theoria-dataset.org/entries.html?entry=lens_equation.json](https://theoria-dataset.org/entries.html?entry=lens_equation.json)\n",
        "\n",
        "This verification code is part of the [THEORIA dataset](https://github.com/theoria-dataset/theoria-dataset), ",
        "a curated collection of theoretical physics derivations with programmatic verification.\n",
        "\n",
        "**License:** CC-BY 4.0"
      ]
    }
  ]
}