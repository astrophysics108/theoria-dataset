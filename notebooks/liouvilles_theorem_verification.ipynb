{
  "nbformat": 4,
  "nbformat_minor": 0,
  "metadata": {
    "colab": {
      "provenance": []
    },
    "kernelspec": {
      "name": "python3",
      "display_name": "Python 3"
    },
    "language_info": {
      "name": "python"
    }
  },
  "cells": [
    {
      "cell_type": "markdown",
      "metadata": {},
      "source": [
        "# Liouville's Theorem\n",
        "\n",
        "This notebook contains the programmatic verification for the **Liouville's Theorem** entry from the THEORIA dataset.\n",
        "\n",
        "**Entry ID:** liouvilles_theorem  \n",
        "**Required Library:** sympy 1.12.0\n",
        "\n",
        "## Description\n",
        "Liouville's theorem relates the time-averaged kinetic energy `T` and potential energy of a bound system. For particles with positions `r_i` and forces `F_i`, it states `<2T> = -<sum r_i dot F_i>`. For power-law forces, this yields simple ratios: for Newton's gravity (1/r), `<T> = -1/2 <V>`. The theorem is useful in astrophysics and molecular physics for deducing properties of equilibrated systems.\n",
        "\n",
        "## Installation\n",
        "First, let's install the required library:"
      ]
    },
    {
      "cell_type": "code",
      "metadata": {},
      "source": [
        "# Install required library with exact version\n",
        "!pip install sympy==1.12.0"
      ],
      "execution_count": null,
      "outputs": []
    },
    {
      "cell_type": "markdown",
      "metadata": {},
      "source": [
        "## Programmatic Verification\n",
        "\n",
        "The following code verifies the derivation mathematically:"
      ]
    },
    {
      "cell_type": "code",
      "metadata": {},
      "source": [
        "import sympy as sp\n",
        "# Step 1: choose a harmonic oscillator trajectory\n",
        "t = sp.symbols('t', real=True)\n",
        "m, k, A = sp.symbols('m k A', positive=True)\n",
        "x = A*sp.cos(sp.sqrt(k/m)*t)\n",
        "# Step 2: compute kinetic energy and r·F term\n",
        "v = sp.diff(x, t)\n",
        "T_t = m*v**2/2\n",
        "F_t = -k*x\n",
        "rF_t = x*F_t\n",
        "# Step 3: average over one period\n",
        "period = 2*sp.pi*sp.sqrt(m/k)\n",
        "T_avg = sp.integrate(T_t, (t, 0, period))/period\n",
        "rF_avg = sp.integrate(rF_t, (t, 0, period))/period\n",
        "# Step 4: verify the virial relation 2<T> + <r·F> = 0\n",
        "assert sp.simplify(2*T_avg + rF_avg) == 0\n"
      ],
      "execution_count": null,
      "outputs": []
    },
    {
      "cell_type": "markdown",
      "metadata": {},
      "source": [
        "## Source\n",
        "\n",
        "📖 **View this entry:** [theoria-dataset.org/entries.html?entry=liouvilles_theorem.json](https://theoria-dataset.org/entries.html?entry=liouvilles_theorem.json)\n",
        "\n",
        "This verification code is part of the [THEORIA dataset](https://github.com/theoria-dataset/theoria-dataset), ",
        "a curated collection of theoretical physics derivations with programmatic verification.\n",
        "\n",
        "**License:** CC-BY 4.0"
      ]
    }
  ]
}