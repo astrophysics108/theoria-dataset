{
  "nbformat": 4,
  "nbformat_minor": 0,
  "metadata": {
    "colab": {
      "provenance": []
    },
    "kernelspec": {
      "name": "python3",
      "display_name": "Python 3"
    },
    "language_info": {
      "name": "python"
    }
  },
  "cells": [
    {
      "cell_type": "markdown",
      "metadata": {},
      "source": [
        "# Partition Function (Canonical Ensemble)\n",
        "\n",
        "This notebook contains the programmatic verification for the **Partition Function (Canonical Ensemble)** entry from the THEORIA dataset.\n",
        "\n",
        "**Entry ID:** partition_function  \n",
        "**Required Library:** sympy 1.12.0\n",
        "\n",
        "## Description\n",
        "The partition function is the central quantity in statistical mechanics that connects microscopic energy states to macroscopic thermodynamic properties. It represents the sum over all possible energy states weighted by their Boltzmann factors. All thermodynamic quantities can be derived from the partition function.\n",
        "\n",
        "## Installation\n",
        "First, let's install the required library:"
      ]
    },
    {
      "cell_type": "code",
      "metadata": {},
      "source": [
        "# Install required library with exact version\n",
        "!pip install sympy==1.12.0"
      ],
      "execution_count": null,
      "outputs": []
    },
    {
      "cell_type": "markdown",
      "metadata": {},
      "source": [
        "## Programmatic Verification\n",
        "\n",
        "The following code verifies the derivation mathematically:"
      ]
    },
    {
      "cell_type": "code",
      "metadata": {},
      "source": [
        "import sympy as sp\n",
        "# Define symbols\n",
        "k_B, T, E1, E2, E3 = sp.symbols('k_B T E1 E2 E3', positive=True)\n",
        "# Example: three-level system\n",
        "Z = sp.exp(-E1/(k_B*T)) + sp.exp(-E2/(k_B*T)) + sp.exp(-E3/(k_B*T))\n",
        "# Probabilities\n",
        "P1 = sp.exp(-E1/(k_B*T))/Z\n",
        "P2 = sp.exp(-E2/(k_B*T))/Z\n",
        "P3 = sp.exp(-E3/(k_B*T))/Z\n",
        "# Verify normalization\n",
        "total_prob = P1 + P2 + P3\n",
        "assert sp.simplify(total_prob) == 1\n",
        "# Average energy\n",
        "U = P1*E1 + P2*E2 + P3*E3\n",
        "# Verify U = -dln(Z)/d(beta) where beta = 1/(k_B*T)\n",
        "# Using chain rule: dln(Z)/d(beta) = dln(Z)/dT * dT/d(beta)\n",
        "# Since beta = 1/(k_B*T), we have d(beta)/dT = -1/(k_B*T²)\n",
        "# So dT/d(beta) = -k_B*T²\n",
        "dlogZ_dT = sp.diff(sp.log(Z), T)\n",
        "U_from_Z = -dlogZ_dT * (-k_B*T**2)  # U = -dln(Z)/d(beta)\n",
        "U_from_Z_simplified = sp.simplify(U_from_Z)\n",
        "assert sp.simplify(U - U_from_Z_simplified) == 0\n",
        "# Helmholtz free energy\n",
        "F = -k_B*T*sp.log(Z)\n",
        "# Verify that U = F - T*dF/dT\n",
        "U_from_F = F - T*sp.diff(F, T)\n",
        "assert sp.simplify(U - U_from_F) == 0\n"
      ],
      "execution_count": null,
      "outputs": []
    },
    {
      "cell_type": "markdown",
      "metadata": {},
      "source": [
        "## Source\n",
        "\n",
        "📖 **View this entry:** [theoria-dataset.org/entries.html?entry=partition_function.json](https://theoria-dataset.org/entries.html?entry=partition_function.json)\n",
        "\n",
        "This verification code is part of the [THEORIA dataset](https://github.com/theoria-dataset/theoria-dataset), ",
        "a curated collection of theoretical physics derivations with programmatic verification.\n",
        "\n",
        "**License:** CC-BY 4.0"
      ]
    }
  ]
}