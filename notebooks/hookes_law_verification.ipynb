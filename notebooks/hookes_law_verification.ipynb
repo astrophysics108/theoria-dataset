{
  "nbformat": 4,
  "nbformat_minor": 0,
  "metadata": {
    "colab": {
      "provenance": []
    },
    "kernelspec": {
      "name": "python3",
      "display_name": "Python 3"
    },
    "language_info": {
      "name": "python"
    }
  },
  "cells": [
    {
      "cell_type": "markdown",
      "metadata": {},
      "source": [
        "# Hooke's Law\n",
        "\n",
        "This notebook contains the programmatic verification for the **Hooke's Law** entry from the THEORIA dataset.\n",
        "\n",
        "**Entry ID:** hookes_law  \n",
        "**Required Library:** sympy 1.12.0\n",
        "\n",
        "## Description\n",
        "Hooke's law states that the force required to extend or compress a spring is proportional to the displacement from its equilibrium position. This linear relationship forms the foundation for understanding elastic behavior in materials and oscillatory motion.\n",
        "\n",
        "## Installation\n",
        "First, let's install the required library:"
      ]
    },
    {
      "cell_type": "code",
      "metadata": {},
      "source": [
        "# Install required library with exact version\n",
        "!pip install sympy==1.12.0"
      ],
      "execution_count": null,
      "outputs": []
    },
    {
      "cell_type": "markdown",
      "metadata": {},
      "source": [
        "## Programmatic Verification\n",
        "\n",
        "The following code verifies the derivation mathematically:"
      ]
    },
    {
      "cell_type": "code",
      "metadata": {},
      "source": [
        "import sympy as sp\n",
        "import math\n",
        "\n",
        "# Hooke's Law Verification using SymPy\n",
        "print('Hooke\\'s Law Verification\\n')\n",
        "print('=' * 40)\n",
        "\n",
        "# Define symbols\n",
        "x, k, F, U = sp.symbols('x k F U', real=True)\n",
        "\n",
        "# Step 1: Verify basic Hooke's law\n",
        "hookes_law = -k * x\n",
        "print('Step 1: Basic Hooke\\'s law')\n",
        "print(f'F = {hookes_law}')\n",
        "\n",
        "# Test with numerical values\n",
        "k_test = 50  # N/m\n",
        "x_test_values = [-0.1, -0.05, 0, 0.05, 0.1]  # m\n",
        "print(f'\\nNumerical test with k = {k_test} N/m')\n",
        "print('Displacement (m)  Force (N)')\n",
        "print('-' * 25)\n",
        "for x_val in x_test_values:\n",
        "    F_val = -k_test * x_val\n",
        "    print(f'{x_val:12.2f}  {F_val:8.1f}')\n",
        "\n",
        "# Step 2: Verify potential energy relationship\n",
        "potential_energy = sp.Rational(1, 2) * k * x**2\n",
        "print(f'\\nStep 2: Potential energy')\n",
        "print(f'U = {potential_energy}')\n",
        "\n",
        "# Test with numerical values\n",
        "print('\\nPotential energy U = ½kx²:')\n",
        "for x_val in x_test_values:\n",
        "    U_val = 0.5 * k_test * x_val**2\n",
        "    print(f'x = {x_val:5.2f} m → U = {U_val:6.3f} J')\n",
        "\n",
        "# Step 3: Verify F = -dU/dx relationship\n",
        "print('\\nStep 3: Force from potential energy')\n",
        "dU_dx = sp.diff(potential_energy, x)\n",
        "F_from_potential = -dU_dx\n",
        "print(f'dU/dx = {dU_dx}')\n",
        "print(f'F = -dU/dx = {F_from_potential}')\n",
        "\n",
        "# Check if F = -dU/dx equals F = -kx\n",
        "force_check = sp.simplify(F_from_potential - hookes_law)\n",
        "print(f'\\nVerifying F = -dU/dx = -kx:')\n",
        "print(f'Difference: {force_check}')\n",
        "print(f'Forces are equal: {force_check == 0}')\n",
        "\n",
        "# Step 4: Verify units and dimensional analysis\n",
        "print('\\nStep 4: Dimensional analysis')\n",
        "print('Force: [F] = N = kg⋅m/s²')\n",
        "print('Spring constant: [k] = N/m = kg/s²')\n",
        "print('Displacement: [x] = m')\n",
        "print('F = kx: [kg/s²]⋅[m] = [kg⋅m/s²] = [N] ✓')\n",
        "print('Potential energy: [U] = J = kg⋅m²/s²')\n",
        "print('U = ½kx²: [kg/s²]⋅[m²] = [kg⋅m²/s²] = [J] ✓')\n",
        "\n",
        "print('\\n✓ Hooke\\'s law verification completed successfully!')\n",
        "print('All relationships and units are consistent.')\n"
      ],
      "execution_count": null,
      "outputs": []
    },
    {
      "cell_type": "markdown",
      "metadata": {},
      "source": [
        "## Source\n",
        "\n",
        "📖 **View this entry:** [theoria-dataset.org/entries.html?entry=hookes_law.json](https://theoria-dataset.org/entries.html?entry=hookes_law.json)\n",
        "\n",
        "This verification code is part of the [THEORIA dataset](https://github.com/theoria-dataset/theoria-dataset), ",
        "a curated collection of theoretical physics derivations with programmatic verification.\n",
        "\n",
        "**License:** CC-BY 4.0"
      ]
    }
  ]
}