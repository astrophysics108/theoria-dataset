{
  "nbformat": 4,
  "nbformat_minor": 0,
  "metadata": {
    "colab": {
      "provenance": []
    },
    "kernelspec": {
      "name": "python3",
      "display_name": "Python 3"
    },
    "language_info": {
      "name": "python"
    }
  },
  "cells": [
    {
      "cell_type": "markdown",
      "metadata": {},
      "source": [
        "# Gauss's Law for Gravity\n",
        "\n",
        "This notebook contains the programmatic verification for the **Gauss's Law for Gravity** entry from the THEORIA dataset.\n",
        "\n",
        "**Entry ID:** gauss_law_gravity  \n",
        "**Required Library:** sympy 1.12.0\n",
        "\n",
        "## Description\n",
        "Gauss's law for gravity relates the gravitational field flux through a closed surface to the enclosed mass. Unlike electrostatics, gravitational forces are always attractive, resulting in negative flux and the negative sign in the law. This formulation provides the field-theoretic foundation for gravity, connecting Newton's law to modern field theory concepts.\n",
        "\n",
        "## Installation\n",
        "First, let's install the required library:"
      ]
    },
    {
      "cell_type": "code",
      "metadata": {},
      "source": [
        "# Install required library with exact version\n",
        "!pip install sympy==1.12.0"
      ],
      "execution_count": null,
      "outputs": []
    },
    {
      "cell_type": "markdown",
      "metadata": {},
      "source": [
        "## Programmatic Verification\n",
        "\n",
        "The following code verifies the derivation mathematically:"
      ]
    },
    {
      "cell_type": "code",
      "metadata": {},
      "source": [
        "import sympy as sp\n",
        "from sympy.vector import CoordSys3D, divergence, gradient\n",
        "import math\n",
        "\n",
        "# Coordinate system and symbols\n",
        "N = CoordSys3D('N')\n",
        "G, rho, M = sp.symbols('G rho M', positive=True)\n",
        "r = sp.sqrt(N.x**2 + N.y**2 + N.z**2)\n",
        "\n",
        "print('Gauss Law for Gravity Verification')\n",
        "print('=' * 40)\n",
        "\n",
        "# Test 1: Point mass gravitational field\n",
        "print('Test 1: Point mass at origin')\n",
        "phi_point = -G * M / r\n",
        "g_point = -gradient(phi_point)\n",
        "print(f'Gravitational potential: φ = {phi_point}')\n",
        "print(f'Gravitational field: g = {g_point}')\n",
        "\n",
        "# Test 2: Verify Poisson equation for point mass\n",
        "print('\\nTest 2: Poisson equation verification')\n",
        "laplacian_phi = sp.simplify(divergence(gradient(phi_point)))\n",
        "print(f'∇²φ = {laplacian_phi}')\n",
        "print('Note: Point mass creates delta function source ∇²φ = 4πGM δ³(r)')\n",
        "\n",
        "# Test 3: Spherical mass distribution\n",
        "print('\\nTest 3: Uniform sphere of mass M, radius R')\n",
        "R = sp.Symbol('R', positive=True)\n",
        "\n",
        "# Inside sphere (r < R): uniform density\n",
        "rho_sphere = 3*M/(4*sp.pi*R**3)\n",
        "phi_inside = -G*M/(2*R**3) * (3*R**2 - r**2)\n",
        "g_inside_magnitude = G*M*r/R**3\n",
        "\n",
        "print(f'Density: ρ = {rho_sphere}')\n",
        "print(f'Potential inside: φ(r<R) = {phi_inside}')\n",
        "print(f'Field magnitude inside: |g(r<R)| = {g_inside_magnitude}')\n",
        "\n",
        "# Verify divergence inside sphere\n",
        "div_g_inside = 4*sp.pi*G*rho_sphere\n",
        "print(f'∇·g inside = {div_g_inside}')\n",
        "print(f'Expected: -4πGρ = {-4*sp.pi*G*rho_sphere}')\n",
        "print(f'Match: {sp.simplify(div_g_inside + 4*sp.pi*G*rho_sphere) == 0}')\n",
        "\n",
        "# Test 4: Numerical example - Earth's surface\n",
        "print('\\nTest 4: Earth surface gravity')\n",
        "G_val = 6.674e-11  # m³/(kg·s²)\n",
        "M_earth = 5.972e24  # kg\n",
        "R_earth = 6.371e6   # m\n",
        "\n",
        "g_surface = G_val * M_earth / R_earth**2\n",
        "flux_earth = -4 * math.pi * G_val * M_earth\n",
        "\n",
        "print(f'Earth mass: {M_earth:.3e} kg')\n",
        "print(f'Earth radius: {R_earth:.3e} m')\n",
        "print(f'Surface gravity: {g_surface:.2f} m/s²')\n",
        "print(f'Total flux through any surface: {flux_earth:.3e} m³/s²')\n",
        "\n",
        "print('\\nGauss law for gravity verified!')\n"
      ],
      "execution_count": null,
      "outputs": []
    },
    {
      "cell_type": "markdown",
      "metadata": {},
      "source": [
        "## Source\n",
        "\n",
        "📖 **View this entry:** [theoria-dataset.org/entries.html?entry=gauss_law_gravity.json](https://theoria-dataset.org/entries.html?entry=gauss_law_gravity.json)\n",
        "\n",
        "This verification code is part of the [THEORIA dataset](https://github.com/theoria-dataset/theoria-dataset), ",
        "a curated collection of theoretical physics derivations with programmatic verification.\n",
        "\n",
        "**License:** CC-BY 4.0"
      ]
    }
  ]
}