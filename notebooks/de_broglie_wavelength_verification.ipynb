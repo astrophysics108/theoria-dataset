{
  "nbformat": 4,
  "nbformat_minor": 0,
  "metadata": {
    "colab": {
      "provenance": []
    },
    "kernelspec": {
      "name": "python3",
      "display_name": "Python 3"
    },
    "language_info": {
      "name": "python"
    }
  },
  "cells": [
    {
      "cell_type": "markdown",
      "metadata": {},
      "source": [
        "# de Broglie Wavelength\n",
        "\n",
        "This notebook contains the programmatic verification for the **de Broglie Wavelength** entry from the THEORIA dataset.\n",
        "\n",
        "**Entry ID:** de_broglie_wavelength  \n",
        "**Required Library:** sympy 1.12.0\n",
        "\n",
        "## Description\n",
        "The de Broglie wavelength expresses the wave-particle duality by relating the momentum of any particle to its associated wavelength. This fundamental quantum mechanical relation shows that all matter exhibits wave properties, with the wavelength inversely proportional to momentum. It enables the description of particles as waves in quantum mechanics and is essential for understanding electron diffraction, atomic orbitals, and the wave function formalism.\n",
        "\n",
        "## Installation\n",
        "First, let's install the required library:"
      ]
    },
    {
      "cell_type": "code",
      "metadata": {},
      "source": [
        "# Install required library with exact version\n",
        "!pip install sympy==1.12.0"
      ],
      "execution_count": null,
      "outputs": []
    },
    {
      "cell_type": "markdown",
      "metadata": {},
      "source": [
        "## Programmatic Verification\n",
        "\n",
        "The following code verifies the derivation mathematically:"
      ]
    },
    {
      "cell_type": "code",
      "metadata": {},
      "source": [
        "import sympy as sp\n",
        "\n",
        "# Define symbols\n",
        "h, p, c, E, f, lam = sp.symbols('h p c E f lambda', positive=True, real=True)\n",
        "\n",
        "# Step 1: Planck relation\n",
        "planck_relation = sp.Eq(E, h*f)\n",
        "\n",
        "# Step 2: Energy-momentum relation for photons\n",
        "energy_momentum = sp.Eq(E, p*c)\n",
        "\n",
        "# Step 3: Equate energies\n",
        "combined = sp.Eq(h*f, p*c)\n",
        "\n",
        "# Step 4: Solve for frequency\n",
        "f_solution = sp.solve(combined, f)[0]\n",
        "\n",
        "# Step 5 & 6: Wave relation c = lambda*f => f = c/lambda\n",
        "wave_relation = sp.Eq(f, c/lam)\n",
        "\n",
        "# Step 7: Substitute wave relation into momentum equation\n",
        "substituted = sp.Eq(c/lam, p*c/h)\n",
        "\n",
        "# Step 8 & 9: Solve for lambda\n",
        "lambda_solution = sp.solve(substituted, lam)[0]\n",
        "\n",
        "# Verify that lambda = h/p\n",
        "expected = h/p\n",
        "assert sp.simplify(lambda_solution - expected) == 0\n"
      ],
      "execution_count": null,
      "outputs": []
    },
    {
      "cell_type": "markdown",
      "metadata": {},
      "source": [
        "## Source\n",
        "\n",
        "📖 **View this entry:** [theoria-dataset.org/entries.html?entry=de_broglie_wavelength.json](https://theoria-dataset.org/entries.html?entry=de_broglie_wavelength.json)\n",
        "\n",
        "This verification code is part of the [THEORIA dataset](https://github.com/theoria-dataset/theoria-dataset), ",
        "a curated collection of theoretical physics derivations with programmatic verification.\n",
        "\n",
        "**License:** CC-BY 4.0"
      ]
    }
  ]
}