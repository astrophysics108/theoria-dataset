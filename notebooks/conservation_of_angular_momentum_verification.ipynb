{
  "nbformat": 4,
  "nbformat_minor": 0,
  "metadata": {
    "colab": {
      "provenance": []
    },
    "kernelspec": {
      "name": "python3",
      "display_name": "Python 3"
    },
    "language_info": {
      "name": "python"
    }
  },
  "cells": [
    {
      "cell_type": "markdown",
      "metadata": {},
      "source": [
        "# Conservation of Angular Momentum\n",
        "\n",
        "This notebook contains the programmatic verification for the **Conservation of Angular Momentum** entry from the THEORIA dataset.\n",
        "\n",
        "**Entry ID:** conservation_of_angular_momentum  \n",
        "**Required Library:** sympy 1.12.0\n",
        "\n",
        "## Description\n",
        "Angular momentum is conserved when no external torque acts on a system. This fundamental conservation law explains phenomena from planetary motion to figure skating spins. Angular momentum equals the cross product of position and momentum vectors, or the product of moment of inertia and angular velocity for rigid bodies.\n",
        "\n",
        "## Installation\n",
        "First, let's install the required library:"
      ]
    },
    {
      "cell_type": "code",
      "metadata": {},
      "source": [
        "# Install required library with exact version\n",
        "!pip install sympy==1.12.0"
      ],
      "execution_count": null,
      "outputs": []
    },
    {
      "cell_type": "markdown",
      "metadata": {},
      "source": [
        "## Programmatic Verification\n",
        "\n",
        "The following code verifies the derivation mathematically:"
      ]
    },
    {
      "cell_type": "code",
      "metadata": {},
      "source": [
        "import sympy as sp\n",
        "# Define symbols\n",
        "t, m, r, v, omega, I = sp.symbols('t m r v omega I', positive=True)\n",
        "theta = sp.Function('theta')\n",
        "# Example: particle moving in a circle under central force\n",
        "# Position in polar coordinates\n",
        "x = r * sp.cos(theta(t))\n",
        "y = r * sp.sin(theta(t))\n",
        "# Velocity components\n",
        "vx = sp.diff(x, t)\n",
        "vy = sp.diff(y, t)\n",
        "# Angular momentum L = r × p (z-component)\n",
        "L_z = m * (x * vy - y * vx)\n",
        "# Simplify for circular motion with constant radius\n",
        "L_z_simplified = sp.simplify(L_z)\n",
        "# For circular motion, this equals I*omega = m*r^2*omega\n",
        "I_particle = m * r**2\n",
        "omega_val = sp.diff(theta(t), t)\n",
        "L_expected = I_particle * omega_val\n",
        "# Verify conservation: if no external torque, dL/dt = 0\n",
        "dL_dt = sp.diff(L_z_simplified, t)\n",
        "# For uniform circular motion (constant omega), dL/dt should be 0\n",
        "dL_dt_constant_omega = dL_dt.subs(sp.diff(theta(t), t, 2), 0)\n",
        "assert sp.simplify(dL_dt_constant_omega) == 0\n"
      ],
      "execution_count": null,
      "outputs": []
    },
    {
      "cell_type": "markdown",
      "metadata": {},
      "source": [
        "## Source\n",
        "\n",
        "📖 **View this entry:** [theoria-dataset.org/entries.html?entry=conservation_of_angular_momentum.json](https://theoria-dataset.org/entries.html?entry=conservation_of_angular_momentum.json)\n",
        "\n",
        "This verification code is part of the [THEORIA dataset](https://github.com/theoria-dataset/theoria-dataset), ",
        "a curated collection of theoretical physics derivations with programmatic verification.\n",
        "\n",
        "**License:** CC-BY 4.0"
      ]
    }
  ]
}