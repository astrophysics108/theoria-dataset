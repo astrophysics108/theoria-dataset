{
  "nbformat": 4,
  "nbformat_minor": 0,
  "metadata": {
    "colab": {
      "provenance": []
    },
    "kernelspec": {
      "name": "python3",
      "display_name": "Python 3"
    },
    "language_info": {
      "name": "python"
    }
  },
  "cells": [
    {
      "cell_type": "markdown",
      "metadata": {},
      "source": [
        "# Nuclear Fusion\n",
        "\n",
        "This notebook contains the programmatic verification for the **Nuclear Fusion** entry from the THEORIA dataset.\n",
        "\n",
        "**Entry ID:** nuclear_fusion  \n",
        "**Required Library:** sympy 1.12.0\n",
        "\n",
        "## Description\n",
        "Nuclear fusion is the process where light atomic nuclei combine to form heavier nuclei, releasing energy when the products have higher binding energy per nucleon. This process powers stars and is the basis for fusion energy research. The reaction requires overcoming the Coulomb barrier between positively charged nuclei, typically achieved at high temperatures and densities.\n",
        "\n",
        "## Installation\n",
        "First, let's install the required library:"
      ]
    },
    {
      "cell_type": "code",
      "metadata": {},
      "source": [
        "# Install required library with exact version\n",
        "!pip install sympy==1.12.0"
      ],
      "execution_count": null,
      "outputs": []
    },
    {
      "cell_type": "markdown",
      "metadata": {},
      "source": [
        "## Programmatic Verification\n",
        "\n",
        "The following code verifies the derivation mathematically:"
      ]
    },
    {
      "cell_type": "code",
      "metadata": {},
      "source": [
        "import sympy as sp\n",
        "# D-T fusion reaction masses (in atomic mass units u)\n",
        "# ^2H + ^3H -> ^4He + n + Q\n",
        "M_D = sp.Rational(201410178, 100000000)    # 2.01410178 u (deuterium)\n",
        "M_T = sp.Rational(301604928, 100000000)    # 3.01604928 u (tritium)\n",
        "M_He4 = sp.Rational(400260325, 100000000)  # 4.00260325 u (helium-4)\n",
        "M_n = sp.Rational(100866492, 100000000)    # 1.00866492 u (neutron)\n",
        "c_squared = sp.symbols('c_squared', positive=True)  # c^2 conversion factor\n",
        "# Q-value calculation\n",
        "Q_value = (M_D + M_T - M_He4 - M_n) * c_squared\n",
        "# Verify positive Q-value (exothermic reaction)\n",
        "mass_diff = M_D + M_T - M_He4 - M_n\n",
        "assert mass_diff > 0  # Energy is released\n",
        "# Energy sharing between products\n",
        "M_alpha = M_He4\n",
        "# Neutron gets most energy due to lower mass\n",
        "T_neutron_fraction = M_alpha / (M_alpha + M_n)\n",
        "T_alpha_fraction = M_n / (M_alpha + M_n)\n",
        "# Verify energy conservation\n",
        "total_fraction = T_neutron_fraction + T_alpha_fraction\n",
        "assert sp.simplify(total_fraction) == 1\n",
        "# Numerical calculation\n",
        "mass_diff_numeric = float(mass_diff)\n",
        "# Conversion: 1 u = 931.494 MeV/c²\n",
        "Q_MeV = mass_diff_numeric * 931.494\n",
        "assert abs(Q_MeV - 17.59) < 0.1  # Should be approximately 17.6 MeV\n",
        "# Neutron energy (about 14.1 MeV)\n",
        "T_n_fraction_numeric = float(T_neutron_fraction)\n",
        "T_n_MeV = Q_MeV * T_n_fraction_numeric\n",
        "assert abs(T_n_MeV - 14.1) < 0.2  # Neutron gets ~14.1 MeV\n",
        "# Alpha energy (about 3.5 MeV)\n",
        "T_alpha_MeV = Q_MeV * float(T_alpha_fraction)\n",
        "assert abs(T_alpha_MeV - 3.5) < 0.2  # Alpha gets ~3.5 MeV\n"
      ],
      "execution_count": null,
      "outputs": []
    },
    {
      "cell_type": "markdown",
      "metadata": {},
      "source": [
        "## Source\n",
        "\n",
        "📖 **View this entry:** [theoria-dataset.org/entries.html?entry=nuclear_fusion.json](https://theoria-dataset.org/entries.html?entry=nuclear_fusion.json)\n",
        "\n",
        "This verification code is part of the [THEORIA dataset](https://github.com/theoria-dataset/theoria-dataset), ",
        "a curated collection of theoretical physics derivations with programmatic verification.\n",
        "\n",
        "**License:** CC-BY 4.0"
      ]
    }
  ]
}