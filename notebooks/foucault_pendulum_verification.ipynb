{
  "nbformat": 4,
  "nbformat_minor": 0,
  "metadata": {
    "colab": {
      "provenance": []
    },
    "kernelspec": {
      "name": "python3",
      "display_name": "Python 3"
    },
    "language_info": {
      "name": "python"
    }
  },
  "cells": [
    {
      "cell_type": "markdown",
      "metadata": {},
      "source": [
        "# Foucault Pendulum\n",
        "\n",
        "This notebook contains the programmatic verification for the **Foucault Pendulum** entry from the THEORIA dataset.\n",
        "\n",
        "**Entry ID:** foucault_pendulum  \n",
        "**Required Library:** sympy 1.12.0\n",
        "\n",
        "## Description\n",
        "A Foucault pendulum demonstrates Earth's rotation by the precession of its swing plane. The rate of precession at latitude `phi` is `Omega_E sin phi`, where `Omega_E` is Earth's rotation rate. Thus, at the poles (`sin phi = 1`) the plane completes a 360-degree rotation in one sidereal day, while at the equator (`sin phi = 0`) there is no precession.\n",
        "\n",
        "## Installation\n",
        "First, let's install the required library:"
      ]
    },
    {
      "cell_type": "code",
      "metadata": {},
      "source": [
        "# Install required library with exact version\n",
        "!pip install sympy==1.12.0"
      ],
      "execution_count": null,
      "outputs": []
    },
    {
      "cell_type": "markdown",
      "metadata": {},
      "source": [
        "## Programmatic Verification\n",
        "\n",
        "The following code verifies the derivation mathematically:"
      ]
    },
    {
      "cell_type": "code",
      "metadata": {},
      "source": [
        "import math\n",
        "# Step 1: compute precession frequency at the pole\n",
        "Omega_E = 2*math.pi/86164\n",
        "phi = math.radians(90)\n",
        "omega_prec = Omega_E*math.sin(phi)\n",
        "# Step 2: compute the precession period\n",
        "T_prec = 2*math.pi/omega_prec\n",
        "assert abs(T_prec/86400 - 1) < 0.01\n"
      ],
      "execution_count": null,
      "outputs": []
    },
    {
      "cell_type": "markdown",
      "metadata": {},
      "source": [
        "## Source\n",
        "\n",
        "📖 **View this entry:** [theoria-dataset.org/entries.html?entry=foucault_pendulum.json](https://theoria-dataset.org/entries.html?entry=foucault_pendulum.json)\n",
        "\n",
        "This verification code is part of the [THEORIA dataset](https://github.com/theoria-dataset/theoria-dataset), ",
        "a curated collection of theoretical physics derivations with programmatic verification.\n",
        "\n",
        "**License:** CC-BY 4.0"
      ]
    }
  ]
}