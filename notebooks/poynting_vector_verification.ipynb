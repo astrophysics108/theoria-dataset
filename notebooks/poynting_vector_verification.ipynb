{
  "nbformat": 4,
  "nbformat_minor": 0,
  "metadata": {
    "colab": {
      "provenance": []
    },
    "kernelspec": {
      "name": "python3",
      "display_name": "Python 3"
    },
    "language_info": {
      "name": "python"
    }
  },
  "cells": [
    {
      "cell_type": "markdown",
      "metadata": {},
      "source": [
        "# Poynting Vector\n",
        "\n",
        "This notebook contains the programmatic verification for the **Poynting Vector** entry from the THEORIA dataset.\n",
        "\n",
        "**Entry ID:** poynting_vector  \n",
        "**Required Library:** sympy 1.12.0\n",
        "\n",
        "## Description\n",
        "The Poynting vector describes the directional energy flux density of electromagnetic fields, representing the rate of energy flow per unit area. It points in the direction of electromagnetic wave propagation and its magnitude gives the intensity. This vector is fundamental for understanding electromagnetic energy transport, radiation pressure, and power flow in electromagnetic systems.\n",
        "\n",
        "## Installation\n",
        "First, let's install the required library:"
      ]
    },
    {
      "cell_type": "code",
      "metadata": {},
      "source": [
        "# Install required library with exact version\n",
        "!pip install sympy==1.12.0"
      ],
      "execution_count": null,
      "outputs": []
    },
    {
      "cell_type": "markdown",
      "metadata": {},
      "source": [
        "## Programmatic Verification\n",
        "\n",
        "The following code verifies the derivation mathematically:"
      ]
    },
    {
      "cell_type": "code",
      "metadata": {},
      "source": [
        "import sympy as sp\n",
        "# Define symbols\n",
        "mu0, eps0, c, E0, B0, omega, t, x = sp.symbols('mu0 eps0 c E0 B0 omega t x', real=True, positive=True)\n",
        "# Plane wave example: E = E0*cos(kx - ωt), B = B0*cos(kx - ωt)\n",
        "k = omega/c\n",
        "E_y = E0 * sp.cos(k*x - omega*t)\n",
        "B_z = B0 * sp.cos(k*x - omega*t)\n",
        "# For electromagnetic waves: B0 = E0/c\n",
        "B_z_em = E0/c * sp.cos(k*x - omega*t)\n",
        "# Poynting vector S = (1/μ₀) E × B\n",
        "# For this configuration: S_x = (1/μ₀) * E_y * B_z\n",
        "S_x = (1/mu0) * E_y * B_z_em\n",
        "S_x_simplified = sp.simplify(S_x)\n",
        "# Time-averaged intensity\n",
        "S_x_time_avg = sp.integrate(S_x_simplified, (t, 0, 2*sp.pi/omega)) / (2*sp.pi/omega)\n",
        "I_expected = E0**2/(2*mu0*c)\n",
        "assert sp.simplify(S_x_time_avg - I_expected) == 0\n",
        "# Verify relationship c = 1/sqrt(μ₀ε₀)\n",
        "c_relation = 1/sp.sqrt(mu0*eps0)\n",
        "# Verify energy flux for plane wave\n",
        "u_em = (eps0*E_y**2 + B_z_em**2/mu0)/2\n",
        "energy_velocity = S_x_simplified / u_em\n",
        "# For electromagnetic waves, energy travels at speed c\n",
        "energy_velocity_simplified = sp.simplify(energy_velocity.subs(c, c_relation))\n",
        "# This should equal c for electromagnetic waves\n"
      ],
      "execution_count": null,
      "outputs": []
    },
    {
      "cell_type": "markdown",
      "metadata": {},
      "source": [
        "## Source\n",
        "\n",
        "📖 **View this entry:** [theoria-dataset.org/entries.html?entry=poynting_vector.json](https://theoria-dataset.org/entries.html?entry=poynting_vector.json)\n",
        "\n",
        "This verification code is part of the [THEORIA dataset](https://github.com/theoria-dataset/theoria-dataset), ",
        "a curated collection of theoretical physics derivations with programmatic verification.\n",
        "\n",
        "**License:** CC-BY 4.0"
      ]
    }
  ]
}