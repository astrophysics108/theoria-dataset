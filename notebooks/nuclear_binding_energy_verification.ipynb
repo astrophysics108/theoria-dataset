{
  "nbformat": 4,
  "nbformat_minor": 0,
  "metadata": {
    "colab": {
      "provenance": []
    },
    "kernelspec": {
      "name": "python3",
      "display_name": "Python 3"
    },
    "language_info": {
      "name": "python"
    }
  },
  "cells": [
    {
      "cell_type": "markdown",
      "metadata": {},
      "source": [
        "# Nuclear Binding Energy\n",
        "\n",
        "This notebook contains the programmatic verification for the **Nuclear Binding Energy** entry from the THEORIA dataset.\n",
        "\n",
        "**Entry ID:** nuclear_binding_energy  \n",
        "**Required Library:** sympy 1.12.0\n",
        "\n",
        "## Description\n",
        "Nuclear binding energy is the energy required to completely separate a nucleus into its constituent protons and neutrons. It represents the mass defect converted to energy when nucleons bind together. The binding energy per nucleon peaks around iron-56, explaining why fusion releases energy for light nuclei and fission for heavy nuclei.\n",
        "\n",
        "## Installation\n",
        "First, let's install the required library:"
      ]
    },
    {
      "cell_type": "code",
      "metadata": {},
      "source": [
        "# Install required library with exact version\n",
        "!pip install sympy==1.12.0"
      ],
      "execution_count": null,
      "outputs": []
    },
    {
      "cell_type": "markdown",
      "metadata": {},
      "source": [
        "## Programmatic Verification\n",
        "\n",
        "The following code verifies the derivation mathematically:"
      ]
    },
    {
      "cell_type": "code",
      "metadata": {},
      "source": [
        "import sympy as sp\n",
        "# Define symbols (using atomic mass units)\n",
        "Z, N, A, m_H, m_n, M_atom, c = sp.symbols('Z N A m_H m_n M_atom c', positive=True)\n",
        "# Binding energy formula\n",
        "BE = (Z * m_H + N * m_n - M_atom) * c**2\n",
        "# Note: A = Z + N by definition (mass number = protons + neutrons)\n",
        "# We can verify this constraint with numerical values later\n",
        "# Binding energy per nucleon\n",
        "BE_per_A = BE / A\n",
        "# Test with deuterium (Z=1, N=1, A=2)\n",
        "# Using approximate values in atomic mass units\n",
        "Z_d, N_d, A_d = 1, 1, 2\n",
        "m_H_val = 1.007825  # u\n",
        "m_n_val = 1.008665  # u\n",
        "M_d_val = 2.014102  # u (deuterium atomic mass)\n",
        "c_val = 1  # Set c=1 for energy units in mass units\n",
        "# Calculate deuterium binding energy\n",
        "BE_d = (Z_d * m_H_val + N_d * m_n_val - M_d_val) * c_val**2\n",
        "# Verify positive binding energy (bound state)\n",
        "assert BE_d > 0\n",
        "# Verify A = Z + N constraint numerically\n",
        "assert A_d == Z_d + N_d\n",
        "# Binding energy per nucleon for deuterium\n",
        "BE_per_A_d = BE_d / A_d\n",
        "assert BE_per_A_d > 0\n"
      ],
      "execution_count": null,
      "outputs": []
    },
    {
      "cell_type": "markdown",
      "metadata": {},
      "source": [
        "## Source\n",
        "\n",
        "📖 **View this entry:** [theoria-dataset.org/entries.html?entry=nuclear_binding_energy.json](https://theoria-dataset.org/entries.html?entry=nuclear_binding_energy.json)\n",
        "\n",
        "This verification code is part of the [THEORIA dataset](https://github.com/theoria-dataset/theoria-dataset), ",
        "a curated collection of theoretical physics derivations with programmatic verification.\n",
        "\n",
        "**License:** CC-BY 4.0"
      ]
    }
  ]
}