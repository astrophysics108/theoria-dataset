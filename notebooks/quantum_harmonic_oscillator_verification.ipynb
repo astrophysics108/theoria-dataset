{
  "nbformat": 4,
  "nbformat_minor": 0,
  "metadata": {
    "colab": {
      "provenance": []
    },
    "kernelspec": {
      "name": "python3",
      "display_name": "Python 3"
    },
    "language_info": {
      "name": "python"
    }
  },
  "cells": [
    {
      "cell_type": "markdown",
      "metadata": {},
      "source": [
        "# Quantum Harmonic Oscillator\n",
        "\n",
        "This notebook contains the programmatic verification for the **Quantum Harmonic Oscillator** entry from the THEORIA dataset.\n",
        "\n",
        "**Entry ID:** quantum_harmonic_oscillator  \n",
        "**Required Library:** sympy 1.12.0\n",
        "\n",
        "## Description\n",
        "The quantum harmonic oscillator describes a quantum particle in a parabolic potential. Unlike the classical oscillator, energy levels are discrete and equally spaced, with a zero-point energy of ℏω/2. This model is fundamental in quantum mechanics, appearing in molecular vibrations, phonons, and quantum field theory.\n",
        "\n",
        "## Installation\n",
        "First, let's install the required library:"
      ]
    },
    {
      "cell_type": "code",
      "metadata": {},
      "source": [
        "# Install required library with exact version\n",
        "!pip install sympy==1.12.0"
      ],
      "execution_count": null,
      "outputs": []
    },
    {
      "cell_type": "markdown",
      "metadata": {},
      "source": [
        "## Programmatic Verification\n",
        "\n",
        "The following code verifies the derivation mathematically:"
      ]
    },
    {
      "cell_type": "code",
      "metadata": {},
      "source": [
        "import sympy as sp\n",
        "# Define symbols\n",
        "n, hbar, omega, m, x, E = sp.symbols('n hbar omega m x E', real=True, positive=True)\n",
        "# Energy levels formula\n",
        "E_n = hbar * omega * (n + sp.Rational(1, 2))\n",
        "# Verify energy spacing\n",
        "delta_E = E_n.subs(n, n+1) - E_n\n",
        "assert sp.simplify(delta_E) == hbar * omega\n",
        "# Verify zero-point energy (ground state n=0)\n",
        "E_0 = E_n.subs(n, 0)\n",
        "assert E_0 == hbar * omega / 2\n",
        "# Verify that energy is always positive\n",
        "assert E_n > 0\n",
        "# Test specific energy levels\n",
        "E_1 = E_n.subs(n, 1)\n",
        "E_2 = E_n.subs(n, 2)\n",
        "assert E_1 == 3 * hbar * omega / 2\n",
        "assert E_2 == 5 * hbar * omega / 2\n",
        "# Verify the classical limit (large n)\n",
        "# Average energy is approximately ℏω*n for large n\n",
        "E_classical_avg = E_n\n",
        "assert sp.limit(E_n/n, n, sp.oo) == hbar * omega\n"
      ],
      "execution_count": null,
      "outputs": []
    },
    {
      "cell_type": "markdown",
      "metadata": {},
      "source": [
        "## Source\n",
        "\n",
        "📖 **View this entry:** [theoria-dataset.org/entries.html?entry=quantum_harmonic_oscillator.json](https://theoria-dataset.org/entries.html?entry=quantum_harmonic_oscillator.json)\n",
        "\n",
        "This verification code is part of the [THEORIA dataset](https://github.com/theoria-dataset/theoria-dataset), ",
        "a curated collection of theoretical physics derivations with programmatic verification.\n",
        "\n",
        "**License:** CC-BY 4.0"
      ]
    }
  ]
}