{
  "nbformat": 4,
  "nbformat_minor": 0,
  "metadata": {
    "colab": {
      "provenance": []
    },
    "kernelspec": {
      "name": "python3",
      "display_name": "Python 3"
    },
    "language_info": {
      "name": "python"
    }
  },
  "cells": [
    {
      "cell_type": "markdown",
      "metadata": {},
      "source": [
        "# Magnetic Field\n",
        "\n",
        "This notebook contains the programmatic verification for the **Magnetic Field** entry from the THEORIA dataset.\n",
        "\n",
        "**Entry ID:** magnetic_field  \n",
        "**Required Library:** sympy 1.12.0\n",
        "\n",
        "## Description\n",
        "The magnetic field is a vector field that describes the magnetic influence on moving electric charges, electric currents, and magnetic materials. It is produced by moving charges and changing electric fields, and exerts forces on other moving charges and magnetic dipoles.\n",
        "\n",
        "## Installation\n",
        "First, let's install the required library:"
      ]
    },
    {
      "cell_type": "code",
      "metadata": {},
      "source": [
        "# Install required library with exact version\n",
        "!pip install sympy==1.12.0"
      ],
      "execution_count": null,
      "outputs": []
    },
    {
      "cell_type": "markdown",
      "metadata": {},
      "source": [
        "## Programmatic Verification\n",
        "\n",
        "The following code verifies the derivation mathematically:"
      ]
    },
    {
      "cell_type": "code",
      "metadata": {},
      "source": [
        "import math\n",
        "# Constants\n",
        "mu_0 = 4 * math.pi * 1e-7  # H/m\n",
        "q_electron = -1.602e-19  # C\n",
        "m_electron = 9.109e-31   # kg\n",
        "print('Magnetic Field Verification\\n')\n",
        "print('=' * 40)\n",
        "# Test 1: Lorentz force on moving charge\n",
        "print('Test 1: Lorentz force calculation')\n",
        "q = 1e-6      # μC\n",
        "v = 1e5       # m/s\n",
        "B = 0.1       # T\n",
        "theta = math.pi/2  # perpendicular\n",
        "F_magnitude = abs(q * v * B * math.sin(theta))\n",
        "print(f'Charge: {q*1e6:.1f} μC')\n",
        "print(f'Velocity: {v/1e3:.0f} km/s')\n",
        "print(f'Magnetic field: {B} T')\n",
        "print(f'Force magnitude: {F_magnitude*1e6:.2f} μN')\n",
        "print()\n",
        "# Test 2: Magnetic field of straight wire\n",
        "print('Test 2: Field around straight wire')\n",
        "I_wire = 10.0  # A\n",
        "r_wire = 0.05  # m\n",
        "B_wire = mu_0 * I_wire / (2 * math.pi * r_wire)\n",
        "print(f'Current: {I_wire} A')\n",
        "print(f'Distance: {r_wire*100:.0f} cm')\n",
        "print(f'Magnetic field: {B_wire*1e6:.1f} μT')\n",
        "print()\n",
        "# Test 3: Cyclotron frequency\n",
        "print('Test 3: Cyclotron motion')\n",
        "B_cyc = 1.0  # T\n",
        "f_cyclotron = abs(q_electron) * B_cyc / (2 * math.pi * m_electron)\n",
        "omega_cyclotron = 2 * math.pi * f_cyclotron\n",
        "print(f'Magnetic field: {B_cyc} T')\n",
        "print(f'Cyclotron frequency: {f_cyclotron/1e9:.2f} GHz')\n",
        "print(f'Angular frequency: {omega_cyclotron/1e11:.2f} × 10¹¹ rad/s')\n",
        "print(f'\\nMagnetic field calculations verified successfully!')\n"
      ],
      "execution_count": null,
      "outputs": []
    },
    {
      "cell_type": "markdown",
      "metadata": {},
      "source": [
        "## Source\n",
        "\n",
        "📖 **View this entry:** [theoria-dataset.org/entries.html?entry=magnetic_field.json](https://theoria-dataset.org/entries.html?entry=magnetic_field.json)\n",
        "\n",
        "This verification code is part of the [THEORIA dataset](https://github.com/theoria-dataset/theoria-dataset), ",
        "a curated collection of theoretical physics derivations with programmatic verification.\n",
        "\n",
        "**License:** CC-BY 4.0"
      ]
    }
  ]
}