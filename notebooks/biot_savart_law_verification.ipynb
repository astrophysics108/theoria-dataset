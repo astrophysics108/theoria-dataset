{
  "nbformat": 4,
  "nbformat_minor": 0,
  "metadata": {
    "colab": {
      "provenance": []
    },
    "kernelspec": {
      "name": "python3",
      "display_name": "Python 3"
    },
    "language_info": {
      "name": "python"
    }
  },
  "cells": [
    {
      "cell_type": "markdown",
      "metadata": {},
      "source": [
        "# Biot-Savart Law\n",
        "\n",
        "This notebook contains the programmatic verification for the **Biot-Savart Law** entry from the THEORIA dataset.\n",
        "\n",
        "**Entry ID:** biot_savart_law  \n",
        "**Required Library:** sympy 1.12.0\n",
        "\n",
        "## Description\n",
        "The Biot-Savart law calculates the magnetic field produced by a steady current. It states that the magnetic field contribution from a current element is proportional to the current, the length element, and inversely proportional to the square of the distance. This law is fundamental for calculating magnetic fields from arbitrary current distributions.\n",
        "\n",
        "## Installation\n",
        "First, let's install the required library:"
      ]
    },
    {
      "cell_type": "code",
      "metadata": {},
      "source": [
        "# Install required library with exact version\n",
        "!pip install sympy==1.12.0"
      ],
      "execution_count": null,
      "outputs": []
    },
    {
      "cell_type": "markdown",
      "metadata": {},
      "source": [
        "## Programmatic Verification\n",
        "\n",
        "The following code verifies the derivation mathematically:"
      ]
    },
    {
      "cell_type": "code",
      "metadata": {},
      "source": [
        "import sympy as sp\n",
        "# Example: magnetic field on axis of circular loop\n",
        "mu0, I, R, z = sp.symbols('mu0 I R z', real=True, positive=True)\n",
        "# For a circular loop of radius R, current I, field on axis at distance z\n",
        "# Using Biot-Savart law integrated around the loop\n",
        "r = sp.sqrt(R**2 + z**2)\n",
        "# The magnetic field on axis is:\n",
        "B_axis = (mu0 * I * R**2) / (2 * (R**2 + z**2)**(sp.Rational(3,2)))\n",
        "# Verify limiting cases\n",
        "# At center (z=0): B = mu0*I/(2*R)\n",
        "B_center = B_axis.subs(z, 0)\n",
        "expected_center = mu0 * I / (2 * R)\n",
        "assert sp.simplify(B_center - expected_center) == 0\n",
        "# Far from loop (z >> R): Check dimensional consistency\n",
        "# B should scale as 1/z^3 for large z (magnetic dipole field)\n",
        "# Substitute specific values to verify the formula works\n",
        "B_test = B_axis.subs([(mu0, 1), (I, 1), (R, 1), (z, 10)])\n",
        "expected_test = 1 / (2 * (1 + 100)**(sp.Rational(3,2)))\n",
        "assert sp.simplify(B_test - expected_test) == 0\n",
        "# Verify units: [B] = [mu0]*[I]/[length] = T\n",
        "# This is dimensionally correct for magnetic field\n",
        "print('Biot-Savart law verification passed!')\n"
      ],
      "execution_count": null,
      "outputs": []
    },
    {
      "cell_type": "markdown",
      "metadata": {},
      "source": [
        "## Source\n",
        "\n",
        "📖 **View this entry:** [theoria-dataset.org/entries.html?entry=biot_savart_law.json](https://theoria-dataset.org/entries.html?entry=biot_savart_law.json)\n",
        "\n",
        "This verification code is part of the [THEORIA dataset](https://github.com/theoria-dataset/theoria-dataset), ",
        "a curated collection of theoretical physics derivations with programmatic verification.\n",
        "\n",
        "**License:** CC-BY 4.0"
      ]
    }
  ]
}