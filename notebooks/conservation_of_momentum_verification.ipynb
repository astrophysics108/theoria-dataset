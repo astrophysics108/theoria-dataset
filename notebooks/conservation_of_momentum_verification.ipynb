{
  "nbformat": 4,
  "nbformat_minor": 0,
  "metadata": {
    "colab": {
      "provenance": []
    },
    "kernelspec": {
      "name": "python3",
      "display_name": "Python 3"
    },
    "language_info": {
      "name": "python"
    }
  },
  "cells": [
    {
      "cell_type": "markdown",
      "metadata": {},
      "source": [
        "# Conservation of Momentum\n",
        "\n",
        "This notebook contains the programmatic verification for the **Conservation of Momentum** entry from the THEORIA dataset.\n",
        "\n",
        "**Entry ID:** conservation_of_momentum  \n",
        "**Required Library:** sympy 1.12.0\n",
        "\n",
        "## Description\n",
        "Conservation of momentum states that the total momentum of a closed system remains constant over time. This fundamental principle applies to all interactions in the absence of external forces and is a direct consequence of Newton's third law.\n",
        "\n",
        "## Installation\n",
        "First, let's install the required library:"
      ]
    },
    {
      "cell_type": "code",
      "metadata": {},
      "source": [
        "# Install required library with exact version\n",
        "!pip install sympy==1.12.0"
      ],
      "execution_count": null,
      "outputs": []
    },
    {
      "cell_type": "markdown",
      "metadata": {},
      "source": [
        "## Programmatic Verification\n",
        "\n",
        "The following code verifies the derivation mathematically:"
      ]
    },
    {
      "cell_type": "code",
      "metadata": {},
      "source": [
        "import math\n",
        "print('Conservation of Momentum Verification\\n')\n",
        "print('=' * 40)\n",
        "# Test 1: Elastic collision in 1D\n",
        "def verify_elastic_collision_1d():\n",
        "    \"\"\"Verify momentum conservation in 1D elastic collision\"\"\"\n",
        "    print('Test 1: 1D Elastic Collision')\n",
        "    \n",
        "    def elastic_collision_1d(m1, v1i, m2, v2i):\n",
        "        \"\"\"Calculate final velocities in 1D elastic collision\"\"\"\n",
        "        # Conservation of momentum and energy\n",
        "        v1f = ((m1 - m2) * v1i + 2 * m2 * v2i) / (m1 + m2)\n",
        "        v2f = ((m2 - m1) * v2i + 2 * m1 * v1i) / (m1 + m2)\n",
        "        return v1f, v2f\n",
        "    \n",
        "    # Test case\n",
        "    m1, m2 = 2.0, 3.0  # masses in kg\n",
        "    v1i, v2i = 5.0, -2.0  # initial velocities in m/s\n",
        "    \n",
        "    # Calculate final velocities\n",
        "    v1f, v2f = elastic_collision_1d(m1, v1i, m2, v2i)\n",
        "    \n",
        "    # Verify momentum conservation\n",
        "    p_initial = m1 * v1i + m2 * v2i\n",
        "    p_final = m1 * v1f + m2 * v2f\n",
        "    \n",
        "    print(f'  Mass 1: {m1} kg, Initial velocity: {v1i} m/s')\n",
        "    print(f'  Mass 2: {m2} kg, Initial velocity: {v2i} m/s')\n",
        "    print(f'  Initial momentum: {p_initial:.6f} kg⋅m/s')\n",
        "    print(f'  Final momentum: {p_final:.6f} kg⋅m/s')\n",
        "    print(f'  Momentum conserved: {math.isclose(p_initial, p_final)}')\n",
        "    print()\n",
        "    \n",
        "    return math.isclose(p_initial, p_final)\n",
        "# Test 2: Inelastic collision\n",
        "def verify_inelastic_collision():\n",
        "    \"\"\"Verify momentum conservation in inelastic collision\"\"\"\n",
        "    print('Test 2: Perfectly Inelastic Collision')\n",
        "    \n",
        "    # Parameters\n",
        "    m1, m2 = 1.5, 2.5  # masses in kg\n",
        "    v1i, v2i = 8.0, 0.0  # initial velocities in m/s\n",
        "    \n",
        "    # Final velocity (objects stick together)\n",
        "    vf = (m1 * v1i + m2 * v2i) / (m1 + m2)\n",
        "    \n",
        "    # Momentum before and after\n",
        "    p_initial = m1 * v1i + m2 * v2i\n",
        "    p_final = (m1 + m2) * vf\n",
        "    \n",
        "    print(f'  Mass 1: {m1} kg, Initial velocity: {v1i} m/s')\n",
        "    print(f'  Mass 2: {m2} kg, Initial velocity: {v2i} m/s')\n",
        "    print(f'  Combined final velocity: {vf:.3f} m/s')\n",
        "    print(f'  Initial momentum: {p_initial:.6f} kg⋅m/s')\n",
        "    print(f'  Final momentum: {p_final:.6f} kg⋅m/s')\n",
        "    print(f'  Momentum conserved: {math.isclose(p_initial, p_final)}')\n",
        "    print()\n",
        "    \n",
        "    return math.isclose(p_initial, p_final)\n",
        "# Run tests\n",
        "test1 = verify_elastic_collision_1d()\n",
        "test2 = verify_inelastic_collision()\n",
        "print('Summary of Momentum Conservation Tests:')\n",
        "print(f'Elastic collision: {test1}')\n",
        "print(f'Inelastic collision: {test2}')\n",
        "print(f'All tests passed: {all([test1, test2])}')\n",
        "print('\\nMomentum conservation verified!')\n"
      ],
      "execution_count": null,
      "outputs": []
    },
    {
      "cell_type": "markdown",
      "metadata": {},
      "source": [
        "## Source\n",
        "\n",
        "📖 **View this entry:** [theoria-dataset.org/entries.html?entry=conservation_of_momentum.json](https://theoria-dataset.org/entries.html?entry=conservation_of_momentum.json)\n",
        "\n",
        "This verification code is part of the [THEORIA dataset](https://github.com/theoria-dataset/theoria-dataset), ",
        "a curated collection of theoretical physics derivations with programmatic verification.\n",
        "\n",
        "**License:** CC-BY 4.0"
      ]
    }
  ]
}