{
  "nbformat": 4,
  "nbformat_minor": 0,
  "metadata": {
    "colab": {
      "provenance": []
    },
    "kernelspec": {
      "name": "python3",
      "display_name": "Python 3"
    },
    "language_info": {
      "name": "python"
    }
  },
  "cells": [
    {
      "cell_type": "markdown",
      "metadata": {},
      "source": [
        "# Photoelectric Effect\n",
        "\n",
        "This notebook contains the programmatic verification for the **Photoelectric Effect** entry from the THEORIA dataset.\n",
        "\n",
        "**Entry ID:** photoelectric_effect  \n",
        "**Required Library:** sympy 1.12.0\n",
        "\n",
        "## Description\n",
        "The photoelectric effect demonstrates the particle nature of light, where photons with energy above a threshold frequency can eject electrons from a material. Einstein's explanation of this phenomenon led to the concept of light quanta and earned him the Nobel Prize in Physics.\n",
        "\n",
        "## Installation\n",
        "First, let's install the required library:"
      ]
    },
    {
      "cell_type": "code",
      "metadata": {},
      "source": [
        "# Install required library with exact version\n",
        "!pip install sympy==1.12.0"
      ],
      "execution_count": null,
      "outputs": []
    },
    {
      "cell_type": "markdown",
      "metadata": {},
      "source": [
        "## Programmatic Verification\n",
        "\n",
        "The following code verifies the derivation mathematically:"
      ]
    },
    {
      "cell_type": "code",
      "metadata": {},
      "source": [
        "import math\n",
        "# Constants\n",
        "h = 6.626e-34  # Planck constant (J⋅s)\n",
        "c = 3.0e8      # Speed of light (m/s)\n",
        "e = 1.602e-19  # Elementary charge (C)\n",
        "print('Photoelectric Effect Verification\\n')\n",
        "print('=' * 40)\n",
        "# Test 1: Basic photoelectric equation\n",
        "print('Test 1: Einstein photoelectric equation')\n",
        "f_incident = 1.5e15  # Hz\n",
        "W_material = 4.0 * e  # Work function (J)\n",
        "E_photon = h * f_incident\n",
        "K_max = E_photon - W_material\n",
        "f_threshold = W_material / h\n",
        "print(f'Incident frequency: {f_incident:.2e} Hz')\n",
        "print(f'Work function: {W_material/e:.1f} eV')\n",
        "print(f'Photon energy: {E_photon/e:.2f} eV')\n",
        "print(f'Max kinetic energy: {K_max/e:.2f} eV')\n",
        "print(f'Threshold frequency: {f_threshold:.2e} Hz')\n",
        "print()\n",
        "# Test 2: Stopping potential\n",
        "print('Test 2: Stopping potential calculation')\n",
        "V_stopping = K_max / e\n",
        "print(f'Stopping potential: {V_stopping:.2f} V')\n",
        "print(f'Energy balance verified: {abs(e * V_stopping - K_max) < 1e-20}')\n",
        "print()\n",
        "# Test 3: Frequency threshold\n",
        "print('Test 3: Threshold behavior')\n",
        "frequencies = [0.5e15, 1.0e15, 1.5e15, 2.0e15]  # Hz\n",
        "for f in frequencies:\n",
        "    E_ph = h * f\n",
        "    if E_ph > W_material:\n",
        "        K = E_ph - W_material\n",
        "        print(f'f = {f:.1e} Hz: Emission occurs, K_max = {K/e:.2f} eV')\n",
        "    else:\n",
        "        print(f'f = {f:.1e} Hz: No emission (below threshold)')\n",
        "print(f'\\nPhotoelectric effect relationships verified successfully!')\n"
      ],
      "execution_count": null,
      "outputs": []
    },
    {
      "cell_type": "markdown",
      "metadata": {},
      "source": [
        "## Source\n",
        "\n",
        "📖 **View this entry:** [theoria-dataset.org/entries.html?entry=photoelectric_effect.json](https://theoria-dataset.org/entries.html?entry=photoelectric_effect.json)\n",
        "\n",
        "This verification code is part of the [THEORIA dataset](https://github.com/theoria-dataset/theoria-dataset), ",
        "a curated collection of theoretical physics derivations with programmatic verification.\n",
        "\n",
        "**License:** CC-BY 4.0"
      ]
    }
  ]
}