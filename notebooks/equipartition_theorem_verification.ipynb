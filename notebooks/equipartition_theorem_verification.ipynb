{
  "nbformat": 4,
  "nbformat_minor": 0,
  "metadata": {
    "colab": {
      "provenance": []
    },
    "kernelspec": {
      "name": "python3",
      "display_name": "Python 3"
    },
    "language_info": {
      "name": "python"
    }
  },
  "cells": [
    {
      "cell_type": "markdown",
      "metadata": {},
      "source": [
        "# Equipartition Theorem\n",
        "\n",
        "This notebook contains the programmatic verification for the **Equipartition Theorem** entry from the THEORIA dataset.\n",
        "\n",
        "**Entry ID:** equipartition_theorem  \n",
        "**Required Library:** sympy 1.12.0\n",
        "\n",
        "## Description\n",
        "The equipartition theorem states that each quadratic term in the Hamiltonian contributes (1/2)k_B*T to the average energy in thermal equilibrium. This fundamental principle of classical statistical mechanics explains heat capacities, connects microscopic motion to temperature, and provides the classical limit of quantum systems. It fails at low temperatures where quantum effects become important.\n",
        "\n",
        "## Installation\n",
        "First, let's install the required library:"
      ]
    },
    {
      "cell_type": "code",
      "metadata": {},
      "source": [
        "# Install required library with exact version\n",
        "!pip install sympy==1.12.0"
      ],
      "execution_count": null,
      "outputs": []
    },
    {
      "cell_type": "markdown",
      "metadata": {},
      "source": [
        "## Programmatic Verification\n",
        "\n",
        "The following code verifies the derivation mathematically:"
      ]
    },
    {
      "cell_type": "code",
      "metadata": {},
      "source": [
        "import sympy as sp\n",
        "\n",
        "# Define symbols\n",
        "k_B, T, m, k_spring = sp.symbols('k_B T m k_spring', positive=True, real=True)\n",
        "x, v, p = sp.symbols('x v p', real=True)\n",
        "E_kinetic, E_potential, E_total = sp.symbols('E_kinetic E_potential E_total', positive=True, real=True)\n",
        "\n",
        "# Step 14: Equipartition result\n",
        "E_per_quadratic_term = sp.Rational(1,2) * k_B * T\n",
        "\n",
        "# Test case 1: Ideal gas molecule in 3D\n",
        "# Kinetic energy: (1/2)m(vx² + vy² + vz²) = 3 quadratic terms\n",
        "# Total kinetic energy: 3 × (1/2)k_B*T = (3/2)k_B*T\n",
        "E_kinetic_3D = 3 * E_per_quadratic_term\n",
        "expected_kinetic_3D = sp.Rational(3,2) * k_B * T\n",
        "assert sp.simplify(E_kinetic_3D - expected_kinetic_3D) == 0\n",
        "\n",
        "# Heat capacity for ideal gas: Cv = (3/2)k_B per molecule\n",
        "C_v_monatomic = sp.Rational(3,2) * k_B\n",
        "\n",
        "# Test case 2: Harmonic oscillator\n",
        "# H = (1/2)mv² + (1/2)kx² = 2 quadratic terms\n",
        "# Total energy: 2 × (1/2)k_B*T = k_B*T\n",
        "E_harmonic_oscillator = 2 * E_per_quadratic_term\n",
        "expected_harmonic = k_B * T\n",
        "assert sp.simplify(E_harmonic_oscillator - expected_harmonic) == 0\n",
        "\n",
        "# Test case 3: Diatomic molecule\n",
        "# Translation: 3 terms → (3/2)k_B*T\n",
        "# Rotation: 2 terms → (2/2)k_B*T = k_B*T\n",
        "# Vibration: 2 terms → k_B*T (at high T)\n",
        "# Total at high T: (3/2 + 2/2 + 2/2)k_B*T = (7/2)k_B*T\n",
        "\n",
        "E_translation = 3 * E_per_quadratic_term\n",
        "E_rotation = 2 * E_per_quadratic_term\n",
        "E_vibration = 2 * E_per_quadratic_term\n",
        "E_diatomic_total = E_translation + E_rotation + E_vibration\n",
        "\n",
        "expected_diatomic = sp.Rational(7,2) * k_B * T\n",
        "assert sp.simplify(E_diatomic_total - expected_diatomic) == 0\n",
        "\n",
        "# Heat capacity for diatomic gas at high T: Cv = (7/2)k_B\n",
        "C_v_diatomic_high_T = sp.Rational(7,2) * k_B\n",
        "\n",
        "# At room temperature, vibration is often not excited\n",
        "# So Cv ≈ (5/2)k_B for diatomic gases\n",
        "C_v_diatomic_room_T = sp.Rational(5,2) * k_B\n",
        "\n",
        "# Test case 4: Solid (Einstein model)\n",
        "# Each atom has 3 oscillatory modes in 3D\n",
        "# Each mode contributes 2 quadratic terms (kinetic + potential)\n",
        "# Total per atom: 3 × 2 × (1/2)k_B*T = 3k_B*T\n",
        "E_per_atom_solid = 6 * E_per_quadratic_term\n",
        "expected_solid = 3 * k_B * T\n",
        "assert sp.simplify(E_per_atom_solid - expected_solid) == 0\n",
        "\n",
        "# Dulong-Petit law: molar heat capacity ≈ 3R where R = N_A*k_B\n",
        "R = sp.symbols('R', positive=True)  # Gas constant\n",
        "C_solid_dulong_petit = 3 * R\n",
        "\n",
        "# Test Maxwell-Boltzmann velocity distribution\n",
        "# Average kinetic energy in x-direction: <(1/2)mvx²> = (1/2)k_B*T\n",
        "# This follows directly from equipartition\n",
        "\n",
        "# Test virial theorem for inverse-square forces\n",
        "# For potential V ∝ r^n: <T> = (n/2)<V>\n",
        "# For gravitational/Coulomb (n = -1): <T> = -(1/2)<V>\n",
        "# Total energy: <E> = <T> + <V> = -(1/2)<V> + <V> = (1/2)<V>\n",
        "\n",
        "# Verify that equipartition gives correct results\n",
        "# For hydrogen atom ground state (classical limit)\n",
        "# <T> = (3/2)k_B*T, <V> = -3k_B*T, <E> = -(3/2)k_B*T\n",
        "\n",
        "# However, quantum mechanics is needed for accurate atomic physics\n",
        "# Equipartition fails at low T where ℏω >> k_B*T\n"
      ],
      "execution_count": null,
      "outputs": []
    },
    {
      "cell_type": "markdown",
      "metadata": {},
      "source": [
        "## Source\n",
        "\n",
        "📖 **View this entry:** [theoria-dataset.org/entries.html?entry=equipartition_theorem.json](https://theoria-dataset.org/entries.html?entry=equipartition_theorem.json)\n",
        "\n",
        "This verification code is part of the [THEORIA dataset](https://github.com/theoria-dataset/theoria-dataset), ",
        "a curated collection of theoretical physics derivations with programmatic verification.\n",
        "\n",
        "**License:** CC-BY 4.0"
      ]
    }
  ]
}