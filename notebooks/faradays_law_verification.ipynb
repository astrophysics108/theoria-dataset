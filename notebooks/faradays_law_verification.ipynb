{
  "nbformat": 4,
  "nbformat_minor": 0,
  "metadata": {
    "colab": {
      "provenance": []
    },
    "kernelspec": {
      "name": "python3",
      "display_name": "Python 3"
    },
    "language_info": {
      "name": "python"
    }
  },
  "cells": [
    {
      "cell_type": "markdown",
      "metadata": {},
      "source": [
        "# Faraday's Law of Electromagnetic Induction\n",
        "\n",
        "This notebook contains the programmatic verification for the **Faraday's Law of Electromagnetic Induction** entry from the THEORIA dataset.\n",
        "\n",
        "**Entry ID:** faradays_law  \n",
        "**Required Library:** sympy 1.12.0\n",
        "\n",
        "## Description\n",
        "Faraday's law describes how a changing magnetic flux through a closed loop induces an electromotive force (EMF) in that loop. The induced EMF is proportional to the negative rate of change of magnetic flux, which explains electromagnetic induction phenomena including electric generators, transformers, and inductors.\n",
        "\n",
        "## Installation\n",
        "First, let's install the required library:"
      ]
    },
    {
      "cell_type": "code",
      "metadata": {},
      "source": [
        "# Install required library with exact version\n",
        "!pip install sympy==1.12.0"
      ],
      "execution_count": null,
      "outputs": []
    },
    {
      "cell_type": "markdown",
      "metadata": {},
      "source": [
        "## Programmatic Verification\n",
        "\n",
        "The following code verifies the derivation mathematically:"
      ]
    },
    {
      "cell_type": "code",
      "metadata": {},
      "source": [
        "import sympy as sp\n",
        "# Define symbols\n",
        "t, B0, omega, A = sp.symbols('t B0 omega A', real=True, positive=True)\n",
        "# Example: sinusoidally varying magnetic field\n",
        "B = B0 * sp.sin(omega * t)\n",
        "# Magnetic flux through a loop of area A\n",
        "Phi_B = B * A\n",
        "# Calculate EMF using Faraday's law\n",
        "EMF = -sp.diff(Phi_B, t)\n",
        "# Expected result\n",
        "EMF_expected = -A * B0 * omega * sp.cos(omega * t)\n",
        "assert sp.simplify(EMF - EMF_expected) == 0\n",
        "# Verify that rate of change of flux gives EMF\n",
        "dPhi_dt = sp.diff(Phi_B, t)\n",
        "assert sp.simplify(EMF + dPhi_dt) == 0\n"
      ],
      "execution_count": null,
      "outputs": []
    },
    {
      "cell_type": "markdown",
      "metadata": {},
      "source": [
        "## Source\n",
        "\n",
        "📖 **View this entry:** [theoria-dataset.org/entries.html?entry=faradays_law.json](https://theoria-dataset.org/entries.html?entry=faradays_law.json)\n",
        "\n",
        "This verification code is part of the [THEORIA dataset](https://github.com/theoria-dataset/theoria-dataset), ",
        "a curated collection of theoretical physics derivations with programmatic verification.\n",
        "\n",
        "**License:** CC-BY 4.0"
      ]
    }
  ]
}