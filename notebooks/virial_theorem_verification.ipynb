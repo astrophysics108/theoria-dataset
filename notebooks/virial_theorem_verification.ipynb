{
  "nbformat": 4,
  "nbformat_minor": 0,
  "metadata": {
    "colab": {
      "provenance": []
    },
    "kernelspec": {
      "name": "python3",
      "display_name": "Python 3"
    },
    "language_info": {
      "name": "python"
    }
  },
  "cells": [
    {
      "cell_type": "markdown",
      "metadata": {},
      "source": [
        "# Virial Theorem\n",
        "\n",
        "This notebook contains the programmatic verification for the **Virial Theorem** entry from the THEORIA dataset.\n",
        "\n",
        "**Entry ID:** virial_theorem  \n",
        "**Required Library:** sympy 1.12.0\n",
        "\n",
        "## Description\n",
        "The virial theorem relates the time-averaged kinetic energy to the potential energy of a system in equilibrium. For systems with power-law potentials V ∝ r^n, it provides a direct relationship between kinetic and potential energies. This theorem is fundamental in astrophysics, atomic physics, and statistical mechanics.\n",
        "\n",
        "## Installation\n",
        "First, let's install the required library:"
      ]
    },
    {
      "cell_type": "code",
      "metadata": {},
      "source": [
        "# Install required library with exact version\n",
        "!pip install sympy==1.12.0"
      ],
      "execution_count": null,
      "outputs": []
    },
    {
      "cell_type": "markdown",
      "metadata": {},
      "source": [
        "## Programmatic Verification\n",
        "\n",
        "The following code verifies the derivation mathematically:"
      ]
    },
    {
      "cell_type": "code",
      "metadata": {},
      "source": [
        "import sympy as sp\n",
        "# Verify virial theorem for specific cases\n",
        "# Define symbols\n",
        "k, r, m, v, G, M = sp.symbols('k r m v G M', positive=True)\n",
        "# Case 1: Harmonic oscillator (V ∝ r²)\n",
        "V_harmonic = k * r**2 / 2\n",
        "T_harmonic = m * v**2 / 2\n",
        "# For harmonic oscillator: n = 2\n",
        "n_harmonic = 2\n",
        "# Virial theorem: 2<T> = n<V>\n",
        "# For harmonic oscillator: <T> = <V> (equipartition)\n",
        "virial_harmonic = 2 * T_harmonic - n_harmonic * V_harmonic\n",
        "# For harmonic oscillator, the time averages satisfy: <T> = <V>\n",
        "# So at equilibrium: 2<T> = 2<V>, which means 2<T> - 2<V> = 0\n",
        "# We verify this symbolically by setting the coefficients equal\n",
        "# m*v²/2 = k*r²/2 implies m*v² = k*r², so virial should be zero\n",
        "virial_harmonic_eq = virial_harmonic.subs(m*v**2, k*r**2)\n",
        "assert sp.simplify(virial_harmonic_eq) == 0\n",
        "# Case 2: Gravitational potential (V ∝ r⁻¹)\n",
        "V_grav = -G * M * m / r\n",
        "# For gravitational potential: n = -1\n",
        "n_grav = -1\n",
        "# Virial theorem gives: 2<T> = -<V>\n",
        "# This means: <T> = -<V>/2, and total energy E = T + V = V/2 < 0 (bound)\n",
        "E_total = T_harmonic + V_grav  # Using same kinetic energy form\n",
        "# For circular orbit: T = GMm/(2r), V = -GMm/r\n",
        "T_orbit = G * M * m / (2 * r)\n",
        "V_orbit = -G * M * m / r\n",
        "virial_orbit = 2 * T_orbit - (-1) * V_orbit\n",
        "assert sp.simplify(virial_orbit) == 0\n",
        "# Verify total energy for gravitational case\n",
        "E_orbit = T_orbit + V_orbit\n",
        "E_expected = -G * M * m / (2 * r)\n",
        "assert sp.simplify(E_orbit - E_expected) == 0\n"
      ],
      "execution_count": null,
      "outputs": []
    },
    {
      "cell_type": "markdown",
      "metadata": {},
      "source": [
        "## Source\n",
        "\n",
        "📖 **View this entry:** [theoria-dataset.org/entries.html?entry=virial_theorem.json](https://theoria-dataset.org/entries.html?entry=virial_theorem.json)\n",
        "\n",
        "This verification code is part of the [THEORIA dataset](https://github.com/theoria-dataset/theoria-dataset), ",
        "a curated collection of theoretical physics derivations with programmatic verification.\n",
        "\n",
        "**License:** CC-BY 4.0"
      ]
    }
  ]
}