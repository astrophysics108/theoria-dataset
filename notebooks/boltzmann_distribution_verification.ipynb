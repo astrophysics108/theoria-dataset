{
  "nbformat": 4,
  "nbformat_minor": 0,
  "metadata": {
    "colab": {
      "provenance": []
    },
    "kernelspec": {
      "name": "python3",
      "display_name": "Python 3"
    },
    "language_info": {
      "name": "python"
    }
  },
  "cells": [
    {
      "cell_type": "markdown",
      "metadata": {},
      "source": [
        "# Boltzmann Distribution\n",
        "\n",
        "This notebook contains the programmatic verification for the **Boltzmann Distribution** entry from the THEORIA dataset.\n",
        "\n",
        "**Entry ID:** boltzmann_distribution  \n",
        "**Required Library:** sympy 1.12.0\n",
        "\n",
        "## Description\n",
        "The Boltzmann distribution describes the probability of finding a system in a particular energy state when in thermal equilibrium at temperature T. This fundamental statistical law governs how energy is distributed among particles in thermal systems and forms the cornerstone of statistical mechanics, explaining phenomena from gas kinetics to chemical equilibrium and phase transitions.\n",
        "\n",
        "## Installation\n",
        "First, let's install the required library:"
      ]
    },
    {
      "cell_type": "code",
      "metadata": {},
      "source": [
        "# Install required library with exact version\n",
        "!pip install sympy==1.12.0"
      ],
      "execution_count": null,
      "outputs": []
    },
    {
      "cell_type": "markdown",
      "metadata": {},
      "source": [
        "## Programmatic Verification\n",
        "\n",
        "The following code verifies the derivation mathematically:"
      ]
    },
    {
      "cell_type": "code",
      "metadata": {},
      "source": [
        "import sympy as sp\n",
        "import math\n",
        "\n",
        "# Define symbols\n",
        "E1, E2, E3, k_B, T, Z = sp.symbols('E1 E2 E3 k_B T Z', positive=True, real=True)\n",
        "beta = sp.symbols('beta', positive=True, real=True)\n",
        "\n",
        "# Define beta = 1/(k_B*T) for convenience\n",
        "beta_def = 1/(k_B*T)\n",
        "\n",
        "# Example: 3-level system with energies E1, E2, E3\n",
        "P1 = sp.exp(-E1*beta) / Z\n",
        "P2 = sp.exp(-E2*beta) / Z\n",
        "P3 = sp.exp(-E3*beta) / Z\n",
        "\n",
        "# Normalization condition\n",
        "normalization = P1 + P2 + P3\n",
        "normalization_expanded = (sp.exp(-E1*beta) + sp.exp(-E2*beta) + sp.exp(-E3*beta)) / Z\n",
        "\n",
        "# For proper normalization, this must equal 1\n",
        "Z_formula = sp.exp(-E1*beta) + sp.exp(-E2*beta) + sp.exp(-E3*beta)\n",
        "\n",
        "# Verify normalization\n",
        "normalized_sum = normalization_expanded.subs(Z, Z_formula)\n",
        "assert sp.simplify(normalized_sum - 1) == 0\n",
        "\n",
        "# Test classical limit: high temperature (low beta)\n",
        "# At high T, all states become equally probable\n",
        "# Set E1 = 0, E2 = ε, E3 = 2ε for simplicity\n",
        "epsilon = sp.symbols('epsilon', positive=True)\n",
        "E1_val = 0\n",
        "E2_val = epsilon\n",
        "E3_val = 2*epsilon\n",
        "\n",
        "Z_example = sp.exp(-E1_val*beta) + sp.exp(-E2_val*beta) + sp.exp(-E3_val*beta)\n",
        "Z_simplified = 1 + sp.exp(-epsilon*beta) + sp.exp(-2*epsilon*beta)\n",
        "\n",
        "P1_example = 1 / Z_simplified\n",
        "P2_example = sp.exp(-epsilon*beta) / Z_simplified\n",
        "P3_example = sp.exp(-2*epsilon*beta) / Z_simplified\n",
        "\n",
        "# In the high temperature limit (β → 0), all probabilities → 1/3\n",
        "high_T_limit = sp.limit(P1_example, beta, 0)\n",
        "assert high_T_limit == sp.Rational(1,3)\n",
        "\n",
        "# Test average energy calculation\n",
        "# <E> = Σ E_i * P(E_i)\n",
        "avg_energy = E1_val*P1_example + E2_val*P2_example + E3_val*P3_example\n",
        "avg_energy_simplified = sp.simplify(avg_energy)\n",
        "\n",
        "# Alternative calculation: <E> = -d(ln Z)/dβ\n",
        "ln_Z = sp.log(Z_simplified)\n",
        "avg_energy_alt = -sp.diff(ln_Z, beta)\n",
        "\n",
        "# Verify both methods give the same result\n",
        "difference = sp.simplify(avg_energy_simplified - avg_energy_alt)\n",
        "assert difference == 0\n",
        "\n",
        "# Numerical test with specific values\n",
        "# Room temperature: T = 300K, k_B = 1.381e-23 J/K\n",
        "# Energy scale: ε = k_B*T (thermal energy)\n",
        "beta_val = 1.0  # When ε = k_B*T, then ε*β = 1\n",
        "\n",
        "# Calculate probabilities numerically\n",
        "Z_num = 1 + math.exp(-1.0) + math.exp(-2.0)\n",
        "P1_num = 1.0 / Z_num\n",
        "P2_num = math.exp(-1.0) / Z_num\n",
        "P3_num = math.exp(-2.0) / Z_num\n",
        "\n",
        "# Verify probabilities sum to 1\n",
        "prob_sum = P1_num + P2_num + P3_num\n",
        "assert abs(prob_sum - 1.0) < 1e-10\n",
        "\n",
        "# Verify expected relationships: P1 > P2 > P3 (ground state most probable)\n",
        "assert P1_num > P2_num > P3_num\n",
        "\n",
        "print('Boltzmann distribution verification passed!')\n",
        "print(f'Numerical probabilities: P1={P1_num:.3f}, P2={P2_num:.3f}, P3={P3_num:.3f}')\n",
        "print(f'Sum: {prob_sum:.6f}')\n"
      ],
      "execution_count": null,
      "outputs": []
    },
    {
      "cell_type": "markdown",
      "metadata": {},
      "source": [
        "## Source\n",
        "\n",
        "📖 **View this entry:** [theoria-dataset.org/entries.html?entry=boltzmann_distribution.json](https://theoria-dataset.org/entries.html?entry=boltzmann_distribution.json)\n",
        "\n",
        "This verification code is part of the [THEORIA dataset](https://github.com/theoria-dataset/theoria-dataset), ",
        "a curated collection of theoretical physics derivations with programmatic verification.\n",
        "\n",
        "**License:** CC-BY 4.0"
      ]
    }
  ]
}