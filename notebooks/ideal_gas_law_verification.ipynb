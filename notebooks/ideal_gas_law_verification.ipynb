{
  "nbformat": 4,
  "nbformat_minor": 0,
  "metadata": {
    "colab": {
      "provenance": []
    },
    "kernelspec": {
      "name": "python3",
      "display_name": "Python 3"
    },
    "language_info": {
      "name": "python"
    }
  },
  "cells": [
    {
      "cell_type": "markdown",
      "metadata": {},
      "source": [
        "# Ideal Gas Law\n",
        "\n",
        "This notebook contains the programmatic verification for the **Ideal Gas Law** entry from the THEORIA dataset.\n",
        "\n",
        "**Entry ID:** ideal_gas_law  \n",
        "**Required Library:** sympy 1.12.0\n",
        "\n",
        "## Description\n",
        "The ideal gas law describes the relationship between pressure, volume, temperature, and amount of substance for an ideal gas. It combines Boyle's law, Charles's law, and Gay-Lussac's law into a single equation.\n",
        "\n",
        "## Installation\n",
        "First, let's install the required library:"
      ]
    },
    {
      "cell_type": "code",
      "metadata": {},
      "source": [
        "# Install required library with exact version\n",
        "!pip install sympy==1.12.0"
      ],
      "execution_count": null,
      "outputs": []
    },
    {
      "cell_type": "markdown",
      "metadata": {},
      "source": [
        "## Programmatic Verification\n",
        "\n",
        "The following code verifies the derivation mathematically:"
      ]
    },
    {
      "cell_type": "code",
      "metadata": {},
      "source": [
        "import math\n",
        "# Constants\n",
        "R = 8.314  # J/(mol·K)\n",
        "k_B = 1.381e-23  # J/K\n",
        "N_A = 6.022e23  # Avogadro's number\n",
        "print('Ideal Gas Law Verification\\n')\n",
        "print('=' * 40)\n",
        "# Test 1: Basic PV = nRT calculation\n",
        "P = 101325  # Pa (1 atm)\n",
        "V = 0.0224  # m³ (22.4 L at STP)\n",
        "T = 273.15  # K (0°C)\n",
        "n_calculated = P * V / (R * T)\n",
        "print(f'Test 1: Molar volume at STP')\n",
        "print(f'Pressure: {P} Pa')\n",
        "print(f'Volume: {V} m³')\n",
        "print(f'Temperature: {T} K')\n",
        "print(f'Calculated moles: {n_calculated:.6f} mol')\n",
        "print(f'Expected: 1.000000 mol')\n",
        "print(f'Agreement: {abs(n_calculated - 1.0) < 0.001}')\n",
        "print()\n",
        "# Test 2: PV = NkT relationship\n",
        "N = n_calculated * N_A\n",
        "PV_from_molecules = N * k_B * T\n",
        "PV_from_moles = n_calculated * R * T\n",
        "print(f'Test 2: Molecular vs molar form')\n",
        "print(f'Number of molecules: {N:.3e}')\n",
        "print(f'PV from molecules: {PV_from_molecules:.3f} J')\n",
        "print(f'PV from moles: {PV_from_moles:.3f} J')\n",
        "print(f'Agreement: {abs(PV_from_molecules - PV_from_moles) < 0.01}')\n",
        "print()\n",
        "# Test 3: Gas law calculations\n",
        "print(f'Test 3: Various gas calculations')\n",
        "# Air at room temperature\n",
        "T_room = 298.15  # K\n",
        "P_atm = 101325   # Pa\n",
        "V_1L = 0.001     # m³\n",
        "n_air = P_atm * V_1L / (R * T_room)\n",
        "print(f'1 L air at 25°C, 1 atm: {n_air:.6f} mol')\n",
        "print(f'\\nIdeal gas law verified successfully!')\n"
      ],
      "execution_count": null,
      "outputs": []
    },
    {
      "cell_type": "markdown",
      "metadata": {},
      "source": [
        "## Source\n",
        "\n",
        "📖 **View this entry:** [theoria-dataset.org/entries.html?entry=ideal_gas_law.json](https://theoria-dataset.org/entries.html?entry=ideal_gas_law.json)\n",
        "\n",
        "This verification code is part of the [THEORIA dataset](https://github.com/theoria-dataset/theoria-dataset), ",
        "a curated collection of theoretical physics derivations with programmatic verification.\n",
        "\n",
        "**License:** CC-BY 4.0"
      ]
    }
  ]
}