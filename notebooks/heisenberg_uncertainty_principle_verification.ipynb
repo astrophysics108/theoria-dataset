{
  "nbformat": 4,
  "nbformat_minor": 0,
  "metadata": {
    "colab": {
      "provenance": []
    },
    "kernelspec": {
      "name": "python3",
      "display_name": "Python 3"
    },
    "language_info": {
      "name": "python"
    }
  },
  "cells": [
    {
      "cell_type": "markdown",
      "metadata": {},
      "source": [
        "# Heisenberg Uncertainty Principle\n",
        "\n",
        "This notebook contains the programmatic verification for the **Heisenberg Uncertainty Principle** entry from the THEORIA dataset.\n",
        "\n",
        "**Entry ID:** heisenberg_uncertainty_principle  \n",
        "**Required Library:** sympy 1.12.0\n",
        "\n",
        "## Description\n",
        "The Heisenberg uncertainty principle states that the simultaneous precise measurement of position and momentum of a particle is fundamentally impossible. The product of their uncertainties has a quantum mechanical lower bound proportional to Planck's constant. This principle reflects the wave-particle duality and is a cornerstone of quantum mechanics, setting fundamental limits on measurement precision and enabling phenomena like quantum tunneling.\n",
        "\n",
        "## Installation\n",
        "First, let's install the required library:"
      ]
    },
    {
      "cell_type": "code",
      "metadata": {},
      "source": [
        "# Install required library with exact version\n",
        "!pip install sympy==1.12.0"
      ],
      "execution_count": null,
      "outputs": []
    },
    {
      "cell_type": "markdown",
      "metadata": {},
      "source": [
        "## Programmatic Verification\n",
        "\n",
        "The following code verifies the derivation mathematically:"
      ]
    },
    {
      "cell_type": "code",
      "metadata": {},
      "source": [
        "import sympy as sp\n",
        "import math\n",
        "# Define symbols\n",
        "hbar, x, p, Delta_x, Delta_p = sp.symbols('hbar x p Delta_x Delta_p', real=True, positive=True)\n",
        "# For verification, we'll use a specific example: Gaussian wavepacket\n",
        "# psi(x) = (2*sigma/pi)^(1/4) * exp(-(x-x0)^2/sigma^2 + i*p0*x/hbar)\n",
        "sigma, x0, p0 = sp.symbols('sigma x0 p0', real=True, positive=True)\n",
        "# Position uncertainty for Gaussian wavepacket\n",
        "position_uncertainty = sigma/sp.sqrt(2)\n",
        "# Momentum uncertainty for Gaussian wavepacket\n",
        "momentum_uncertainty = hbar/(sigma*sp.sqrt(2))\n",
        "# Calculate the product\n",
        "uncertainty_product = position_uncertainty * momentum_uncertainty\n",
        "# Simplify\n",
        "simplified_product = sp.simplify(uncertainty_product)\n",
        "# Verify that Delta_x * Delta_p = hbar/2 for this case\n",
        "expected_minimum = hbar/2\n",
        "# Check if the product equals the minimum (equality case)\n",
        "assert sp.simplify(simplified_product - expected_minimum) == 0\n",
        "# Verify the general inequality numerically for arbitrary sigma\n",
        "# For any positive sigma, hbar/2 <= hbar/2 (equality)\n",
        "assert simplified_product >= expected_minimum\n"
      ],
      "execution_count": null,
      "outputs": []
    },
    {
      "cell_type": "markdown",
      "metadata": {},
      "source": [
        "## Source\n",
        "\n",
        "📖 **View this entry:** [theoria-dataset.org/entries.html?entry=heisenberg_uncertainty_principle.json](https://theoria-dataset.org/entries.html?entry=heisenberg_uncertainty_principle.json)\n",
        "\n",
        "This verification code is part of the [THEORIA dataset](https://github.com/theoria-dataset/theoria-dataset), ",
        "a curated collection of theoretical physics derivations with programmatic verification.\n",
        "\n",
        "**License:** CC-BY 4.0"
      ]
    }
  ]
}