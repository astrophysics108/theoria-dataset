{
  "nbformat": 4,
  "nbformat_minor": 0,
  "metadata": {
    "colab": {
      "provenance": []
    },
    "kernelspec": {
      "name": "python3",
      "display_name": "Python 3"
    },
    "language_info": {
      "name": "python"
    }
  },
  "cells": [
    {
      "cell_type": "markdown",
      "metadata": {},
      "source": [
        "# Dirac Equation\n",
        "\n",
        "This notebook contains the programmatic verification for the **Dirac Equation** entry from the THEORIA dataset.\n",
        "\n",
        "**Entry ID:** dirac_equation_free  \n",
        "**Required Library:** sympy 1.12.0\n",
        "\n",
        "## Description\n",
        "The Dirac equation is a first-order relativistic wave equation that consistently describes spin-1/2 particles such as electrons. By linearly combining space-time derivatives with the Dirac gamma matrices, it reconciles quantum mechanics with special relativity while predicting intrinsic spin and the existence of antiparticles. It underpins relativistic quantum mechanics and is a cornerstone of quantum field theory for fermions.\n",
        "\n",
        "## Installation\n",
        "First, let's install the required library:"
      ]
    },
    {
      "cell_type": "code",
      "metadata": {},
      "source": [
        "# Install required library with exact version\n",
        "!pip install sympy==1.12.0"
      ],
      "execution_count": null,
      "outputs": []
    },
    {
      "cell_type": "markdown",
      "metadata": {},
      "source": [
        "## Programmatic Verification\n",
        "\n",
        "The following code verifies the derivation mathematically:"
      ]
    },
    {
      "cell_type": "code",
      "metadata": {},
      "source": [
        "import sympy as sp\n",
        "I = sp.I\n",
        "# Pauli matrices\n",
        "sigma_x = sp.Matrix([[0, 1],[1, 0]])\n",
        "sigma_y = sp.Matrix([[0, -I],[I, 0]])\n",
        "sigma_z = sp.Matrix([[1, 0],[0, -1]])\n",
        "# Dirac gamma matrices in the Dirac representation\n",
        "gamma0 = sp.Matrix([[1,0,0,0],[0,1,0,0],[0,0,-1,0],[0,0,0,-1]])\n",
        "gamma1 = sp.Matrix([[0,0,0,1],[0,0,1,0],[0,-1,0,0],[-1,0,0,0]])\n",
        "gamma2 = sp.Matrix([[0,0,0,-I],[0,0,I,0],[0,I,0,0],[-I,0,0,0]])\n",
        "gamma3 = sp.Matrix([[0,0,1,0],[0,0,0,-1],[-1,0,0,0],[0,1,0,0]])\n",
        "# Symbols for four-momentum components and constants\n",
        "E, px, py, pz, m, c = sp.symbols('E px py pz m c', real=True)\n",
        "p0 = E/c\n",
        "# Slash notation gamma^mu p_mu with metric signature (+,-,-,-)\n",
        "slash_p = gamma0*p0 - gamma1*px - gamma2*py - gamma3*pz\n",
        "# Construct operators (slash_p − m c) and (slash_p + m c)\n",
        "op_minus = slash_p - m*c*sp.eye(4)\n",
        "op_plus  = slash_p + m*c*sp.eye(4)\n",
        "product = sp.simplify(op_minus * op_plus)\n",
        "expected = (p0**2 - px**2 - py**2 - pz**2 - m**2*c**2) * sp.eye(4)\n",
        "# The difference should vanish if gamma matrices satisfy the Clifford algebra\n",
        "assert sp.simplify(product - expected) == sp.zeros(4)\n"
      ],
      "execution_count": null,
      "outputs": []
    },
    {
      "cell_type": "markdown",
      "metadata": {},
      "source": [
        "## Source\n",
        "\n",
        "📖 **View this entry:** [theoria-dataset.org/entries.html?entry=dirac_equation_free.json](https://theoria-dataset.org/entries.html?entry=dirac_equation_free.json)\n",
        "\n",
        "This verification code is part of the [THEORIA dataset](https://github.com/theoria-dataset/theoria-dataset), ",
        "a curated collection of theoretical physics derivations with programmatic verification.\n",
        "\n",
        "**License:** CC-BY 4.0"
      ]
    }
  ]
}