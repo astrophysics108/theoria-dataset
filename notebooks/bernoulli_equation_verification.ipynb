{
  "nbformat": 4,
  "nbformat_minor": 0,
  "metadata": {
    "colab": {
      "provenance": []
    },
    "kernelspec": {
      "name": "python3",
      "display_name": "Python 3"
    },
    "language_info": {
      "name": "python"
    }
  },
  "cells": [
    {
      "cell_type": "markdown",
      "metadata": {},
      "source": [
        "# Bernoulli's Equation (Inviscid Flow)\n",
        "\n",
        "This notebook contains the programmatic verification for the **Bernoulli's Equation (Inviscid Flow)** entry from the THEORIA dataset.\n",
        "\n",
        "**Entry ID:** bernoulli_equation  \n",
        "**Required Library:** sympy 1.12.0\n",
        "\n",
        "## Description\n",
        "Bernoulli's equation asserts that along a streamline in steady, incompressible, inviscid flow the sum of static pressure, kinetic head and gravitational head remains constant. It translates fluid-energy conservation into a simple algebraic relation, connecting pressure differences with velocity changes. The equation governs Venturi meters, airfoil lift estimation and cardiovascular diagnostics, providing quick estimates of flow speed and pressure drop.\n",
        "\n",
        "## Installation\n",
        "First, let's install the required library:"
      ]
    },
    {
      "cell_type": "code",
      "metadata": {},
      "source": [
        "# Install required library with exact version\n",
        "!pip install sympy==1.12.0"
      ],
      "execution_count": null,
      "outputs": []
    },
    {
      "cell_type": "markdown",
      "metadata": {},
      "source": [
        "## Programmatic Verification\n",
        "\n",
        "The following code verifies the derivation mathematically:"
      ]
    },
    {
      "cell_type": "code",
      "metadata": {},
      "source": [
        "import sympy as sp\n",
        "# ---- Verification of Step 6 (constant total head) ----\n",
        "# Symbols\n",
        "rho, g, h1, h2, v1, v2, P1 = sp.symbols('rho g h1 h2 v1 v2 P1', positive=True)\n",
        "# Compute P2 from Bernoulli (step 6) between two points at elevations h1 and h2\n",
        "P2 = P1 + rho*(v1**2 - v2**2)/2 + rho*g*(h1 - h2)\n",
        "# Verify that total head is equal at the two points\n",
        "expr = P1 + rho*v1**2/2 + rho*g*h1 - (P2 + rho*v2**2/2 + rho*g*h2)\n",
        "assert sp.simplify(expr) == 0\n"
      ],
      "execution_count": null,
      "outputs": []
    },
    {
      "cell_type": "markdown",
      "metadata": {},
      "source": [
        "## Source\n",
        "\n",
        "📖 **View this entry:** [theoria-dataset.org/entries.html?entry=bernoulli_equation.json](https://theoria-dataset.org/entries.html?entry=bernoulli_equation.json)\n",
        "\n",
        "This verification code is part of the [THEORIA dataset](https://github.com/theoria-dataset/theoria-dataset), ",
        "a curated collection of theoretical physics derivations with programmatic verification.\n",
        "\n",
        "**License:** CC-BY 4.0"
      ]
    }
  ]
}