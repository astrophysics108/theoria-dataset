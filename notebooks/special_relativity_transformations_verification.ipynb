{
  "nbformat": 4,
  "nbformat_minor": 0,
  "metadata": {
    "colab": {
      "provenance": []
    },
    "kernelspec": {
      "name": "python3",
      "display_name": "Python 3"
    },
    "language_info": {
      "name": "python"
    }
  },
  "cells": [
    {
      "cell_type": "markdown",
      "metadata": {},
      "source": [
        "# Special Relativity Coordinate Transformations\n",
        "\n",
        "This notebook contains the programmatic verification for the **Special Relativity Coordinate Transformations** entry from the THEORIA dataset.\n",
        "\n",
        "**Entry ID:** special_relativity_transformations  \n",
        "**Required Library:** sympy 1.12.0\n",
        "\n",
        "## Description\n",
        "Einstein's special theory of relativity derives the coordinate transformations between inertial reference frames moving at constant relative velocity. Built on two fundamental postulates - the relativity principle and the constancy of light speed - the theory reveals that space and time are unified into spacetime. The transformations ensure the invariance of the speed of light and the spacetime interval, leading to the profound consequences of time dilation and length contraction. These transformations replace the classical Galilean transformations and form the foundation for understanding relativistic kinematics.\n",
        "\n",
        "## Installation\n",
        "First, let's install the required library:"
      ]
    },
    {
      "cell_type": "code",
      "metadata": {},
      "source": [
        "# Install required library with exact version\n",
        "!pip install sympy==1.12.0"
      ],
      "execution_count": null,
      "outputs": []
    },
    {
      "cell_type": "markdown",
      "metadata": {},
      "source": [
        "## Programmatic Verification\n",
        "\n",
        "The following code verifies the derivation mathematically:"
      ]
    },
    {
      "cell_type": "code",
      "metadata": {},
      "source": [
        "import sympy as sp\n",
        "\n",
        "# ===============================\n",
        "# Programmatic verification for Special Relativity Transformations\n",
        "# Python 3.11, SymPy 1.12\n",
        "# Mirrors the derivation steps with asserts.\n",
        "# ===============================\n",
        "\n",
        "# Symbols\n",
        "A, B, D, E, v, c, x, t = sp.symbols('A B D E v c x t', real=True, finite=True)\n",
        "c_pos = sp.symbols('c_pos', positive=True, real=True)\n",
        "\n",
        "# ------------------------------\n",
        "# Steps 1-3: Linear map + origin worldline\n",
        "# ------------------------------\n",
        "x_p = A*x + B*t\n",
        "t_p = D*x + E*t\n",
        "\n",
        "# Origin of S' has x' = 0, and in S it moves as x = v t:\n",
        "eq_origin = sp.Eq(x_p.subs(x, v*t), 0)\n",
        "B_sol = sp.solve(eq_origin, B)[0]  # B = -A v\n",
        "assert sp.simplify(B_sol + A*v) == 0\n",
        "\n",
        "# ------------------------------\n",
        "# Steps 4-7: Light-speed invariance for right- and left-moving pulses\n",
        "# ------------------------------\n",
        "# For x = ± c t, demand x' = ± c t'\n",
        "eq_plus  = sp.Eq(x_p.subs({x: c*t, B: B_sol}),  c * t_p.subs({x: c*t, B: B_sol}))\n",
        "eq_minus = sp.Eq(x_p.subs({x: -c*t, B: B_sol}), -c * t_p.subs({x: -c*t, B: B_sol}))\n",
        "sol_DE = sp.solve([eq_plus, eq_minus], (D, E), dict=True)[0]\n",
        "D_sol, E_sol = sol_DE[D], sol_DE[E]\n",
        "\n",
        "# Expected from derivation: E = A and D = -A v / c^2\n",
        "assert sp.simplify(E_sol - A) == 0\n",
        "assert sp.simplify(D_sol + A*v/c**2) == 0\n",
        "\n",
        "# Substitute back:\n",
        "x_p2 = sp.simplify(x_p.subs({B: B_sol, D: D_sol, E: E_sol}))   # A (x - v t)\n",
        "t_p2 = sp.simplify(t_p.subs({B: B_sol, D: D_sol, E: E_sol}))   # A (t - v x / c^2)\n",
        "\n",
        "# ------------------------------\n",
        "# Steps 9-12: Interval invariance ⇒ solve for A = γ\n",
        "# ------------------------------\n",
        "# 1D invariant interval: x'^2 - c^2 t'^2 = x^2 - c^2 t^2\n",
        "interval_expr = sp.simplify(x_p2**2 - c**2*t_p2**2)\n",
        "factorized = sp.simplify(interval_expr/(x**2 - c**2*t**2))\n",
        "\n",
        "# Enforce factorized = 1 to preserve the interval ⇒ A^2 (1 - v^2/c^2) = 1\n",
        "A_candidates = sp.solve(sp.Eq(factorized, 1), A)\n",
        "# From derivation: A^2 (1 - v^2/c^2) = 1, so A = ± 1/sqrt(1 - v^2/c^2)\n",
        "# Choose positive root A = 1/sqrt(1 - v^2/c^2) = γ\n",
        "gamma = 1/sp.sqrt(1 - v**2/c_pos**2)\n",
        "\n",
        "# Final coordinate transformation:\n",
        "x_prime = sp.simplify(x_p2.subs(A, gamma))\n",
        "t_prime = sp.simplify(t_p2.subs(A, gamma))\n",
        "assert sp.simplify(x_prime - gamma*(x - v*t)) == 0\n",
        "assert sp.simplify(t_prime - gamma*(t - v*x/c**2)).subs(c, c_pos) == 0\n",
        "\n",
        "# y' = y, z' = z (no change transverse):\n",
        "y, z, y_p, z_p = sp.symbols('y z y_p z_p', real=True)\n",
        "y_p = y\n",
        "z_p = z\n",
        "assert y_p == y and z_p == z\n",
        "\n",
        "# ------------------------------\n",
        "# Steps 13-14: Time dilation and length contraction\n",
        "# ------------------------------\n",
        "# Time dilation: for Δx = 0 ⇒ Δt' = γ Δt\n",
        "dt, dx = sp.symbols('dt dx', real=True)\n",
        "dtp = sp.simplify(gamma*(dt - v*dx/c_pos**2))\n",
        "assert sp.simplify(dtp.subs(dx, 0) - gamma*dt) == 0\n",
        "\n",
        "# Length contraction: measure length of rod at rest in S, with Δx (endpoints simultaneous in S').\n",
        "# Simultaneity in S': Δt' = 0 ⇒ 0 = γ (Δt - v Δx / c^2) ⇒ Δt = v Δx / c^2.\n",
        "# Then Δx' = γ (Δx - v Δt) = γ (Δx - v*(v Δx / c^2)) = Δx / γ.\n",
        "dt_simul = sp.simplify(v*dx/c_pos**2)\n",
        "dxp = sp.simplify(gamma*(dx - v*dt_simul))\n",
        "assert sp.simplify(dxp - dx/gamma) == 0\n",
        "\n",
        "# ------------------------------\n",
        "# Extra sanity checks\n",
        "# ------------------------------\n",
        "# γ at v = 0.6c is 1.25:\n",
        "gamma_test = sp.simplify(gamma.subs(v, sp.Rational(3,5)*c_pos))\n",
        "assert sp.simplify(gamma_test - sp.Rational(5,4)) == 0\n",
        "\n",
        "print('All special relativity transformation verifications passed ✔')\n"
      ],
      "execution_count": null,
      "outputs": []
    },
    {
      "cell_type": "markdown",
      "metadata": {},
      "source": [
        "## Source\n",
        "\n",
        "📖 **View this entry:** [theoria-dataset.org/entries.html?entry=special_relativity_transformations.json](https://theoria-dataset.org/entries.html?entry=special_relativity_transformations.json)\n",
        "\n",
        "This verification code is part of the [THEORIA dataset](https://github.com/theoria-dataset/theoria-dataset), ",
        "a curated collection of theoretical physics derivations with programmatic verification.\n",
        "\n",
        "**License:** CC-BY 4.0"
      ]
    }
  ]
}