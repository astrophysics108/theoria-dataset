{
  "nbformat": 4,
  "nbformat_minor": 0,
  "metadata": {
    "colab": {
      "provenance": []
    },
    "kernelspec": {
      "name": "python3",
      "display_name": "Python 3"
    },
    "language_info": {
      "name": "python"
    }
  },
  "cells": [
    {
      "cell_type": "markdown",
      "metadata": {},
      "source": [
        "# Kirchhoff's Laws\n",
        "\n",
        "This notebook contains the programmatic verification for the **Kirchhoff's Laws** entry from the THEORIA dataset.\n",
        "\n",
        "**Entry ID:** kirchhoffs_laws  \n",
        "**Required Library:** sympy 1.12.0\n",
        "\n",
        "## Description\n",
        "Kirchhoff's laws are fundamental principles for analyzing electrical circuits. Kirchhoff's Current Law (KCL) states that the sum of currents at any node equals zero, while Kirchhoff's Voltage Law (KVL) states that the sum of voltages around any closed loop equals zero.\n",
        "\n",
        "## Installation\n",
        "First, let's install the required library:"
      ]
    },
    {
      "cell_type": "code",
      "metadata": {},
      "source": [
        "# Install required library with exact version\n",
        "!pip install sympy==1.12.0"
      ],
      "execution_count": null,
      "outputs": []
    },
    {
      "cell_type": "markdown",
      "metadata": {},
      "source": [
        "## Programmatic Verification\n",
        "\n",
        "The following code verifies the derivation mathematically:"
      ]
    },
    {
      "cell_type": "code",
      "metadata": {},
      "source": [
        "import math\n",
        "from sympy import symbols, Eq, solve\n",
        "print('Kirchhoff\\'s Laws Verification\\n')\n",
        "print('=' * 40)\n",
        "# Test 1: Simple voltage divider circuit\n",
        "print('Test 1: Voltage divider circuit')\n",
        "V_source = 12.0  # V\n",
        "R1 = 1000  # Ω\n",
        "R2 = 2000  # Ω\n",
        "# KVL: V_source - V_R1 - V_R2 = 0\n",
        "# Ohm's law: V = IR\n",
        "I_total = V_source / (R1 + R2)\n",
        "V_R1 = I_total * R1\n",
        "V_R2 = I_total * R2\n",
        "print(f'Source voltage: {V_source} V')\n",
        "print(f'Current: {I_total*1000:.2f} mA')\n",
        "print(f'Voltage across R1: {V_R1:.2f} V')\n",
        "print(f'Voltage across R2: {V_R2:.2f} V')\n",
        "# Verify KVL\n",
        "kvl_sum = V_source - V_R1 - V_R2\n",
        "print(f'KVL check (should be 0): {kvl_sum:.10f} V')\n",
        "print(f'KVL satisfied: {abs(kvl_sum) < 1e-10}')\n",
        "print()\n",
        "# Test 2: Node analysis with multiple currents\n",
        "print('Test 2: Node with multiple branches')\n",
        "# Three resistors connected to a node\n",
        "V_node = 6.0  # V (node voltage)\n",
        "R_values = [500, 1000, 1500]  # Ω\n",
        "V_other = [12.0, 0.0, 9.0]  # V (voltages at other ends)\n",
        "currents = []\n",
        "for R, V_other_end in zip(R_values, V_other):\n",
        "    I = (V_other_end - V_node) / R\n",
        "    currents.append(I)\n",
        "    print(f'Current through {R}Ω resistor: {I*1000:.2f} mA')\n",
        "# Verify KCL\n",
        "kcl_sum = sum(currents)\n",
        "print(f'KCL check (sum of currents): {kcl_sum*1000:.6f} mA')\n",
        "print(f'KCL satisfied: {abs(kcl_sum) < 1e-10}')\n",
        "print()\n"
      ],
      "execution_count": null,
      "outputs": []
    },
    {
      "cell_type": "markdown",
      "metadata": {},
      "source": [
        "## Source\n",
        "\n",
        "📖 **View this entry:** [theoria-dataset.org/entries.html?entry=kirchhoffs_laws.json](https://theoria-dataset.org/entries.html?entry=kirchhoffs_laws.json)\n",
        "\n",
        "This verification code is part of the [THEORIA dataset](https://github.com/theoria-dataset/theoria-dataset), ",
        "a curated collection of theoretical physics derivations with programmatic verification.\n",
        "\n",
        "**License:** CC-BY 4.0"
      ]
    }
  ]
}