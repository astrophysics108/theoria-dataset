{
  "nbformat": 4,
  "nbformat_minor": 0,
  "metadata": {
    "colab": {
      "provenance": []
    },
    "kernelspec": {
      "name": "python3",
      "display_name": "Python 3"
    },
    "language_info": {
      "name": "python"
    }
  },
  "cells": [
    {
      "cell_type": "markdown",
      "metadata": {},
      "source": [
        "# Klein-Gordon Equation\n",
        "\n",
        "This notebook contains the programmatic verification for the **Klein-Gordon Equation** entry from the THEORIA dataset.\n",
        "\n",
        "**Entry ID:** klein_gordon_equation  \n",
        "**Required Library:** sympy 1.12.0\n",
        "\n",
        "## Description\n",
        "The Klein-Gordon equation is a relativistic wave equation that describes spinless particles. It was the first attempt to merge quantum mechanics with special relativity, predating the Dirac equation. The equation naturally arises when applying quantum mechanics' energy-momentum relation to relativistic particles, and it correctly predicts both positive and negative energy solutions.\n",
        "\n",
        "## Installation\n",
        "First, let's install the required library:"
      ]
    },
    {
      "cell_type": "code",
      "metadata": {},
      "source": [
        "# Install required library with exact version\n",
        "!pip install sympy==1.12.0"
      ],
      "execution_count": null,
      "outputs": []
    },
    {
      "cell_type": "markdown",
      "metadata": {},
      "source": [
        "## Programmatic Verification\n",
        "\n",
        "The following code verifies the derivation mathematically:"
      ]
    },
    {
      "cell_type": "code",
      "metadata": {},
      "source": [
        "import sympy as sp\n",
        "\n",
        "# Define symbols and operators\n",
        "t, x, y, z = sp.symbols('t x y z', real=True)\n",
        "m, c, hbar = sp.symbols('m c hbar', positive=True)\n",
        "phi = sp.Function('phi')(t, x, y, z)\n",
        "\n",
        "# Step 1: Start with relativistic energy-momentum relation E^2 = p^2 c^2 + m^2 c^4\n",
        "# Step 2 & 3: Quantum operators E -> i*hbar*partial_t, p -> -i*hbar*nabla\n",
        "\n",
        "# Step 4-7: Derivation of the Klein-Gordon equation\n",
        "# ( (1/c^2)partial^2_t - nabla^2 + (m^2 c^2)/hbar^2 ) phi = 0\n",
        "\n",
        "# Define terms of the Klein-Gordon operator\n",
        "term1 = (1/c**2) * sp.diff(phi, t, t)  # (1/c^2) * Second time derivative\n",
        "term2 = sp.diff(phi, x, x) + sp.diff(phi, y, y) + sp.diff(phi, z, z)  # Laplacian\n",
        "term3 = (m**2 * c**2 / hbar**2) * phi  # Mass term\n",
        "\n",
        "# Define Klein-Gordon operator applied to phi\n",
        "kg_operator_phi = term1 - term2 + term3\n",
        "\n",
        "# Create a sample plane wave solution\n",
        "# phi = exp(i * (-E*t + px*x + py*y + pz*z) / hbar)\n",
        "E, px, py, pz = sp.symbols('E px py pz', real=True)\n",
        "wave_exponent = sp.I * (-E*t + px*x + py*y + pz*z) / hbar\n",
        "wave = sp.exp(wave_exponent)\n",
        "\n",
        "# Apply KG operator to the plane wave solution by substituting phi with wave\n",
        "kg_wave = kg_operator_phi.subs(phi, wave)\n",
        "\n",
        "# Simplify the result of KG operator on the wave. We expect kg_wave / wave to be an algebraic expression.\n",
        "kg_simplified_algebraic = sp.simplify(sp.expand(kg_wave / wave))\n",
        "\n",
        "# This algebraic expression should be zero if the energy-momentum relation holds.\n",
        "# The expression obtained from kg_simplified_algebraic is effectively:\n",
        "# -E**2/(hbar**2 * c**2) + (px**2 + py**2 + pz**2)/hbar**2 + m**2*c**2/hbar**2\n",
        "# We need to show this is zero when E**2 = (px**2 + py**2 + pz**2)*c**2 + m**2*c**4\n",
        "\n",
        "# Define the expected algebraic relation from the Klein-Gordon equation applied to the plane wave\n",
        "P_squared = px**2 + py**2 + pz**2\n",
        "expected_relation = -E**2/(hbar**2 * c**2) + P_squared/hbar**2 + (m**2 * c**2)/hbar**2\n",
        "\n",
        "# Verify that kg_simplified_algebraic is indeed equal to expected_relation\n",
        "assert sp.simplify(kg_simplified_algebraic - expected_relation) == 0\n",
        "\n",
        "# Now, substitute the relativistic energy-momentum relation into the expected_relation\n",
        "energy_momentum_lhs = E**2\n",
        "energy_momentum_rhs = P_squared * c**2 + m**2 * c**4\n",
        "verification = sp.simplify(expected_relation.subs(energy_momentum_lhs, energy_momentum_rhs))\n",
        "\n",
        "# Check that verification equals zero, confirming the Klein-Gordon equation is consistent with E^2=p^2c^2+m^2c^4\n",
        "assert verification == 0\n"
      ],
      "execution_count": null,
      "outputs": []
    },
    {
      "cell_type": "markdown",
      "metadata": {},
      "source": [
        "## Source\n",
        "\n",
        "📖 **View this entry:** [theoria-dataset.org/entries.html?entry=klein_gordon_equation.json](https://theoria-dataset.org/entries.html?entry=klein_gordon_equation.json)\n",
        "\n",
        "This verification code is part of the [THEORIA dataset](https://github.com/theoria-dataset/theoria-dataset), ",
        "a curated collection of theoretical physics derivations with programmatic verification.\n",
        "\n",
        "**License:** CC-BY 4.0"
      ]
    }
  ]
}