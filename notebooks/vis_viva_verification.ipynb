{
  "nbformat": 4,
  "nbformat_minor": 0,
  "metadata": {
    "colab": {
      "provenance": []
    },
    "kernelspec": {
      "name": "python3",
      "display_name": "Python 3"
    },
    "language_info": {
      "name": "python"
    }
  },
  "cells": [
    {
      "cell_type": "markdown",
      "metadata": {},
      "source": [
        "# Vis-Viva Equation\n",
        "\n",
        "This notebook contains the programmatic verification for the **Vis-Viva Equation** entry from the THEORIA dataset.\n",
        "\n",
        "**Entry ID:** vis_viva  \n",
        "**Required Library:** sympy 1.12.0\n",
        "\n",
        "## Description\n",
        "The Vis-Viva equation relates the velocity of a particle in an elliptical, hyperbolic or parabolic orbit to the distance to the barycenter, mass of the body it's orbiting, and the semi-major axis of the orbit. This sets the basis for velocity calculations in non-circular orbits and allows us to later derive equations like the equation for escape velocity with ease.\n",
        "\n",
        "## Installation\n",
        "First, let's install the required library:"
      ]
    },
    {
      "cell_type": "code",
      "metadata": {},
      "source": [
        "# Install required library with exact version\n",
        "!pip install sympy==1.12.0"
      ],
      "execution_count": null,
      "outputs": []
    },
    {
      "cell_type": "markdown",
      "metadata": {},
      "source": [
        "## Programmatic Verification\n",
        "\n",
        "The following code verifies the derivation mathematically:"
      ]
    },
    {
      "cell_type": "code",
      "metadata": {},
      "source": [
        "# imports\n",
        "import sympy as sp\n",
        "from math import sqrt\n",
        "# set symbols\n",
        "G, M, a, r, v= sp.symbols('G M a r v', positive=True)\n",
        "v_a, v_p, r_a, r_p = sp.symbols('v_a v_p r_a r_p', positive=True)\n",
        "# Step 1 - 2: get an expression of the specific energy for periapsis and apoapsis, equate and simplify\n",
        "E_a = 1/2 *  v_a**2 - (G*M)/(r_a)\n",
        "E_p = 1/2 *  v_p**2 - (G*M)/(r_p)\n",
        "energy_conservation = sp.simplify(sp.Eq(E_a, E_p)) # this should simplify the two\n",
        "# step 3: obtain an expression for v_p in terms of r_p, v_a and r_a\n",
        "# L_a and L_p are the angular momentum at the apoapsis and periapsis respectively\n",
        "L_a = v_a*r_a\n",
        "L_p = v_p*r_p\n",
        "momentum_conservation = sp.Eq(L_p, L_a) # using conservation of momentum\n",
        "# Solve for v_p from momentum conservation\n",
        "expr_for_v_p = sp.solve(momentum_conservation, v_p)[0]  # Get first solution\n",
        "# Step 4: substitute v_p into energy conservation equation\n",
        "energy_conservation = sp.simplify(energy_conservation.subs(v_p, expr_for_v_p))\n",
        "# step 5: rearrange for v_a^2/2 a.k.a the specific Kinetic energy at apoapsis\n",
        "energy_conservation = sp.solve(energy_conservation, v_a**2)[0]\n",
        "energy_conservation /= 2\n",
        "# step 6: use identity r_p + r_a = 2a to simplify\n",
        "energy_conservation = sp.simplify(energy_conservation.subs(r_p, 2*a - r_a))\n",
        "# step 7: use the expression in step 6 to rewrite the energy E_a in terms of just G, M and a\n",
        "E_a = sp.simplify(E_a.subs(v_a**2, energy_conservation*2))\n",
        "# step 8\n",
        "# equate E_a to the formula for the specific energy at any arbritrary point where the distance to the barycenter is r and the velocity is v\n",
        "E_general = v**2/2 - (G*M)/r\n",
        "vis_viva_equation = sp.Eq(E_a, E_general)\n",
        "# rearrange for v^2\n",
        "vis_viva_equation = sp.simplify(sp.solve(vis_viva_equation, v**2)[0])\n",
        "# check that this is equal to the vis viva equation we derived earlier\n",
        "vis_viva_expected = G*M*(2/r - 1/a)\n",
        "assert sp.simplify(vis_viva_equation - vis_viva_expected) == 0\n"
      ],
      "execution_count": null,
      "outputs": []
    },
    {
      "cell_type": "markdown",
      "metadata": {},
      "source": [
        "## Source\n",
        "\n",
        "📖 **View this entry:** [theoria-dataset.org/entries.html?entry=vis_viva.json](https://theoria-dataset.org/entries.html?entry=vis_viva.json)\n",
        "\n",
        "This verification code is part of the [THEORIA dataset](https://github.com/theoria-dataset/theoria-dataset), ",
        "a curated collection of theoretical physics derivations with programmatic verification.\n",
        "\n",
        "**License:** CC-BY 4.0"
      ]
    }
  ]
}