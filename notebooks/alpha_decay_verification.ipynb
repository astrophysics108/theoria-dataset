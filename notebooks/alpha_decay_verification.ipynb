{
  "nbformat": 4,
  "nbformat_minor": 0,
  "metadata": {
    "colab": {
      "provenance": []
    },
    "kernelspec": {
      "name": "python3",
      "display_name": "Python 3"
    },
    "language_info": {
      "name": "python"
    }
  },
  "cells": [
    {
      "cell_type": "markdown",
      "metadata": {},
      "source": [
        "# Alpha Decay\n",
        "\n",
        "This notebook contains the programmatic verification for the **Alpha Decay** entry from the THEORIA dataset.\n",
        "\n",
        "**Entry ID:** alpha_decay  \n",
        "**Required Library:** sympy 1.12.0\n",
        "\n",
        "## Description\n",
        "Alpha decay is a type of radioactive decay where an atomic nucleus emits an alpha particle (helium-4 nucleus) consisting of two protons and two neutrons. This process occurs in heavy nuclei to reduce their mass and achieve greater stability. The decay energy Q determines the kinetic energies of the products and governs the decay probability through quantum tunneling.\n",
        "\n",
        "## Installation\n",
        "First, let's install the required library:"
      ]
    },
    {
      "cell_type": "code",
      "metadata": {},
      "source": [
        "# Install required library with exact version\n",
        "!pip install sympy==1.12.0"
      ],
      "execution_count": null,
      "outputs": []
    },
    {
      "cell_type": "markdown",
      "metadata": {},
      "source": [
        "## Programmatic Verification\n",
        "\n",
        "The following code verifies the derivation mathematically:"
      ]
    },
    {
      "cell_type": "code",
      "metadata": {},
      "source": [
        "import sympy as sp\n",
        "# Example: Alpha decay of Uranium-238\n",
        "# 238U -> 234Th + 4He + Q\n",
        "# Atomic masses in atomic mass units (u)\n",
        "M_U238 = sp.Rational(238050788, 1000000)  # u (approximate)\n",
        "M_Th234 = sp.Rational(234043601, 1000000)  # u (approximate)\n",
        "M_He4 = sp.Rational(4002603, 1000000)    # u (approximate)\n",
        "c_squared = sp.symbols('c_squared', positive=True)  # c^2 factor\n",
        "# Q-value calculation\n",
        "Q_alpha = (M_U238 - M_Th234 - M_He4) * c_squared\n",
        "# Verify positive Q-value (energetically favorable)\n",
        "mass_diff = M_U238 - M_Th234 - M_He4\n",
        "assert mass_diff > 0  # Decay is energetically allowed\n",
        "# Momentum conservation and energy sharing\n",
        "M_daughter = M_Th234\n",
        "M_alpha = M_He4\n",
        "# Kinetic energy of alpha particle\n",
        "T_alpha_fraction = M_daughter / (M_daughter + M_alpha)\n",
        "T_alpha = Q_alpha * T_alpha_fraction\n",
        "# Kinetic energy of daughter nucleus (recoil)\n",
        "T_daughter_fraction = M_alpha / (M_daughter + M_alpha)\n",
        "T_daughter = Q_alpha * T_daughter_fraction\n",
        "# Verify energy conservation\n",
        "total_KE = T_alpha + T_daughter\n",
        "assert sp.simplify(total_KE - Q_alpha) == 0\n",
        "# Check that alpha gets most of the energy (since M_daughter >> M_alpha)\n",
        "assert T_alpha_fraction > T_daughter_fraction\n",
        "# Approximate values: alpha particle gets ~97% of kinetic energy\n",
        "alpha_fraction_approx = float(T_alpha_fraction.evalf())\n",
        "assert alpha_fraction_approx > 0.95\n"
      ],
      "execution_count": null,
      "outputs": []
    },
    {
      "cell_type": "markdown",
      "metadata": {},
      "source": [
        "## Source\n",
        "\n",
        "📖 **View this entry:** [theoria-dataset.org/entries.html?entry=alpha_decay.json](https://theoria-dataset.org/entries.html?entry=alpha_decay.json)\n",
        "\n",
        "This verification code is part of the [THEORIA dataset](https://github.com/theoria-dataset/theoria-dataset), ",
        "a curated collection of theoretical physics derivations with programmatic verification.\n",
        "\n",
        "**License:** CC-BY 4.0"
      ]
    }
  ]
}