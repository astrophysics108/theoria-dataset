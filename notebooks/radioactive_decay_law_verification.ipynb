{
  "nbformat": 4,
  "nbformat_minor": 0,
  "metadata": {
    "colab": {
      "provenance": []
    },
    "kernelspec": {
      "name": "python3",
      "display_name": "Python 3"
    },
    "language_info": {
      "name": "python"
    }
  },
  "cells": [
    {
      "cell_type": "markdown",
      "metadata": {},
      "source": [
        "# Radioactive Decay Law\n",
        "\n",
        "This notebook contains the programmatic verification for the **Radioactive Decay Law** entry from the THEORIA dataset.\n",
        "\n",
        "**Entry ID:** radioactive_decay_law  \n",
        "**Required Library:** sympy 1.12.0\n",
        "\n",
        "## Description\n",
        "The radioactive decay law describes the exponential decrease of unstable nuclei over time. The number of undecayed nuclei decreases exponentially with a characteristic decay constant λ. The half-life represents the time for half the nuclei to decay, independent of the initial amount.\n",
        "\n",
        "## Installation\n",
        "First, let's install the required library:"
      ]
    },
    {
      "cell_type": "code",
      "metadata": {},
      "source": [
        "# Install required library with exact version\n",
        "!pip install sympy==1.12.0"
      ],
      "execution_count": null,
      "outputs": []
    },
    {
      "cell_type": "markdown",
      "metadata": {},
      "source": [
        "## Programmatic Verification\n",
        "\n",
        "The following code verifies the derivation mathematically:"
      ]
    },
    {
      "cell_type": "code",
      "metadata": {},
      "source": [
        "import sympy as sp\n",
        "# Define symbols\n",
        "t, N0, lam, t_half = sp.symbols('t N0 lambda t_half', positive=True)\n",
        "# Decay law\n",
        "N = N0 * sp.exp(-lam * t)\n",
        "# Verify the differential equation is satisfied\n",
        "dN_dt = sp.diff(N, t)\n",
        "assert sp.simplify(dN_dt + lam * N) == 0\n",
        "# Verify half-life formula\n",
        "t_half_formula = sp.log(2) / lam\n",
        "N_at_half_life = N.subs(t, t_half_formula)\n",
        "assert sp.simplify(N_at_half_life - N0/2) == 0\n",
        "# Test with specific values\n",
        "test_vals = {N0: 1000, lam: 0.1}\n",
        "N_test = N.subs(test_vals)\n",
        "# At t = 0, N should equal N0\n",
        "assert N_test.subs(t, 0) == 1000\n",
        "# At t = ln(2)/λ, N should be N0/2\n",
        "t_half_val = sp.log(2) / 0.1\n",
        "N_half = N_test.subs(t, t_half_val)\n",
        "assert abs(float(N_half) - 500) < 1e-10\n"
      ],
      "execution_count": null,
      "outputs": []
    },
    {
      "cell_type": "markdown",
      "metadata": {},
      "source": [
        "## Source\n",
        "\n",
        "📖 **View this entry:** [theoria-dataset.org/entries.html?entry=radioactive_decay_law.json](https://theoria-dataset.org/entries.html?entry=radioactive_decay_law.json)\n",
        "\n",
        "This verification code is part of the [THEORIA dataset](https://github.com/theoria-dataset/theoria-dataset), ",
        "a curated collection of theoretical physics derivations with programmatic verification.\n",
        "\n",
        "**License:** CC-BY 4.0"
      ]
    }
  ]
}