{
  "nbformat": 4,
  "nbformat_minor": 0,
  "metadata": {
    "colab": {
      "provenance": []
    },
    "kernelspec": {
      "name": "python3",
      "display_name": "Python 3"
    },
    "language_info": {
      "name": "python"
    }
  },
  "cells": [
    {
      "cell_type": "markdown",
      "metadata": {},
      "source": [
        "# Snell's Law of Refraction\n",
        "\n",
        "This notebook contains the programmatic verification for the **Snell's Law of Refraction** entry from the THEORIA dataset.\n",
        "\n",
        "**Entry ID:** snells_law  \n",
        "**Required Library:** sympy 1.12.0\n",
        "\n",
        "## Description\n",
        "Snell's law describes the relationship between the angles of incidence and refraction when light passes from one medium to another with different optical properties. The law states that the product of refractive index and sine of angle remains constant across the interface. This fundamental principle governs the behavior of light in lenses, prisms, optical fibers, and explains phenomena like total internal reflection and mirages.\n",
        "\n",
        "## Installation\n",
        "First, let's install the required library:"
      ]
    },
    {
      "cell_type": "code",
      "metadata": {},
      "source": [
        "# Install required library with exact version\n",
        "!pip install sympy==1.12.0"
      ],
      "execution_count": null,
      "outputs": []
    },
    {
      "cell_type": "markdown",
      "metadata": {},
      "source": [
        "## Programmatic Verification\n",
        "\n",
        "The following code verifies the derivation mathematically:"
      ]
    },
    {
      "cell_type": "code",
      "metadata": {},
      "source": [
        "import sympy as sp\n",
        "import math\n",
        "# Define symbols\n",
        "x, y, L, H, n1, n2, theta1, theta2 = sp.symbols('x y L H n1 n2 theta1 theta2', real=True)\n",
        "c, v1, v2 = sp.symbols('c v1 v2', positive=True, real=True)\n",
        "# Step 4: Define optical path length\n",
        "S = n1 * sp.sqrt(x**2 + y**2) + n2 * sp.sqrt((x - L)**2 + (y - H)**2)\n",
        "# Step 5-6: Take derivative and set to zero\n",
        "dS_dx = sp.diff(S, x)\n",
        "stationary_condition = sp.Eq(dS_dx, 0)\n",
        "# Solve for the condition\n",
        "# dS/dx = n1*x/sqrt(x²+y²) + n2*(x-L)/sqrt((x-L)²+(y-H)²) = 0\n",
        "term1 = n1 * x / sp.sqrt(x**2 + y**2)\n",
        "term2 = n2 * (x - L) / sp.sqrt((x - L)**2 + (y - H)**2)\n",
        "# Step 7: Rearrange\n",
        "condition = sp.Eq(term1, -term2)\n",
        "# Step 8-9: Define trigonometric relationships\n",
        "# For incident ray: sin(θ₁) = x/√(x²+y²)\n",
        "sin_theta1 = x / sp.sqrt(x**2 + y**2)\n",
        "# For refracted ray: sin(θ₂) = |x-L|/√((x-L)²+(y-H)²)\n",
        "# We use the absolute value to handle the sign\n",
        "sin_theta2 = sp.Abs(x - L) / sp.sqrt((x - L)**2 + (y - H)**2)\n",
        "# Step 10: Verify Snell's law form\n",
        "# From the stationary condition: n1*sin(θ₁) = n2*sin(θ₂)\n",
        "# Numerical verification with specific values\n",
        "# Test case: light going from air (n=1.0) to water (n=1.33)\n",
        "n1_val = 1.0\n",
        "n2_val = 1.33\n",
        "theta1_val = math.pi/4  # 45 degrees\n",
        "# Calculate refraction angle using Snell's law\n",
        "sin_theta2_val = n1_val * math.sin(theta1_val) / n2_val\n",
        "theta2_val = math.asin(sin_theta2_val)\n",
        "# Verify Snell's law numerically\n",
        "lhs = n1_val * math.sin(theta1_val)\n",
        "rhs = n2_val * math.sin(theta2_val)\n",
        "assert abs(lhs - rhs) < 1e-10\n",
        "# Test critical angle for total internal reflection\n",
        "# From water to air: critical angle θc where sin(θc) = n_air/n_water\n",
        "theta_critical = math.asin(n1_val / n2_val)\n",
        "# At critical angle, refracted ray should be parallel to interface (θ₂ = 90°)\n",
        "sin_theta2_critical = n2_val * math.sin(theta_critical) / n1_val\n",
        "assert abs(sin_theta2_critical - 1.0) < 1e-10\n",
        "# Test the relationship n = c/v\n",
        "# If n₂/n₁ = v₁/v₂, then higher refractive index means slower speed\n",
        "v_ratio = n2_val / n1_val\n",
        "# This means v₁/v₂ = n₂/n₁, so water (higher n) has slower light speed\n",
        "print(f\"Snell's law verification successful!\")\n",
        "print(f\"Critical angle for water-air interface: {math.degrees(theta_critical):.1f} degrees\")\n"
      ],
      "execution_count": null,
      "outputs": []
    },
    {
      "cell_type": "markdown",
      "metadata": {},
      "source": [
        "## Source\n",
        "\n",
        "📖 **View this entry:** [theoria-dataset.org/entries.html?entry=snells_law.json](https://theoria-dataset.org/entries.html?entry=snells_law.json)\n",
        "\n",
        "This verification code is part of the [THEORIA dataset](https://github.com/theoria-dataset/theoria-dataset), ",
        "a curated collection of theoretical physics derivations with programmatic verification.\n",
        "\n",
        "**License:** CC-BY 4.0"
      ]
    }
  ]
}