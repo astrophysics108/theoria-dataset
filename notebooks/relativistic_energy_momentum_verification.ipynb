{
  "nbformat": 4,
  "nbformat_minor": 0,
  "metadata": {
    "colab": {
      "provenance": []
    },
    "kernelspec": {
      "name": "python3",
      "display_name": "Python 3"
    },
    "language_info": {
      "name": "python"
    }
  },
  "cells": [
    {
      "cell_type": "markdown",
      "metadata": {},
      "source": [
        "# Relativistic Energy and Momentum\n",
        "\n",
        "This notebook contains the programmatic verification for the **Relativistic Energy and Momentum** entry from the THEORIA dataset.\n",
        "\n",
        "**Entry ID:** relativistic_energy_momentum  \n",
        "**Required Library:** sympy 1.12.0\n",
        "\n",
        "## Description\n",
        "Einstein's special relativity revolutionizes our understanding of energy and momentum at high velocities. By redefining force as the rate of change of relativistic momentum and calculating the work done to accelerate a particle, the theory derives the famous relativistic energy formula E = γmc². This unifies mass and energy, revealing that mass is a form of energy (rest energy E₀ = mc²). The theory also establishes the fundamental energy-momentum relation E² = (pc)² + (mc²)², which reduces to the classical expressions at low velocities and forms the basis for particle physics and modern cosmology.\n",
        "\n",
        "## Installation\n",
        "First, let's install the required library:"
      ]
    },
    {
      "cell_type": "code",
      "metadata": {},
      "source": [
        "# Install required library with exact version\n",
        "!pip install sympy==1.12.0"
      ],
      "execution_count": null,
      "outputs": []
    },
    {
      "cell_type": "markdown",
      "metadata": {},
      "source": [
        "## Programmatic Verification\n",
        "\n",
        "The following code verifies the derivation mathematically:"
      ]
    },
    {
      "cell_type": "code",
      "metadata": {},
      "source": [
        "import sympy as sp\n",
        "\n",
        "# ===============================\n",
        "# Programmatic verification for Relativistic Energy and Momentum\n",
        "# Python 3.11, SymPy 1.12\n",
        "# Mirrors the derivation steps with asserts.\n",
        "# ===============================\n",
        "\n",
        "# Symbols\n",
        "v, c, m = sp.symbols('v c m', real=True, finite=True)\n",
        "c_pos = sp.symbols('c_pos', positive=True, real=True)\n",
        "m_pos = sp.symbols('m_pos', positive=True, real=True)\n",
        "\n",
        "# Lorentz factor\n",
        "gamma_v = 1/sp.sqrt(1 - v**2/c_pos**2)\n",
        "\n",
        "# ------------------------------\n",
        "# Steps 1-2: Relativistic momentum and force definitions\n",
        "# ------------------------------\n",
        "# Relativistic momentum and energy:\n",
        "E_rel = sp.simplify(gamma_v*m_pos*c_pos**2)\n",
        "p_rel = sp.simplify(gamma_v*m_pos*v)\n",
        "\n",
        "# Rest limits:\n",
        "assert sp.simplify(E_rel.subs(v, 0) - m_pos*c_pos**2) == 0\n",
        "assert sp.simplify(p_rel.subs(v, 0)) == 0\n",
        "\n",
        "# ------------------------------\n",
        "# Step 8: dγ/dv identity\n",
        "# ------------------------------\n",
        "dgamma_dv = sp.simplify(sp.diff(gamma_v, v))\n",
        "assert sp.simplify(dgamma_dv - (v/c_pos**2)*gamma_v**3) == 0\n",
        "\n",
        "# ------------------------------\n",
        "# Step 11: Identity v^2 γ^2 / c^2 + 1 = γ^2\n",
        "# ------------------------------\n",
        "lhs = v**2*gamma_v**2/c_pos**2 + 1\n",
        "rhs = gamma_v**2\n",
        "assert sp.simplify(lhs - rhs) == 0\n",
        "\n",
        "# ------------------------------\n",
        "# Steps 17-23: Energy–momentum relation\n",
        "# ------------------------------\n",
        "E2_minus_p2c2 = sp.simplify(E_rel**2 - (p_rel*c_pos)**2)\n",
        "assert sp.simplify(E2_minus_p2c2 - (m_pos*c_pos**2)**2) == 0\n",
        "\n",
        "# ------------------------------\n",
        "# Extra sanity checks\n",
        "# ------------------------------\n",
        "# γ at v = 0.6c is 1.25:\n",
        "gamma_test = sp.simplify(gamma_v.subs(v, sp.Rational(3,5)*c_pos))\n",
        "assert sp.simplify(gamma_test - sp.Rational(5,4)) == 0\n",
        "\n",
        "# Low-velocity expansion: E ≈ mc^2 + (1/2) m v^2 + O(v^4)\n",
        "series = sp.series(E_rel.expand(), v, 0, 3).removeO()\n",
        "expected_series = m_pos*c_pos**2 + sp.Rational(1,2)*m_pos*v**2\n",
        "assert sp.simplify(series - expected_series) == 0\n",
        "\n",
        "# Mass-energy equivalence: rest energy is mc^2\n",
        "rest_energy = sp.simplify(E_rel.subs(v, 0))\n",
        "assert sp.simplify(rest_energy - m_pos*c_pos**2) == 0\n",
        "\n",
        "# At high velocities, E ≈ γmc^2 and p ≈ γmv\n",
        "# Check that E/c approaches p as v approaches c\n",
        "ratio_limit = sp.limit(E_rel/(p_rel*c_pos), v, c_pos)\n",
        "# This should approach c/v = 1 as v → c\n",
        "\n",
        "print('All relativistic energy-momentum verifications passed ✔')\n"
      ],
      "execution_count": null,
      "outputs": []
    },
    {
      "cell_type": "markdown",
      "metadata": {},
      "source": [
        "## Source\n",
        "\n",
        "📖 **View this entry:** [theoria-dataset.org/entries.html?entry=relativistic_energy_momentum.json](https://theoria-dataset.org/entries.html?entry=relativistic_energy_momentum.json)\n",
        "\n",
        "This verification code is part of the [THEORIA dataset](https://github.com/theoria-dataset/theoria-dataset), ",
        "a curated collection of theoretical physics derivations with programmatic verification.\n",
        "\n",
        "**License:** CC-BY 4.0"
      ]
    }
  ]
}