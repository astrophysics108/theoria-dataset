{
  "nbformat": 4,
  "nbformat_minor": 0,
  "metadata": {
    "colab": {
      "provenance": []
    },
    "kernelspec": {
      "name": "python3",
      "display_name": "Python 3"
    },
    "language_info": {
      "name": "python"
    }
  },
  "cells": [
    {
      "cell_type": "markdown",
      "metadata": {},
      "source": [
        "# Hydrogen Atom Energy Levels\n",
        "\n",
        "This notebook contains the programmatic verification for the **Hydrogen Atom Energy Levels** entry from the THEORIA dataset.\n",
        "\n",
        "**Entry ID:** hydrogen_atom_energy_levels  \n",
        "**Required Library:** sympy 1.12.0\n",
        "\n",
        "## Description\n",
        "The hydrogen atom energy levels describe the quantized energy states of an electron bound to a proton. The energy depends only on the principal quantum number n, with the ground state at -13.6 eV. These energy levels explain the hydrogen spectrum and demonstrate key principles of quantum mechanics including energy quantization and wave-particle duality.\n",
        "\n",
        "## Installation\n",
        "First, let's install the required library:"
      ]
    },
    {
      "cell_type": "code",
      "metadata": {},
      "source": [
        "# Install required library with exact version\n",
        "!pip install sympy==1.12.0"
      ],
      "execution_count": null,
      "outputs": []
    },
    {
      "cell_type": "markdown",
      "metadata": {},
      "source": [
        "## Programmatic Verification\n",
        "\n",
        "The following code verifies the derivation mathematically:"
      ]
    },
    {
      "cell_type": "code",
      "metadata": {},
      "source": [
        "import sympy as sp\n",
        "# Define fundamental constants (in SI units)\n",
        "m_e = sp.symbols('m_e', positive=True)  # electron mass\n",
        "e = sp.symbols('e', positive=True)      # elementary charge\n",
        "hbar = sp.symbols('hbar', positive=True) # reduced Planck constant\n",
        "epsilon_0 = sp.symbols('epsilon_0', positive=True) # permittivity\n",
        "n = sp.symbols('n', positive=True, integer=True) # principal quantum number\n",
        "# Bohr radius\n",
        "a_0 = (4*sp.pi*epsilon_0*hbar**2)/(m_e*e**2)\n",
        "# Energy levels\n",
        "E_n = -(m_e*e**4)/(2*(4*sp.pi*epsilon_0)**2*hbar**2*n**2)\n",
        "# Verify ground state properties\n",
        "E_1 = E_n.subs(n, 1)\n",
        "r_1 = a_0\n",
        "# Energy level spacing\n",
        "E_2 = E_n.subs(n, 2)\n",
        "E_3 = E_n.subs(n, 3)\n",
        "# Verify that energies scale as 1/n²\n",
        "ratio_21 = E_2 / E_1\n",
        "ratio_31 = E_3 / E_1\n",
        "assert sp.simplify(ratio_21) == sp.Rational(1, 4)\n",
        "assert sp.simplify(ratio_31) == sp.Rational(1, 9)\n",
        "# Verify Rydberg constant relationship\n",
        "R_inf = m_e*e**4/(8*(4*sp.pi*epsilon_0)**2*hbar**3*sp.pi) # Rydberg constant\n",
        "E_n_rydberg = -R_inf*hbar*sp.pi*2/n**2\n",
        "# The energy should be proportional to Rydberg constant\n",
        "assert sp.simplify(E_n/E_n_rydberg).is_constant()\n"
      ],
      "execution_count": null,
      "outputs": []
    },
    {
      "cell_type": "markdown",
      "metadata": {},
      "source": [
        "## Source\n",
        "\n",
        "📖 **View this entry:** [theoria-dataset.org/entries.html?entry=hydrogen_atom_energy_levels.json](https://theoria-dataset.org/entries.html?entry=hydrogen_atom_energy_levels.json)\n",
        "\n",
        "This verification code is part of the [THEORIA dataset](https://github.com/theoria-dataset/theoria-dataset), ",
        "a curated collection of theoretical physics derivations with programmatic verification.\n",
        "\n",
        "**License:** CC-BY 4.0"
      ]
    }
  ]
}