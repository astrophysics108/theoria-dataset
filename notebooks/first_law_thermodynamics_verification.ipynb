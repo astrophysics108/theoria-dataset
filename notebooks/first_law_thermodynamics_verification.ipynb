{
  "nbformat": 4,
  "nbformat_minor": 0,
  "metadata": {
    "colab": {
      "provenance": []
    },
    "kernelspec": {
      "name": "python3",
      "display_name": "Python 3"
    },
    "language_info": {
      "name": "python"
    }
  },
  "cells": [
    {
      "cell_type": "markdown",
      "metadata": {},
      "source": [
        "# First Law of Thermodynamics\n",
        "\n",
        "This notebook contains the programmatic verification for the **First Law of Thermodynamics** entry from the THEORIA dataset.\n",
        "\n",
        "**Entry ID:** first_law_thermodynamics  \n",
        "**Required Library:** sympy 1.12.0\n",
        "\n",
        "## Description\n",
        "The first law states that for any closed system the change in internal energy `Delta U` equals heat supplied `Q` minus work done `W`. It enforces macroscopic energy conservation without specifying microscopic details, underpinning calorimetry, engine-cycle analysis and phase-transition studies. Engineers apply it to compute energy balances, determine heating requirements and set upper limits on process efficiency.\n",
        "\n",
        "## Installation\n",
        "First, let's install the required library:"
      ]
    },
    {
      "cell_type": "code",
      "metadata": {},
      "source": [
        "# Install required library with exact version\n",
        "!pip install sympy==1.12.0"
      ],
      "execution_count": null,
      "outputs": []
    },
    {
      "cell_type": "markdown",
      "metadata": {},
      "source": [
        "## Programmatic Verification\n",
        "\n",
        "The following code verifies the derivation mathematically:"
      ]
    },
    {
      "cell_type": "code",
      "metadata": {},
      "source": [
        "import sympy as sp\n",
        "\n",
        "# Define symbols for initial and final internal energy and path quantities (Step 7)\n",
        "U1, U2, Q12, W12 = sp.symbols('U1 U2 Q12 W12')\n",
        "\n",
        "# Integrated first-law expression (Step 7)\n",
        "expr = sp.Eq(U2 - U1, Q12 - W12)\n",
        "\n",
        "# Provide a consistent numerical example to validate the equality\n",
        "vals = {U1: 50, Q12: 40, W12: 10}\n",
        "vals[U2] = vals[U1] + vals[Q12] - vals[W12]\n",
        "\n",
        "lhs_val = expr.lhs.subs(vals)\n",
        "rhs_val = expr.rhs.subs(vals)\n",
        "assert sp.simplify(lhs_val - rhs_val) == 0\n"
      ],
      "execution_count": null,
      "outputs": []
    },
    {
      "cell_type": "markdown",
      "metadata": {},
      "source": [
        "## Source\n",
        "\n",
        "📖 **View this entry:** [theoria-dataset.org/entries.html?entry=first_law_thermodynamics.json](https://theoria-dataset.org/entries.html?entry=first_law_thermodynamics.json)\n",
        "\n",
        "This verification code is part of the [THEORIA dataset](https://github.com/theoria-dataset/theoria-dataset), ",
        "a curated collection of theoretical physics derivations with programmatic verification.\n",
        "\n",
        "**License:** CC-BY 4.0"
      ]
    }
  ]
}