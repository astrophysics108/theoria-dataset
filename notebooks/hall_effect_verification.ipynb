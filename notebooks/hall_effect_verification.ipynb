{
  "nbformat": 4,
  "nbformat_minor": 0,
  "metadata": {
    "colab": {
      "provenance": []
    },
    "kernelspec": {
      "name": "python3",
      "display_name": "Python 3"
    },
    "language_info": {
      "name": "python"
    }
  },
  "cells": [
    {
      "cell_type": "markdown",
      "metadata": {},
      "source": [
        "# Hall Effect\n",
        "\n",
        "This notebook contains the programmatic verification for the **Hall Effect** entry from the THEORIA dataset.\n",
        "\n",
        "**Entry ID:** hall_effect  \n",
        "**Required Library:** sympy 1.12.0\n",
        "\n",
        "## Description\n",
        "The Hall effect occurs when a current-carrying conductor is placed in a magnetic field perpendicular to the current direction, resulting in a voltage difference across the conductor. This effect allows determination of charge carrier density, mobility, and type (positive or negative) in materials, making it fundamental for semiconductor characterization and magnetic field sensing.\n",
        "\n",
        "## Installation\n",
        "First, let's install the required library:"
      ]
    },
    {
      "cell_type": "code",
      "metadata": {},
      "source": [
        "# Install required library with exact version\n",
        "!pip install sympy==1.12.0"
      ],
      "execution_count": null,
      "outputs": []
    },
    {
      "cell_type": "markdown",
      "metadata": {},
      "source": [
        "## Programmatic Verification\n",
        "\n",
        "The following code verifies the derivation mathematically:"
      ]
    },
    {
      "cell_type": "code",
      "metadata": {},
      "source": [
        "import sympy as sp\n",
        "# Define symbols\n",
        "I, B, n, q, t, w, v, V_H = sp.symbols('I B n q t w v V_H', positive=True)\n",
        "# Hall voltage formula\n",
        "V_H_formula = (I * B) / (n * q * t)\n",
        "# Hall coefficient\n",
        "R_H = 1 / (n * q)\n",
        "# Verify alternative expression\n",
        "V_H_alt = R_H * I * B / t\n",
        "assert sp.simplify(V_H_formula - V_H_alt) == 0\n",
        "# Current density and drift velocity relationship\n",
        "J = I / (w * t)  # current density\n",
        "J_carriers = n * q * v  # current density from carrier motion\n",
        "# These should be equal\n",
        "v_drift = I / (n * q * w * t)\n",
        "# Verify Hall field\n",
        "E_H = v_drift * B\n",
        "V_H_from_field = E_H * w\n",
        "assert sp.simplify(V_H_from_field - V_H_formula) == 0\n",
        "# Sign of Hall voltage depends on charge carrier type\n",
        "# For electrons (q = -e): V_H is opposite to positive charges\n",
        "# For holes (q = +e): V_H has same direction as positive charges\n",
        "e = sp.symbols('e', positive=True)\n",
        "R_H_electrons = -1/(n * e)  # negative for electrons\n",
        "R_H_holes = 1/(n * e)       # positive for holes\n",
        "assert R_H_electrons < 0\n",
        "assert R_H_holes > 0\n"
      ],
      "execution_count": null,
      "outputs": []
    },
    {
      "cell_type": "markdown",
      "metadata": {},
      "source": [
        "## Source\n",
        "\n",
        "📖 **View this entry:** [theoria-dataset.org/entries.html?entry=hall_effect.json](https://theoria-dataset.org/entries.html?entry=hall_effect.json)\n",
        "\n",
        "This verification code is part of the [THEORIA dataset](https://github.com/theoria-dataset/theoria-dataset), ",
        "a curated collection of theoretical physics derivations with programmatic verification.\n",
        "\n",
        "**License:** CC-BY 4.0"
      ]
    }
  ]
}