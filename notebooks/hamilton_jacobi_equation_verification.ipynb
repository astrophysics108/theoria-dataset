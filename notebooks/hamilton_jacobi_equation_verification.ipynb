{
  "nbformat": 4,
  "nbformat_minor": 0,
  "metadata": {
    "colab": {
      "provenance": []
    },
    "kernelspec": {
      "name": "python3",
      "display_name": "Python 3"
    },
    "language_info": {
      "name": "python"
    }
  },
  "cells": [
    {
      "cell_type": "markdown",
      "metadata": {},
      "source": [
        "# Hamilton-Jacobi Equation\n",
        "\n",
        "This notebook contains the programmatic verification for the **Hamilton-Jacobi Equation** entry from the THEORIA dataset.\n",
        "\n",
        "**Entry ID:** hamilton_jacobi_equation  \n",
        "**Required Library:** sympy 1.12.0\n",
        "\n",
        "## Description\n",
        "The Hamilton-Jacobi equation is a reformulation of classical mechanics as a first-order partial differential equation for the action `S(q_i, t)`. It describes the evolution of Hamilton's principal function `S` such that its spatial gradients equal the momenta. Solving the H-J equation yields `S` from which the equations of motion can be obtained, providing a bridge to wave mechanics and ultimately to Schrödinger's equation.\n",
        "\n",
        "## Installation\n",
        "First, let's install the required library:"
      ]
    },
    {
      "cell_type": "code",
      "metadata": {},
      "source": [
        "# Install required library with exact version\n",
        "!pip install sympy==1.12.0"
      ],
      "execution_count": null,
      "outputs": []
    },
    {
      "cell_type": "markdown",
      "metadata": {},
      "source": [
        "## Programmatic Verification\n",
        "\n",
        "The following code verifies the derivation mathematically:"
      ]
    },
    {
      "cell_type": "code",
      "metadata": {},
      "source": [
        "import sympy as sp\n",
        "# Step 1: propose S for a free particle\n",
        "x, p, m, t = sp.symbols('x p m t', real=True, positive=True)\n",
        "S = p*x - p**2/(2*m)*t\n",
        "# Step 2: compute the Hamilton-Jacobi expression\n",
        "HJ_expr = sp.diff(S, t) + (sp.diff(S, x)**2)/(2*m)\n",
        "# Step 3: verify the equation is satisfied\n",
        "assert sp.simplify(HJ_expr) == 0\n"
      ],
      "execution_count": null,
      "outputs": []
    },
    {
      "cell_type": "markdown",
      "metadata": {},
      "source": [
        "## Source\n",
        "\n",
        "📖 **View this entry:** [theoria-dataset.org/entries.html?entry=hamilton_jacobi_equation.json](https://theoria-dataset.org/entries.html?entry=hamilton_jacobi_equation.json)\n",
        "\n",
        "This verification code is part of the [THEORIA dataset](https://github.com/theoria-dataset/theoria-dataset), ",
        "a curated collection of theoretical physics derivations with programmatic verification.\n",
        "\n",
        "**License:** CC-BY 4.0"
      ]
    }
  ]
}