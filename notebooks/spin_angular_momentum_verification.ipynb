{
  "nbformat": 4,
  "nbformat_minor": 0,
  "metadata": {
    "colab": {
      "provenance": []
    },
    "kernelspec": {
      "name": "python3",
      "display_name": "Python 3"
    },
    "language_info": {
      "name": "python"
    }
  },
  "cells": [
    {
      "cell_type": "markdown",
      "metadata": {},
      "source": [
        "# Spin Angular Momentum\n",
        "\n",
        "This notebook contains the programmatic verification for the **Spin Angular Momentum** entry from the THEORIA dataset.\n",
        "\n",
        "**Entry ID:** spin_angular_momentum  \n",
        "**Required Library:** sympy 1.12.0\n",
        "\n",
        "## Description\n",
        "Spin angular momentum is an intrinsic quantum mechanical property of particles that has no classical analog. Unlike orbital angular momentum arising from spatial motion, spin is an inherent characteristic like mass or charge. Particles can have integer spin (bosons) or half-integer spin (fermions), which determines their statistical behavior and fundamental interactions.\n",
        "\n",
        "## Installation\n",
        "First, let's install the required library:"
      ]
    },
    {
      "cell_type": "code",
      "metadata": {},
      "source": [
        "# Install required library with exact version\n",
        "!pip install sympy==1.12.0"
      ],
      "execution_count": null,
      "outputs": []
    },
    {
      "cell_type": "markdown",
      "metadata": {},
      "source": [
        "## Programmatic Verification\n",
        "\n",
        "The following code verifies the derivation mathematically:"
      ]
    },
    {
      "cell_type": "code",
      "metadata": {},
      "source": [
        "import sympy as sp\n",
        "# Define symbols\n",
        "s, m_s, hbar = sp.symbols('s m_s hbar', real=True)\n",
        "# Eigenvalue of S²\n",
        "S_squared_eigenvalue = hbar**2 * s * (s + 1)\n",
        "# Eigenvalue of S_z\n",
        "S_z_eigenvalue = hbar * m_s\n",
        "# Verify quantum number constraints\n",
        "# For spin-1/2: s = 1/2, m_s = -1/2, +1/2\n",
        "s_half = sp.Rational(1, 2)\n",
        "S_sq_half = S_squared_eigenvalue.subs(s, s_half)\n",
        "expected_half = hbar**2 * sp.Rational(3, 4)\n",
        "assert S_sq_half == expected_half\n",
        "# Magnetic quantum numbers for spin-1/2\n",
        "m_s_values_half = [-sp.Rational(1,2), sp.Rational(1,2)]\n",
        "S_z_up = S_z_eigenvalue.subs(m_s, sp.Rational(1,2))\n",
        "S_z_down = S_z_eigenvalue.subs(m_s, -sp.Rational(1,2))\n",
        "assert S_z_up == hbar/2\n",
        "assert S_z_down == -hbar/2\n",
        "# For spin-1: s = 1, m_s = -1, 0, +1\n",
        "s_one = 1\n",
        "S_sq_one = S_squared_eigenvalue.subs(s, s_one)\n",
        "expected_one = 2 * hbar**2\n",
        "assert S_sq_one == expected_one\n",
        "# Verify number of magnetic substates = 2s + 1\n",
        "num_states_half = 2 * s_half + 1\n",
        "num_states_one = 2 * s_one + 1\n",
        "assert num_states_half == 2  # spin-1/2 has 2 states\n",
        "assert num_states_one == 3   # spin-1 has 3 states\n",
        "# Ladder operator matrix elements\n",
        "# <s,m_s±1|S_±|s,m_s> = ℏ√[s(s+1) - m_s(m_s±1)]\n",
        "ladder_element = hbar * sp.sqrt(s*(s+1) - m_s*(m_s + 1))\n",
        "# For spin-1/2, |↓⟩ to |↑⟩ transition\n",
        "transition_half = ladder_element.subs([(s, s_half), (m_s, -s_half)])\n",
        "expected_transition = hbar\n",
        "assert transition_half == expected_transition\n"
      ],
      "execution_count": null,
      "outputs": []
    },
    {
      "cell_type": "markdown",
      "metadata": {},
      "source": [
        "## Source\n",
        "\n",
        "📖 **View this entry:** [theoria-dataset.org/entries.html?entry=spin_angular_momentum.json](https://theoria-dataset.org/entries.html?entry=spin_angular_momentum.json)\n",
        "\n",
        "This verification code is part of the [THEORIA dataset](https://github.com/theoria-dataset/theoria-dataset), ",
        "a curated collection of theoretical physics derivations with programmatic verification.\n",
        "\n",
        "**License:** CC-BY 4.0"
      ]
    }
  ]
}