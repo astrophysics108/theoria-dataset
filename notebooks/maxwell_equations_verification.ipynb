{
  "nbformat": 4,
  "nbformat_minor": 0,
  "metadata": {
    "colab": {
      "provenance": []
    },
    "kernelspec": {
      "name": "python3",
      "display_name": "Python 3"
    },
    "language_info": {
      "name": "python"
    }
  },
  "cells": [
    {
      "cell_type": "markdown",
      "metadata": {},
      "source": [
        "# Maxwell Equations\n",
        "\n",
        "This notebook contains the programmatic verification for the **Maxwell Equations** entry from the THEORIA dataset.\n",
        "\n",
        "**Entry ID:** maxwell_equations  \n",
        "**Required Library:** sympy 1.12.0\n",
        "\n",
        "## Description\n",
        "Maxwell's equations form the foundation of classical electromagnetism, describing how electric and magnetic fields interact with charges and currents. These four coupled partial differential equations unify electricity and magnetism into a single electromagnetic theory, predicting the existence of electromagnetic waves including light. They are essential for understanding electromagnetic phenomena from radio waves to optics, and form the basis for electrical engineering and modern communications technology.\n",
        "\n",
        "## Installation\n",
        "First, let's install the required library:"
      ]
    },
    {
      "cell_type": "code",
      "metadata": {},
      "source": [
        "# Install required library with exact version\n",
        "!pip install sympy==1.12.0"
      ],
      "execution_count": null,
      "outputs": []
    },
    {
      "cell_type": "markdown",
      "metadata": {},
      "source": [
        "## Programmatic Verification\n",
        "\n",
        "The following code verifies the derivation mathematically:"
      ]
    },
    {
      "cell_type": "code",
      "metadata": {},
      "source": [
        "# --- Maxwell equations with sources in vacuum (steps 6‑7) ---\n",
        "import sympy as sp\n",
        "from sympy.vector import CoordSys3D, divergence, curl\n",
        "\n",
        "# Coordinate system and symbols\n",
        "N = CoordSys3D('N')\n",
        "t = sp.symbols('t', real=True)\n",
        "\n",
        "# Generic field components (functions of space and time)\n",
        "Ex, Ey, Ez = [sp.Function(f)(N.x, N.y, N.z, t) for f in ('Ex','Ey','Ez')]\n",
        "Bx, By, Bz = [sp.Function(f)(N.x, N.y, N.z, t) for f in ('Bx','By','Bz')]\n",
        "Jx, Jy, Jz = [sp.Function(f)(N.x, N.y, N.z, t) for f in ('Jx','Jy','Jz')]\n",
        "rho = sp.Function('rho')(N.x, N.y, N.z, t)\n",
        "\n",
        "# Assemble vector fields\n",
        "E = Ex*N.i + Ey*N.j + Ez*N.k\n",
        "B = Bx*N.i + By*N.j + Bz*N.k\n",
        "J = Jx*N.i + Jy*N.j + Jz*N.k\n",
        "\n",
        "# Physical constants\n",
        "epsilon0, mu0, c = sp.symbols('epsilon0 mu0 c', positive=True)\n",
        "\n",
        "# --- Local Maxwell equations (step 6) ---\n",
        "gauss_E     = sp.Eq(divergence(E), rho/epsilon0)                      # grad·E = ρ/ε₀\n",
        "ampere_max  = sp.Eq(curl(B), mu0*J + 1/c**2 * sp.diff(E, t))          # grad×B = μ₀J + (1/c²)∂E/∂t\n",
        "\n",
        "# --- Consistency check → continuity equation (step 7) ---\n",
        "# Take divergence of Ampère–Maxwell equation\n",
        "divE = divergence(E)\n",
        "lhs = mu0*divergence(J) + 1/c**2 * sp.diff(divE, t)\n",
        "\n",
        "# Substitute Gauss's law and c² = 1/(ε₀ μ₀)\n",
        "lhs_sub = lhs.subs({divE: rho/epsilon0, sp.diff(divE, t): sp.diff(rho, t)/epsilon0, 1/c**2: epsilon0*mu0})\n",
        "\n",
        "# Verify continuity equation μ₀(∂ρ/∂t + grad·J)\n",
        "continuity = mu0 * (sp.diff(rho, t) + divergence(J))\n",
        "assert sp.simplify(lhs_sub - continuity) == 0\n",
        "\n",
        "print('Continuity equation verified: Maxwell system is self‑consistent.')\n"
      ],
      "execution_count": null,
      "outputs": []
    },
    {
      "cell_type": "markdown",
      "metadata": {},
      "source": [
        "## Source\n",
        "\n",
        "📖 **View this entry:** [theoria-dataset.org/entries.html?entry=maxwell_equations.json](https://theoria-dataset.org/entries.html?entry=maxwell_equations.json)\n",
        "\n",
        "This verification code is part of the [THEORIA dataset](https://github.com/theoria-dataset/theoria-dataset), ",
        "a curated collection of theoretical physics derivations with programmatic verification.\n",
        "\n",
        "**License:** CC-BY 4.0"
      ]
    }
  ]
}