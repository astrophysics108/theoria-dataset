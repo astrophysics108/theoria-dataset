{
  "nbformat": 4,
  "nbformat_minor": 0,
  "metadata": {
    "colab": {
      "provenance": []
    },
    "kernelspec": {
      "name": "python3",
      "display_name": "Python 3"
    },
    "language_info": {
      "name": "python"
    }
  },
  "cells": [
    {
      "cell_type": "markdown",
      "metadata": {},
      "source": [
        "# Electric Potential\n",
        "\n",
        "This notebook contains the programmatic verification for the **Electric Potential** entry from the THEORIA dataset.\n",
        "\n",
        "**Entry ID:** electric_potential  \n",
        "**Required Library:** sympy 1.12.0\n",
        "\n",
        "## Description\n",
        "Electric potential is the electric potential energy per unit charge at a point in space. It provides a scalar description of the electric field and represents the work required to bring a unit positive charge from infinity to that point.\n",
        "\n",
        "## Installation\n",
        "First, let's install the required library:"
      ]
    },
    {
      "cell_type": "code",
      "metadata": {},
      "source": [
        "# Install required library with exact version\n",
        "!pip install sympy==1.12.0"
      ],
      "execution_count": null,
      "outputs": []
    },
    {
      "cell_type": "markdown",
      "metadata": {},
      "source": [
        "## Programmatic Verification\n",
        "\n",
        "The following code verifies the derivation mathematically:"
      ]
    },
    {
      "cell_type": "code",
      "metadata": {},
      "source": [
        "import math\n",
        "print('Electric Potential Verification\\n')\n",
        "print('=' * 40)\n",
        "# Constants\n",
        "k = 8.99e9  # Coulomb's constant in N⋅m²/C²\n",
        "epsilon_0 = 8.854e-12  # Permittivity of free space\n",
        "# Test 1: Potential from point charge\n",
        "def verify_point_charge_potential():\n",
        "    \"\"\"Verify potential formula for point charge\"\"\"\n",
        "    print('Test 1: Point charge potential')\n",
        "    \n",
        "    Q = 1e-9  # 1 nC charge\n",
        "    distances = [0.1, 0.5, 1.0, 2.0]  # meters\n",
        "    \n",
        "    print(f'  Charge Q: {Q*1e9:.1f} nC')\n",
        "    print('  Distance (m)\\tPotential (V)')\n",
        "    print('  ' + '-' * 25)\n",
        "    \n",
        "    for r in distances:\n",
        "        V = k * Q / r\n",
        "        print(f'  {r:8.1f}\\t{V:10.2f}')\n",
        "    \n",
        "    print()\n",
        "    return True\n",
        "# Test 2: Superposition principle\n",
        "def verify_superposition():\n",
        "    \"\"\"Verify potential superposition\"\"\"\n",
        "    print('Test 2: Superposition principle')\n",
        "    \n",
        "    # Two charges\n",
        "    Q1, Q2 = 2e-9, -1e-9  # charges in C\n",
        "    r1, r2 = 1.0, 1.5     # distances in m\n",
        "    \n",
        "    # Individual potentials\n",
        "    V1 = k * Q1 / r1\n",
        "    V2 = k * Q2 / r2\n",
        "    V_total = V1 + V2\n",
        "    \n",
        "    print(f'  Q1: {Q1*1e9:.1f} nC at distance {r1:.1f} m')\n",
        "    print(f'  Q2: {Q2*1e9:.1f} nC at distance {r2:.1f} m')\n",
        "    print(f'  V1: {V1:.2f} V')\n",
        "    print(f'  V2: {V2:.2f} V')\n",
        "    print(f'  V_total: {V_total:.2f} V')\n",
        "    print(f'  Superposition verified: {True}')\n",
        "    print()\n",
        "    \n",
        "    return True\n",
        "# Test 3: Field-potential relationship\n",
        "def verify_field_potential_relation():\n",
        "    \"\"\"Verify E = -dV/dr\"\"\"\n",
        "    print('Test 3: Field-potential relationship')\n",
        "    \n",
        "    Q = 1e-9  # charge\n",
        "    r = 0.5   # distance\n",
        "    \n",
        "    # Potential and field\n",
        "    V = k * Q / r\n",
        "    E = k * Q / r**2  # radial field\n",
        "    \n",
        "    # Numerical derivative\n",
        "    dr = 0.001\n",
        "    V1 = k * Q / (r - dr/2)\n",
        "    V2 = k * Q / (r + dr/2)\n",
        "    dV_dr = (V2 - V1) / dr\n",
        "    E_from_gradient = -dV_dr\n",
        "    \n",
        "    print(f'  Charge: {Q*1e9:.1f} nC')\n",
        "    print(f'  Distance: {r:.1f} m')\n",
        "    print(f'  Potential: {V:.2f} V')\n",
        "    print(f'  Field (analytical): {E:.2f} N/C')\n",
        "    print(f'  Field (from -dV/dr): {E_from_gradient:.2f} N/C')\n",
        "    print(f'  E = -dV/dr verified: {math.isclose(E, E_from_gradient, rel_tol=0.01)}')\n",
        "    print()\n",
        "    \n",
        "    return math.isclose(E, E_from_gradient, rel_tol=0.01)\n",
        "# Run tests\n",
        "test1 = verify_point_charge_potential()\n",
        "test2 = verify_superposition()\n",
        "test3 = verify_field_potential_relation()\n",
        "print('Summary of Electric Potential Tests:')\n",
        "print(f'Point charge potential: {test1}')\n",
        "print(f'Superposition principle: {test2}')\n",
        "print(f'Field-potential relationship: {test3}')\n",
        "print(f'All tests passed: {all([test1, test2, test3])}')\n",
        "print('\\nElectric potential verified!')\n"
      ],
      "execution_count": null,
      "outputs": []
    },
    {
      "cell_type": "markdown",
      "metadata": {},
      "source": [
        "## Source\n",
        "\n",
        "📖 **View this entry:** [theoria-dataset.org/entries.html?entry=electric_potential.json](https://theoria-dataset.org/entries.html?entry=electric_potential.json)\n",
        "\n",
        "This verification code is part of the [THEORIA dataset](https://github.com/theoria-dataset/theoria-dataset), ",
        "a curated collection of theoretical physics derivations with programmatic verification.\n",
        "\n",
        "**License:** CC-BY 4.0"
      ]
    }
  ]
}