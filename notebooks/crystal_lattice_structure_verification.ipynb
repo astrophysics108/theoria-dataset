{
  "nbformat": 4,
  "nbformat_minor": 0,
  "metadata": {
    "colab": {
      "provenance": []
    },
    "kernelspec": {
      "name": "python3",
      "display_name": "Python 3"
    },
    "language_info": {
      "name": "python"
    }
  },
  "cells": [
    {
      "cell_type": "markdown",
      "metadata": {},
      "source": [
        "# Crystal Lattice Structure\n",
        "\n",
        "This notebook contains the programmatic verification for the **Crystal Lattice Structure** entry from the THEORIA dataset.\n",
        "\n",
        "**Entry ID:** crystal_lattice_structure  \n",
        "**Required Library:** sympy 1.12.0\n",
        "\n",
        "## Description\n",
        "Crystal lattice structure describes the periodic arrangement of atoms in crystalline solids. The structure is characterized by a unit cell with basis vectors that, when repeated, generates the entire crystal through translational symmetry. This periodicity determines fundamental properties like mechanical strength, electrical conductivity, and optical behavior of materials.\n",
        "\n",
        "## Installation\n",
        "First, let's install the required library:"
      ]
    },
    {
      "cell_type": "code",
      "metadata": {},
      "source": [
        "# Install required library with exact version\n",
        "!pip install sympy==1.12.0"
      ],
      "execution_count": null,
      "outputs": []
    },
    {
      "cell_type": "markdown",
      "metadata": {},
      "source": [
        "## Programmatic Verification\n",
        "\n",
        "The following code verifies the derivation mathematically:"
      ]
    },
    {
      "cell_type": "code",
      "metadata": {},
      "source": [
        "import sympy as sp\n",
        "# Define symbolic lattice vectors\n",
        "a1_x, a1_y, a1_z = sp.symbols('a1_x a1_y a1_z', real=True)\n",
        "a2_x, a2_y, a2_z = sp.symbols('a2_x a2_y a2_z', real=True)\n",
        "a3_x, a3_y, a3_z = sp.symbols('a3_x a3_y a3_z', real=True)\n",
        "n1, n2, n3 = sp.symbols('n1 n2 n3', integer=True)\n",
        "# Lattice vectors\n",
        "a1 = sp.Matrix([a1_x, a1_y, a1_z])\n",
        "a2 = sp.Matrix([a2_x, a2_y, a2_z])\n",
        "a3 = sp.Matrix([a3_x, a3_y, a3_z])\n",
        "# General lattice vector\n",
        "R = n1*a1 + n2*a2 + n3*a3\n",
        "# Unit cell volume\n",
        "V_cell = a1.dot(a2.cross(a3))\n",
        "# Verify specific lattice types\n",
        "# Simple cubic: a1 = (a,0,0), a2 = (0,a,0), a3 = (0,0,a)\n",
        "a = sp.symbols('a', positive=True)\n",
        "a1_cubic = sp.Matrix([a, 0, 0])\n",
        "a2_cubic = sp.Matrix([0, a, 0])\n",
        "a3_cubic = sp.Matrix([0, 0, a])\n",
        "V_cubic = a1_cubic.dot(a2_cubic.cross(a3_cubic))\n",
        "assert V_cubic == a**3\n",
        "# Face-centered cubic (FCC)\n",
        "a1_fcc = sp.Matrix([a/2, a/2, 0])\n",
        "a2_fcc = sp.Matrix([0, a/2, a/2])\n",
        "a3_fcc = sp.Matrix([a/2, 0, a/2])\n",
        "V_fcc = a1_fcc.dot(a2_fcc.cross(a3_fcc))\n",
        "assert sp.simplify(V_fcc) == a**3/4\n",
        "# Body-centered cubic (BCC)\n",
        "a1_bcc = sp.Matrix([-a/2, a/2, a/2])\n",
        "a2_bcc = sp.Matrix([a/2, -a/2, a/2])\n",
        "a3_bcc = sp.Matrix([a/2, a/2, -a/2])\n",
        "V_bcc = a1_bcc.dot(a2_bcc.cross(a3_bcc))\n",
        "assert sp.simplify(V_bcc) == a**3/2\n",
        "# Hexagonal lattice\n",
        "c = sp.symbols('c', positive=True)\n",
        "a1_hex = sp.Matrix([a, 0, 0])\n",
        "a2_hex = sp.Matrix([-a/2, a*sp.sqrt(3)/2, 0])\n",
        "a3_hex = sp.Matrix([0, 0, c])\n",
        "V_hex = a1_hex.dot(a2_hex.cross(a3_hex))\n",
        "assert sp.simplify(V_hex) == a**2*c*sp.sqrt(3)/2\n"
      ],
      "execution_count": null,
      "outputs": []
    },
    {
      "cell_type": "markdown",
      "metadata": {},
      "source": [
        "## Source\n",
        "\n",
        "📖 **View this entry:** [theoria-dataset.org/entries.html?entry=crystal_lattice_structure.json](https://theoria-dataset.org/entries.html?entry=crystal_lattice_structure.json)\n",
        "\n",
        "This verification code is part of the [THEORIA dataset](https://github.com/theoria-dataset/theoria-dataset), ",
        "a curated collection of theoretical physics derivations with programmatic verification.\n",
        "\n",
        "**License:** CC-BY 4.0"
      ]
    }
  ]
}