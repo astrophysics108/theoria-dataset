{
  "nbformat": 4,
  "nbformat_minor": 0,
  "metadata": {
    "colab": {
      "provenance": []
    },
    "kernelspec": {
      "name": "python3",
      "display_name": "Python 3"
    },
    "language_info": {
      "name": "python"
    }
  },
  "cells": [
    {
      "cell_type": "markdown",
      "metadata": {},
      "source": [
        "# Navier–Stokes Equation (Incompressible)\n",
        "\n",
        "This notebook contains the programmatic verification for the **Navier–Stokes Equation (Incompressible)** entry from the THEORIA dataset.\n",
        "\n",
        "**Entry ID:** navier_stokes_incompressible  \n",
        "**Required Library:** sympy 1.12.0\n",
        "\n",
        "## Description\n",
        "The incompressible Navier–Stokes equation balances transient and convective inertia with pressure gradients, viscous diffusion and body forces in a Newtonian fluid. As the fundamental dynamical law for liquids and gases at everyday speeds, it captures phenomena from laminar pipe flow to atmospheric turbulence. Solutions underpin aerospace design, blood-flow modelling and numerous industrial processes.\n",
        "\n",
        "## Installation\n",
        "First, let's install the required library:"
      ]
    },
    {
      "cell_type": "code",
      "metadata": {},
      "source": [
        "# Install required library with exact version\n",
        "!pip install sympy==1.12.0"
      ],
      "execution_count": null,
      "outputs": []
    },
    {
      "cell_type": "markdown",
      "metadata": {},
      "source": [
        "## Programmatic Verification\n",
        "\n",
        "The following code verifies the derivation mathematically:"
      ]
    },
    {
      "cell_type": "code",
      "metadata": {},
      "source": [
        "import sympy as sp\n",
        "# Verification corresponding to derivation step 6 (final equation) via planar Poiseuille flow\n",
        "y, H, mu, dpdx = sp.symbols('y H mu dpdx', positive=True)\n",
        "# Candidate steady-state solution to incompressible NSE between two infinite plates\n",
        "vx = -dpdx*y*(H - y)/(2*mu)\n",
        "# Laplacian term minus imposed pressure gradient must cancel\n",
        "expr = mu*sp.diff(vx, y, 2) - dpdx\n",
        "assert sp.simplify(expr) == 0\n"
      ],
      "execution_count": null,
      "outputs": []
    },
    {
      "cell_type": "markdown",
      "metadata": {},
      "source": [
        "## Source\n",
        "\n",
        "📖 **View this entry:** [theoria-dataset.org/entries.html?entry=navier_stokes_incompressible.json](https://theoria-dataset.org/entries.html?entry=navier_stokes_incompressible.json)\n",
        "\n",
        "This verification code is part of the [THEORIA dataset](https://github.com/theoria-dataset/theoria-dataset), ",
        "a curated collection of theoretical physics derivations with programmatic verification.\n",
        "\n",
        "**License:** CC-BY 4.0"
      ]
    }
  ]
}