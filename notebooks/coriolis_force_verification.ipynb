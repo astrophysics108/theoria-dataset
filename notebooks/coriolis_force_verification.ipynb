{
  "nbformat": 4,
  "nbformat_minor": 0,
  "metadata": {
    "colab": {
      "provenance": []
    },
    "kernelspec": {
      "name": "python3",
      "display_name": "Python 3"
    },
    "language_info": {
      "name": "python"
    }
  },
  "cells": [
    {
      "cell_type": "markdown",
      "metadata": {},
      "source": [
        "# Coriolis Force\n",
        "\n",
        "This notebook contains the programmatic verification for the **Coriolis Force** entry from the THEORIA dataset.\n",
        "\n",
        "**Entry ID:** coriolis_force  \n",
        "**Required Library:** sympy 1.12.0\n",
        "\n",
        "## Description\n",
        "The Coriolis force is a fictitious force that appears in a rotating reference frame. It causes moving objects to be deflected relative to the Earth's surface or any rotating frame. The Coriolis acceleration is `2(vec v cross vec Omega)`, acting perpendicular to the velocity. This effect explains phenomena like the rotation of cyclones and the deflection of projectiles in latitude.\n",
        "\n",
        "## Installation\n",
        "First, let's install the required library:"
      ]
    },
    {
      "cell_type": "code",
      "metadata": {},
      "source": [
        "# Install required library with exact version\n",
        "!pip install sympy==1.12.0"
      ],
      "execution_count": null,
      "outputs": []
    },
    {
      "cell_type": "markdown",
      "metadata": {},
      "source": [
        "## Programmatic Verification\n",
        "\n",
        "The following code verifies the derivation mathematically:"
      ]
    },
    {
      "cell_type": "code",
      "metadata": {},
      "source": [
        "import sympy as sp\n",
        "# Step 1: verify acceleration transformation for linear motion\n",
        "t = sp.symbols('t', real=True)\n",
        "Omega = sp.Matrix([0, 0, 1])\n",
        "r = sp.Matrix([10*t, 0, 0])\n",
        "v_rot = sp.diff(r, t) - Omega.cross(r)\n",
        "a_rot = sp.diff(v_rot, t) - Omega.cross(v_rot)\n",
        "a_inertial = sp.diff(r, t, 2)\n",
        "formula = a_rot + 2*Omega.cross(v_rot) + Omega.cross(Omega.cross(r))\n",
        "assert sp.simplify(a_inertial - formula) == sp.Matrix([0, 0, 0])\n",
        "# Step 2: multiply by mass to obtain inertial force\n",
        "m = sp.symbols('m')\n",
        "F_real = m*a_inertial\n",
        "# Step 3: express equation in rotating frame and verify fictitious terms\n",
        "expr_rot = F_real - m*a_rot - 2*m*Omega.cross(v_rot) - m*Omega.cross(Omega.cross(r))\n",
        "assert sp.simplify(expr_rot) == sp.Matrix([0, 0, 0])\n",
        "# Step 4: test Coriolis force direction for eastward motion\n",
        "v_sample = sp.Matrix([10, 0, 0])\n",
        "F_c = 2*m*v_sample.cross(Omega)\n",
        "# For positive mass and eastward velocity, Coriolis force points south (negative y)\n",
        "F_c_numeric = F_c.subs(m, 1)\n",
        "assert F_c_numeric[1] < 0\n"
      ],
      "execution_count": null,
      "outputs": []
    },
    {
      "cell_type": "markdown",
      "metadata": {},
      "source": [
        "## Source\n",
        "\n",
        "📖 **View this entry:** [theoria-dataset.org/entries.html?entry=coriolis_force.json](https://theoria-dataset.org/entries.html?entry=coriolis_force.json)\n",
        "\n",
        "This verification code is part of the [THEORIA dataset](https://github.com/theoria-dataset/theoria-dataset), ",
        "a curated collection of theoretical physics derivations with programmatic verification.\n",
        "\n",
        "**License:** CC-BY 4.0"
      ]
    }
  ]
}