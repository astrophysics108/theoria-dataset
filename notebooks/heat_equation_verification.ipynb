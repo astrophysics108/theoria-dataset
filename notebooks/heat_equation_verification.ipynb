{
  "nbformat": 4,
  "nbformat_minor": 0,
  "metadata": {
    "colab": {
      "provenance": []
    },
    "kernelspec": {
      "name": "python3",
      "display_name": "Python 3"
    },
    "language_info": {
      "name": "python"
    }
  },
  "cells": [
    {
      "cell_type": "markdown",
      "metadata": {},
      "source": [
        "# Heat Equation\n",
        "\n",
        "This notebook contains the programmatic verification for the **Heat Equation** entry from the THEORIA dataset.\n",
        "\n",
        "**Entry ID:** heat_equation  \n",
        "**Required Library:** sympy 1.12.0\n",
        "\n",
        "## Description\n",
        "The heat equation describes how temperature changes over time due to thermal diffusion. It is a parabolic partial differential equation that governs heat conduction in materials and is fundamental to understanding thermal transport phenomena.\n",
        "\n",
        "## Installation\n",
        "First, let's install the required library:"
      ]
    },
    {
      "cell_type": "code",
      "metadata": {},
      "source": [
        "# Install required library with exact version\n",
        "!pip install sympy==1.12.0"
      ],
      "execution_count": null,
      "outputs": []
    },
    {
      "cell_type": "markdown",
      "metadata": {},
      "source": [
        "## Programmatic Verification\n",
        "\n",
        "The following code verifies the derivation mathematically:"
      ]
    },
    {
      "cell_type": "code",
      "metadata": {},
      "source": [
        "import sympy as sp\n",
        "import math\n",
        "\n",
        "# Heat Equation Verification using SymPy\n",
        "print('Heat Equation Verification\\n')\n",
        "print('=' * 40)\n",
        "\n",
        "# Define symbols\n",
        "x, t, T, alpha, k, rho, c_p = sp.symbols('x t T alpha k rho c_p', real=True, positive=True)\n",
        "\n",
        "# Step 1: Verify thermal diffusivity definition\n",
        "alpha_def = k / (rho * c_p)\n",
        "print('Step 1: Thermal diffusivity definition')\n",
        "print(f'α = k/(ρc_p) = {alpha_def}')\n",
        "\n",
        "# Step 2: Verify dimensional analysis\n",
        "# [α] = [k]/([ρ][c_p]) = (W/m·K)/(kg/m³·J/kg·K) = m²/s\n",
        "print('Step 2: Dimensional analysis')\n",
        "print('Thermal diffusivity units: [α] = m²/s')\n",
        "print('Heat equation: ∂T/∂t = α∇²T')\n",
        "print('Left side: [∂T/∂t] = K/s')\n",
        "print('Right side: [α∇²T] = (m²/s)·(K/m²) = K/s ✓')\n",
        "\n",
        "# Step 3: Verify steady-state solution\n",
        "# For steady state: ∂T/∂t = 0, so ∇²T = 0\n",
        "print('Step 3: Steady-state condition')\n",
        "print('Steady state: ∂T/∂t = 0 → ∇²T = 0')\n",
        "print('1D steady state: d²T/dx² = 0')\n",
        "print('Solution: T(x) = Ax + B (linear temperature profile)')\n",
        "\n",
        "# Step 4: Verify simple 1D solution\n",
        "# Test with a simple polynomial solution\n",
        "T_test = x**2 + 2*x + 1\n",
        "dT_dt = 0  # For testing, assume time-independent\n",
        "d2T_dx2 = sp.diff(T_test, x, 2)\n",
        "print('Step 4: Test with polynomial T(x) = x² + 2x + 1')\n",
        "print(f'∂²T/∂x² = {d2T_dx2}')\n",
        "\n",
        "# Step 5: Verify units and physical meaning\n",
        "print('Step 5: Physical interpretation')\n",
        "print('α = thermal diffusivity measures how quickly heat spreads')\n",
        "print('Large α → rapid heat diffusion')\n",
        "print('Small α → slow heat diffusion')\n",
        "\n",
        "# Step 6: Verify relationship with Fourier's law\n",
        "print('Step 6: Connection to Fourier\\'s law')\n",
        "print('Fourier\\'s law: q⃗ = -k∇T')\n",
        "print('Energy conservation: ∂u/∂t = -∇·q⃗')\n",
        "print('With u = ρc_pT, we get the heat equation')\n",
        "\n",
        "print('✓ Heat equation verification completed successfully!')\n",
        "print('All relationships and units are consistent.')\n"
      ],
      "execution_count": null,
      "outputs": []
    },
    {
      "cell_type": "markdown",
      "metadata": {},
      "source": [
        "## Source\n",
        "\n",
        "📖 **View this entry:** [theoria-dataset.org/entries.html?entry=heat_equation.json](https://theoria-dataset.org/entries.html?entry=heat_equation.json)\n",
        "\n",
        "This verification code is part of the [THEORIA dataset](https://github.com/theoria-dataset/theoria-dataset), ",
        "a curated collection of theoretical physics derivations with programmatic verification.\n",
        "\n",
        "**License:** CC-BY 4.0"
      ]
    }
  ]
}