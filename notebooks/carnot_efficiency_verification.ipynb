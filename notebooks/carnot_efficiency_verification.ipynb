{
  "nbformat": 4,
  "nbformat_minor": 0,
  "metadata": {
    "colab": {
      "provenance": []
    },
    "kernelspec": {
      "name": "python3",
      "display_name": "Python 3"
    },
    "language_info": {
      "name": "python"
    }
  },
  "cells": [
    {
      "cell_type": "markdown",
      "metadata": {},
      "source": [
        "# Carnot Efficiency\n",
        "\n",
        "This notebook contains the programmatic verification for the **Carnot Efficiency** entry from the THEORIA dataset.\n",
        "\n",
        "**Entry ID:** carnot_efficiency  \n",
        "**Required Library:** sympy 1.12.0\n",
        "\n",
        "## Description\n",
        "Carnot efficiency represents the maximum theoretical efficiency of any heat engine operating between two thermal reservoirs. It depends only on the absolute temperatures of the hot and cold reservoirs, establishing an upper limit that no real heat engine can exceed. This efficiency is achieved by the reversible Carnot cycle and is fundamental to understanding the second law of thermodynamics.\n",
        "\n",
        "## Installation\n",
        "First, let's install the required library:"
      ]
    },
    {
      "cell_type": "code",
      "metadata": {},
      "source": [
        "# Install required library with exact version\n",
        "!pip install sympy==1.12.0"
      ],
      "execution_count": null,
      "outputs": []
    },
    {
      "cell_type": "markdown",
      "metadata": {},
      "source": [
        "## Programmatic Verification\n",
        "\n",
        "The following code verifies the derivation mathematically:"
      ]
    },
    {
      "cell_type": "code",
      "metadata": {},
      "source": [
        "import sympy as sp\n",
        "# Define symbols\n",
        "T_H, T_C, Q_H, Q_C, W = sp.symbols('T_H T_C Q_H Q_C W', positive=True)\n",
        "# Carnot efficiency\n",
        "eta_carnot = 1 - T_C/T_H\n",
        "# Verify thermodynamic relationships\n",
        "# For reversible cycle: Q_C/Q_H = T_C/T_H\n",
        "heat_ratio = Q_C/Q_H\n",
        "temp_ratio = T_C/T_H\n",
        "# Energy conservation: W = Q_H - Q_C\n",
        "work_conservation = sp.Eq(W, Q_H - Q_C)\n",
        "# Efficiency definition\n",
        "eta_def = W/Q_H\n",
        "# For Carnot cycle: Q_C/Q_H = T_C/T_H, so Q_C = Q_H * T_C/T_H\n",
        "# Substitute this into W = Q_H - Q_C\n",
        "W_carnot = Q_H - Q_H * T_C/T_H\n",
        "W_carnot_simplified = sp.simplify(W_carnot)\n",
        "# Now calculate efficiency: eta = W/Q_H\n",
        "eta_derived = W_carnot_simplified / Q_H\n",
        "eta_derived_simplified = sp.simplify(eta_derived)\n",
        "# Verify they are equivalent\n",
        "print(f'eta_derived: {eta_derived_simplified}')\n",
        "print(f'eta_carnot: {eta_carnot}')\n",
        "difference = sp.simplify(eta_derived_simplified - eta_carnot)\n",
        "print(f'Difference: {difference}')\n",
        "assert difference == 0\n",
        "# Verify limiting cases\n",
        "# As T_C approaches 0, efficiency approaches 1\n",
        "eta_limit_cold = sp.limit(eta_carnot, T_C, 0)\n",
        "assert eta_limit_cold == 1\n",
        "# As T_C approaches T_H, efficiency approaches 0\n",
        "eta_limit_equal = sp.limit(eta_carnot, T_C, T_H)\n",
        "assert eta_limit_equal == 0\n",
        "# Verify that efficiency is always less than 1 for T_C > 0\n",
        "assert eta_carnot < 1  # for T_C > 0 and T_H > T_C\n"
      ],
      "execution_count": null,
      "outputs": []
    },
    {
      "cell_type": "markdown",
      "metadata": {},
      "source": [
        "## Source\n",
        "\n",
        "📖 **View this entry:** [theoria-dataset.org/entries.html?entry=carnot_efficiency.json](https://theoria-dataset.org/entries.html?entry=carnot_efficiency.json)\n",
        "\n",
        "This verification code is part of the [THEORIA dataset](https://github.com/theoria-dataset/theoria-dataset), ",
        "a curated collection of theoretical physics derivations with programmatic verification.\n",
        "\n",
        "**License:** CC-BY 4.0"
      ]
    }
  ]
}