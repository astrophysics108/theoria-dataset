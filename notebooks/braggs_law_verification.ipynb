{
  "nbformat": 4,
  "nbformat_minor": 0,
  "metadata": {
    "colab": {
      "provenance": []
    },
    "kernelspec": {
      "name": "python3",
      "display_name": "Python 3"
    },
    "language_info": {
      "name": "python"
    }
  },
  "cells": [
    {
      "cell_type": "markdown",
      "metadata": {},
      "source": [
        "# Bragg's Law\n",
        "\n",
        "This notebook contains the programmatic verification for the **Bragg's Law** entry from the THEORIA dataset.\n",
        "\n",
        "**Entry ID:** braggs_law  \n",
        "**Required Library:** sympy 1.12.0\n",
        "\n",
        "## Description\n",
        "Bragg's law describes the conditions for constructive interference of X-rays diffracted by crystal lattice planes. When X-rays with wavelength λ are incident on parallel crystal planes separated by distance d, constructive interference occurs at specific angles θ where the path difference between rays equals an integer multiple of the wavelength. This fundamental law enables X-ray crystallography, allowing determination of crystal structures and atomic arrangements in materials.\n",
        "\n",
        "## Installation\n",
        "First, let's install the required library:"
      ]
    },
    {
      "cell_type": "code",
      "metadata": {},
      "source": [
        "# Install required library with exact version\n",
        "!pip install sympy==1.12.0"
      ],
      "execution_count": null,
      "outputs": []
    },
    {
      "cell_type": "markdown",
      "metadata": {},
      "source": [
        "## Programmatic Verification\n",
        "\n",
        "The following code verifies the derivation mathematically:"
      ]
    },
    {
      "cell_type": "code",
      "metadata": {},
      "source": [
        "import sympy as sp\n",
        "import math\n",
        "\n",
        "# Define symbols\n",
        "n, lam, d, theta = sp.symbols('n lambda d theta', positive=True, real=True)\n",
        "\n",
        "# Bragg's law\n",
        "bragg_condition = sp.Eq(n*lam, 2*d*sp.sin(theta))\n",
        "\n",
        "# Test that Bragg condition is satisfied\n",
        "# For angle θ, check that nλ = 2d sin(θ)\n",
        "test_angle = sp.pi/6  # 30 degrees as test\n",
        "lhs = n*lam\n",
        "rhs = 2*d*sp.sin(test_angle)\n",
        "# Verify the equation structure is correct\n",
        "\n",
        "# Test with realistic values\n",
        "# Cu Kα radiation: λ = 1.54 Å, NaCl (100): d = 2.82 Å\n",
        "lambda_cu = 1.54  # Angstroms\n",
        "d_nacl = 2.82     # Angstroms\n",
        "\n",
        "# First order diffraction (n=1)\n",
        "n_val = 1\n",
        "sin_theta = (n_val * lambda_cu) / (2 * d_nacl)\n",
        "theta_deg = math.degrees(math.asin(sin_theta))\n",
        "\n",
        "# Verify that sin(theta) <= 1 (physical constraint)\n",
        "assert sin_theta <= 1.0, 'Unphysical: sin(theta) > 1'\n",
        "\n",
        "# Test maximum order of diffraction\n",
        "n_max = int(2 * d_nacl / lambda_cu)\n",
        "assert n_max >= 1, 'At least first order should be observable'\n",
        "\n",
        "# Verify relationship between d and n\n",
        "# For fixed λ and θ, larger d gives higher n (n = 2dsinθ/λ)\n",
        "d1, d2 = 2.0, 1.0  # d1 > d2\n",
        "n1 = (2 * d1 * sin_theta) / lambda_cu\n",
        "n2 = (2 * d2 * sin_theta) / lambda_cu\n",
        "assert n1 > n2, 'Larger spacing should give higher diffraction order for same angle'\n"
      ],
      "execution_count": null,
      "outputs": []
    },
    {
      "cell_type": "markdown",
      "metadata": {},
      "source": [
        "## Source\n",
        "\n",
        "📖 **View this entry:** [theoria-dataset.org/entries.html?entry=braggs_law.json](https://theoria-dataset.org/entries.html?entry=braggs_law.json)\n",
        "\n",
        "This verification code is part of the [THEORIA dataset](https://github.com/theoria-dataset/theoria-dataset), ",
        "a curated collection of theoretical physics derivations with programmatic verification.\n",
        "\n",
        "**License:** CC-BY 4.0"
      ]
    }
  ]
}