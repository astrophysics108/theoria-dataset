{
  "nbformat": 4,
  "nbformat_minor": 0,
  "metadata": {
    "colab": {
      "provenance": []
    },
    "kernelspec": {
      "name": "python3",
      "display_name": "Python 3"
    },
    "language_info": {
      "name": "python"
    }
  },
  "cells": [
    {
      "cell_type": "markdown",
      "metadata": {},
      "source": [
        "# Euler-Lagrange Equation\n",
        "\n",
        "This notebook contains the programmatic verification for the **Euler-Lagrange Equation** entry from the THEORIA dataset.\n",
        "\n",
        "**Entry ID:** euler_lagrange_equation  \n",
        "**Required Library:** sympy 1.12.0\n",
        "\n",
        "## Description\n",
        "The Euler-Lagrange equation provides the equations of motion for a system from its Lagrangian. It states that the physical trajectory makes the action stationary, generalizing Newton's laws to generalized coordinates. This equation is fundamental in analytical mechanics and the calculus of variations.\n",
        "\n",
        "## Installation\n",
        "First, let's install the required library:"
      ]
    },
    {
      "cell_type": "code",
      "metadata": {},
      "source": [
        "# Install required library with exact version\n",
        "!pip install sympy==1.12.0"
      ],
      "execution_count": null,
      "outputs": []
    },
    {
      "cell_type": "markdown",
      "metadata": {},
      "source": [
        "## Programmatic Verification\n",
        "\n",
        "The following code verifies the derivation mathematically:"
      ]
    },
    {
      "cell_type": "code",
      "metadata": {},
      "source": [
        "import sympy as sp\n",
        "# Step 1: define a simple Lagrangian (harmonic oscillator)\n",
        "t = sp.symbols('t', real=True)\n",
        "m, k = sp.symbols('m k', positive=True)\n",
        "x = sp.Function('x')\n",
        "L = m*sp.diff(x(t), t)**2/2 - k*x(t)**2/2\n",
        "# Step 2: form the Euler-Lagrange expression\n",
        "EL_expr = sp.diff(sp.diff(L, sp.diff(x(t), t)), t) - sp.diff(L, x(t))\n",
        "# Step 3: substitute a known solution x(t) = cos(sqrt(k/m)*t)\n",
        "x_trial = sp.cos(sp.sqrt(k/m)*t)\n",
        "EL_test = EL_expr.subs({x(t): x_trial, sp.diff(x(t), t): sp.diff(x_trial, t), sp.diff(x(t), t, 2): sp.diff(x_trial, t, 2)})\n",
        "# Step 4: verify the Euler-Lagrange equation is satisfied\n",
        "assert sp.simplify(EL_test) == 0\n"
      ],
      "execution_count": null,
      "outputs": []
    },
    {
      "cell_type": "markdown",
      "metadata": {},
      "source": [
        "## Source\n",
        "\n",
        "📖 **View this entry:** [theoria-dataset.org/entries.html?entry=euler_lagrange_equation.json](https://theoria-dataset.org/entries.html?entry=euler_lagrange_equation.json)\n",
        "\n",
        "This verification code is part of the [THEORIA dataset](https://github.com/theoria-dataset/theoria-dataset), ",
        "a curated collection of theoretical physics derivations with programmatic verification.\n",
        "\n",
        "**License:** CC-BY 4.0"
      ]
    }
  ]
}