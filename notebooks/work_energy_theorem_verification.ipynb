{
  "nbformat": 4,
  "nbformat_minor": 0,
  "metadata": {
    "colab": {
      "provenance": []
    },
    "kernelspec": {
      "name": "python3",
      "display_name": "Python 3"
    },
    "language_info": {
      "name": "python"
    }
  },
  "cells": [
    {
      "cell_type": "markdown",
      "metadata": {},
      "source": [
        "# Work-Energy Theorem\n",
        "\n",
        "This notebook contains the programmatic verification for the **Work-Energy Theorem** entry from the THEORIA dataset.\n",
        "\n",
        "**Entry ID:** work_energy_theorem  \n",
        "**Required Library:** sympy 1.12.0\n",
        "\n",
        "## Description\n",
        "The work-energy theorem states that the net work done on an object equals the change in its kinetic energy. This fundamental principle connects the concepts of force, displacement, and energy in classical mechanics.\n",
        "\n",
        "## Installation\n",
        "First, let's install the required library:"
      ]
    },
    {
      "cell_type": "code",
      "metadata": {},
      "source": [
        "# Install required library with exact version\n",
        "!pip install sympy==1.12.0"
      ],
      "execution_count": null,
      "outputs": []
    },
    {
      "cell_type": "markdown",
      "metadata": {},
      "source": [
        "## Programmatic Verification\n",
        "\n",
        "The following code verifies the derivation mathematically:"
      ]
    },
    {
      "cell_type": "code",
      "metadata": {},
      "source": [
        "import math\n",
        "print('Work-Energy Theorem Verification\\n')\n",
        "print('=' * 40)\n",
        "# Test 1: Constant force motion\n",
        "print('Test 1: Constant force application')\n",
        "m = 2.0      # mass (kg)\n",
        "F = 10.0     # constant force (N)\n",
        "d = 5.0      # displacement (m)\n",
        "v_i = 0.0    # initial velocity\n",
        "# Calculate work done\n",
        "W = F * d\n",
        "# Calculate final velocity using kinematics\n",
        "a = F / m\n",
        "v_f = math.sqrt(v_i**2 + 2 * a * d)\n",
        "# Calculate kinetic energies\n",
        "K_i = 0.5 * m * v_i**2\n",
        "K_f = 0.5 * m * v_f**2\n",
        "delta_K = K_f - K_i\n",
        "print(f'Mass: {m} kg')\n",
        "print(f'Force: {F} N')\n",
        "print(f'Displacement: {d} m')\n",
        "print(f'Work done: {W} J')\n",
        "print(f'Initial KE: {K_i} J')\n",
        "print(f'Final KE: {K_f} J')\n",
        "print(f'Change in KE: {delta_K} J')\n",
        "print(f'Work-energy theorem verified: {abs(W - delta_K) < 1e-10}')\n",
        "print()\n",
        "# Test 2: Variable force (spring)\n",
        "print('Test 2: Variable force (spring)')\n",
        "k = 100.0    # spring constant (N/m)\n",
        "x_max = 0.2  # maximum compression (m)\n",
        "# Work done by spring force: W = ∫F dx = ∫(-kx) dx\n",
        "W_spring = 0.5 * k * x_max**2  # work done against spring\n",
        "# If released from rest, all potential energy converts to kinetic\n",
        "# At maximum compression: PE = ½kx², KE = 0\n",
        "# At equilibrium: PE = 0, KE = ½mv²\n",
        "v_max = math.sqrt(k * x_max**2 / m)\n",
        "K_max = 0.5 * m * v_max**2\n",
        "print(f'Spring constant: {k} N/m')\n",
        "print(f'Maximum compression: {x_max} m')\n",
        "print(f'Work by spring: {W_spring} J')\n",
        "print(f'Maximum kinetic energy: {K_max} J')\n",
        "print(f'Energy conservation verified: {abs(W_spring - K_max) < 1e-10}')\n",
        "print()\n",
        "print(f'\\nWork-energy theorem verified successfully!')\n"
      ],
      "execution_count": null,
      "outputs": []
    },
    {
      "cell_type": "markdown",
      "metadata": {},
      "source": [
        "## Source\n",
        "\n",
        "📖 **View this entry:** [theoria-dataset.org/entries.html?entry=work_energy_theorem.json](https://theoria-dataset.org/entries.html?entry=work_energy_theorem.json)\n",
        "\n",
        "This verification code is part of the [THEORIA dataset](https://github.com/theoria-dataset/theoria-dataset), ",
        "a curated collection of theoretical physics derivations with programmatic verification.\n",
        "\n",
        "**License:** CC-BY 4.0"
      ]
    }
  ]
}