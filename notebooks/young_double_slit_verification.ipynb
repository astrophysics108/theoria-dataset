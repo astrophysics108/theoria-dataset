{
  "nbformat": 4,
  "nbformat_minor": 0,
  "metadata": {
    "colab": {
      "provenance": []
    },
    "kernelspec": {
      "name": "python3",
      "display_name": "Python 3"
    },
    "language_info": {
      "name": "python"
    }
  },
  "cells": [
    {
      "cell_type": "markdown",
      "metadata": {},
      "source": [
        "# Young's Double Slit Experiment\n",
        "\n",
        "This notebook contains the programmatic verification for the **Young's Double Slit Experiment** entry from the THEORIA dataset.\n",
        "\n",
        "**Entry ID:** young_double_slit  \n",
        "**Required Library:** sympy 1.12.0\n",
        "\n",
        "## Description\n",
        "Young's double slit experiment demonstrates wave interference and the wave nature of light (and matter). When coherent light passes through two parallel slits, it creates an interference pattern with alternating bright and dark fringes. This experiment is fundamental to quantum mechanics, showing wave-particle duality when performed with individual photons or electrons.\n",
        "\n",
        "## Installation\n",
        "First, let's install the required library:"
      ]
    },
    {
      "cell_type": "code",
      "metadata": {},
      "source": [
        "# Install required library with exact version\n",
        "!pip install sympy==1.12.0"
      ],
      "execution_count": null,
      "outputs": []
    },
    {
      "cell_type": "markdown",
      "metadata": {},
      "source": [
        "## Programmatic Verification\n",
        "\n",
        "The following code verifies the derivation mathematically:"
      ]
    },
    {
      "cell_type": "code",
      "metadata": {},
      "source": [
        "import sympy as sp\n",
        "# Define symbols\n",
        "lam, d, L, m, y, theta = sp.symbols('lambda d L m y theta', real=True)\n",
        "# Path difference in small angle approximation\n",
        "delta = d * y / L\n",
        "# Bright fringe condition\n",
        "y_bright = m * lam * L / d\n",
        "# Dark fringe condition\n",
        "y_dark = (m + sp.Rational(1,2)) * lam * L / d\n",
        "# Verify that bright fringes satisfy constructive interference\n",
        "delta_bright = delta.subs(y, y_bright)\n",
        "assert sp.simplify(delta_bright - m * lam) == 0\n",
        "# Verify that dark fringes satisfy destructive interference\n",
        "delta_dark = delta.subs(y, y_dark)\n",
        "expected_dark = (m + sp.Rational(1,2)) * lam\n",
        "assert sp.simplify(delta_dark - expected_dark) == 0\n",
        "# Fringe spacing (distance between adjacent bright fringes)\n",
        "y_bright_next = y_bright.subs(m, m + 1)\n",
        "fringe_spacing = y_bright_next - y_bright\n",
        "assert sp.simplify(fringe_spacing) == lam * L / d\n",
        "# Verify central maximum at y = 0\n",
        "y_central = y_bright.subs(m, 0)\n",
        "assert y_central == 0\n",
        "# Example calculation with numerical values\n",
        "# Red light (λ = 650 nm), d = 1 mm, L = 1 m\n",
        "test_vals = {lam: 650e-9, d: 1e-3, L: 1.0}\n",
        "fringe_spacing_num = fringe_spacing.subs(test_vals)\n",
        "assert abs(float(fringe_spacing_num) - 6.5e-4) < 1e-6  # 0.65 mm\n",
        "# First bright fringe position\n",
        "y_first_bright = y_bright.subs(m, 1).subs(test_vals)\n",
        "assert abs(float(y_first_bright) - 6.5e-4) < 1e-6\n"
      ],
      "execution_count": null,
      "outputs": []
    },
    {
      "cell_type": "markdown",
      "metadata": {},
      "source": [
        "## Source\n",
        "\n",
        "📖 **View this entry:** [theoria-dataset.org/entries.html?entry=young_double_slit.json](https://theoria-dataset.org/entries.html?entry=young_double_slit.json)\n",
        "\n",
        "This verification code is part of the [THEORIA dataset](https://github.com/theoria-dataset/theoria-dataset), ",
        "a curated collection of theoretical physics derivations with programmatic verification.\n",
        "\n",
        "**License:** CC-BY 4.0"
      ]
    }
  ]
}