{
  "nbformat": 4,
  "nbformat_minor": 0,
  "metadata": {
    "colab": {
      "provenance": []
    },
    "kernelspec": {
      "name": "python3",
      "display_name": "Python 3"
    },
    "language_info": {
      "name": "python"
    }
  },
  "cells": [
    {
      "cell_type": "markdown",
      "metadata": {},
      "source": [
        "# Dirac Equation in an Electromagnetic Field\n",
        "\n",
        "This notebook contains the programmatic verification for the **Dirac Equation in an Electromagnetic Field** entry from the THEORIA dataset.\n",
        "\n",
        "**Entry ID:** dirac_equation_em  \n",
        "**Required Library:** sympy 1.12.0\n",
        "\n",
        "## Description\n",
        "The Dirac equation with minimal coupling to the electromagnetic four-potential extends the free-particle equation to describe spin-1/2 fermions interacting with external fields. By replacing space-time derivatives with gauge-covariant ones, it incorporates electric and magnetic interactions while preserving Lorentz covariance and gauge invariance, forming the quantum-mechanical cornerstone of quantum electrodynamics (QED).\n",
        "\n",
        "## Installation\n",
        "First, let's install the required library:"
      ]
    },
    {
      "cell_type": "code",
      "metadata": {},
      "source": [
        "# Install required library with exact version\n",
        "!pip install sympy==1.12.0"
      ],
      "execution_count": null,
      "outputs": []
    },
    {
      "cell_type": "markdown",
      "metadata": {},
      "source": [
        "## Programmatic Verification\n",
        "\n",
        "The following code verifies the derivation mathematically:"
      ]
    },
    {
      "cell_type": "code",
      "metadata": {},
      "source": [
        "import sympy as sp\n",
        "I = sp.I\n",
        "# Pauli matrices\n",
        "sigma_x = sp.Matrix([[0, 1],[1, 0]])\n",
        "sigma_y = sp.Matrix([[0, -I],[I, 0]])\n",
        "sigma_z = sp.Matrix([[1, 0],[0, -1]])\n",
        "# Dirac gamma matrices in the Dirac representation\n",
        "gamma0 = sp.Matrix([[1,0,0,0],[0,1,0,0],[0,0,-1,0],[0,0,0,-1]])\n",
        "gamma1 = sp.Matrix([[0,0,0,1],[0,0,1,0],[0,-1,0,0],[-1,0,0,0]])\n",
        "gamma2 = sp.Matrix([[0,0,0,-I],[0,0,I,0],[0,I,0,0],[-I,0,0,0]])\n",
        "gamma3 = sp.Matrix([[0,0,1,0],[0,0,0,-1],[-1,0,0,0],[0,1,0,0]])\n",
        "# Symbols for four-momentum components, potentials, constants\n",
        "E, px, py, pz, m, c, q, phi = sp.symbols('E px py pz m c q phi', real=True)\n",
        "Ax, Ay, Az = sp.symbols('Ax Ay Az', real=True)\n",
        "p0 = (E - q*phi)/c\n",
        "# Slash notation with minimal coupling p_mu -> p_mu - (q/c)A_mu\n",
        "slash_p = gamma0*p0 - gamma1*(px - q*Ax/c) - gamma2*(py - q*Ay/c) - gamma3*(pz - q*Az/c)\n",
        "# Operators (slash_p - m c)\n",
        "op_minus = slash_p - m*c*sp.eye(4)\n",
        "op_plus  = slash_p + m*c*sp.eye(4)\n",
        "product = sp.simplify(op_minus * op_plus)\n",
        "expected = ((p0**2 - (px - q*Ax/c)**2 - (py - q*Ay/c)**2 - (pz - q*Az/c)**2 - m**2*c**2) * sp.eye(4))\n",
        "# Verify that the Clifford algebra ensures (slash_p - mc)(slash_p + mc) reproduces the quadratic invariant\n",
        "assert sp.simplify(product - expected) == sp.zeros(4)\n"
      ],
      "execution_count": null,
      "outputs": []
    },
    {
      "cell_type": "markdown",
      "metadata": {},
      "source": [
        "## Source\n",
        "\n",
        "📖 **View this entry:** [theoria-dataset.org/entries.html?entry=dirac_equation_em.json](https://theoria-dataset.org/entries.html?entry=dirac_equation_em.json)\n",
        "\n",
        "This verification code is part of the [THEORIA dataset](https://github.com/theoria-dataset/theoria-dataset), ",
        "a curated collection of theoretical physics derivations with programmatic verification.\n",
        "\n",
        "**License:** CC-BY 4.0"
      ]
    }
  ]
}