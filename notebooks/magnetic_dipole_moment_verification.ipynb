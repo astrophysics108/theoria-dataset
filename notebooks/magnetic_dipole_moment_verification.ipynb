{
  "nbformat": 4,
  "nbformat_minor": 0,
  "metadata": {
    "colab": {
      "provenance": []
    },
    "kernelspec": {
      "name": "python3",
      "display_name": "Python 3"
    },
    "language_info": {
      "name": "python"
    }
  },
  "cells": [
    {
      "cell_type": "markdown",
      "metadata": {},
      "source": [
        "# Magnetic Dipole Moment\n",
        "\n",
        "This notebook contains the programmatic verification for the **Magnetic Dipole Moment** entry from the THEORIA dataset.\n",
        "\n",
        "**Entry ID:** magnetic_dipole_moment  \n",
        "**Required Library:** sympy 1.12.0\n",
        "\n",
        "## Description\n",
        "A magnetic dipole moment characterizes the magnetic strength and orientation of a current loop or magnetic object. It arises from circulating currents and determines how the system interacts with external magnetic fields through torques and potential energies. Magnetic dipoles are fundamental to understanding atomic magnetism, magnetic materials, magnetic resonance, and the behavior of permanent magnets and electromagnets.\n",
        "\n",
        "## Installation\n",
        "First, let's install the required library:"
      ]
    },
    {
      "cell_type": "code",
      "metadata": {},
      "source": [
        "# Install required library with exact version\n",
        "!pip install sympy==1.12.0"
      ],
      "execution_count": null,
      "outputs": []
    },
    {
      "cell_type": "markdown",
      "metadata": {},
      "source": [
        "## Programmatic Verification\n",
        "\n",
        "The following code verifies the derivation mathematically:"
      ]
    },
    {
      "cell_type": "code",
      "metadata": {},
      "source": [
        "import sympy as sp\n",
        "import math\n",
        "\n",
        "# Define symbols\n",
        "I, A, B, mu, theta, r = sp.symbols('I A B mu theta r', real=True, positive=True)\n",
        "mu_0 = sp.symbols('mu_0', positive=True, real=True)\n",
        "\n",
        "# Magnetic dipole moment\n",
        "mu_magnitude = I * A\n",
        "\n",
        "# Potential energy\n",
        "U = -mu * B * sp.cos(theta)  # θ is angle between μ and B\n",
        "\n",
        "# Torque magnitude\n",
        "tau_magnitude = mu * B * sp.sin(theta)\n",
        "\n",
        "# Test with realistic values\n",
        "# Current loop: I = 1 A, radius = 1 cm\n",
        "I_val = 1.0        # A\n",
        "radius = 0.01      # m\n",
        "A_val = math.pi * radius**2  # m²\n",
        "mu_val = I_val * A_val       # A⋅m²\n",
        "\n",
        "# Magnetic field: B = 0.1 T\n",
        "B_val = 0.1        # T\n",
        "\n",
        "# Test potential energy for different orientations\n",
        "# Parallel (θ = 0): minimum energy\n",
        "U_parallel = -mu_val * B_val\n",
        "# Antiparallel (θ = π): maximum energy\n",
        "U_antiparallel = mu_val * B_val\n",
        "# Perpendicular (θ = π/2): zero energy\n",
        "U_perpendicular = 0\n",
        "\n",
        "assert U_parallel < U_perpendicular < U_antiparallel, 'Energy ordering incorrect'\n",
        "\n",
        "# Test torque for different orientations\n",
        "# Parallel (θ = 0): zero torque\n",
        "tau_parallel = 0\n",
        "# Perpendicular (θ = π/2): maximum torque\n",
        "tau_perpendicular = mu_val * B_val\n",
        "# Antiparallel (θ = π): zero torque\n",
        "tau_antiparallel = 0\n",
        "\n",
        "assert tau_perpendicular > tau_parallel and tau_perpendicular > tau_antiparallel, 'Torque maximum at perpendicular'\n",
        "\n",
        "# Test magnetic field of dipole\n",
        "# On axis (θ = 0): B = (μ₀/4π) * (2μ/r³)\n",
        "# In equatorial plane (θ = π/2): B = (μ₀/4π) * (μ/r³)\n",
        "mu_0_val = 4*math.pi*1e-7  # H/m\n",
        "r_val = 0.1                # m (10 cm from dipole)\n",
        "\n",
        "B_axis = (mu_0_val/(4*math.pi)) * (2*mu_val) / r_val**3\n",
        "B_equatorial = (mu_0_val/(4*math.pi)) * mu_val / r_val**3\n",
        "\n",
        "# Axial field should be twice the equatorial field\n",
        "ratio = B_axis / B_equatorial\n",
        "assert abs(ratio - 2.0) < 1e-10, 'Axial field should be 2x equatorial field'\n",
        "\n",
        "# Test units: magnetic dipole moment [μ] = A⋅m²\n",
        "# Torque [τ] = [μ][B] = A⋅m²⋅T = A⋅m²⋅(kg/(A⋅s²)) = kg⋅m²/s² = J\n",
        "\n",
        "# Test relationship with angular momentum for electron\n",
        "# μ = (e/2m)L where L is angular momentum\n",
        "# This is the gyromagnetic ratio for orbital motion\n",
        "\n",
        "# Test diamagnetic vs paramagnetic behavior\n",
        "# Diamagnetic: μ opposes B (negative susceptibility)\n",
        "# Paramagnetic: μ aligns with B (positive susceptibility)\n",
        "\n",
        "# For a circular current loop in external field,\n",
        "# induced current opposes field change (Lenz's law)\n",
        "\n",
        "# Test magnetic moment of current-carrying coil\n",
        "N_turns = 100  # number of turns\n",
        "mu_coil = N_turns * I_val * A_val\n",
        "expected_mu_coil = N_turns * mu_val\n",
        "assert abs(mu_coil - expected_mu_coil) < 1e-10, 'Multi-turn coil moment incorrect'\n"
      ],
      "execution_count": null,
      "outputs": []
    },
    {
      "cell_type": "markdown",
      "metadata": {},
      "source": [
        "## Source\n",
        "\n",
        "📖 **View this entry:** [theoria-dataset.org/entries.html?entry=magnetic_dipole_moment.json](https://theoria-dataset.org/entries.html?entry=magnetic_dipole_moment.json)\n",
        "\n",
        "This verification code is part of the [THEORIA dataset](https://github.com/theoria-dataset/theoria-dataset), ",
        "a curated collection of theoretical physics derivations with programmatic verification.\n",
        "\n",
        "**License:** CC-BY 4.0"
      ]
    }
  ]
}