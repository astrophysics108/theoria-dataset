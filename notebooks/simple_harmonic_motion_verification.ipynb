{
  "nbformat": 4,
  "nbformat_minor": 0,
  "metadata": {
    "colab": {
      "provenance": []
    },
    "kernelspec": {
      "name": "python3",
      "display_name": "Python 3"
    },
    "language_info": {
      "name": "python"
    }
  },
  "cells": [
    {
      "cell_type": "markdown",
      "metadata": {},
      "source": [
        "# Simple Harmonic Motion\n",
        "\n",
        "This notebook contains the programmatic verification for the **Simple Harmonic Motion** entry from the THEORIA dataset.\n",
        "\n",
        "**Entry ID:** simple_harmonic_motion  \n",
        "**Required Library:** sympy 1.12.0\n",
        "\n",
        "## Description\n",
        "Simple harmonic motion describes oscillatory motion where the restoring force is proportional to the displacement from equilibrium. This type of motion is fundamental in physics, appearing in systems from pendulums to quantum oscillators.\n",
        "\n",
        "## Installation\n",
        "First, let's install the required library:"
      ]
    },
    {
      "cell_type": "code",
      "metadata": {},
      "source": [
        "# Install required library with exact version\n",
        "!pip install sympy==1.12.0"
      ],
      "execution_count": null,
      "outputs": []
    },
    {
      "cell_type": "markdown",
      "metadata": {},
      "source": [
        "## Programmatic Verification\n",
        "\n",
        "The following code verifies the derivation mathematically:"
      ]
    },
    {
      "cell_type": "code",
      "metadata": {},
      "source": [
        "import math\n",
        "print('Simple Harmonic Motion Verification\\n')\n",
        "print('=' * 40)\n",
        "# Parameters for SHM\n",
        "A = 0.1      # amplitude (m)\n",
        "omega = 2*math.pi  # angular frequency (rad/s)\n",
        "phi = 0      # phase constant\n",
        "m = 1.0      # mass (kg)\n",
        "k = m * omega**2  # spring constant\n",
        "print(f'SHM Parameters:')\n",
        "print(f'Amplitude: {A} m')\n",
        "print(f'Angular frequency: {omega:.2f} rad/s')\n",
        "print(f'Period: {2*math.pi/omega:.2f} s')\n",
        "print(f'Frequency: {omega/(2*math.pi):.2f} Hz')\n",
        "print()\n",
        "# Test 1: Verify differential equation solution\n",
        "print('Test 1: Differential equation verification')\n",
        "# Generate time points manually\n",
        "t_points = []\n",
        "dt = 2*math.pi/omega / 1000\n",
        "for i in range(1000):\n",
        "    t_points.append(i * dt)\n",
        "# Position, velocity, acceleration\n",
        "x = [A * math.cos(omega * t + phi) for t in t_points]\n",
        "v = [-A * omega * math.sin(omega * t + phi) for t in t_points]\n",
        "a = [-A * omega**2 * math.cos(omega * t + phi) for t in t_points]\n",
        "# Verify a = -ω²x\n",
        "a_from_x = [-omega**2 * x_val for x_val in x]\n",
        "errors = [abs(a_val - a_from_x_val) for a_val, a_from_x_val in zip(a, a_from_x)]\n",
        "max_error = max(errors)\n",
        "print(f'Max error in a = -ω²x: {max_error:.2e}')\n",
        "print(f'Differential equation satisfied: {max_error < 1e-10}')\n",
        "print()\n",
        "# Test 2: Energy conservation\n",
        "print('Test 2: Energy conservation')\n",
        "KE = [0.5 * m * v_val**2 for v_val in v]  # kinetic energy\n",
        "PE = [0.5 * k * x_val**2 for x_val in x]  # potential energy\n",
        "E_total = [ke + pe for ke, pe in zip(KE, PE)]  # total energy\n",
        "E_expected = 0.5 * k * A**2  # theoretical total energy\n",
        "energy_variation = [abs(E_val - E_expected) for E_val in E_total]\n",
        "max_energy_error = max(energy_variation)\n",
        "print(f'Expected total energy: {E_expected:.6f} J')\n",
        "print(f'Max energy variation: {max_energy_error:.2e} J')\n",
        "print(f'Energy conserved: {max_energy_error < 1e-10}')\n",
        "print(f'\\nSimple harmonic motion verified successfully!')\n"
      ],
      "execution_count": null,
      "outputs": []
    },
    {
      "cell_type": "markdown",
      "metadata": {},
      "source": [
        "## Source\n",
        "\n",
        "📖 **View this entry:** [theoria-dataset.org/entries.html?entry=simple_harmonic_motion.json](https://theoria-dataset.org/entries.html?entry=simple_harmonic_motion.json)\n",
        "\n",
        "This verification code is part of the [THEORIA dataset](https://github.com/theoria-dataset/theoria-dataset), ",
        "a curated collection of theoretical physics derivations with programmatic verification.\n",
        "\n",
        "**License:** CC-BY 4.0"
      ]
    }
  ]
}