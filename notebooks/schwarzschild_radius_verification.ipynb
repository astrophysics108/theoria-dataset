{
  "nbformat": 4,
  "nbformat_minor": 0,
  "metadata": {
    "colab": {
      "provenance": []
    },
    "kernelspec": {
      "name": "python3",
      "display_name": "Python 3"
    },
    "language_info": {
      "name": "python"
    }
  },
  "cells": [
    {
      "cell_type": "markdown",
      "metadata": {},
      "source": [
        "# Schwarzschild Radius\n",
        "\n",
        "This notebook contains the programmatic verification for the **Schwarzschild Radius** entry from the THEORIA dataset.\n",
        "\n",
        "**Entry ID:** schwarzschild_radius  \n",
        "**Required Library:** sympy 1.12.0\n",
        "\n",
        "## Description\n",
        "The Schwarzschild radius defines the event horizon of a black hole - the critical radius where the escape velocity equals the speed of light. Named after Karl Schwarzschild, who found the first exact solution to Einstein's field equations, it represents the boundary beyond which nothing, not even light, can escape the gravitational pull. This fundamental length scale determines when an object becomes a black hole and governs the most extreme gravitational environments in the universe.\n",
        "\n",
        "## Installation\n",
        "First, let's install the required library:"
      ]
    },
    {
      "cell_type": "code",
      "metadata": {},
      "source": [
        "# Install required library with exact version\n",
        "!pip install sympy==1.12.0"
      ],
      "execution_count": null,
      "outputs": []
    },
    {
      "cell_type": "markdown",
      "metadata": {},
      "source": [
        "## Programmatic Verification\n",
        "\n",
        "The following code verifies the derivation mathematically:"
      ]
    },
    {
      "cell_type": "code",
      "metadata": {},
      "source": [
        "import sympy as sp\n",
        "import math\n",
        "\n",
        "# Define symbols\n",
        "G, M, c, r_s, r = sp.symbols('G M c r_s r', positive=True, real=True)\n",
        "\n",
        "# Schwarzschild radius formula\n",
        "r_s_formula = 2*G*M/c**2\n",
        "\n",
        "# Verify escape velocity condition\n",
        "v_escape = sp.sqrt(2*G*M/r)\n",
        "# At r = r_s, v_escape should equal c\n",
        "v_at_rs = v_escape.subs(r, r_s_formula)\n",
        "v_simplified = sp.simplify(v_at_rs)\n",
        "assert v_simplified == c\n",
        "\n",
        "# Test with realistic values\n",
        "# Physical constants\n",
        "G_val = 6.674e-11    # m³ kg⁻¹ s⁻²\n",
        "c_val = 2.998e8      # m/s\n",
        "\n",
        "# Solar mass black hole\n",
        "M_sun = 1.989e30     # kg\n",
        "r_s_sun = 2 * G_val * M_sun / c_val**2\n",
        "# Should be approximately 2.95 km\n",
        "expected_r_s_sun = 2950  # meters\n",
        "relative_error = abs(r_s_sun - expected_r_s_sun) / expected_r_s_sun\n",
        "assert relative_error < 0.1, f'Solar mass Schwarzschild radius error: {relative_error}'\n",
        "\n",
        "# Earth mass black hole (hypothetical)\n",
        "M_earth = 5.972e24   # kg\n",
        "r_s_earth = 2 * G_val * M_earth / c_val**2\n",
        "# Should be approximately 8.87 mm\n",
        "expected_r_s_earth = 0.00887  # meters\n",
        "earth_error = abs(r_s_earth - expected_r_s_earth) / expected_r_s_earth\n",
        "assert earth_error < 0.1, f'Earth mass Schwarzschild radius error: {earth_error}'\n",
        "\n",
        "# Supermassive black hole (Sagittarius A*)\n",
        "M_sgr_a = 4.1e6 * M_sun  # solar masses\n",
        "r_s_sgr_a = 2 * G_val * M_sgr_a / c_val**2\n",
        "# Should be approximately 12 million km\n",
        "expected_r_s_sgr_a = 1.2e10  # meters\n",
        "sgr_a_error = abs(r_s_sgr_a - expected_r_s_sgr_a) / expected_r_s_sgr_a\n",
        "assert sgr_a_error < 0.5, f'Sgr A* Schwarzschild radius error: {sgr_a_error}'\n",
        "\n",
        "# Verify scaling relationship: r_s ∝ M\n",
        "M1, M2 = 1.0, 2.0  # arbitrary units\n",
        "r_s1 = 2*G_val*M1/c_val**2\n",
        "r_s2 = 2*G_val*M2/c_val**2\n",
        "ratio = r_s2 / r_s1\n",
        "expected_ratio = M2 / M1\n",
        "assert abs(ratio - expected_ratio) < 1e-10, 'Linear scaling with mass failed'\n",
        "\n",
        "# Test dimensional analysis\n",
        "# [r_s] = [G][M]/[c]² should have dimensions of length\n",
        "# [G] = L³M⁻¹T⁻², [M] = M, [c] = LT⁻¹\n",
        "# [G][M]/[c]² = (L³M⁻¹T⁻²)(M)/(LT⁻¹)² = L³T⁻²/L²T⁻² = L ✓\n"
      ],
      "execution_count": null,
      "outputs": []
    },
    {
      "cell_type": "markdown",
      "metadata": {},
      "source": [
        "## Source\n",
        "\n",
        "📖 **View this entry:** [theoria-dataset.org/entries.html?entry=schwarzschild_radius.json](https://theoria-dataset.org/entries.html?entry=schwarzschild_radius.json)\n",
        "\n",
        "This verification code is part of the [THEORIA dataset](https://github.com/theoria-dataset/theoria-dataset), ",
        "a curated collection of theoretical physics derivations with programmatic verification.\n",
        "\n",
        "**License:** CC-BY 4.0"
      ]
    }
  ]
}