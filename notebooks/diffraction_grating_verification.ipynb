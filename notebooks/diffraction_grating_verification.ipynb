{
  "nbformat": 4,
  "nbformat_minor": 0,
  "metadata": {
    "colab": {
      "provenance": []
    },
    "kernelspec": {
      "name": "python3",
      "display_name": "Python 3"
    },
    "language_info": {
      "name": "python"
    }
  },
  "cells": [
    {
      "cell_type": "markdown",
      "metadata": {},
      "source": [
        "# Diffraction Grating\n",
        "\n",
        "This notebook contains the programmatic verification for the **Diffraction Grating** entry from the THEORIA dataset.\n",
        "\n",
        "**Entry ID:** diffraction_grating  \n",
        "**Required Library:** sympy 1.12.0\n",
        "\n",
        "## Description\n",
        "A diffraction grating consists of many parallel slits or lines that diffract light, creating interference patterns with sharp, bright maxima at specific angles. The grating equation determines these angles based on the wavelength and grating spacing, making gratings powerful tools for spectroscopy. They provide high resolution separation of different wavelengths and are fundamental components in spectrometers, monochromators, and optical instruments.\n",
        "\n",
        "## Installation\n",
        "First, let's install the required library:"
      ]
    },
    {
      "cell_type": "code",
      "metadata": {},
      "source": [
        "# Install required library with exact version\n",
        "!pip install sympy==1.12.0"
      ],
      "execution_count": null,
      "outputs": []
    },
    {
      "cell_type": "markdown",
      "metadata": {},
      "source": [
        "## Programmatic Verification\n",
        "\n",
        "The following code verifies the derivation mathematically:"
      ]
    },
    {
      "cell_type": "code",
      "metadata": {},
      "source": [
        "import sympy as sp\n",
        "import math\n",
        "\n",
        "# Define symbols\n",
        "d, theta, m, lam, N = sp.symbols('d theta m lambda N', real=True, positive=True)\n",
        "\n",
        "# Grating equation\n",
        "grating_eq = sp.Eq(d*sp.sin(theta), m*lam)\n",
        "\n",
        "# Solve for diffraction angle\n",
        "theta_solved = sp.solve(grating_eq, theta)\n",
        "# theta = arcsin(mλ/d)\n",
        "\n",
        "# Test with realistic grating parameters\n",
        "# Typical grating: 1000 lines/mm → d = 1e-6 m\n",
        "d_val = 1e-6         # m (1000 lines/mm)\n",
        "lambda_val = 550e-9  # m (green light)\n",
        "\n",
        "# First order diffraction (m = 1)\n",
        "m_val = 1\n",
        "sin_theta = (m_val * lambda_val) / d_val\n",
        "theta_rad = math.asin(sin_theta)\n",
        "theta_deg = math.degrees(theta_rad)\n",
        "\n",
        "# Should be around 33.4 degrees\n",
        "expected_theta = 33.4  # degrees\n",
        "angle_error = abs(theta_deg - expected_theta) / expected_theta\n",
        "assert angle_error < 0.1, f'First order angle error: {angle_error}'\n",
        "\n",
        "# Test angular dispersion\n",
        "# dθ/dλ = m/(d cos θ)\n",
        "cos_theta = math.cos(theta_rad)\n",
        "angular_dispersion = m_val / (d_val * cos_theta)\n",
        "# Units: rad/m\n",
        "\n",
        "# Test resolving power\n",
        "# λ/Δλ = mN\n",
        "N_val = 1000  # number of illuminated lines\n",
        "resolving_power = m_val * N_val\n",
        "# For m=1, N=1000: R = 1000\n",
        "assert resolving_power == 1000, 'Resolving power calculation error'\n",
        "\n",
        "# Test maximum order of diffraction\n",
        "# sin θ ≤ 1 → m ≤ d/λ\n",
        "m_max_theoretical = d_val / lambda_val\n",
        "m_max = int(m_max_theoretical)\n",
        "# For d=1μm, λ=550nm: m_max = 1\n",
        "assert m_max >= 1, 'Should have at least first order'\n",
        "\n",
        "# Test different wavelengths (dispersion)\n",
        "lambda_red = 650e-9    # m (red light)\n",
        "lambda_blue = 450e-9   # m (blue light)\n",
        "\n",
        "# Calculate angles for same order\n",
        "theta_red = math.asin((m_val * lambda_red) / d_val)\n",
        "theta_blue = math.asin((m_val * lambda_blue) / d_val)\n",
        "\n",
        "# Red should be diffracted at larger angle than blue\n",
        "assert theta_red > theta_blue, 'Red light should diffract at larger angle'\n",
        "\n",
        "# Test grating with different spacing\n",
        "# Coarser grating: 500 lines/mm → d = 2e-6 m\n",
        "d_coarse = 2e-6       # m\n",
        "sin_theta_coarse = (m_val * lambda_val) / d_coarse\n",
        "theta_coarse = math.asin(sin_theta_coarse)\n",
        "\n",
        "# Coarser grating should give smaller diffraction angle\n",
        "assert theta_coarse < theta_rad, 'Coarser grating should give smaller angle'\n",
        "\n",
        "# Test zero order (m = 0)\n",
        "m_zero = 0\n",
        "theta_zero = math.asin((m_zero * lambda_val) / d_val)\n",
        "# Should be 0 (forward direction)\n",
        "assert theta_zero == 0, 'Zero order should be at θ = 0'\n"
      ],
      "execution_count": null,
      "outputs": []
    },
    {
      "cell_type": "markdown",
      "metadata": {},
      "source": [
        "## Source\n",
        "\n",
        "📖 **View this entry:** [theoria-dataset.org/entries.html?entry=diffraction_grating.json](https://theoria-dataset.org/entries.html?entry=diffraction_grating.json)\n",
        "\n",
        "This verification code is part of the [THEORIA dataset](https://github.com/theoria-dataset/theoria-dataset), ",
        "a curated collection of theoretical physics derivations with programmatic verification.\n",
        "\n",
        "**License:** CC-BY 4.0"
      ]
    }
  ]
}