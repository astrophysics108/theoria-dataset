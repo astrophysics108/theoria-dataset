{
  "nbformat": 4,
  "nbformat_minor": 0,
  "metadata": {
    "colab": {
      "provenance": []
    },
    "kernelspec": {
      "name": "python3",
      "display_name": "Python 3"
    },
    "language_info": {
      "name": "python"
    }
  },
  "cells": [
    {
      "cell_type": "markdown",
      "metadata": {},
      "source": [
        "# Rayleigh-Jeans Law\n",
        "\n",
        "This notebook contains the programmatic verification for the **Rayleigh-Jeans Law** entry from the THEORIA dataset.\n",
        "\n",
        "**Entry ID:** rayleigh_jeans_law  \n",
        "**Required Library:** sympy 1.12.0\n",
        "\n",
        "## Description\n",
        "The Rayleigh-Jeans law describes the classical limit of blackbody radiation for long wavelengths (low frequencies), where the energy density is proportional to temperature and inversely proportional to the fourth power of wavelength. This classical result agrees with experiments at long wavelengths but fails catastrophically at short wavelengths, leading to the ultraviolet catastrophe that motivated Planck's quantum theory of radiation.\n",
        "\n",
        "## Installation\n",
        "First, let's install the required library:"
      ]
    },
    {
      "cell_type": "code",
      "metadata": {},
      "source": [
        "# Install required library with exact version\n",
        "!pip install sympy==1.12.0"
      ],
      "execution_count": null,
      "outputs": []
    },
    {
      "cell_type": "markdown",
      "metadata": {},
      "source": [
        "## Programmatic Verification\n",
        "\n",
        "The following code verifies the derivation mathematically:"
      ]
    },
    {
      "cell_type": "code",
      "metadata": {},
      "source": [
        "import sympy as sp\n",
        "\n",
        "# Define symbols\n",
        "f, lam, c, k_B, T, pi = sp.symbols('f lambda c k_B T pi', positive=True, real=True)\n",
        "\n",
        "# Step 1: Mode density in frequency space\n",
        "n_f = 8*pi*f**2/c**3\n",
        "\n",
        "# Step 2 & 4: Energy density in frequency space\n",
        "u_f = n_f * k_B * T\n",
        "u_f_explicit = 8*pi*f**2*k_B*T/c**3\n",
        "\n",
        "# Verify they match\n",
        "assert sp.simplify(u_f - u_f_explicit) == 0\n",
        "\n",
        "# Step 5-6: Frequency-wavelength relations\n",
        "f_lam = c/lam\n",
        "df_dlam = sp.diff(f_lam, lam)\n",
        "\n",
        "# Step 7-10: Transform to wavelength space\n",
        "# u(λ) = u(f) * |df/dλ|\n",
        "u_f_substituted = u_f_explicit.subs(f, c/lam)\n",
        "u_lam = u_f_substituted * sp.Abs(df_dlam)\n",
        "\n",
        "# Simplify (|df/dλ| = c/λ²)\n",
        "u_lam_simplified = u_f_substituted * c/lam**2\n",
        "\n",
        "# Calculate step by step\n",
        "# u_f = 8π(c/λ)²k_BT/c³ = 8πc²k_BT/(λ²c³) = 8πk_BT/(λ²c)\n",
        "u_intermediate = 8*pi*k_B*T/(lam**2 * c)\n",
        "\n",
        "# Multiply by c/λ² to get final result\n",
        "u_final = u_intermediate * c/lam**2\n",
        "u_expected = 8*pi*k_B*T/lam**4\n",
        "\n",
        "# Verify the transformation\n",
        "assert sp.simplify(u_final - u_expected) == 0\n",
        "\n",
        "# Steps 11-13: Calculate spectral radiance\n",
        "B_lam = c/(4*pi) * u_expected\n",
        "B_expected = 2*c*k_B*T/lam**4\n",
        "\n",
        "# Verify the radiance calculation\n",
        "assert sp.simplify(B_lam - B_expected) == 0\n",
        "\n",
        "# Test the classical limit by comparing with Planck's law\n",
        "h = sp.symbols('h', positive=True)\n",
        "# Planck's law: B_planck = 2hc²/λ⁵ * 1/(exp(hc/λk_BT) - 1)\n",
        "# In limit hf << k_BT: exp(hc/λk_BT) ≈ 1 + hc/(λk_BT)\n",
        "# So 1/(exp(x) - 1) ≈ 1/x = λk_BT/(hc)\n",
        "\n",
        "# Classical limit of Planck's law\n",
        "B_planck_classical = 2*h*c**2/lam**5 * lam*k_B*T/(h*c)\n",
        "B_planck_simplified = sp.simplify(B_planck_classical)\n",
        "\n",
        "# This should match Rayleigh-Jeans\n",
        "assert sp.simplify(B_planck_simplified - B_expected) == 0\n"
      ],
      "execution_count": null,
      "outputs": []
    },
    {
      "cell_type": "markdown",
      "metadata": {},
      "source": [
        "## Source\n",
        "\n",
        "📖 **View this entry:** [theoria-dataset.org/entries.html?entry=rayleigh_jeans_law.json](https://theoria-dataset.org/entries.html?entry=rayleigh_jeans_law.json)\n",
        "\n",
        "This verification code is part of the [THEORIA dataset](https://github.com/theoria-dataset/theoria-dataset), ",
        "a curated collection of theoretical physics derivations with programmatic verification.\n",
        "\n",
        "**License:** CC-BY 4.0"
      ]
    }
  ]
}