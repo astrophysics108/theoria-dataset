{
  "nbformat": 4,
  "nbformat_minor": 0,
  "metadata": {
    "colab": {
      "provenance": []
    },
    "kernelspec": {
      "name": "python3",
      "display_name": "Python 3"
    },
    "language_info": {
      "name": "python"
    }
  },
  "cells": [
    {
      "cell_type": "markdown",
      "metadata": {},
      "source": [
        "# Compton Scattering\n",
        "\n",
        "This notebook contains the programmatic verification for the **Compton Scattering** entry from the THEORIA dataset.\n",
        "\n",
        "**Entry ID:** compton_scattering  \n",
        "**Required Library:** sympy 1.12.0\n",
        "\n",
        "## Description\n",
        "Compton scattering occurs when a photon collides with a free or loosely bound electron, transferring energy and momentum to the electron. The scattered photon has lower energy (longer wavelength) than the incident photon, providing direct evidence for the particle nature of light.\n",
        "\n",
        "## Installation\n",
        "First, let's install the required library:"
      ]
    },
    {
      "cell_type": "code",
      "metadata": {},
      "source": [
        "# Install required library with exact version\n",
        "!pip install sympy==1.12.0"
      ],
      "execution_count": null,
      "outputs": []
    },
    {
      "cell_type": "markdown",
      "metadata": {},
      "source": [
        "## Programmatic Verification\n",
        "\n",
        "The following code verifies the derivation mathematically:"
      ]
    },
    {
      "cell_type": "code",
      "metadata": {},
      "source": [
        "import math\n",
        "print('Compton Scattering Verification\\n')\n",
        "print('=' * 40)\n",
        "# Constants\n",
        "h = 6.626e-34  # Planck's constant (J⋅s)\n",
        "c = 3e8        # Speed of light (m/s)\n",
        "m_e = 9.109e-31  # Electron rest mass (kg)\n",
        "e = 1.602e-19  # Elementary charge (C)\n",
        "# Compton wavelength of electron\n",
        "lambda_C = h / (m_e * c)\n",
        "print(f'Compton wavelength: {lambda_C*1e12:.3f} pm')\n",
        "# Test 1: Wavelength shift verification\n",
        "def verify_wavelength_shift():\n",
        "    \"\"\"Verify Compton wavelength shift formula\"\"\"\n",
        "    print('\\nTest 1: Wavelength shift vs scattering angle')\n",
        "    \n",
        "    # X-ray photon\n",
        "    lambda_initial = 0.071e-9  # 71 pm (typical X-ray)\n",
        "    angles_deg = [0, 90, 180]\n",
        "    angles_rad = [math.radians(angle) for angle in angles_deg]\n",
        "    \n",
        "    print(f'Initial wavelength: {lambda_initial*1e12:.1f} pm')\n",
        "    print('Angle (°)\\tΔλ (pm)')\n",
        "    print('-' * 20)\n",
        "    \n",
        "    for angle_deg, angle_rad in zip(angles_deg, angles_rad):\n",
        "        delta_lambda = lambda_C * (1 - math.cos(angle_rad))\n",
        "        print(f'{angle_deg:5.0f}\\t\\t{delta_lambda*1e12:6.1f}')\n",
        "    \n",
        "    return True\n",
        "# Test 2: Energy conservation\n",
        "def verify_energy_conservation():\n",
        "    \"\"\"Verify energy conservation in Compton scattering\"\"\"\n",
        "    print('\\nTest 2: Energy conservation verification')\n",
        "    \n",
        "    # 100 keV X-ray photon at 90° scattering\n",
        "    E_initial_keV = 100\n",
        "    E_initial = E_initial_keV * 1000 * e\n",
        "    theta = math.pi / 2  # 90 degrees\n",
        "    \n",
        "    # Scattered photon energy\n",
        "    E_scattered = E_initial / (1 + (E_initial / (m_e * c**2)) * (1 - math.cos(theta)))\n",
        "    E_scattered_keV = E_scattered / (1000 * e)\n",
        "    \n",
        "    # Recoil electron energy\n",
        "    K_electron_keV = E_initial_keV - E_scattered_keV\n",
        "    \n",
        "    print(f'Initial photon energy: {E_initial_keV:.1f} keV')\n",
        "    print(f'Scattered photon energy: {E_scattered_keV:.1f} keV')\n",
        "    print(f'Recoil electron energy: {K_electron_keV:.1f} keV')\n",
        "    print(f'Energy conserved: {abs(E_initial_keV - (E_scattered_keV + K_electron_keV)) < 0.1}')\n",
        "    \n",
        "    return math.isclose(E_initial_keV, E_scattered_keV + K_electron_keV)\n",
        "# Run tests\n",
        "test1 = verify_wavelength_shift()\n",
        "test2 = verify_energy_conservation()\n",
        "print('\\nSummary:')\n",
        "print(f'Wavelength shift formula: {test1}')\n",
        "print(f'Energy conservation: {test2}')\n",
        "print(f'All tests passed: {all([test1, test2])}')\n",
        "print('\\nCompton scattering verified - proof of photon particle nature!')\n"
      ],
      "execution_count": null,
      "outputs": []
    },
    {
      "cell_type": "markdown",
      "metadata": {},
      "source": [
        "## Source\n",
        "\n",
        "📖 **View this entry:** [theoria-dataset.org/entries.html?entry=compton_scattering.json](https://theoria-dataset.org/entries.html?entry=compton_scattering.json)\n",
        "\n",
        "This verification code is part of the [THEORIA dataset](https://github.com/theoria-dataset/theoria-dataset), ",
        "a curated collection of theoretical physics derivations with programmatic verification.\n",
        "\n",
        "**License:** CC-BY 4.0"
      ]
    }
  ]
}