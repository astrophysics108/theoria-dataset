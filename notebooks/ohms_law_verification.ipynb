{
  "nbformat": 4,
  "nbformat_minor": 0,
  "metadata": {
    "colab": {
      "provenance": []
    },
    "kernelspec": {
      "name": "python3",
      "display_name": "Python 3"
    },
    "language_info": {
      "name": "python"
    }
  },
  "cells": [
    {
      "cell_type": "markdown",
      "metadata": {},
      "source": [
        "# Ohm's Law\n",
        "\n",
        "This notebook contains the programmatic verification for the **Ohm's Law** entry from the THEORIA dataset.\n",
        "\n",
        "**Entry ID:** ohms_law  \n",
        "**Required Library:** sympy 1.12.0\n",
        "\n",
        "## Description\n",
        "Ohm's law states that the current through a conductor between two points is directly proportional to the voltage across the two points, and inversely proportional to the resistance between them. This fundamental relationship forms the basis of electrical circuit analysis.\n",
        "\n",
        "## Installation\n",
        "First, let's install the required library:"
      ]
    },
    {
      "cell_type": "code",
      "metadata": {},
      "source": [
        "# Install required library with exact version\n",
        "!pip install sympy==1.12.0"
      ],
      "execution_count": null,
      "outputs": []
    },
    {
      "cell_type": "markdown",
      "metadata": {},
      "source": [
        "## Programmatic Verification\n",
        "\n",
        "The following code verifies the derivation mathematically:"
      ]
    },
    {
      "cell_type": "code",
      "metadata": {},
      "source": [
        "import math\n",
        "print('Ohm\\'s Law Verification\\n')\n",
        "print('=' * 40)\n",
        "# Test 1: Basic V = IR relationship\n",
        "print('Test 1: Basic Ohm\\'s Law')\n",
        "V_applied = 12.0  # V\n",
        "R_resistor = 1000  # Ω\n",
        "I_calculated = V_applied / R_resistor\n",
        "V_check = I_calculated * R_resistor\n",
        "R_check = V_applied / I_calculated\n",
        "print(f'Applied voltage: {V_applied} V')\n",
        "print(f'Resistance: {R_resistor} Ω')\n",
        "print(f'Calculated current: {I_calculated*1000:.2f} mA')\n",
        "print(f'Voltage check: {V_check:.2f} V')\n",
        "print(f'Resistance check: {R_check:.0f} Ω')\n",
        "print(f'Ohm\\'s law verified: {abs(V_check - V_applied) < 1e-10}')\n",
        "print()\n",
        "# Test 2: Power calculations\n",
        "print('Test 2: Power dissipation')\n",
        "P_VI = V_applied * I_calculated\n",
        "P_I2R = I_calculated**2 * R_resistor\n",
        "P_V2R = V_applied**2 / R_resistor\n",
        "print(f'Power P = VI: {P_VI:.3f} W')\n",
        "print(f'Power P = I²R: {P_I2R:.3f} W')\n",
        "print(f'Power P = V²/R: {P_V2R:.3f} W')\n",
        "print(f'All power formulas agree: {abs(P_VI - P_I2R) < 1e-10 and abs(P_VI - P_V2R) < 1e-10}')\n",
        "print()\n",
        "# Test 3: Series and parallel resistors\n",
        "print('Test 3: Resistor combinations')\n",
        "R1, R2, R3 = 100, 200, 300  # Ω\n",
        "# Series combination\n",
        "R_series = R1 + R2 + R3\n",
        "print(f'Series combination: R = {R1} + {R2} + {R3} = {R_series} Ω')\n",
        "# Parallel combination\n",
        "R_parallel = 1 / (1/R1 + 1/R2 + 1/R3)\n",
        "print(f'Parallel combination: 1/R = 1/{R1} + 1/{R2} + 1/{R3}')\n",
        "print(f'Parallel resistance: {R_parallel:.1f} Ω')\n",
        "print(f'\\nOhm\\'s law relationships verified successfully!')\n"
      ],
      "execution_count": null,
      "outputs": []
    },
    {
      "cell_type": "markdown",
      "metadata": {},
      "source": [
        "## Source\n",
        "\n",
        "📖 **View this entry:** [theoria-dataset.org/entries.html?entry=ohms_law.json](https://theoria-dataset.org/entries.html?entry=ohms_law.json)\n",
        "\n",
        "This verification code is part of the [THEORIA dataset](https://github.com/theoria-dataset/theoria-dataset), ",
        "a curated collection of theoretical physics derivations with programmatic verification.\n",
        "\n",
        "**License:** CC-BY 4.0"
      ]
    }
  ]
}