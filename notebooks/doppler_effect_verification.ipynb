{
  "nbformat": 4,
  "nbformat_minor": 0,
  "metadata": {
    "colab": {
      "provenance": []
    },
    "kernelspec": {
      "name": "python3",
      "display_name": "Python 3"
    },
    "language_info": {
      "name": "python"
    }
  },
  "cells": [
    {
      "cell_type": "markdown",
      "metadata": {},
      "source": [
        "# Doppler Effect\n",
        "\n",
        "This notebook contains the programmatic verification for the **Doppler Effect** entry from the THEORIA dataset.\n",
        "\n",
        "**Entry ID:** doppler_effect  \n",
        "**Required Library:** sympy 1.12.0\n",
        "\n",
        "## Description\n",
        "The Doppler effect describes the change in frequency of a wave when there is relative motion between the source and observer. The observed frequency increases when source and observer approach each other and decreases when they move apart.\n",
        "\n",
        "## Installation\n",
        "First, let's install the required library:"
      ]
    },
    {
      "cell_type": "code",
      "metadata": {},
      "source": [
        "# Install required library with exact version\n",
        "!pip install sympy==1.12.0"
      ],
      "execution_count": null,
      "outputs": []
    },
    {
      "cell_type": "markdown",
      "metadata": {},
      "source": [
        "## Programmatic Verification\n",
        "\n",
        "The following code verifies the derivation mathematically:"
      ]
    },
    {
      "cell_type": "code",
      "metadata": {},
      "source": [
        "import math\n",
        "print('Doppler Effect Verification\\n')\n",
        "print('=' * 40)\n",
        "# Test 1: Classical Doppler effect verification\n",
        "def verify_classical_doppler():\n",
        "    \"\"\"Verify classical Doppler formulas\"\"\"\n",
        "    print('Test 1: Classical Doppler effect')\n",
        "    \n",
        "    # Wave parameters\n",
        "    f_source = 1000  # Hz (source frequency)\n",
        "    v_wave = 343     # m/s (speed of sound in air)\n",
        "    \n",
        "    # Test approaching case\n",
        "    v_s = 34.3  # source velocity (10% of sound speed)\n",
        "    v_r = 0     # observer at rest\n",
        "    \n",
        "    # Apply Doppler formula\n",
        "    f_observed = f_source * (v_wave + v_r) / (v_wave + v_s)\n",
        "    expected_frequency = f_source * v_wave / (v_wave + v_s)\n",
        "    \n",
        "    print(f'  Source frequency: {f_source} Hz')\n",
        "    print(f'  Source approaching at: {v_s} m/s')\n",
        "    print(f'  Observed frequency: {f_observed:.1f} Hz')\n",
        "    print(f'  Expected: {expected_frequency:.1f} Hz')\n",
        "    print(f'  Formula verified: {math.isclose(f_observed, expected_frequency)}')\n",
        "    \n",
        "    return math.isclose(f_observed, expected_frequency)\n",
        "# Test 2: Radar Doppler (double shift)\n",
        "def verify_radar_doppler():\n",
        "    \"\"\"Verify radar Doppler effect\"\"\"\n",
        "    print('\\nTest 2: Radar Doppler effect')\n",
        "    \n",
        "    # Radar parameters\n",
        "    f_radar = 10e9   # 10 GHz\n",
        "    c = 3e8          # speed of light\n",
        "    v_target = 30    # target velocity (m/s)\n",
        "    \n",
        "    # Double Doppler shift formula: f' ≈ f(1 + 2v/c)\n",
        "    f_received = f_radar * (1 + 2*v_target/c)\n",
        "    delta_f = f_received - f_radar\n",
        "    \n",
        "    print(f'  Radar frequency: {f_radar/1e9:.1f} GHz')\n",
        "    print(f'  Target velocity: {v_target} m/s')\n",
        "    print(f'  Frequency shift: {delta_f:.3f} Hz')\n",
        "    print(f'  Relative shift: {delta_f/f_radar:.2e}')\n",
        "    print(f'  Non-zero shift: {delta_f > 0}')\n",
        "    \n",
        "    return delta_f > 0\n",
        "# Test 3: Reciprocity test\n",
        "def verify_reciprocity():\n",
        "    \"\"\"Verify that source and observer motion give different results\"\"\"\n",
        "    print('\\nTest 3: Reciprocity test')\n",
        "    \n",
        "    f_source = 1000  # Hz\n",
        "    v_wave = 343     # m/s\n",
        "    v = 34.3         # velocity\n",
        "    \n",
        "    # Source moving toward observer\n",
        "    f_source_moving = f_source * v_wave / (v_wave - v)\n",
        "    \n",
        "    # Observer moving toward source\n",
        "    f_observer_moving = f_source * (v_wave + v) / v_wave\n",
        "    \n",
        "    print(f'  Source moving: {f_source_moving:.1f} Hz')\n",
        "    print(f'  Observer moving: {f_observer_moving:.1f} Hz')\n",
        "    print(f'  Different results: {not math.isclose(f_source_moving, f_observer_moving)}')\n",
        "    \n",
        "    return not math.isclose(f_source_moving, f_observer_moving)\n",
        "# Run tests\n",
        "test1 = verify_classical_doppler()\n",
        "test2 = verify_radar_doppler()\n",
        "test3 = verify_reciprocity()\n",
        "print('\\nSummary:')\n",
        "print(f'Classical Doppler formula: {test1}')\n",
        "print(f'Radar Doppler effect: {test2}')\n",
        "print(f'Reciprocity verified: {test3}')\n",
        "print(f'All tests passed: {all([test1, test2, test3])}')\n",
        "print('\\nDoppler effect verified!')\n"
      ],
      "execution_count": null,
      "outputs": []
    },
    {
      "cell_type": "markdown",
      "metadata": {},
      "source": [
        "## Source\n",
        "\n",
        "📖 **View this entry:** [theoria-dataset.org/entries.html?entry=doppler_effect.json](https://theoria-dataset.org/entries.html?entry=doppler_effect.json)\n",
        "\n",
        "This verification code is part of the [THEORIA dataset](https://github.com/theoria-dataset/theoria-dataset), ",
        "a curated collection of theoretical physics derivations with programmatic verification.\n",
        "\n",
        "**License:** CC-BY 4.0"
      ]
    }
  ]
}