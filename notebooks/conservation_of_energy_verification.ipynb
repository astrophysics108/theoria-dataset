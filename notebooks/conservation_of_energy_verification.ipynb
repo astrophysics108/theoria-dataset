{
  "nbformat": 4,
  "nbformat_minor": 0,
  "metadata": {
    "colab": {
      "provenance": []
    },
    "kernelspec": {
      "name": "python3",
      "display_name": "Python 3"
    },
    "language_info": {
      "name": "python"
    }
  },
  "cells": [
    {
      "cell_type": "markdown",
      "metadata": {},
      "source": [
        "# Conservation of Energy\n",
        "\n",
        "This notebook contains the programmatic verification for the **Conservation of Energy** entry from the THEORIA dataset.\n",
        "\n",
        "**Entry ID:** conservation_of_energy  \n",
        "**Required Library:** sympy 1.12.0\n",
        "\n",
        "## Description\n",
        "Conservation of energy states that energy cannot be created or destroyed, only transformed from one form to another. In a closed system, the total energy remains constant, though it may change between kinetic, potential, thermal, and other forms.\n",
        "\n",
        "## Installation\n",
        "First, let's install the required library:"
      ]
    },
    {
      "cell_type": "code",
      "metadata": {},
      "source": [
        "# Install required library with exact version\n",
        "!pip install sympy==1.12.0"
      ],
      "execution_count": null,
      "outputs": []
    },
    {
      "cell_type": "markdown",
      "metadata": {},
      "source": [
        "## Programmatic Verification\n",
        "\n",
        "The following code verifies the derivation mathematically:"
      ]
    },
    {
      "cell_type": "code",
      "metadata": {},
      "source": [
        "import math\n",
        "print('Conservation of Energy Verification\\n')\n",
        "print('=' * 40)\n",
        "# Test 1: Simple pendulum energy conservation\n",
        "def verify_pendulum_energy():\n",
        "    \"\"\"Verify energy conservation for a pendulum\"\"\"\n",
        "    print('Test 1: Pendulum energy conservation')\n",
        "    \n",
        "    # Parameters\n",
        "    L = 1.0  # length in meters\n",
        "    g = 9.81  # gravity in m/s^2\n",
        "    m = 1.0  # mass in kg\n",
        "    theta_0 = 0.5  # initial angle (rad)\n",
        "    \n",
        "    def pendulum_energy(theta, theta_dot):\n",
        "        \"\"\"Calculate total energy of pendulum\"\"\"\n",
        "        K = 0.5 * m * (L * theta_dot)**2  # kinetic energy\n",
        "        U = m * g * L * (1 - math.cos(theta))  # potential energy\n",
        "        return K + U\n",
        "    \n",
        "    # At maximum displacement (theta = theta_0, theta_dot = 0)\n",
        "    E_max = pendulum_energy(theta_0, 0)\n",
        "    \n",
        "    # At bottom (theta = 0, theta_dot = maximum)\n",
        "    # Energy conservation: E_max = 0.5 * m * (L * omega_max)^2\n",
        "    omega_max = math.sqrt(2 * g * (1 - math.cos(theta_0)) / L)\n",
        "    E_bottom = pendulum_energy(0, omega_max)\n",
        "    \n",
        "    print(f'  Initial angle: {theta_0:.3f} rad')\n",
        "    print(f'  Energy at max displacement: {E_max:.6f} J')\n",
        "    print(f'  Energy at bottom: {E_bottom:.6f} J')\n",
        "    print(f'  Energy conserved: {math.isclose(E_max, E_bottom)}')\n",
        "    print()\n",
        "    \n",
        "    return math.isclose(E_max, E_bottom)\n",
        "# Test 2: Projectile motion energy conservation\n",
        "def verify_projectile_energy():\n",
        "    \"\"\"Verify energy conservation for projectile motion\"\"\"\n",
        "    print('Test 2: Projectile motion energy conservation')\n",
        "    \n",
        "    # Parameters\n",
        "    m = 1.0  # mass in kg\n",
        "    v0 = 20.0  # initial velocity in m/s\n",
        "    angle = math.pi/4  # launch angle\n",
        "    g = 9.81  # gravity\n",
        "    \n",
        "    # Initial conditions\n",
        "    v0x = v0 * math.cos(angle)\n",
        "    v0y = v0 * math.sin(angle)\n",
        "    \n",
        "    # Energy at launch\n",
        "    E_initial = 0.5 * m * v0**2  # all kinetic\n",
        "    \n",
        "    # Energy at maximum height\n",
        "    h_max = v0y**2 / (2 * g)\n",
        "    v_at_max = v0x  # only horizontal component remains\n",
        "    E_at_max = 0.5 * m * v_at_max**2 + m * g * h_max\n",
        "    \n",
        "    print(f'  Launch speed: {v0:.1f} m/s')\n",
        "    print(f'  Launch angle: {math.degrees(angle):.1f}°')\n",
        "    print(f'  Maximum height: {h_max:.2f} m')\n",
        "    print(f'  Energy at launch: {E_initial:.2f} J')\n",
        "    print(f'  Energy at max height: {E_at_max:.2f} J')\n",
        "    print(f'  Energy conserved: {math.isclose(E_initial, E_at_max)}')\n",
        "    print()\n",
        "    \n",
        "    return math.isclose(E_initial, E_at_max)\n",
        "# Run tests\n",
        "test1 = verify_pendulum_energy()\n",
        "test2 = verify_projectile_energy()\n",
        "print('Summary of Energy Conservation Tests:')\n",
        "print(f'Pendulum energy conservation: {test1}')\n",
        "print(f'Projectile energy conservation: {test2}')\n",
        "print(f'All tests passed: {all([test1, test2])}')\n",
        "print('\\nEnergy conservation verified!')\n"
      ],
      "execution_count": null,
      "outputs": []
    },
    {
      "cell_type": "markdown",
      "metadata": {},
      "source": [
        "## Source\n",
        "\n",
        "📖 **View this entry:** [theoria-dataset.org/entries.html?entry=conservation_of_energy.json](https://theoria-dataset.org/entries.html?entry=conservation_of_energy.json)\n",
        "\n",
        "This verification code is part of the [THEORIA dataset](https://github.com/theoria-dataset/theoria-dataset), ",
        "a curated collection of theoretical physics derivations with programmatic verification.\n",
        "\n",
        "**License:** CC-BY 4.0"
      ]
    }
  ]
}