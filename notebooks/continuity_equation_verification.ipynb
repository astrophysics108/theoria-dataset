{
  "nbformat": 4,
  "nbformat_minor": 0,
  "metadata": {
    "colab": {
      "provenance": []
    },
    "kernelspec": {
      "name": "python3",
      "display_name": "Python 3"
    },
    "language_info": {
      "name": "python"
    }
  },
  "cells": [
    {
      "cell_type": "markdown",
      "metadata": {},
      "source": [
        "# Continuity Equation (Fluid Flow)\n",
        "\n",
        "This notebook contains the programmatic verification for the **Continuity Equation (Fluid Flow)** entry from the THEORIA dataset.\n",
        "\n",
        "**Entry ID:** continuity_equation  \n",
        "**Required Library:** sympy 1.12.0\n",
        "\n",
        "## Description\n",
        "The continuity equation expresses conservation of mass in fluid dynamics. It states that the rate of increase of density in a volume plus the net outflow of mass through the volume's boundary is zero. In incompressible flow, this reduces to `grad dot vec v = 0`. The continuity equation is fundamental for any fluid (liquid or gas).\n",
        "\n",
        "## Installation\n",
        "First, let's install the required library:"
      ]
    },
    {
      "cell_type": "code",
      "metadata": {},
      "source": [
        "# Install required library with exact version\n",
        "!pip install sympy==1.12.0"
      ],
      "execution_count": null,
      "outputs": []
    },
    {
      "cell_type": "markdown",
      "metadata": {},
      "source": [
        "## Programmatic Verification\n",
        "\n",
        "The following code verifies the derivation mathematically:"
      ]
    },
    {
      "cell_type": "code",
      "metadata": {},
      "source": [
        "import sympy as sp\n",
        "# Step 1: verify integral form for a constant-density flow\n",
        "x, y, t = sp.symbols('x y t')\n",
        "rho = 1\n",
        "v = sp.Matrix([-y, x])\n",
        "M = sp.integrate(sp.integrate(rho, (x, -1, 1)), (y, -1, 1))\n",
        "dM_dt = sp.diff(M, t)\n",
        "n1 = sp.Matrix([1, 0])\n",
        "flux1 = sp.integrate(rho * v.dot(n1), (y, -1, 1)).subs(x, 1)\n",
        "flux2 = sp.integrate(rho * v.dot(-n1), (y, -1, 1)).subs(x, -1)\n",
        "n2 = sp.Matrix([0, 1])\n",
        "flux3 = sp.integrate(rho * v.dot(n2), (x, -1, 1)).subs(y, 1)\n",
        "flux4 = sp.integrate(rho * v.dot(-n2), (x, -1, 1)).subs(y, -1)\n",
        "flux_total = flux1 + flux2 + flux3 + flux4\n",
        "assert sp.simplify(dM_dt + flux_total) == 0\n",
        "# Step 2: verify differential form locally\n",
        "cont = sp.diff(rho, t) + sp.diff(rho*v[0], x) + sp.diff(rho*v[1], y)\n",
        "assert sp.simplify(cont) == 0\n"
      ],
      "execution_count": null,
      "outputs": []
    },
    {
      "cell_type": "markdown",
      "metadata": {},
      "source": [
        "## Source\n",
        "\n",
        "📖 **View this entry:** [theoria-dataset.org/entries.html?entry=continuity_equation.json](https://theoria-dataset.org/entries.html?entry=continuity_equation.json)\n",
        "\n",
        "This verification code is part of the [THEORIA dataset](https://github.com/theoria-dataset/theoria-dataset), ",
        "a curated collection of theoretical physics derivations with programmatic verification.\n",
        "\n",
        "**License:** CC-BY 4.0"
      ]
    }
  ]
}