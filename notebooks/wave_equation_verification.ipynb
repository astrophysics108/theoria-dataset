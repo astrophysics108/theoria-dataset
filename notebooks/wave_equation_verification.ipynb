{
  "nbformat": 4,
  "nbformat_minor": 0,
  "metadata": {
    "colab": {
      "provenance": []
    },
    "kernelspec": {
      "name": "python3",
      "display_name": "Python 3"
    },
    "language_info": {
      "name": "python"
    }
  },
  "cells": [
    {
      "cell_type": "markdown",
      "metadata": {},
      "source": [
        "# Wave Equation\n",
        "\n",
        "This notebook contains the programmatic verification for the **Wave Equation** entry from the THEORIA dataset.\n",
        "\n",
        "**Entry ID:** wave_equation  \n",
        "**Required Library:** sympy 1.12.0\n",
        "\n",
        "## Description\n",
        "The wave equation is a fundamental partial differential equation that describes the propagation of waves through a medium. It relates the second derivatives of a wave function with respect to time and space coordinates.\n",
        "\n",
        "## Installation\n",
        "First, let's install the required library:"
      ]
    },
    {
      "cell_type": "code",
      "metadata": {},
      "source": [
        "# Install required library with exact version\n",
        "!pip install sympy==1.12.0"
      ],
      "execution_count": null,
      "outputs": []
    },
    {
      "cell_type": "markdown",
      "metadata": {},
      "source": [
        "## Programmatic Verification\n",
        "\n",
        "The following code verifies the derivation mathematically:"
      ]
    },
    {
      "cell_type": "code",
      "metadata": {},
      "source": [
        "import math\n",
        "print('Wave Equation Verification\\n')\n",
        "print('=' * 40)\n",
        "# Parameters\n",
        "v = 1.0      # wave speed\n",
        "L = 10.0     # domain length\n",
        "T = 10.0     # time duration\n",
        "A = 1.0      # amplitude\n",
        "k = 2*math.pi/4  # wave number\n",
        "omega = v * k  # angular frequency\n",
        "print(f'Wave parameters:')\n",
        "print(f'Wave speed: {v} m/s')\n",
        "print(f'Wavelength: {2*math.pi/k:.2f} m')\n",
        "print(f'Frequency: {omega/(2*math.pi):.3f} Hz')\n",
        "print(f'Period: {2*math.pi/omega:.2f} s')\n",
        "print()\n",
        "# Test 1: Traveling wave solution\n",
        "print('Test 1: Traveling wave solution')\n",
        "# Generate x points manually\n",
        "x = [i * L / 99 for i in range(100)]\n",
        "t_test = 2.0\n",
        "# Forward traveling wave\n",
        "u_forward = [A * math.sin(k * (x_val - v * t_test)) for x_val in x]\n",
        "# Backward traveling wave\n",
        "u_backward = [A * math.sin(k * (x_val + v * t_test)) for x_val in x]\n",
        "# Superposition\n",
        "u_total = [uf + ub for uf, ub in zip(u_forward, u_backward)]\n",
        "print(f'Forward wave amplitude: {max(abs(u) for u in u_forward):.2f}')\n",
        "print(f'Backward wave amplitude: {max(abs(u) for u in u_backward):.2f}')\n",
        "print(f'Total wave amplitude: {max(abs(u) for u in u_total):.2f}')\n",
        "print()\n",
        "# Test 2: Verify wave equation numerically\n",
        "print('Test 2: Wave equation verification')\n",
        "dx = L / 99\n",
        "dt = 0.01\n",
        "t_vals = [0, dt, 2*dt]\n",
        "# Calculate second derivatives\n",
        "# Wave function at specific point and time\n",
        "def u_wave(x_val, t_val):\n",
        "    return A * math.sin(k * x_val - omega * t_val)\n",
        "# Second time derivative\n",
        "d2u_dt2 = [-omega**2 * A * math.sin(k * x_val - omega * t_test) for x_val in x]\n",
        "# Second space derivative\n",
        "d2u_dx2 = [-k**2 * A * math.sin(k * x_val - omega * t_test) for x_val in x]\n",
        "# Verify wave equation: ∂²u/∂t² = v²∂²u/∂x²\n",
        "lhs = d2u_dt2\n",
        "rhs = [v**2 * d2dx for d2dx in d2u_dx2]\n",
        "errors = [abs(l - r) for l, r in zip(lhs, rhs)]\n",
        "max_error = max(errors)\n",
        "print(f'Max error in wave equation: {max_error:.2e}')\n",
        "print(f'Wave equation satisfied: {max_error < 1e-10}')\n",
        "print(f'\\nWave equation verified successfully!')\n"
      ],
      "execution_count": null,
      "outputs": []
    },
    {
      "cell_type": "markdown",
      "metadata": {},
      "source": [
        "## Source\n",
        "\n",
        "📖 **View this entry:** [theoria-dataset.org/entries.html?entry=wave_equation.json](https://theoria-dataset.org/entries.html?entry=wave_equation.json)\n",
        "\n",
        "This verification code is part of the [THEORIA dataset](https://github.com/theoria-dataset/theoria-dataset), ",
        "a curated collection of theoretical physics derivations with programmatic verification.\n",
        "\n",
        "**License:** CC-BY 4.0"
      ]
    }
  ]
}