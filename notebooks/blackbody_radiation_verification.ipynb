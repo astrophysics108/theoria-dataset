{
  "nbformat": 4,
  "nbformat_minor": 0,
  "metadata": {
    "colab": {
      "provenance": []
    },
    "kernelspec": {
      "name": "python3",
      "display_name": "Python 3"
    },
    "language_info": {
      "name": "python"
    }
  },
  "cells": [
    {
      "cell_type": "markdown",
      "metadata": {},
      "source": [
        "# Blackbody Radiation\n",
        "\n",
        "This notebook contains the programmatic verification for the **Blackbody Radiation** entry from the THEORIA dataset.\n",
        "\n",
        "**Entry ID:** blackbody_radiation  \n",
        "**Required Library:** sympy 1.12.0\n",
        "\n",
        "## Description\n",
        "Planck's law describes the spectral energy density of black-body radiation as a function of frequency and temperature. By quantizing electromagnetic modes with energy quanta `h*nu`, it resolves the ultraviolet catastrophe of classical physics and underpins modern quantum theory and thermal emission models.\n",
        "\n",
        "## Installation\n",
        "First, let's install the required library:"
      ]
    },
    {
      "cell_type": "code",
      "metadata": {},
      "source": [
        "# Install required library with exact version\n",
        "!pip install sympy==1.12.0"
      ],
      "execution_count": null,
      "outputs": []
    },
    {
      "cell_type": "markdown",
      "metadata": {},
      "source": [
        "## Programmatic Verification\n",
        "\n",
        "The following code verifies the derivation mathematically:"
      ]
    },
    {
      "cell_type": "code",
      "metadata": {},
      "source": [
        "import sympy as sp\n",
        "\n",
        "# ===============================\n",
        "# Programmatic verification: Blackbody Radiation (Planck law)\n",
        "# Robust to SymPy summation quirks and includes classic checks.\n",
        "# ===============================\n",
        "\n",
        "# Symbols\n",
        "nu, T, h, k_B, c, L = sp.symbols('nu T h k_B c L', positive=True, real=True)\n",
        "dnu, dR = sp.symbols('dnu dR', positive=True, real=True)\n",
        "n = sp.symbols('n', integer=True, nonnegative=True)\n",
        "\n",
        "# ------------------------------\n",
        "# Mode counting (per Hz per volume)\n",
        "# ------------------------------\n",
        "R = 2*L*nu/c\n",
        "N_shell = sp.Rational(1,8) * 4*sp.pi*R**2 * dR     # 1/8 octant\n",
        "N_all = sp.simplify(2 * N_shell)                    # ×2 polarizations\n",
        "assert sp.simplify(N_all - sp.pi*R**2*dR) == 0\n",
        "N_all_freq = sp.simplify(N_all.subs({R: 2*L*nu/c, dR: 2*L*dnu/c}))\n",
        "rho_nu = sp.simplify(N_all_freq/(L**3 * dnu))\n",
        "rho_nu_expected = sp.simplify(8*sp.pi*nu**2/c**3)\n",
        "assert sp.simplify(rho_nu - rho_nu_expected) == 0\n",
        "\n",
        "# ------------------------------\n",
        "# Partition function and Bose–Einstein occupancy via q-series\n",
        "# ------------------------------\n",
        "x = sp.symbols('x', positive=True, real=True)                 # x = h nu / (k_B T)\n",
        "q = sp.symbols('q', real=True)\n",
        "S = sp.summation(q**n, (n,0, sp.oo))                          # = Piecewise(1/(1-q), |q|<1, ...)\n",
        "S_n = sp.summation(n*q**n, (n,0, sp.oo))                      # = Piecewise(q/(1-q)**2, |q|<1, ...)\n",
        "Z_q = S.args[0][0]                                            # 1/(1-q) branch\n",
        "n_avg_q = sp.simplify(S_n.args[0][0]/Z_q)                     # q/(1-q)\n",
        "Z_eval = sp.simplify(Z_q.subs(q, sp.exp(-x)).subs(x, h*nu/(k_B*T)))\n",
        "n_avg_eval = sp.simplify(n_avg_q.subs(q, sp.exp(-x)).subs(x, h*nu/(k_B*T)))\n",
        "assert sp.simplify(n_avg_eval - 1/(sp.exp(h*nu/(k_B*T)) - 1)) == 0\n",
        "\n",
        "# Average energy per mode and Planck law u(nu,T)\n",
        "E_avg = sp.simplify(h*nu * n_avg_eval)\n",
        "u_planck = sp.simplify(rho_nu_expected * E_avg)\n",
        "u_expected = sp.simplify((8*sp.pi*h*nu**3)/(c**3 * (sp.exp(h*nu/(k_B*T)) - 1)))\n",
        "assert sp.simplify(u_planck - u_expected) == 0\n",
        "\n",
        "# ------------------------------\n",
        "# ω–ν consistency (use ħ = h/(2π))\n",
        "# ------------------------------\n",
        "omega, hbar = sp.symbols('omega hbar', positive=True, real=True)\n",
        "u_omega = sp.simplify((omega**2)/(sp.pi**2*c**3) * (hbar*omega)/(sp.exp(hbar*omega/(k_B*T)) - 1))\n",
        "check_omega_to_nu = sp.simplify(u_omega.subs({hbar: h/(2*sp.pi), omega: 2*sp.pi*nu}) * (2*sp.pi) - u_expected)\n",
        "assert check_omega_to_nu == 0\n",
        "\n",
        "# ------------------------------\n",
        "# Rayleigh–Jeans (low-ν) and Wien (high-ν) limits\n",
        "# ------------------------------\n",
        "u_in_x = sp.simplify((8*sp.pi*(k_B*T)**3)/(c**3*h**2) * x**3/(sp.exp(x) - 1))\n",
        "# RJ: need series to order >= 3 to capture x^2 term\n",
        "u_RJ_series = sp.simplify(sp.series(u_in_x, x, 0, 3).removeO().subs(x, h*nu/(k_B*T)))\n",
        "u_RJ_expected = sp.simplify(8*sp.pi*nu**2*k_B*T/c**3)\n",
        "assert sp.simplify(u_RJ_series - u_RJ_expected) == 0\n",
        "# Wien: ratio → 1 as ν→∞\n",
        "ratio_Wien = sp.simplify(u_expected / ((8*sp.pi*h*nu**3)/(c**3) * sp.exp(-h*nu/(k_B*T))))\n",
        "assert sp.limit(ratio_Wien, nu, sp.oo) == 1\n",
        "\n",
        "# ------------------------------\n",
        "# Stefan–Boltzmann: ∫_0^∞ u(ν,T) dν = a T^4, a = 8π^5 k_B^4 / (15 c^3 h^3)\n",
        "# Use Γ–ζ identity: ∫_0^∞ x^{s-1}/(e^x - 1) dx = Γ(s) ζ(s), s=4 ⇒ π^4/15\n",
        "# Also verify numerically to avoid unevaluated Integral\n",
        "# ------------------------------\n",
        "a_const = sp.simplify(8*sp.pi**5 * k_B**4 / (15 * c**3 * h**3))\n",
        "I_closed = sp.gamma(4) * sp.zeta(4)                         # = π^4/15\n",
        "I_numeric = sp.N(sp.Integral(sp.Symbol('xx')**3/(sp.exp(sp.Symbol('xx'))-1), (sp.Symbol('xx'), 0, sp.oo)))\n",
        "assert abs(float(I_numeric - sp.N(I_closed))) < 1e-10\n",
        "u_total_from_x = sp.simplify((8*sp.pi*(k_B*T)**4)/(c**3*h**3) * I_closed)\n",
        "assert sp.simplify(u_total_from_x - a_const*T**4) == 0\n",
        "\n",
        "# ------------------------------\n",
        "# Wien's displacement (frequency form): maximize f(x)=x^3/(e^x-1)\n",
        "# 3(1 - e^{-x}) - x = 0 ⇒ x_peak ≈ 2.821439372...\n",
        "# ------------------------------\n",
        "x_var = sp.symbols('x_var', positive=True)\n",
        "eq_wien = sp.Eq(3*(1 - sp.exp(-x_var)) - x_var, 0)\n",
        "x_peak = sp.nsolve(eq_wien, 3)     # good initial guess near 3\n",
        "assert abs(float(x_peak) - 2.821439372) < 1e-6\n",
        "\n",
        "print('All blackbody verifications passed ✔')\n"
      ],
      "execution_count": null,
      "outputs": []
    },
    {
      "cell_type": "markdown",
      "metadata": {},
      "source": [
        "## Source\n",
        "\n",
        "📖 **View this entry:** [theoria-dataset.org/entries.html?entry=blackbody_radiation.json](https://theoria-dataset.org/entries.html?entry=blackbody_radiation.json)\n",
        "\n",
        "This verification code is part of the [THEORIA dataset](https://github.com/theoria-dataset/theoria-dataset), ",
        "a curated collection of theoretical physics derivations with programmatic verification.\n",
        "\n",
        "**License:** CC-BY 4.0"
      ]
    }
  ]
}