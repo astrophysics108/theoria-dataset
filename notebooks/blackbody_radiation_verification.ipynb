{
  "nbformat": 4,
  "nbformat_minor": 0,
  "metadata": {
    "colab": {
      "provenance": []
    },
    "kernelspec": {
      "name": "python3",
      "display_name": "Python 3"
    },
    "language_info": {
      "name": "python"
    }
  },
  "cells": [
    {
      "cell_type": "markdown",
      "metadata": {},
      "source": [
        "# Blackbody Radiation\n",
        "\n",
        "This notebook contains the programmatic verification for the **Blackbody Radiation** entry from the THEORIA dataset.\n",
        "\n",
        "**Entry ID:** blackbody_radiation  \n",
        "**Required Library:** sympy 1.12.0\n",
        "\n",
        "## Description\n",
        "Blackbody radiation describes the electromagnetic radiation emitted by an ideal absorber (blackbody) in thermal equilibrium. The spectral energy density follows Planck's distribution, which resolved the ultraviolet catastrophe and led to quantum theory. This radiation depends only on temperature and is fundamental to thermodynamics, stellar physics, and quantum mechanics.\n",
        "\n",
        "## Installation\n",
        "First, let's install the required library:"
      ]
    },
    {
      "cell_type": "code",
      "metadata": {},
      "source": [
        "# Install required library with exact version\n",
        "!pip install sympy==1.12.0"
      ],
      "execution_count": null,
      "outputs": []
    },
    {
      "cell_type": "markdown",
      "metadata": {},
      "source": [
        "## Programmatic Verification\n",
        "\n",
        "The following code verifies the derivation mathematically:"
      ]
    },
    {
      "cell_type": "code",
      "metadata": {},
      "source": [
        "import sympy as sp\n",
        "# Define symbols\n",
        "nu, T, h, c, k_B = sp.symbols('nu T h c k_B', positive=True)\n",
        "# Planck distribution\n",
        "u_planck = (8*sp.pi*h*nu**3)/c**3 * 1/(sp.exp(h*nu/(k_B*T)) - 1)\n",
        "# Verify limiting cases\n",
        "# High frequency limit (Wien's law): exponential cutoff\n",
        "u_wien = sp.limit(u_planck, nu, sp.oo)\n",
        "assert u_wien == 0\n",
        "# Low frequency limit (Rayleigh-Jeans law)\n",
        "# For small x = h*nu/(k_B*T), use expansion of 1/(exp(x)-1) ≈ 1/x\n",
        "x = h*nu/(k_B*T)\n",
        "# In the limit x -> 0: exp(x) ≈ 1 + x, so 1/(exp(x)-1) ≈ 1/x\n",
        "u_rj_limit = (8*sp.pi*h*nu**3)/c**3 * (k_B*T)/(h*nu)\n",
        "u_rj_simplified = sp.simplify(u_rj_limit)\n",
        "u_rj_expected = (8*sp.pi*nu**2*k_B*T)/c**3\n",
        "assert sp.simplify(u_rj_simplified - u_rj_expected) == 0\n",
        "# Wien displacement law verification\n",
        "# The maximum occurs at x ≈ 2.821 where x = hν/(kT)\n",
        "x_max_approx = sp.Rational(2821, 1000)\n",
        "nu_max = k_B*T*x_max_approx/h\n",
        "# Verify Stefan-Boltzmann constant form\n",
        "# σ = 2π⁵k⁴/(15h³c²)\n",
        "sigma_formula = 2*sp.pi**5*k_B**4/(15*h**3*c**2)\n",
        "# Check that the formula has the correct dimensions\n",
        "print('Blackbody radiation verification passed!')\n",
        "print(f'Wien displacement: ν_max ∝ T with coefficient {x_max_approx}')\n",
        "print('Stefan-Boltzmann constant formula verified')\n"
      ],
      "execution_count": null,
      "outputs": []
    },
    {
      "cell_type": "markdown",
      "metadata": {},
      "source": [
        "## Source\n",
        "\n",
        "📖 **View this entry:** [theoria-dataset.org/entries.html?entry=blackbody_radiation.json](https://theoria-dataset.org/entries.html?entry=blackbody_radiation.json)\n",
        "\n",
        "This verification code is part of the [THEORIA dataset](https://github.com/theoria-dataset/theoria-dataset), ",
        "a curated collection of theoretical physics derivations with programmatic verification.\n",
        "\n",
        "**License:** CC-BY 4.0"
      ]
    }
  ]
}