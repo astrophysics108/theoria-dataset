{
  "nbformat": 4,
  "nbformat_minor": 0,
  "metadata": {
    "colab": {
      "provenance": []
    },
    "kernelspec": {
      "name": "python3",
      "display_name": "Python 3"
    },
    "language_info": {
      "name": "python"
    }
  },
  "cells": [
    {
      "cell_type": "markdown",
      "metadata": {},
      "source": [
        "# Schrödinger Equation\n",
        "\n",
        "This notebook contains the programmatic verification for the **Schrödinger Equation** entry from the THEORIA dataset.\n",
        "\n",
        "**Entry ID:** schroedingen_equation  \n",
        "**Required Library:** sympy 1.12.0\n",
        "\n",
        "## Description\n",
        "The time-dependent Schrödinger equation governs the non-relativistic evolution of a quantum particle's wavefunction ψ(x,t). By promoting energy and momentum to differential operators, it relates the temporal derivative of ψ to the kinetic (−ħ²/2m∇²) and potential (V) terms. It's the foundational equation of quantum mechanics, determining probabilities and dynamics of microscopic systems.\n",
        "\n",
        "## Installation\n",
        "First, let's install the required library:"
      ]
    },
    {
      "cell_type": "code",
      "metadata": {},
      "source": [
        "# Install required library with exact version\n",
        "!pip install sympy==1.12.0"
      ],
      "execution_count": null,
      "outputs": []
    },
    {
      "cell_type": "markdown",
      "metadata": {},
      "source": [
        "## Programmatic Verification\n",
        "\n",
        "The following code verifies the derivation mathematically:"
      ]
    },
    {
      "cell_type": "code",
      "metadata": {},
      "source": [
        "import sympy as sp\n",
        "# symbols and wavefunction\n",
        "p, hbar, m, V = sp.symbols('p hbar m V', real=True)\n",
        "x, t = sp.symbols('x t')\n",
        "psi = sp.Function('psi')(x, t)\n",
        "# Step 1: classical energy relation E = p^2/(2*m) + V\n",
        "E_classical = p**2/(2*m) + V\n",
        "# Step 2: momentum operator p_op = -i*hbar*∂/∂x\n",
        "p_op = -sp.I*hbar*sp.diff(psi, x)\n",
        "# Step 3: energy operator E_op = i*hbar*∂/∂t\n",
        "E_op = sp.I*hbar*sp.diff(psi, t)\n",
        "# Step 4: derive operator form by substituting p^2 -> p_op squared\n",
        "p2_op = sp.simplify(-sp.I*hbar*sp.diff(p_op, x))\n",
        "H_op_general = E_classical.subs(p**2, p2_op)\n",
        "# Step 5: explicit Hamiltonian H_op_explicit = p^2/(2*m) + V\n",
        "H_op_explicit = p2_op/(2*m) + V\n",
        "# Final assertion: both forms match\n",
        "assert sp.simplify(H_op_general - H_op_explicit) == 0\n"
      ],
      "execution_count": null,
      "outputs": []
    },
    {
      "cell_type": "markdown",
      "metadata": {},
      "source": [
        "## Source\n",
        "\n",
        "📖 **View this entry:** [theoria-dataset.org/entries.html?entry=schroedingen_equation.json](https://theoria-dataset.org/entries.html?entry=schroedingen_equation.json)\n",
        "\n",
        "This verification code is part of the [THEORIA dataset](https://github.com/theoria-dataset/theoria-dataset), ",
        "a curated collection of theoretical physics derivations with programmatic verification.\n",
        "\n",
        "**License:** CC-BY 4.0"
      ]
    }
  ]
}