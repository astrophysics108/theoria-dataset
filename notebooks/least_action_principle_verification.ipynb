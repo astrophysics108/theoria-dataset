{
  "nbformat": 4,
  "nbformat_minor": 0,
  "metadata": {
    "colab": {
      "provenance": []
    },
    "kernelspec": {
      "name": "python3",
      "display_name": "Python 3"
    },
    "language_info": {
      "name": "python"
    }
  },
  "cells": [
    {
      "cell_type": "markdown",
      "metadata": {},
      "source": [
        "# Principle of Least Action\n",
        "\n",
        "This notebook contains the programmatic verification for the **Principle of Least Action** entry from the THEORIA dataset.\n",
        "\n",
        "**Entry ID:** least_action_principle  \n",
        "**Required Library:** sympy 1.12.0\n",
        "\n",
        "## Description\n",
        "The principle of least action states that the path taken by a physical system between two configurations is the one that makes the action stationary. The action is defined as the time integral of the Lagrangian function. This principle provides a unified foundation for classical mechanics and leads directly to the Euler-Lagrange equations of motion.\n",
        "\n",
        "## Installation\n",
        "First, let's install the required library:"
      ]
    },
    {
      "cell_type": "code",
      "metadata": {},
      "source": [
        "# Install required library with exact version\n",
        "!pip install sympy==1.12.0"
      ],
      "execution_count": null,
      "outputs": []
    },
    {
      "cell_type": "markdown",
      "metadata": {},
      "source": [
        "## Programmatic Verification\n",
        "\n",
        "The following code verifies the derivation mathematically:"
      ]
    },
    {
      "cell_type": "code",
      "metadata": {},
      "source": [
        "import sympy as sp\n",
        "\n",
        "# Step 1: Define symbols and a test system (harmonic oscillator)\n",
        "t, m, k = sp.symbols('t m k', positive=True, real=True)\n",
        "x = sp.Function('x')(t)\n",
        "x_dot = sp.diff(x, t)\n",
        "\n",
        "# Lagrangian L = T - V\n",
        "T = sp.Rational(1, 2) * m * x_dot**2\n",
        "V = sp.Rational(1, 2) * k * x**2\n",
        "L = T - V\n",
        "\n",
        "# Step 2: Compute partial derivatives of L\n",
        "dL_dx = sp.diff(L, x)\n",
        "dL_dx_dot = sp.diff(L, x_dot)\n",
        "\n",
        "# Step 3: Differentiate dL/dx_dot w.r.t time\n",
        "ddt_dL_dx_dot = sp.diff(dL_dx_dot, t)\n",
        "\n",
        "# Step 4: Construct Euler–Lagrange equation\n",
        "euler_lagrange = ddt_dL_dx_dot - dL_dx\n",
        "euler_lagrange_simplified = sp.simplify(euler_lagrange)\n",
        "\n",
        "# Step 5: Expected equation of motion: m*x_ddot + k*x = 0\n",
        "x_ddot = sp.diff(x, t, 2)\n",
        "expected_eom = m * x_ddot + k * x\n",
        "assert sp.simplify(euler_lagrange_simplified - expected_eom) == 0\n",
        "\n",
        "# Step 6: Express in normalized form with ω² = k/m\n",
        "omega_sq = k/m\n",
        "expected_normalized = x_ddot + omega_sq * x\n",
        "normalized_el = sp.simplify(euler_lagrange_simplified / m)\n",
        "assert sp.simplify(normalized_el - expected_normalized) == 0\n",
        "\n",
        "# Step 7: Verify classical solution satisfies the equation\n",
        "A, phi = sp.symbols('A phi', real=True)\n",
        "omega_val = sp.sqrt(k/m)\n",
        "trial_solution = A * sp.cos(omega_val * t + phi)\n",
        "trial_ddot = sp.diff(trial_solution, t, 2)\n",
        "check_solution = trial_ddot + omega_val**2 * trial_solution\n",
        "assert sp.simplify(check_solution) == 0\n",
        "\n",
        "print(\"All programmatic checks passed: Euler–Lagrange equations verified for harmonic oscillator.\")\n"
      ],
      "execution_count": null,
      "outputs": []
    },
    {
      "cell_type": "markdown",
      "metadata": {},
      "source": [
        "## Source\n",
        "\n",
        "📖 **View this entry:** [theoria-dataset.org/entries.html?entry=least_action_principle.json](https://theoria-dataset.org/entries.html?entry=least_action_principle.json)\n",
        "\n",
        "This verification code is part of the [THEORIA dataset](https://github.com/theoria-dataset/theoria-dataset), ",
        "a curated collection of theoretical physics derivations with programmatic verification.\n",
        "\n",
        "**License:** CC-BY 4.0"
      ]
    }
  ]
}