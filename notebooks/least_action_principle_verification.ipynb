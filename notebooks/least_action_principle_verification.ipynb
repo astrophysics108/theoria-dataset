{
  "nbformat": 4,
  "nbformat_minor": 0,
  "metadata": {
    "colab": {
      "provenance": []
    },
    "kernelspec": {
      "name": "python3",
      "display_name": "Python 3"
    },
    "language_info": {
      "name": "python"
    }
  },
  "cells": [
    {
      "cell_type": "markdown",
      "metadata": {},
      "source": [
        "# Principle of Least Action\n",
        "\n",
        "This notebook contains the programmatic verification for the **Principle of Least Action** entry from the THEORIA dataset.\n",
        "\n",
        "**Entry ID:** least_action_principle  \n",
        "**Required Library:** sympy 1.12.0\n",
        "\n",
        "## Description\n",
        "The principle of least action states that the path taken by a physical system between two configurations is the one that makes the action stationary. The action is defined as the time integral of the Lagrangian function. This principle provides a unified foundation for classical mechanics and leads directly to the Euler-Lagrange equations of motion.\n",
        "\n",
        "## Installation\n",
        "First, let's install the required library:"
      ]
    },
    {
      "cell_type": "code",
      "metadata": {},
      "source": [
        "# Install required library with exact version\n",
        "!pip install sympy==1.12.0"
      ],
      "execution_count": null,
      "outputs": []
    },
    {
      "cell_type": "markdown",
      "metadata": {},
      "source": [
        "## Programmatic Verification\n",
        "\n",
        "The following code verifies the derivation mathematically:"
      ]
    },
    {
      "cell_type": "code",
      "metadata": {},
      "source": [
        "import sympy as sp\n",
        "\n",
        "# Define symbols for a simple harmonic oscillator example\n",
        "t, m, k, x, omega = sp.symbols('t m k x omega', real=True, positive=True)\n",
        "x_t = sp.Function('x')(t)\n",
        "x_dot = sp.diff(x_t, t)\n",
        "\n",
        "# Step 1: Define Lagrangian for harmonic oscillator L = T - V\n",
        "# T = (1/2) * m * x_dot^2 (kinetic energy)\n",
        "T = sp.Rational(1, 2) * m * x_dot**2\n",
        "# V = (1/2) * k * x^2 (potential energy)\n",
        "V = sp.Rational(1, 2) * k * x_t**2\n",
        "L = T - V\n",
        "\n",
        "# Steps 2-8: Verify that Euler-Lagrange equations give correct equation of motion\n",
        "# Calculate partial derivatives\n",
        "dL_dx = sp.diff(L, x_t)\n",
        "dL_dx_dot = sp.diff(L, x_dot)\n",
        "ddt_dL_dx_dot = sp.diff(dL_dx_dot, t)\n",
        "\n",
        "# Euler-Lagrange equation: d/dt(dL/dx_dot) - dL/dx = 0\n",
        "euler_lagrange = ddt_dL_dx_dot - dL_dx\n",
        "euler_lagrange_simplified = sp.simplify(euler_lagrange)\n",
        "\n",
        "# Expected equation of motion for harmonic oscillator: m*x_ddot + k*x = 0\n",
        "# or x_ddot + omega^2*x = 0 where omega^2 = k/m\n",
        "x_ddot = sp.diff(x_t, t, 2)\n",
        "expected_eom = m * x_ddot + k * x_t\n",
        "\n",
        "# Verify they are equivalent\n",
        "assert sp.simplify(euler_lagrange_simplified - expected_eom) == 0\n",
        "\n",
        "# Also verify with omega = sqrt(k/m) form\n",
        "omega_squared = k/m\n",
        "expected_eom_omega = x_ddot + omega_squared * x_t\n",
        "normalized_el = sp.simplify(euler_lagrange_simplified / m)\n",
        "assert sp.simplify(normalized_el - expected_eom_omega) == 0\n",
        "\n",
        "print(f'Lagrangian: L = {L}')\n",
        "print(f'Euler-Lagrange equation: {euler_lagrange_simplified} = 0')\n",
        "print(f'Expected equation of motion: {expected_eom} = 0')\n",
        "print('Verification successful: Principle of least action gives correct harmonic oscillator equation!')\n",
        "\n",
        "# Additional verification: check that action is indeed stationary\n",
        "# For harmonic oscillator, the classical path is x(t) = A*cos(omega*t + phi)\n",
        "# We verify this satisfies the Euler-Lagrange equation\n",
        "A, phi = sp.symbols('A phi', real=True)\n",
        "omega_val = sp.sqrt(k/m)\n",
        "classical_path = A * sp.cos(omega_val * t + phi)\n",
        "classical_path_dot = sp.diff(classical_path, t)\n",
        "classical_path_ddot = sp.diff(classical_path, t, 2)\n",
        "\n",
        "# Substitute into equation of motion\n",
        "eom_check = classical_path_ddot + omega_val**2 * classical_path\n",
        "assert sp.simplify(eom_check) == 0\n",
        "print('Verification: Classical harmonic oscillator solution satisfies Euler-Lagrange equation!')\n"
      ],
      "execution_count": null,
      "outputs": []
    },
    {
      "cell_type": "markdown",
      "metadata": {},
      "source": [
        "## Source\n",
        "\n",
        "📖 **View this entry:** [theoria-dataset.org/entries.html?entry=least_action_principle.json](https://theoria-dataset.org/entries.html?entry=least_action_principle.json)\n",
        "\n",
        "This verification code is part of the [THEORIA dataset](https://github.com/theoria-dataset/theoria-dataset), ",
        "a curated collection of theoretical physics derivations with programmatic verification.\n",
        "\n",
        "**License:** CC-BY 4.0"
      ]
    }
  ]
}