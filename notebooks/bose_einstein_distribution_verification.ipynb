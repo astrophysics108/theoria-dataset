{
  "nbformat": 4,
  "nbformat_minor": 0,
  "metadata": {
    "colab": {
      "provenance": []
    },
    "kernelspec": {
      "name": "python3",
      "display_name": "Python 3"
    },
    "language_info": {
      "name": "python"
    }
  },
  "cells": [
    {
      "cell_type": "markdown",
      "metadata": {},
      "source": [
        "# Bose-Einstein Distribution\n",
        "\n",
        "This notebook contains the programmatic verification for the **Bose-Einstein Distribution** entry from the THEORIA dataset.\n",
        "\n",
        "**Entry ID:** bose_einstein_distribution  \n",
        "**Required Library:** sympy 1.12.0\n",
        "\n",
        "## Description\n",
        "The Bose-Einstein distribution describes the statistical distribution of bosons (particles with integer spin) in thermal equilibrium. Unlike fermions, bosons can occupy the same quantum state with no restriction, leading to phenomena like Bose-Einstein condensation and stimulated emission. This distribution is fundamental for understanding photons, phonons, and superfluid behavior.\n",
        "\n",
        "## Installation\n",
        "First, let's install the required library:"
      ]
    },
    {
      "cell_type": "code",
      "metadata": {},
      "source": [
        "# Install required library with exact version\n",
        "!pip install sympy==1.12.0"
      ],
      "execution_count": null,
      "outputs": []
    },
    {
      "cell_type": "markdown",
      "metadata": {},
      "source": [
        "## Programmatic Verification\n",
        "\n",
        "The following code verifies the derivation mathematically:"
      ]
    },
    {
      "cell_type": "code",
      "metadata": {},
      "source": [
        "import sympy as sp\n",
        "# Define symbols\n",
        "E, mu, k_B, T = sp.symbols('E mu k_B T', positive=True)\n",
        "# Bose-Einstein distribution\n",
        "n_BE = 1/(sp.exp((E - mu)/(k_B*T)) - 1)\n",
        "\n",
        "# Verify photon gas limit (mu = 0)\n",
        "n_photon = n_BE.subs(mu, 0)\n",
        "expected_photon = 1/(sp.exp(E/(k_B*T)) - 1)\n",
        "assert sp.simplify(n_photon - expected_photon) == 0\n",
        "\n",
        "# Verify that chemical potential must be less than ground state energy\n",
        "# For mu approaching the ground state energy E_0, occupation diverges\n",
        "E_0 = sp.symbols('E_0', positive=True)\n",
        "n_ground = n_BE.subs(E, E_0)\n",
        "# As mu approaches E_0 from below, occupation increases dramatically\n",
        "limit_cond = sp.limit(n_ground, mu, E_0, '-')\n",
        "assert limit_cond == sp.oo\n",
        "\n",
        "# Verify occupation numbers are always positive for E > mu\n",
        "# Test with specific numerical values\n",
        "n_test = n_BE.subs([(E, 2), (mu, 1), (k_B, 1), (T, 1)])\n",
        "assert n_test > 0\n",
        "\n",
        "# Classical limit test: For E - mu >> k_B*T, n_BE ≈ exp(-(E-mu)/(k_B*T))\n",
        "# Test with large energy difference\n",
        "n_classical_test = n_BE.subs([(E, 10), (mu, 1), (k_B, 1), (T, 1)])\n",
        "n_MB_test = sp.exp(-(10-1)/(1*1))\n",
        "# Should be approximately equal (within small error due to -1 term)\n",
        "difference = abs(n_classical_test - n_MB_test)\n",
        "assert difference < 0.01\n",
        "\n",
        "print('Bose-Einstein distribution verification passed!')\n",
        "print(f'Photon gas test: mu=0 case verified')\n",
        "print(f'Classical limit test: large E-mu case verified')\n",
        "print(f'Condensation condition: occupation diverges as mu→E verified')\n"
      ],
      "execution_count": null,
      "outputs": []
    },
    {
      "cell_type": "markdown",
      "metadata": {},
      "source": [
        "## Source\n",
        "\n",
        "📖 **View this entry:** [theoria-dataset.org/entries.html?entry=bose_einstein_distribution.json](https://theoria-dataset.org/entries.html?entry=bose_einstein_distribution.json)\n",
        "\n",
        "This verification code is part of the [THEORIA dataset](https://github.com/theoria-dataset/theoria-dataset), ",
        "a curated collection of theoretical physics derivations with programmatic verification.\n",
        "\n",
        "**License:** CC-BY 4.0"
      ]
    }
  ]
}