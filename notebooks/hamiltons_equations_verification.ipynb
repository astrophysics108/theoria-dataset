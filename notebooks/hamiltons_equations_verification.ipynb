{
  "nbformat": 4,
  "nbformat_minor": 0,
  "metadata": {
    "colab": {
      "provenance": []
    },
    "kernelspec": {
      "name": "python3",
      "display_name": "Python 3"
    },
    "language_info": {
      "name": "python"
    }
  },
  "cells": [
    {
      "cell_type": "markdown",
      "metadata": {},
      "source": [
        "# Hamilton's Equations\n",
        "\n",
        "This notebook contains the programmatic verification for the **Hamilton's Equations** entry from the THEORIA dataset.\n",
        "\n",
        "**Entry ID:** hamiltons_equations  \n",
        "**Required Library:** sympy 1.12.0\n",
        "\n",
        "## Description\n",
        "Hamilton's equations are a set of first-order differential equations governing the evolution of generalized coordinates (`q_i`) and conjugate momenta (`p_i`). They provide a symmetric phase-space formulation equivalent to the Euler-Lagrange equation, often simplifying analysis of conserved quantities and facilitating the transition to quantum mechanics.\n",
        "\n",
        "## Installation\n",
        "First, let's install the required library:"
      ]
    },
    {
      "cell_type": "code",
      "metadata": {},
      "source": [
        "# Install required library with exact version\n",
        "!pip install sympy==1.12.0"
      ],
      "execution_count": null,
      "outputs": []
    },
    {
      "cell_type": "markdown",
      "metadata": {},
      "source": [
        "## Programmatic Verification\n",
        "\n",
        "The following code verifies the derivation mathematically:"
      ]
    },
    {
      "cell_type": "code",
      "metadata": {},
      "source": [
        "import sympy as sp\n",
        "# Step 1: define the Hamiltonian for a harmonic oscillator\n",
        "t = sp.symbols('t', real=True)\n",
        "m, k = sp.symbols('m k', positive=True)\n",
        "x = sp.Function('x')\n",
        "p = sp.Function('p')\n",
        "H = p(t)**2/(2*m) + k*x(t)**2/2\n",
        "# Step 2: write Hamilton's equations from this H\n",
        "eq1 = sp.diff(x(t), t) - sp.diff(H, p(t))\n",
        "eq2 = sp.diff(p(t), t) + sp.diff(H, x(t))\n",
        "# Step 3: verify a known solution x(t)=cos(w t), p(t)=-m*w*sin(w t)\n",
        "w = sp.sqrt(k/m)\n",
        "x_trial = sp.cos(w*t)\n",
        "p_trial = -m*w*sp.sin(w*t)\n",
        "eq1_test = eq1.subs({x(t): x_trial, p(t): p_trial, sp.diff(x(t), t): sp.diff(x_trial, t)})\n",
        "eq2_test = eq2.subs({x(t): x_trial, p(t): p_trial, sp.diff(p(t), t): sp.diff(p_trial, t)})\n",
        "assert sp.simplify(eq1_test) == 0 and sp.simplify(eq2_test) == 0\n"
      ],
      "execution_count": null,
      "outputs": []
    },
    {
      "cell_type": "markdown",
      "metadata": {},
      "source": [
        "## Source\n",
        "\n",
        "📖 **View this entry:** [theoria-dataset.org/entries.html?entry=hamiltons_equations.json](https://theoria-dataset.org/entries.html?entry=hamiltons_equations.json)\n",
        "\n",
        "This verification code is part of the [THEORIA dataset](https://github.com/theoria-dataset/theoria-dataset), ",
        "a curated collection of theoretical physics derivations with programmatic verification.\n",
        "\n",
        "**License:** CC-BY 4.0"
      ]
    }
  ]
}