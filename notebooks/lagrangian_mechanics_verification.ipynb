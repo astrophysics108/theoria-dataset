{
  "nbformat": 4,
  "nbformat_minor": 0,
  "metadata": {
    "colab": {
      "provenance": []
    },
    "kernelspec": {
      "name": "python3",
      "display_name": "Python 3"
    },
    "language_info": {
      "name": "python"
    }
  },
  "cells": [
    {
      "cell_type": "markdown",
      "metadata": {},
      "source": [
        "# Lagrangian Mechanics\n",
        "\n",
        "This notebook contains the programmatic verification for the **Lagrangian Mechanics** entry from the THEORIA dataset.\n",
        "\n",
        "**Entry ID:** lagrangian_mechanics  \n",
        "**Required Library:** sympy 1.12.0\n",
        "\n",
        "## Description\n",
        "Lagrangian mechanics reformulates classical mechanics using the Lagrangian function L = T - V, where T is kinetic energy and V is potential energy. The principle of stationary action states that physical systems evolve along paths that make the action S stationary. This formulation provides a powerful alternative to Newtonian mechanics, particularly useful for complex coordinate systems and constrained motion.\n",
        "\n",
        "## Installation\n",
        "First, let's install the required library:"
      ]
    },
    {
      "cell_type": "code",
      "metadata": {},
      "source": [
        "# Install required library with exact version\n",
        "!pip install sympy==1.12.0"
      ],
      "execution_count": null,
      "outputs": []
    },
    {
      "cell_type": "markdown",
      "metadata": {},
      "source": [
        "## Programmatic Verification\n",
        "\n",
        "The following code verifies the derivation mathematically:"
      ]
    },
    {
      "cell_type": "code",
      "metadata": {},
      "source": [
        "import sympy as sp\n",
        "\n",
        "# Define symbols for a simple pendulum example\n",
        "t, m, g, l, theta = sp.symbols('t m g l theta', real=True)\n",
        "theta_t = sp.Function('theta')(t)\n",
        "theta_dot = sp.diff(theta_t, t)\n",
        "\n",
        "# Step 1-3: Construct Lagrangian for simple pendulum\n",
        "# T = (1/2) * m * l^2 * theta_dot^2 (kinetic energy)\n",
        "T = sp.Rational(1, 2) * m * l**2 * theta_dot**2\n",
        "# V = m * g * l * (1 - cos(theta)) (gravitational potential energy)\n",
        "V = m * g * l * (1 - sp.cos(theta_t))\n",
        "L = T - V\n",
        "\n",
        "# Step 4-7: Verify Euler-Lagrange equation gives correct equation of motion\n",
        "# Calculate partial derivatives\n",
        "dL_dtheta = sp.diff(L, theta_t)\n",
        "dL_dtheta_dot = sp.diff(L, theta_dot)\n",
        "ddt_dL_dtheta_dot = sp.diff(dL_dtheta_dot, t)\n",
        "\n",
        "# Euler-Lagrange equation: d/dt(dL/dtheta_dot) - dL/dtheta = 0\n",
        "euler_lagrange = ddt_dL_dtheta_dot - dL_dtheta\n",
        "euler_lagrange_simplified = sp.simplify(euler_lagrange)\n",
        "\n",
        "# Expected equation of motion for simple pendulum: m*l^2*theta_ddot + m*g*l*sin(theta) = 0\n",
        "# or theta_ddot + (g/l)*sin(theta) = 0\n",
        "expected_eom = sp.diff(theta_t, t, 2) + (g/l) * sp.sin(theta_t)\n",
        "\n",
        "# Verify they are equivalent (divide by m*l^2)\n",
        "normalized_el = sp.simplify(euler_lagrange_simplified / (m * l**2))\n",
        "assert sp.simplify(normalized_el - expected_eom) == 0\n",
        "\n",
        "print(f'Lagrangian: L = {L}')\n",
        "print(f'Euler-Lagrange equation: {euler_lagrange_simplified} = 0')\n",
        "print(f'Expected equation of motion: {m * l**2 * expected_eom} = 0')\n",
        "print('Verification successful: Lagrangian mechanics gives correct pendulum equation!')\n"
      ],
      "execution_count": null,
      "outputs": []
    },
    {
      "cell_type": "markdown",
      "metadata": {},
      "source": [
        "## Source\n",
        "\n",
        "📖 **View this entry:** [theoria-dataset.org/entries.html?entry=lagrangian_mechanics.json](https://theoria-dataset.org/entries.html?entry=lagrangian_mechanics.json)\n",
        "\n",
        "This verification code is part of the [THEORIA dataset](https://github.com/theoria-dataset/theoria-dataset), ",
        "a curated collection of theoretical physics derivations with programmatic verification.\n",
        "\n",
        "**License:** CC-BY 4.0"
      ]
    }
  ]
}