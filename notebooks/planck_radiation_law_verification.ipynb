{
  "nbformat": 4,
  "nbformat_minor": 0,
  "metadata": {
    "colab": {
      "provenance": []
    },
    "kernelspec": {
      "name": "python3",
      "display_name": "Python 3"
    },
    "language_info": {
      "name": "python"
    }
  },
  "cells": [
    {
      "cell_type": "markdown",
      "metadata": {},
      "source": [
        "# Planck's Radiation Law\n",
        "\n",
        "This notebook contains the programmatic verification for the **Planck's Radiation Law** entry from the THEORIA dataset.\n",
        "\n",
        "**Entry ID:** planck_radiation_law  \n",
        "**Required Library:** sympy 1.12.0\n",
        "\n",
        "## Description\n",
        "Planck's law describes the spectral energy density of black-body radiation as a function of frequency and temperature. By quantizing electromagnetic modes with energy quanta `h*nu`, it resolves the ultraviolet catastrophe of classical physics and underpins modern quantum theory and thermal emission models.\n",
        "\n",
        "## Installation\n",
        "First, let's install the required library:"
      ]
    },
    {
      "cell_type": "code",
      "metadata": {},
      "source": [
        "# Install required library with exact version\n",
        "!pip install sympy==1.12.0"
      ],
      "execution_count": null,
      "outputs": []
    },
    {
      "cell_type": "markdown",
      "metadata": {},
      "source": [
        "## Programmatic Verification\n",
        "\n",
        "The following code verifies the derivation mathematically:"
      ]
    },
    {
      "cell_type": "code",
      "metadata": {},
      "source": [
        "import sympy as sp\n",
        "nu, T, h, k_B, c, n, L, R = sp.symbols('nu T h k_B c n L R', positive=True)\n",
        "\n",
        "# Steps 6-10: Mode counting derivation\n",
        "# Step 6: Transform to integer space\n",
        "R = 2*L*nu/c\n",
        "\n",
        "# Step 7: Count modes in spherical shell\n",
        "N_sphere = sp.Rational(1,8) * 4*sp.pi * R**2 * sp.Symbol('dR')\n",
        "\n",
        "# Step 8: Include polarizations\n",
        "N_all = N_sphere * 2\n",
        "N_all_simplified = sp.simplify(N_all)\n",
        "N_all_expected = sp.pi * R**2 * sp.Symbol('dR')\n",
        "assert sp.expand(N_all_simplified) == sp.expand(N_all_expected)\n",
        "\n",
        "# Step 9: Substitute R and dR back in terms of frequency\n",
        "dR = 2*L*sp.Symbol('dnu')/c\n",
        "N_all_freq = N_all_expected.subs([(R, 2*L*nu/c), (sp.Symbol('dR'), dR)])\n",
        "N_all_freq_simplified = sp.simplify(N_all_freq)\n",
        "\n",
        "# Step 10: Mode density per unit volume\n",
        "rho = N_all_freq_simplified / (L**3 * sp.Symbol('dnu'))\n",
        "rho_simplified = sp.simplify(rho)\n",
        "rho_expected = (8*sp.pi*nu**2)/(c**3)\n",
        "assert sp.expand(rho_simplified) == sp.expand(rho_expected)\n",
        "\n",
        "# Step 11: Energy quantization\n",
        "E_n = n*h*nu\n",
        "\n",
        "# Step 12: Partition function definition\n",
        "Z_sum = sp.Sum(sp.exp(-n*h*nu/(k_B*T)), (n, 0, sp.oo))\n",
        "\n",
        "# Step 13: Average occupation definition\n",
        "n_avg_sum = sp.Sum(n * sp.exp(-n*h*nu/(k_B*T)), (n, 0, sp.oo))\n",
        "\n",
        "# Step 14: Evaluate geometric series\n",
        "Z_eval = 1/(1 - sp.exp(-h*nu/(k_B*T)))\n",
        "n_avg_eval = 1/(sp.exp(h*nu/(k_B*T)) - 1)\n",
        "\n",
        "# Step 15: Average energy per mode\n",
        "E_avg = n_avg_eval * h*nu\n",
        "E_avg_expected = (h*nu)/(sp.exp(h*nu/(k_B*T)) - 1)\n",
        "assert sp.expand(E_avg) == sp.expand(E_avg_expected)\n",
        "\n",
        "# Step 16: Final Planck's law\n",
        "u_planck = rho_expected * E_avg\n",
        "u_expected = (8*sp.pi*h*nu**3)/(c**3*(sp.exp(h*nu/(k_B*T)) - 1))\n",
        "assert sp.expand(u_planck) == sp.expand(u_expected)\n",
        "\n",
        "# Verify against original result equation\n",
        "u_original = (8*sp.pi*h*nu**3)/(c**3)*(1)/(sp.exp((h*nu)/(k_B*T)) - 1)\n",
        "assert sp.expand(u_expected) == sp.expand(u_original)\n"
      ],
      "execution_count": null,
      "outputs": []
    },
    {
      "cell_type": "markdown",
      "metadata": {},
      "source": [
        "## Source\n",
        "\n",
        "📖 **View this entry:** [theoria-dataset.org/entries.html?entry=planck_radiation_law.json](https://theoria-dataset.org/entries.html?entry=planck_radiation_law.json)\n",
        "\n",
        "This verification code is part of the [THEORIA dataset](https://github.com/theoria-dataset/theoria-dataset), ",
        "a curated collection of theoretical physics derivations with programmatic verification.\n",
        "\n",
        "**License:** CC-BY 4.0"
      ]
    }
  ]
}