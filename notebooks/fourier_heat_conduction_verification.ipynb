{
  "nbformat": 4,
  "nbformat_minor": 0,
  "metadata": {
    "colab": {
      "provenance": []
    },
    "kernelspec": {
      "name": "python3",
      "display_name": "Python 3"
    },
    "language_info": {
      "name": "python"
    }
  },
  "cells": [
    {
      "cell_type": "markdown",
      "metadata": {},
      "source": [
        "# Fourier's Law of Heat Conduction\n",
        "\n",
        "This notebook contains the programmatic verification for the **Fourier's Law of Heat Conduction** entry from the THEORIA dataset.\n",
        "\n",
        "**Entry ID:** fourier_heat_conduction  \n",
        "**Required Library:** sympy 1.12.0\n",
        "\n",
        "## Description\n",
        "Fourier's conduction law states that heat-flux density `vec{q}` is proportional to the negative temperature gradient, `vec{q} = -k*nabla T`. It defines thermal conductivity, leads directly to the heat-diffusion equation and quantifies how rapidly solids or stationary fluids conduct heat. Engineers apply it to rate insulation, design heat exchangers and simulate geothermal or electronic cooling problems.\n",
        "\n",
        "## Installation\n",
        "First, let's install the required library:"
      ]
    },
    {
      "cell_type": "code",
      "metadata": {},
      "source": [
        "# Install required library with exact version\n",
        "!pip install sympy==1.12.0"
      ],
      "execution_count": null,
      "outputs": []
    },
    {
      "cell_type": "markdown",
      "metadata": {},
      "source": [
        "## Programmatic Verification\n",
        "\n",
        "The following code verifies the derivation mathematically:"
      ]
    },
    {
      "cell_type": "code",
      "metadata": {},
      "source": [
        "import sympy as sp\n",
        "# Define symbols for verification\n",
        "x, L, k, T1, T2 = sp.symbols('x L k T1 T2', positive=True)\n",
        "\n",
        "# Step 1: Define linear temperature profile (T1 at x=0, T2 at x=L)\n",
        "T = T1 + (T2 - T1)*x/L\n",
        "\n",
        "# Step 2: Calculate heat flux using Fourier's law\n",
        "q = -k*sp.diff(T, x)\n",
        "\n",
        "# Step 3: Verify that the heat flux matches the expected form\n",
        "# For linear T profile, q should be constant: q = k*(T1-T2)/L\n",
        "assert sp.simplify(q - k*(T1 - T2)/L) == 0\n"
      ],
      "execution_count": null,
      "outputs": []
    },
    {
      "cell_type": "markdown",
      "metadata": {},
      "source": [
        "## Source\n",
        "\n",
        "📖 **View this entry:** [theoria-dataset.org/entries.html?entry=fourier_heat_conduction.json](https://theoria-dataset.org/entries.html?entry=fourier_heat_conduction.json)\n",
        "\n",
        "This verification code is part of the [THEORIA dataset](https://github.com/theoria-dataset/theoria-dataset), ",
        "a curated collection of theoretical physics derivations with programmatic verification.\n",
        "\n",
        "**License:** CC-BY 4.0"
      ]
    }
  ]
}