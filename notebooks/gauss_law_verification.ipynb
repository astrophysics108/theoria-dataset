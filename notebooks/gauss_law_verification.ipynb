{
  "nbformat": 4,
  "nbformat_minor": 0,
  "metadata": {
    "colab": {
      "provenance": []
    },
    "kernelspec": {
      "name": "python3",
      "display_name": "Python 3"
    },
    "language_info": {
      "name": "python"
    }
  },
  "cells": [
    {
      "cell_type": "markdown",
      "metadata": {},
      "source": [
        "# Gauss's Law\n",
        "\n",
        "This notebook contains the programmatic verification for the **Gauss's Law** entry from the THEORIA dataset.\n",
        "\n",
        "**Entry ID:** gauss_law  \n",
        "**Required Library:** sympy 1.12.0\n",
        "\n",
        "## Description\n",
        "Gauss's law relates the electric flux through a closed surface to the electric charge enclosed by that surface. It is one of Maxwell's equations and provides a powerful method for calculating electric fields in situations with high symmetry.\n",
        "\n",
        "## Installation\n",
        "First, let's install the required library:"
      ]
    },
    {
      "cell_type": "code",
      "metadata": {},
      "source": [
        "# Install required library with exact version\n",
        "!pip install sympy==1.12.0"
      ],
      "execution_count": null,
      "outputs": []
    },
    {
      "cell_type": "markdown",
      "metadata": {},
      "source": [
        "## Programmatic Verification\n",
        "\n",
        "The following code verifies the derivation mathematically:"
      ]
    },
    {
      "cell_type": "code",
      "metadata": {},
      "source": [
        "import math\n",
        "# Constants\n",
        "epsilon_0 = 8.854e-12  # F/m\n",
        "k = 1 / (4 * math.pi * epsilon_0)  # Coulomb's constant\n",
        "print('Gauss\\'s Law Verification\\n')\n",
        "print('=' * 40)\n",
        "# Test 1: Point charge in spherical Gaussian surface\n",
        "def verify_point_charge_sphere():\n",
        "    \"\"\"Verify Gauss's law for point charge using spherical surface\"\"\"\n",
        "    print('Test 1: Point charge with spherical Gaussian surface')\n",
        "    \n",
        "    Q = 1e-9  # charge in C\n",
        "    r = 0.5   # radius of Gaussian sphere in m\n",
        "    \n",
        "    # Calculate electric field at surface using Coulomb's law\n",
        "    E_coulomb = k * Q / r**2\n",
        "    \n",
        "    # Calculate flux using Gauss's law\n",
        "    surface_area = 4 * math.pi * r**2\n",
        "    flux_calculated = E_coulomb * surface_area\n",
        "    \n",
        "    # Flux from Gauss's law\n",
        "    flux_gauss = Q / epsilon_0\n",
        "    \n",
        "    print(f'  Charge: {Q*1e9:.1f} nC')\n",
        "    print(f'  Sphere radius: {r} m')\n",
        "    print(f'  Electric field: {E_coulomb:.3f} N/C')\n",
        "    print(f'  Surface area: {surface_area:.3f} m²')\n",
        "    print(f'  Flux calculated: {flux_calculated:.6e} N⋅m²/C')\n",
        "    print(f'  Flux from Gauss: {flux_gauss:.6e} N⋅m²/C')\n",
        "    print(f'  Agreement: {math.isclose(flux_calculated, flux_gauss)}')\n",
        "    print()\n",
        "    \n",
        "    return math.isclose(flux_calculated, flux_gauss)\n",
        "# Run verification\n",
        "test1_result = verify_point_charge_sphere()\n",
        "print(f'Gauss law verification result: {test1_result}')\n"
      ],
      "execution_count": null,
      "outputs": []
    },
    {
      "cell_type": "markdown",
      "metadata": {},
      "source": [
        "## Source\n",
        "\n",
        "📖 **View this entry:** [theoria-dataset.org/entries.html?entry=gauss_law.json](https://theoria-dataset.org/entries.html?entry=gauss_law.json)\n",
        "\n",
        "This verification code is part of the [THEORIA dataset](https://github.com/theoria-dataset/theoria-dataset), ",
        "a curated collection of theoretical physics derivations with programmatic verification.\n",
        "\n",
        "**License:** CC-BY 4.0"
      ]
    }
  ]
}