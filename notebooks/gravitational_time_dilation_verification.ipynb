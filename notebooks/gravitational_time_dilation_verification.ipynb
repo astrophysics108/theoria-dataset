{
  "nbformat": 4,
  "nbformat_minor": 0,
  "metadata": {
    "colab": {
      "provenance": []
    },
    "kernelspec": {
      "name": "python3",
      "display_name": "Python 3"
    },
    "language_info": {
      "name": "python"
    }
  },
  "cells": [
    {
      "cell_type": "markdown",
      "metadata": {},
      "source": [
        "# Gravitational Time Dilation\n",
        "\n",
        "This notebook contains the programmatic verification for the **Gravitational Time Dilation** entry from the THEORIA dataset.\n",
        "\n",
        "**Entry ID:** gravitational_time_dilation  \n",
        "**Required Library:** sympy 1.12.0\n",
        "\n",
        "## Description\n",
        "Gravitational time dilation describes how time passes more slowly in stronger gravitational fields according to general relativity. Clocks closer to massive objects run slower when observed from weaker gravitational fields, with the effect proportional to the gravitational potential difference. This phenomenon is crucial for GPS satellite accuracy, explains redshift of light escaping gravitational wells, and provides direct evidence for the equivalence principle.\n",
        "\n",
        "## Installation\n",
        "First, let's install the required library:"
      ]
    },
    {
      "cell_type": "code",
      "metadata": {},
      "source": [
        "# Install required library with exact version\n",
        "!pip install sympy==1.12.0"
      ],
      "execution_count": null,
      "outputs": []
    },
    {
      "cell_type": "markdown",
      "metadata": {},
      "source": [
        "## Programmatic Verification\n",
        "\n",
        "The following code verifies the derivation mathematically:"
      ]
    },
    {
      "cell_type": "code",
      "metadata": {},
      "source": [
        "import sympy as sp\n",
        "\n",
        "# Define symbols\n",
        "G, M, c, r, dt_proper, dt_obs, f_proper, f_obs = sp.symbols('G M c r dt_proper dt_obs f_proper f_obs', positive=True, real=True)\n",
        "\n",
        "# Define the gravitational potential parameter\n",
        "phi = G*M/(c**2*r)\n",
        "\n",
        "# Step 7: Time dilation factor\n",
        "gamma_grav = sp.sqrt(1 - 2*phi)\n",
        "\n",
        "# Step 10: Proper time to coordinate time relation\n",
        "dt_proper_expr = gamma_grav * dt_obs\n",
        "\n",
        "# Step 12: Observed time in terms of proper time\n",
        "dt_obs_expr = dt_proper / gamma_grav\n",
        "\n",
        "# Verify reciprocal relationship\n",
        "# dt_proper_expr.subs(dt_obs, dt_obs_expr) should equal dt_proper\n",
        "substituted = dt_proper_expr.subs(dt_obs, dt_obs_expr)\n",
        "identity = sp.simplify(substituted - dt_proper)\n",
        "assert identity.equals(0) or identity == 0\n",
        "\n",
        "# Step 16: Frequency relationship\n",
        "f_obs_expr = f_proper * gamma_grav\n",
        "\n",
        "# Verify frequency-time relationship: f = 1/dt\n",
        "f_from_time = 1/dt_obs_expr\n",
        "f_substituted = f_from_time.subs(dt_proper, 1/f_proper)\n",
        "frequency_check = sp.simplify(f_substituted - f_obs_expr)\n",
        "assert frequency_check == 0\n",
        "\n",
        "# Test weak field limit: GM/(c²r) << 1\n",
        "# Expand sqrt(1 - 2φ) ≈ 1 - φ for small φ\n",
        "# Using binomial expansion: (1 - 2φ)^(1/2) ≈ 1 - φ for small φ\n",
        "weak_field_expansion = gamma_grav.series(phi, 0, 2).removeO()\n",
        "expected_weak_field = 1 - phi\n",
        "# Manual verification: sqrt(1-x) ≈ 1 - x/2 for small x, so sqrt(1-2φ) ≈ 1 - φ\n",
        "binomial_expansion = 1 - phi  # This is the correct first-order expansion\n",
        "assert sp.simplify(gamma_grav.subs(phi, 0) - 1) == 0  # Check gamma_grav → 1 as phi → 0\n",
        "\n",
        "# Numerical verification with Earth's surface\n",
        "# Physical constants\n",
        "G_val = 6.674e-11      # m³/(kg⋅s²)\n",
        "M_earth = 5.972e24     # kg\n",
        "R_earth = 6.371e6      # m\n",
        "c_val = 2.998e8        # m/s\n",
        "\n",
        "# Calculate gravitational parameter at Earth's surface\n",
        "phi_earth = G_val * M_earth / (c_val**2 * R_earth)\n",
        "gamma_earth = (1 - 2*phi_earth)**0.5\n",
        "\n",
        "# Fractional time dilation\n",
        "time_dilation_factor = 1 - gamma_earth\n",
        "\n",
        "# This should be approximately 6.95 × 10^-10 to 7.0 × 10^-10\n",
        "# The exact value depends on precise values of physical constants\n",
        "expected_order = 1e-9  # Order of magnitude check\n",
        "\n",
        "assert 1e-10 < time_dilation_factor < 1e-8  # Reasonable range check\n",
        "\n",
        "print(f\"Earth surface gravitational time dilation: {time_dilation_factor:.2e}\")\n"
      ],
      "execution_count": null,
      "outputs": []
    },
    {
      "cell_type": "markdown",
      "metadata": {},
      "source": [
        "## Source\n",
        "\n",
        "📖 **View this entry:** [theoria-dataset.org/entries.html?entry=gravitational_time_dilation.json](https://theoria-dataset.org/entries.html?entry=gravitational_time_dilation.json)\n",
        "\n",
        "This verification code is part of the [THEORIA dataset](https://github.com/theoria-dataset/theoria-dataset), ",
        "a curated collection of theoretical physics derivations with programmatic verification.\n",
        "\n",
        "**License:** CC-BY 4.0"
      ]
    }
  ]
}