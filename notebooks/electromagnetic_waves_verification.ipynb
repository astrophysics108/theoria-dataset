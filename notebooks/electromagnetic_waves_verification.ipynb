{
  "nbformat": 4,
  "nbformat_minor": 0,
  "metadata": {
    "colab": {
      "provenance": []
    },
    "kernelspec": {
      "name": "python3",
      "display_name": "Python 3"
    },
    "language_info": {
      "name": "python"
    }
  },
  "cells": [
    {
      "cell_type": "markdown",
      "metadata": {},
      "source": [
        "# Electromagnetic Waves\n",
        "\n",
        "This notebook contains the programmatic verification for the **Electromagnetic Waves** entry from the THEORIA dataset.\n",
        "\n",
        "**Entry ID:** electromagnetic_waves  \n",
        "**Required Library:** sympy 1.12.0\n",
        "\n",
        "## Description\n",
        "Electromagnetic waves are self-propagating oscillations of electric and magnetic fields that travel at the speed of light. They result from Maxwell's equations and include visible light, radio waves, X-rays, and all other forms of electromagnetic radiation. The wave equation shows that EM disturbances propagate at speed c = 1/√(μ₀ε₀).\n",
        "\n",
        "## Installation\n",
        "First, let's install the required library:"
      ]
    },
    {
      "cell_type": "code",
      "metadata": {},
      "source": [
        "# Install required library with exact version\n",
        "!pip install sympy==1.12.0"
      ],
      "execution_count": null,
      "outputs": []
    },
    {
      "cell_type": "markdown",
      "metadata": {},
      "source": [
        "## Programmatic Verification\n",
        "\n",
        "The following code verifies the derivation mathematically:"
      ]
    },
    {
      "cell_type": "code",
      "metadata": {},
      "source": [
        "import sympy as sp\n",
        "# Define symbols\n",
        "x, t, k, omega, c, mu0, eps0 = sp.symbols('x t k omega c mu0 eps0', real=True, positive=True)\n",
        "# Plane wave solution\n",
        "E = sp.cos(k*x - omega*t)\n",
        "# Verify wave equation for 1D case\n",
        "d2E_dx2 = sp.diff(E, x, 2)\n",
        "d2E_dt2 = sp.diff(E, t, 2)\n",
        "# Wave equation: d²E/dx² - (1/c²)d²E/dt² = 0\n",
        "wave_eq = d2E_dx2 - (1/c**2)*d2E_dt2\n",
        "# For plane wave, this should be satisfied when omega = c*k\n",
        "wave_eq_substituted = wave_eq.subs(omega, c*k)\n",
        "assert sp.simplify(wave_eq_substituted) == 0\n",
        "# Verify speed of light relationship\n",
        "c_formula = 1/sp.sqrt(mu0*eps0)\n",
        "# Check that c² = 1/(μ₀ε₀)\n",
        "c_squared = c_formula**2\n",
        "expected = 1/(mu0*eps0)\n",
        "assert sp.simplify(c_squared - expected) == 0\n",
        "# Verify dispersion relation\n",
        "dispersion = omega - c*k\n",
        "# For EM waves in vacuum, ω = ck\n",
        "assert dispersion.subs(omega, c*k) == 0\n"
      ],
      "execution_count": null,
      "outputs": []
    },
    {
      "cell_type": "markdown",
      "metadata": {},
      "source": [
        "## Source\n",
        "\n",
        "📖 **View this entry:** [theoria-dataset.org/entries.html?entry=electromagnetic_waves.json](https://theoria-dataset.org/entries.html?entry=electromagnetic_waves.json)\n",
        "\n",
        "This verification code is part of the [THEORIA dataset](https://github.com/theoria-dataset/theoria-dataset), ",
        "a curated collection of theoretical physics derivations with programmatic verification.\n",
        "\n",
        "**License:** CC-BY 4.0"
      ]
    }
  ]
}