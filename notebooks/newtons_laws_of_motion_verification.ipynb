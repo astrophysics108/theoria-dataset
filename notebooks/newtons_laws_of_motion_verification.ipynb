{
  "nbformat": 4,
  "nbformat_minor": 0,
  "metadata": {
    "colab": {
      "provenance": []
    },
    "kernelspec": {
      "name": "python3",
      "display_name": "Python 3"
    },
    "language_info": {
      "name": "python"
    }
  },
  "cells": [
    {
      "cell_type": "markdown",
      "metadata": {},
      "source": [
        "# Newton's Laws of Motion\n",
        "\n",
        "This notebook contains the programmatic verification for the **Newton's Laws of Motion** entry from the THEORIA dataset.\n",
        "\n",
        "**Entry ID:** newtons_laws_of_motion  \n",
        "**Required Library:** sympy 1.12.0\n",
        "\n",
        "## Description\n",
        "Newton's three laws of motion form the foundation of classical mechanics. The First Law (Law of Inertia) states that objects maintain constant velocity unless acted upon by a net force, defining inertial reference frames. The Second Law establishes that net force equals mass times acceleration, or the rate of change of momentum, providing the fundamental equation of motion. The Third Law states that forces occur in equal and opposite pairs, ensuring momentum conservation. Together, these laws enable the prediction and analysis of motion for all macroscopic objects in the classical regime.\n",
        "\n",
        "## Installation\n",
        "First, let's install the required library:"
      ]
    },
    {
      "cell_type": "code",
      "metadata": {},
      "source": [
        "# Install required library with exact version\n",
        "!pip install sympy==1.12.0"
      ],
      "execution_count": null,
      "outputs": []
    },
    {
      "cell_type": "markdown",
      "metadata": {},
      "source": [
        "## Programmatic Verification\n",
        "\n",
        "The following code verifies the derivation mathematically:"
      ]
    },
    {
      "cell_type": "code",
      "metadata": {},
      "source": [
        "import sympy as sp\n",
        "\n",
        "# Define symbols\n",
        "t, m, v0 = sp.symbols('t m v0', real=True, positive=True)\n",
        "Fx_AB, Fy_AB, Fz_AB = sp.symbols('Fx_AB Fy_AB Fz_AB', real=True)\n",
        "Fx_BA, Fy_BA, Fz_BA = sp.symbols('Fx_BA Fy_BA Fz_BA', real=True)\n",
        "\n",
        "# Test First Law: If net force is zero, velocity is constant\n",
        "a = 0  # zero acceleration\n",
        "v = sp.integrate(a, t) + v0  # integrate to get velocity\n",
        "assert sp.diff(v, t) == 0  # velocity is constant\n",
        "assert v == v0  # velocity equals initial velocity\n",
        "\n",
        "# Test Second Law: Verify F = dp/dt reduces to F = ma for constant mass\n",
        "v_x_t = sp.Function('v_x')(t)\n",
        "p_x = m * v_x_t  # momentum\n",
        "F_x_momentum = sp.diff(p_x, t)  # F = dp/dt\n",
        "F_x_ma = m * sp.diff(v_x_t, t)  # F = ma\n",
        "assert sp.simplify(F_x_momentum - F_x_ma) == 0\n",
        "\n",
        "# Test Third Law: Action-reaction pairs sum to zero\n",
        "F_AB = sp.Matrix([Fx_AB, Fy_AB, Fz_AB])\n",
        "F_BA = sp.Matrix([Fx_BA, Fy_BA, Fz_BA])\n",
        "\n",
        "# Newton's third law: F_AB = -F_BA\n",
        "substitutions = {Fx_BA: -Fx_AB, Fy_BA: -Fy_AB, Fz_BA: -Fz_AB}\n",
        "total_force = F_AB + F_BA\n",
        "total_force_substituted = total_force.subs(substitutions)\n",
        "assert total_force_substituted == sp.Matrix([0, 0, 0])\n",
        "\n",
        "# Test momentum conservation consequence\n",
        "F_AB_test = sp.Matrix([10, -5, 3])\n",
        "F_BA_test = -F_AB_test\n",
        "assert F_AB_test + F_BA_test == sp.Matrix([0, 0, 0])\n"
      ],
      "execution_count": null,
      "outputs": []
    },
    {
      "cell_type": "markdown",
      "metadata": {},
      "source": [
        "## Source\n",
        "\n",
        "📖 **View this entry:** [theoria-dataset.org/entries.html?entry=newtons_laws_of_motion.json](https://theoria-dataset.org/entries.html?entry=newtons_laws_of_motion.json)\n",
        "\n",
        "This verification code is part of the [THEORIA dataset](https://github.com/theoria-dataset/theoria-dataset), ",
        "a curated collection of theoretical physics derivations with programmatic verification.\n",
        "\n",
        "**License:** CC-BY 4.0"
      ]
    }
  ]
}