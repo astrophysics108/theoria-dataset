{
  "nbformat": 4,
  "nbformat_minor": 0,
  "metadata": {
    "colab": {
      "provenance": []
    },
    "kernelspec": {
      "name": "python3",
      "display_name": "Python 3"
    },
    "language_info": {
      "name": "python"
    }
  },
  "cells": [
    {
      "cell_type": "markdown",
      "metadata": {},
      "source": [
        "# Gibbs Free Energy\n",
        "\n",
        "This notebook contains the programmatic verification for the **Gibbs Free Energy** entry from the THEORIA dataset.\n",
        "\n",
        "**Entry ID:** gibbs_free_energy  \n",
        "**Required Library:** sympy 1.12.0\n",
        "\n",
        "## Description\n",
        "Gibbs free energy is a thermodynamic potential that measures the maximum reversible work that can be performed by a system at constant temperature and pressure. It determines the direction of spontaneous processes: reactions proceed when ΔG < 0. This function is fundamental in chemistry, materials science, and phase transitions.\n",
        "\n",
        "## Installation\n",
        "First, let's install the required library:"
      ]
    },
    {
      "cell_type": "code",
      "metadata": {},
      "source": [
        "# Install required library with exact version\n",
        "!pip install sympy==1.12.0"
      ],
      "execution_count": null,
      "outputs": []
    },
    {
      "cell_type": "markdown",
      "metadata": {},
      "source": [
        "## Programmatic Verification\n",
        "\n",
        "The following code verifies the derivation mathematically:"
      ]
    },
    {
      "cell_type": "code",
      "metadata": {},
      "source": [
        "import sympy as sp\n",
        "# Define thermodynamic variables\n",
        "U, H, S, T, P, V, G = sp.symbols('U H S T P V G')\n",
        "mu, N = sp.symbols('mu N')\n",
        "# Verify Gibbs free energy definition\n",
        "G_def = H - T*S\n",
        "# Alternative definition\n",
        "G_alt = U + P*V - T*S\n",
        "# These should be equivalent since H = U + PV\n",
        "H_def = U + P*V\n",
        "assert sp.simplify(G_def.subs(H, H_def) - G_alt) == 0\n",
        "# Verify Maxwell relations from Gibbs potential\n",
        "# From dG = -S dT + V dP, we get Maxwell relations:\n",
        "# (∂S/∂P)_T = -(∂V/∂T)_P\n",
        "# Verify thermodynamic identity for ideal gas\n",
        "n, R = sp.symbols('n R', positive=True)  # moles, gas constant\n",
        "# For ideal gas: PV = nRT\n",
        "V_ideal = n*R*T/P\n",
        "U_ideal = sp.Rational(3,2)*n*R*T  # monatomic ideal gas\n",
        "H_ideal = U_ideal + P*V_ideal\n",
        "# Verify H = U + PV for ideal gas\n",
        "H_expected = sp.Rational(3,2)*n*R*T + n*R*T\n",
        "H_simplified = sp.Rational(5,2)*n*R*T\n",
        "assert sp.simplify(H_ideal - H_simplified) == 0\n",
        "# Verify that enthalpy is extensive (scales with amount n)\n",
        "H_2n = H_ideal.subs(n, 2*n)\n",
        "assert sp.simplify(H_2n - 2*H_ideal) == 0\n"
      ],
      "execution_count": null,
      "outputs": []
    },
    {
      "cell_type": "markdown",
      "metadata": {},
      "source": [
        "## Source\n",
        "\n",
        "📖 **View this entry:** [theoria-dataset.org/entries.html?entry=gibbs_free_energy.json](https://theoria-dataset.org/entries.html?entry=gibbs_free_energy.json)\n",
        "\n",
        "This verification code is part of the [THEORIA dataset](https://github.com/theoria-dataset/theoria-dataset), ",
        "a curated collection of theoretical physics derivations with programmatic verification.\n",
        "\n",
        "**License:** CC-BY 4.0"
      ]
    }
  ]
}