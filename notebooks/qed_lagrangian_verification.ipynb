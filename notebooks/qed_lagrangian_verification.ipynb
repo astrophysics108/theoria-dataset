{
  "nbformat": 4,
  "nbformat_minor": 0,
  "metadata": {
    "colab": {
      "provenance": []
    },
    "kernelspec": {
      "name": "python3",
      "display_name": "Python 3"
    },
    "language_info": {
      "name": "python"
    }
  },
  "cells": [
    {
      "cell_type": "markdown",
      "metadata": {},
      "source": [
        "# QED Lagrangian Density\n",
        "\n",
        "This notebook contains the programmatic verification for the **QED Lagrangian Density** entry from the THEORIA dataset.\n",
        "\n",
        "**Entry ID:** qed_lagrangian  \n",
        "**Required Library:** sympy 1.12.0\n",
        "\n",
        "## Description\n",
        "The QED Lagrangian density merges the standalone photon field contribution and the free spin-½ fermion action by using the simplest gauge-invariant prescription: replacing ordinary derivatives with a covariant derivative. It therefore fully specifies how light and charged matter propagate and interact under a local U(1) symmetry, and its variation directly yields Maxwell's laws sourced by the fermion current and the Dirac equation in an electromagnetic field.\n",
        "\n",
        "## Installation\n",
        "First, let's install the required library:"
      ]
    },
    {
      "cell_type": "code",
      "metadata": {},
      "source": [
        "# Install required library with exact version\n",
        "!pip install sympy==1.12.0"
      ],
      "execution_count": null,
      "outputs": []
    },
    {
      "cell_type": "markdown",
      "metadata": {},
      "source": [
        "## Programmatic Verification\n",
        "\n",
        "The following code verifies the derivation mathematically:"
      ]
    },
    {
      "cell_type": "code",
      "metadata": {},
      "source": [
        "import sympy as sp\n\n",
        "t,x,y,z=sp.symbols('t x y z'); coords=[t,x,y,z]\n\n",
        "alpha=sp.Function('a')(t,x,y,z); e=sp.symbols('e')\n\n",
        "A=[sp.Function(f'A{i}')(t,x,y,z) for i in range(4)]\n\n",
        "psi=sp.Function('psi')(t,x,y,z)\n\n",
        "# helpers\n\n",
        "D=lambda mu,ps,AA: sp.diff(ps,coords[mu])+sp.I*e*AA[mu]*ps\n\n",
        "F=lambda mu,nu,AA: sp.diff(AA[nu],coords[mu])-sp.diff(AA[mu],coords[nu])\n\n",
        "# gauge transform\n\n",
        "psi_p=sp.exp(-sp.I*e*alpha)*psi\n\n",
        "A_p=[A[i]+sp.diff(alpha,coords[i]) for i in range(4)]\n\n",
        "# Step4: D transforms covariantly\n\n",
        "assert sp.simplify(sp.exp(sp.I*e*alpha)*D(0,psi_p,A_p)-D(0,psi,A))==0\n\n",
        "# Step6: F is gauge invariant (check 0,1)\n\n",
        "assert sp.simplify(F(0,1,A_p)-F(0,1,A))==0\n\n",
        "# Step7: sample Maxwell term invariant\n\n",
        "L1=-sp.Rational(1,4)*F(0,1,A)**2; L1p=-sp.Rational(1,4)*F(0,1,A_p)**2\n\n",
        "assert sp.simplify(L1p-L1)==0\n\n",
        "print('Steps 4–7 verified')\n"
      ],
      "execution_count": null,
      "outputs": []
    },
    {
      "cell_type": "markdown",
      "metadata": {},
      "source": [
        "## Source\n",
        "\n",
        "📖 **View this entry:** [theoria-dataset.org/entries.html?entry=qed_lagrangian.json](https://theoria-dataset.org/entries.html?entry=qed_lagrangian.json)\n",
        "\n",
        "This verification code is part of the [THEORIA dataset](https://github.com/theoria-dataset/theoria-dataset), ",
        "a curated collection of theoretical physics derivations with programmatic verification.\n",
        "\n",
        "**License:** CC-BY 4.0"
      ]
    }
  ]
}