{
  "nbformat": 4,
  "nbformat_minor": 0,
  "metadata": {
    "colab": {
      "provenance": []
    },
    "kernelspec": {
      "name": "python3",
      "display_name": "Python 3"
    },
    "language_info": {
      "name": "python"
    }
  },
  "cells": [
    {
      "cell_type": "markdown",
      "metadata": {},
      "source": [
        "# Second Law of Thermodynamics (Clausius Inequality)\n",
        "\n",
        "This notebook contains the programmatic verification for the **Second Law of Thermodynamics (Clausius Inequality)** entry from the THEORIA dataset.\n",
        "\n",
        "**Entry ID:** second_law_thermodynamics_clausius  \n",
        "**Required Library:** sympy 1.12.0\n",
        "\n",
        "## Description\n",
        "The second law of thermodynamics, expressed through the Clausius inequality, states that the integral of heat flow divided by temperature over any closed cycle is non-positive. This leads to the definition of entropy as a state function whose total change in an isolated system is always non-negative. The law establishes the arrow of time and explains why certain processes are irreversible in nature.\n",
        "\n",
        "## Installation\n",
        "First, let's install the required library:"
      ]
    },
    {
      "cell_type": "code",
      "metadata": {},
      "source": [
        "# Install required library with exact version\n",
        "!pip install sympy==1.12.0"
      ],
      "execution_count": null,
      "outputs": []
    },
    {
      "cell_type": "markdown",
      "metadata": {},
      "source": [
        "## Programmatic Verification\n",
        "\n",
        "The following code verifies the derivation mathematically:"
      ]
    },
    {
      "cell_type": "code",
      "metadata": {},
      "source": [
        "import sympy as sp\n",
        "import math\n",
        "# Define symbols\n",
        "Q_h, Q_c, T_h, T_c, W, eta, S = sp.symbols('Q_h Q_c T_h T_c W eta S', real=True)\n",
        "# Step 1: Carnot efficiency\n",
        "eta_carnot = 1 - T_c/T_h\n",
        "# Step 3-4: Efficiency constraint and first law\n",
        "eta_real = W/Q_h\n",
        "W_first_law = Q_h - Q_c\n",
        "# Step 5: Substitute first law\n",
        "eta_substituted = W_first_law/Q_h\n",
        "# Verify this equals (Q_h - Q_c)/Q_h\n",
        "assert sp.simplify(eta_substituted - (Q_h - Q_c)/Q_h) == 0\n",
        "# Step 6: Simplify efficiency\n",
        "eta_simplified = 1 - Q_c/Q_h\n",
        "assert sp.simplify(eta_substituted - eta_simplified) == 0\n",
        "# Step 7-8: Derive Clausius inequality for two reservoirs\n",
        "# From Q_c/Q_h >= T_c/T_h, we get Q_h/T_h - Q_c/T_c <= 0\n",
        "clausius_two_reservoir = Q_h/T_h - Q_c/T_c\n",
        "# For verification, check a specific reversible case\n",
        "# Carnot cycle: Q_c/Q_h = T_c/T_h exactly\n",
        "Q_c_carnot = Q_h * T_c/T_h\n",
        "clausius_carnot = (Q_h/T_h - Q_c_carnot/T_c)\n",
        "assert sp.simplify(clausius_carnot) == 0\n",
        "# For irreversible case, the inequality should be strict\n",
        "# Example: Q_c/Q_h > T_c/T_h implies clausius_two_reservoir < 0\n",
        "# Numerical verification with example values\n",
        "T_h_val = 400  # Hot reservoir at 400K\n",
        "T_c_val = 300  # Cold reservoir at 300K\n",
        "Q_h_val = 100  # Heat absorbed from hot reservoir\n",
        "# Reversible (Carnot) case\n",
        "Q_c_rev = Q_h_val * T_c_val/T_h_val\n",
        "clausius_rev = Q_h_val/T_h_val - Q_c_rev/T_c_val\n",
        "assert abs(clausius_rev) < 1e-10  # Should be zero for reversible\n",
        "# Irreversible case (less efficient)\n",
        "Q_c_irrev = Q_h_val * 0.8  # More heat rejected than Carnot\n",
        "clausius_irrev = Q_h_val/T_h_val - Q_c_irrev/T_c_val\n",
        "assert clausius_irrev < 0  # Should be negative for irreversible\n"
      ],
      "execution_count": null,
      "outputs": []
    },
    {
      "cell_type": "markdown",
      "metadata": {},
      "source": [
        "## Source\n",
        "\n",
        "📖 **View this entry:** [theoria-dataset.org/entries.html?entry=second_law_thermodynamics_clausius.json](https://theoria-dataset.org/entries.html?entry=second_law_thermodynamics_clausius.json)\n",
        "\n",
        "This verification code is part of the [THEORIA dataset](https://github.com/theoria-dataset/theoria-dataset), ",
        "a curated collection of theoretical physics derivations with programmatic verification.\n",
        "\n",
        "**License:** CC-BY 4.0"
      ]
    }
  ]
}