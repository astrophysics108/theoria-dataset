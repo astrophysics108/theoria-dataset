{
  "nbformat": 4,
  "nbformat_minor": 0,
  "metadata": {
    "colab": {
      "provenance": []
    },
    "kernelspec": {
      "name": "python3",
      "display_name": "Python 3"
    },
    "language_info": {
      "name": "python"
    }
  },
  "cells": [
    {
      "cell_type": "markdown",
      "metadata": {},
      "source": [
        "# Wave Interference\n",
        "\n",
        "This notebook contains the programmatic verification for the **Wave Interference** entry from the THEORIA dataset.\n",
        "\n",
        "**Entry ID:** waves_interference  \n",
        "**Required Library:** sympy 1.12.0\n",
        "\n",
        "## Description\n",
        "Wave interference occurs when two or more waves overlap in space and time. The superposition principle states that the total wave function is the sum of individual wave functions. This phenomenon produces constructive and destructive interference patterns depending on the phase relationship between waves.\n",
        "\n",
        "## Installation\n",
        "First, let's install the required library:"
      ]
    },
    {
      "cell_type": "code",
      "metadata": {},
      "source": [
        "# Install required library with exact version\n",
        "!pip install sympy==1.12.0"
      ],
      "execution_count": null,
      "outputs": []
    },
    {
      "cell_type": "markdown",
      "metadata": {},
      "source": [
        "## Programmatic Verification\n",
        "\n",
        "The following code verifies the derivation mathematically:"
      ]
    },
    {
      "cell_type": "code",
      "metadata": {},
      "source": [
        "import math\n",
        "print('Wave Interference Verification\\n')\n",
        "print('=' * 40)\n",
        "# Parameters for two interfering waves\n",
        "A1, A2 = 1.0, 1.0      # amplitudes\n",
        "omega1, omega2 = 2*math.pi, 2*math.pi  # angular frequencies\n",
        "k1, k2 = 1.0, 1.0      # wave numbers\n",
        "phi1, phi2 = 0.0, 0.0  # phase constants\n",
        "# Position and time arrays\n",
        "# Create position array manually (replacing np.linspace)\n",
        "x_min, x_max, n_points = 0, 4*math.pi, 100\n",
        "x = [x_min + i * (x_max - x_min) / (n_points - 1) for i in range(n_points)]\n",
        "t = 0  # snapshot at t=0\n",
        "print(f'Wave parameters:')\n",
        "print(f'Wave 1: A₁={A1}, ω₁={omega1:.2f}, k₁={k1}, φ₁={phi1}')\n",
        "print(f'Wave 2: A₂={A2}, ω₂={omega2:.2f}, k₂={k2}, φ₂={phi2}')\n",
        "print()\n",
        "# Test 1: Constructive interference (in phase)\n",
        "print('Test 1: Constructive interference (φ₂ - φ₁ = 0)')\n",
        "wave1 = [A1 * math.sin(k1 * x_val - omega1 * t + phi1) for x_val in x]\n",
        "wave2 = [A2 * math.sin(k2 * x_val - omega2 * t + phi2) for x_val in x]\n",
        "total_constructive = [w1 + w2 for w1, w2 in zip(wave1, wave2)]\n",
        "max_amplitude_constructive = max(abs(amp) for amp in total_constructive)\n",
        "expected_max = A1 + A2\n",
        "print(f'Maximum amplitude: {max_amplitude_constructive:.2f}')\n",
        "print(f'Expected (A₁ + A₂): {expected_max:.2f}')\n",
        "print(f'Constructive interference verified: {abs(max_amplitude_constructive - expected_max) < 0.1}')\n",
        "print()\n",
        "# Test 2: Destructive interference (out of phase)\n",
        "print('Test 2: Destructive interference (φ₂ - φ₁ = π)')\n",
        "phi2_destructive = math.pi  # π phase difference\n",
        "wave2_destructive = [A2 * math.sin(k2 * x_val - omega2 * t + phi2_destructive) for x_val in x]\n",
        "total_destructive = [w1 + w2 for w1, w2 in zip(wave1, wave2_destructive)]\n",
        "max_amplitude_destructive = max(abs(amp) for amp in total_destructive)\n",
        "expected_min = abs(A1 - A2)\n",
        "print(f'Maximum amplitude: {max_amplitude_destructive:.2f}')\n",
        "print(f'Expected |A₁ - A₂|: {expected_min:.2f}')\n",
        "print(f'Destructive interference verified: {abs(max_amplitude_destructive - expected_min) < 0.1}')\n",
        "print(f'\\nWave interference verified successfully!')\n"
      ],
      "execution_count": null,
      "outputs": []
    },
    {
      "cell_type": "markdown",
      "metadata": {},
      "source": [
        "## Source\n",
        "\n",
        "📖 **View this entry:** [theoria-dataset.org/entries.html?entry=waves_interference.json](https://theoria-dataset.org/entries.html?entry=waves_interference.json)\n",
        "\n",
        "This verification code is part of the [THEORIA dataset](https://github.com/theoria-dataset/theoria-dataset), ",
        "a curated collection of theoretical physics derivations with programmatic verification.\n",
        "\n",
        "**License:** CC-BY 4.0"
      ]
    }
  ]
}