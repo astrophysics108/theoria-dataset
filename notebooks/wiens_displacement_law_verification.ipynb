{
  "nbformat": 4,
  "nbformat_minor": 0,
  "metadata": {
    "colab": {
      "provenance": []
    },
    "kernelspec": {
      "name": "python3",
      "display_name": "Python 3"
    },
    "language_info": {
      "name": "python"
    }
  },
  "cells": [
    {
      "cell_type": "markdown",
      "metadata": {},
      "source": [
        "# Wien's Displacement Law\n",
        "\n",
        "This notebook contains the programmatic verification for the **Wien's Displacement Law** entry from the THEORIA dataset.\n",
        "\n",
        "**Entry ID:** wiens_displacement_law  \n",
        "**Required Library:** sympy 1.12.0\n",
        "\n",
        "## Description\n",
        "Wien's displacement law describes the relationship between the temperature of a blackbody and the wavelength at which it emits the maximum intensity of electromagnetic radiation. As temperature increases, the peak wavelength shifts toward shorter wavelengths (higher frequencies), explaining why hot objects glow red, then white, then blue. This law is crucial for temperature measurements of stars, thermal imaging, and understanding blackbody radiation.\n",
        "\n",
        "## Installation\n",
        "First, let's install the required library:"
      ]
    },
    {
      "cell_type": "code",
      "metadata": {},
      "source": [
        "# Install required library with exact version\n",
        "!pip install sympy==1.12.0"
      ],
      "execution_count": null,
      "outputs": []
    },
    {
      "cell_type": "markdown",
      "metadata": {},
      "source": [
        "## Programmatic Verification\n",
        "\n",
        "The following code verifies the derivation mathematically:"
      ]
    },
    {
      "cell_type": "code",
      "metadata": {},
      "source": [
        "import sympy as sp\n",
        "from sympy import exp, log, solve\n",
        "\n",
        "# Define symbols\n",
        "x = sp.Symbol('x', real=True, positive=True)\n",
        "h, c, k_B, T, lam = sp.symbols('h c k_B T lambda', positive=True, real=True)\n",
        "\n",
        "# Step 8: Define the function whose derivative we need to find\n",
        "f = x**5 / (exp(x) - 1)\n",
        "\n",
        "# Step 9: Take derivative and set equal to zero\n",
        "f_prime = sp.diff(f, x)\n",
        "\n",
        "# Simplify the derivative equation\n",
        "# df/dx = [5*x^4*(e^x - 1) - x^5*e^x] / (e^x - 1)^2\n",
        "numerator = 5*x**4*(exp(x) - 1) - x**5*exp(x)\n",
        "\n",
        "# Step 10: Set numerator to zero (since denominator is never zero)\n",
        "equation = sp.Eq(numerator, 0)\n",
        "\n",
        "# Step 11-12: Rearrange to get e^x*(5-x) = 5\n",
        "# Divide by x^4 first\n",
        "simplified_eq = sp.Eq(5*(exp(x) - 1) - x*exp(x), 0)\n",
        "final_form = sp.Eq(exp(x)*(5 - x), 5)\n",
        "\n",
        "# Step 13: Solve numerically (Wien's solution)\n",
        "x_solution = 4.96511423174427  # Known solution\n",
        "\n",
        "# Verify the solution satisfies the equation\n",
        "lhs_value = exp(x_solution) * (5 - x_solution)\n",
        "rhs_value = 5\n",
        "error = abs(float(lhs_value - rhs_value))\n",
        "\n",
        "# Step 14-16: Calculate Wien's constant\n",
        "h_val = 6.62607015e-34  # Planck constant (J⋅s)\n",
        "c_val = 299792458        # Speed of light (m/s)\n",
        "k_B_val = 1.380649e-23   # Boltzmann constant (J/K)\n",
        "\n",
        "b_calculated = h_val * c_val / (x_solution * k_B_val)\n",
        "b_known = 2.897771955e-3  # Known Wien displacement constant\n",
        "\n",
        "# Verify our calculation matches the known value\n",
        "relative_error = abs(b_calculated - b_known) / b_known\n",
        "\n",
        "assert error < 1e-10  # Verify transcendental equation solution\n",
        "assert relative_error < 1e-6  # Verify Wien's constant calculation\n"
      ],
      "execution_count": null,
      "outputs": []
    },
    {
      "cell_type": "markdown",
      "metadata": {},
      "source": [
        "## Source\n",
        "\n",
        "📖 **View this entry:** [theoria-dataset.org/entries.html?entry=wiens_displacement_law.json](https://theoria-dataset.org/entries.html?entry=wiens_displacement_law.json)\n",
        "\n",
        "This verification code is part of the [THEORIA dataset](https://github.com/theoria-dataset/theoria-dataset), ",
        "a curated collection of theoretical physics derivations with programmatic verification.\n",
        "\n",
        "**License:** CC-BY 4.0"
      ]
    }
  ]
}