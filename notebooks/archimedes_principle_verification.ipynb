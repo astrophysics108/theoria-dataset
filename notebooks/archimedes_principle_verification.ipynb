{
  "nbformat": 4,
  "nbformat_minor": 0,
  "metadata": {
    "colab": {
      "provenance": []
    },
    "kernelspec": {
      "name": "python3",
      "display_name": "Python 3"
    },
    "language_info": {
      "name": "python"
    }
  },
  "cells": [
    {
      "cell_type": "markdown",
      "metadata": {},
      "source": [
        "# Archimedes' Principle\n",
        "\n",
        "This notebook contains the programmatic verification for the **Archimedes' Principle** entry from the THEORIA dataset.\n",
        "\n",
        "**Entry ID:** archimedes_principle  \n",
        "**Required Library:** sympy 1.12.0\n",
        "\n",
        "## Description\n",
        "Archimedes' principle states that the buoyant force on an object immersed in a fluid equals the weight of the fluid displaced by the object. This fundamental law explains why objects float or sink and forms the foundation of fluid statics, ship design, and density measurements. The principle applies to any fluid in a gravitational field.\n",
        "\n",
        "## Installation\n",
        "First, let's install the required library:"
      ]
    },
    {
      "cell_type": "code",
      "metadata": {},
      "source": [
        "# Install required library with exact version\n",
        "!pip install sympy==1.12.0"
      ],
      "execution_count": null,
      "outputs": []
    },
    {
      "cell_type": "markdown",
      "metadata": {},
      "source": [
        "## Programmatic Verification\n",
        "\n",
        "The following code verifies the derivation mathematically:"
      ]
    },
    {
      "cell_type": "code",
      "metadata": {},
      "source": [
        "import sympy as sp\n",
        "\n",
        "# Define symbols\n",
        "rho_fluid, rho_object, V_object, V_displaced, g = sp.symbols('rho_fluid rho_object V_object V_displaced g', positive=True, real=True)\n",
        "F_buoyant, F_weight, F_net = sp.symbols('F_buoyant F_weight F_net', real=True)\n",
        "\n",
        "# Step 10: Buoyant force\n",
        "F_buoyant_formula = rho_fluid * V_displaced * g\n",
        "\n",
        "# Weight of object\n",
        "F_weight_object = rho_object * V_object * g\n",
        "\n",
        "# Test floating condition: F_buoyant = F_weight\n",
        "# For floating: V_displaced < V_object\n",
        "floating_condition = sp.Eq(F_buoyant_formula, F_weight_object)\n",
        "\n",
        "# Solve for displaced volume when floating\n",
        "V_displaced_floating = sp.solve(floating_condition, V_displaced)[0]\n",
        "expected_floating = (rho_object * V_object) / rho_fluid\n",
        "assert sp.simplify(V_displaced_floating - expected_floating) == 0\n",
        "\n",
        "# Test completely submerged case\n",
        "# When completely submerged: V_displaced = V_object\n",
        "V_displaced_submerged = V_object\n",
        "F_buoyant_submerged = F_buoyant_formula.subs(V_displaced, V_displaced_submerged)\n",
        "\n",
        "# Net force when submerged\n",
        "F_net_submerged = F_buoyant_submerged - F_weight_object\n",
        "F_net_simplified = sp.simplify(F_net_submerged)\n",
        "\n",
        "# Expected: F_net = (ρ_fluid - ρ_object) * V_object * g\n",
        "expected_net = (rho_fluid - rho_object) * V_object * g\n",
        "assert sp.simplify(F_net_simplified - expected_net) == 0\n",
        "\n",
        "# Test sinking condition: ρ_object > ρ_fluid\n",
        "# When ρ_object > ρ_fluid, F_net < 0 (downward)\n",
        "\n",
        "# Test rising condition: ρ_object < ρ_fluid\n",
        "# When ρ_object < ρ_fluid, F_net > 0 (upward)\n",
        "\n",
        "# Specific examples\n",
        "# Example 1: Ice in water (ρ_ice ≈ 0.92 ρ_water)\n",
        "rho_ratio_ice = sp.Rational(92, 100)  # 0.92\n",
        "fraction_submerged_ice = rho_ratio_ice\n",
        "fraction_above_water = 1 - fraction_submerged_ice\n",
        "\n",
        "# About 8% of ice should be above water\n",
        "expected_above = sp.Rational(8, 100)\n",
        "assert sp.simplify(fraction_above_water - expected_above) == 0\n",
        "\n",
        "# Example 2: Helium balloon (ρ_helium << ρ_air)\n",
        "# Net upward force per unit volume\n",
        "rho_helium = sp.symbols('rho_helium', positive=True)\n",
        "rho_air = sp.symbols('rho_air', positive=True)\n",
        "\n",
        "# Assume ρ_helium << ρ_air, so buoyant force ≈ ρ_air * V * g\n",
        "F_buoyant_balloon = rho_air * V_object * g\n",
        "F_weight_balloon = rho_helium * V_object * g  # neglect balloon material\n",
        "F_net_balloon = F_buoyant_balloon - F_weight_balloon\n",
        "\n",
        "# This should be positive (upward) when ρ_air > ρ_helium\n",
        "expected_balloon_force = (rho_air - rho_helium) * V_object * g\n",
        "assert sp.simplify(F_net_balloon - expected_balloon_force) == 0\n",
        "\n",
        "# Test apparent weight in fluid\n",
        "# Apparent weight = True weight - Buoyant force\n",
        "W_apparent = F_weight_object - F_buoyant_formula.subs(V_displaced, V_object)\n",
        "W_apparent_simplified = sp.simplify(W_apparent)\n",
        "\n",
        "# Expected: W_apparent = ρ_object * V_object * g - ρ_fluid * V_object * g\n",
        "expected_apparent = (rho_object - rho_fluid) * V_object * g\n",
        "assert sp.simplify(W_apparent_simplified - expected_apparent) == 0\n"
      ],
      "execution_count": null,
      "outputs": []
    },
    {
      "cell_type": "markdown",
      "metadata": {},
      "source": [
        "## Source\n",
        "\n",
        "📖 **View this entry:** [theoria-dataset.org/entries.html?entry=archimedes_principle.json](https://theoria-dataset.org/entries.html?entry=archimedes_principle.json)\n",
        "\n",
        "This verification code is part of the [THEORIA dataset](https://github.com/theoria-dataset/theoria-dataset), ",
        "a curated collection of theoretical physics derivations with programmatic verification.\n",
        "\n",
        "**License:** CC-BY 4.0"
      ]
    }
  ]
}