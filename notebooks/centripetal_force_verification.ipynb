{
  "nbformat": 4,
  "nbformat_minor": 0,
  "metadata": {
    "colab": {
      "provenance": []
    },
    "kernelspec": {
      "name": "python3",
      "display_name": "Python 3"
    },
    "language_info": {
      "name": "python"
    }
  },
  "cells": [
    {
      "cell_type": "markdown",
      "metadata": {},
      "source": [
        "# Centripetal Force\n",
        "\n",
        "This notebook contains the programmatic verification for the **Centripetal Force** entry from the THEORIA dataset.\n",
        "\n",
        "**Entry ID:** centripetal_force  \n",
        "**Required Library:** sympy 1.12.0\n",
        "\n",
        "## Description\n",
        "Centripetal force is the net force directed toward the center of curvature that causes an object to follow a curved path. For uniform circular motion, this force is constant in magnitude but continuously changes direction, providing the centripetal acceleration needed to maintain circular motion.\n",
        "\n",
        "## Installation\n",
        "First, let's install the required library:"
      ]
    },
    {
      "cell_type": "code",
      "metadata": {},
      "source": [
        "# Install required library with exact version\n",
        "!pip install sympy==1.12.0"
      ],
      "execution_count": null,
      "outputs": []
    },
    {
      "cell_type": "markdown",
      "metadata": {},
      "source": [
        "## Programmatic Verification\n",
        "\n",
        "The following code verifies the derivation mathematically:"
      ]
    },
    {
      "cell_type": "code",
      "metadata": {},
      "source": [
        "import sympy as sp\n",
        "# Define symbols\n",
        "t, r, omega, m, v = sp.symbols('t r omega m v', positive=True)\n",
        "# Position vector for circular motion\n",
        "x = r * sp.cos(omega * t)\n",
        "y = r * sp.sin(omega * t)\n",
        "# Velocity components\n",
        "vx = sp.diff(x, t)\n",
        "vy = sp.diff(y, t)\n",
        "# Speed (magnitude of velocity)\n",
        "speed = sp.sqrt(vx**2 + vy**2)\n",
        "assert sp.simplify(speed) == r * omega\n",
        "# Acceleration components\n",
        "ax = sp.diff(vx, t)\n",
        "ay = sp.diff(vy, t)\n",
        "# Centripetal acceleration magnitude\n",
        "a_centripetal = sp.sqrt(ax**2 + ay**2)\n",
        "assert sp.simplify(a_centripetal) == omega**2 * r\n",
        "# Verify relationship v = r*omega\n",
        "v_from_omega = r * omega\n",
        "a_from_v = v_from_omega**2 / r\n",
        "assert sp.simplify(a_from_v) == omega**2 * r\n",
        "# Verify force relationship\n",
        "F_c = m * omega**2 * r\n",
        "F_c_from_v = m * v_from_omega**2 / r\n",
        "assert sp.simplify(F_c - F_c_from_v) == 0\n"
      ],
      "execution_count": null,
      "outputs": []
    },
    {
      "cell_type": "markdown",
      "metadata": {},
      "source": [
        "## Source\n",
        "\n",
        "📖 **View this entry:** [theoria-dataset.org/entries.html?entry=centripetal_force.json](https://theoria-dataset.org/entries.html?entry=centripetal_force.json)\n",
        "\n",
        "This verification code is part of the [THEORIA dataset](https://github.com/theoria-dataset/theoria-dataset), ",
        "a curated collection of theoretical physics derivations with programmatic verification.\n",
        "\n",
        "**License:** CC-BY 4.0"
      ]
    }
  ]
}