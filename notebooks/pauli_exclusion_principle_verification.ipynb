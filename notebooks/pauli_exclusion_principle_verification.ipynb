{
  "nbformat": 4,
  "nbformat_minor": 0,
  "metadata": {
    "colab": {
      "provenance": []
    },
    "kernelspec": {
      "name": "python3",
      "display_name": "Python 3"
    },
    "language_info": {
      "name": "python"
    }
  },
  "cells": [
    {
      "cell_type": "markdown",
      "metadata": {},
      "source": [
        "# Pauli Exclusion Principle\n",
        "\n",
        "This notebook contains the programmatic verification for the **Pauli Exclusion Principle** entry from the THEORIA dataset.\n",
        "\n",
        "**Entry ID:** pauli_exclusion_principle  \n",
        "**Required Library:** sympy 1.12.0\n",
        "\n",
        "## Description\n",
        "The Pauli exclusion principle states that no two identical fermions can occupy the same quantum state simultaneously. This fundamental quantum mechanical rule explains the structure of atoms, the periodic table, stellar stability, and the behavior of matter at high densities. It arises from the antisymmetric nature of fermionic wavefunctions under particle exchange.\n",
        "\n",
        "## Installation\n",
        "First, let's install the required library:"
      ]
    },
    {
      "cell_type": "code",
      "metadata": {},
      "source": [
        "# Install required library with exact version\n",
        "!pip install sympy==1.12.0"
      ],
      "execution_count": null,
      "outputs": []
    },
    {
      "cell_type": "markdown",
      "metadata": {},
      "source": [
        "## Programmatic Verification\n",
        "\n",
        "The following code verifies the derivation mathematically:"
      ]
    },
    {
      "cell_type": "code",
      "metadata": {},
      "source": [
        "import sympy as sp\n",
        "\n",
        "# Define symbols\n",
        "n, l, m_l, m_s = sp.symbols('n l m_l m_s', integer=True)\n",
        "N_max = sp.symbols('N_max', integer=True, positive=True)\n",
        "\n",
        "# Step 13: Maximum occupancy formula\n",
        "N_max_formula = 2*(2*l + 1)\n",
        "\n",
        "# Test for specific subshells\n",
        "# s subshell: l = 0\n",
        "N_s = N_max_formula.subs(l, 0)\n",
        "assert N_s == 2  # s² maximum\n",
        "\n",
        "# p subshell: l = 1\n",
        "N_p = N_max_formula.subs(l, 1)\n",
        "assert N_p == 6  # p⁶ maximum\n",
        "\n",
        "# d subshell: l = 2\n",
        "N_d = N_max_formula.subs(l, 2)\n",
        "assert N_d == 10  # d¹⁰ maximum\n",
        "\n",
        "# f subshell: l = 3\n",
        "N_f = N_max_formula.subs(l, 3)\n",
        "assert N_f == 14  # f¹⁴ maximum\n",
        "\n",
        "# Verify electron configuration patterns\n",
        "# 1s²: n=1, l=0, max=2 electrons\n",
        "# 2s²: n=2, l=0, max=2 electrons\n",
        "# 2p⁶: n=2, l=1, max=6 electrons\n",
        "# Total for n=2 shell: 2+6=8 electrons\n",
        "\n",
        "# Test shell capacity: 2n² rule\n",
        "# This comes from summing over all subshells in a shell\n",
        "def shell_capacity(n_val):\n",
        "    total = 0\n",
        "    for l_val in range(n_val):  # l goes from 0 to n-1\n",
        "        total += 2*(2*l_val + 1)\n",
        "    return total\n",
        "\n",
        "# Verify for first few shells\n",
        "assert shell_capacity(1) == 2   # K shell: 1s²\n",
        "assert shell_capacity(2) == 8   # L shell: 2s² 2p⁶\n",
        "assert shell_capacity(3) == 18  # M shell: 3s² 3p⁶ 3d¹⁰\n",
        "assert shell_capacity(4) == 32  # N shell: 4s² 4p⁶ 4d¹⁰ 4f¹⁴\n",
        "\n",
        "# Verify that this gives 2n²\n",
        "def verify_2n_squared(n_val):\n",
        "    calculated = shell_capacity(n_val)\n",
        "    expected = 2 * n_val**2\n",
        "    return calculated == expected\n",
        "\n",
        "assert verify_2n_squared(1)\n",
        "assert verify_2n_squared(2)\n",
        "assert verify_2n_squared(3)\n",
        "assert verify_2n_squared(4)\n",
        "\n",
        "# Symbolic verification of 2n² rule\n",
        "n_sym = sp.symbols('n', integer=True, positive=True)\n",
        "shell_sum = sp.Sum(2*(2*l + 1), (l, 0, n_sym-1))\n",
        "shell_sum_evaluated = shell_sum.doit()\n",
        "\n",
        "# Simplify the sum\n",
        "shell_sum_simplified = sp.simplify(shell_sum_evaluated)\n",
        "expected_2n_squared = 2*n_sym**2\n",
        "\n",
        "# Verify they are equal\n",
        "difference = sp.simplify(shell_sum_simplified - expected_2n_squared)\n",
        "assert difference == 0\n",
        "\n",
        "# Test antisymmetry condition symbolically\n",
        "# For identical particles in same state: ψ(1,2) = -ψ(2,1)\n",
        "# If state 1 = state 2, then ψ(1,2) = ψ(2,1)\n",
        "# Combined with antisymmetry: ψ(1,2) = -ψ(1,2)\n",
        "# This implies: 2*ψ(1,2) = 0, so ψ(1,2) = 0\n",
        "\n",
        "psi = sp.symbols('psi')\n",
        "antisymmetry_condition = sp.Eq(psi, -psi)  # When particles in same state\n",
        "solution = sp.solve(antisymmetry_condition, psi)\n",
        "assert solution == [0]  # Only solution is ψ = 0\n",
        "\n",
        "# Test white dwarf electron degeneracy pressure\n",
        "# At high density, Pauli pressure prevents gravitational collapse\n",
        "# This is a consequence of the exclusion principle\n"
      ],
      "execution_count": null,
      "outputs": []
    },
    {
      "cell_type": "markdown",
      "metadata": {},
      "source": [
        "## Source\n",
        "\n",
        "📖 **View this entry:** [theoria-dataset.org/entries.html?entry=pauli_exclusion_principle.json](https://theoria-dataset.org/entries.html?entry=pauli_exclusion_principle.json)\n",
        "\n",
        "This verification code is part of the [THEORIA dataset](https://github.com/theoria-dataset/theoria-dataset), ",
        "a curated collection of theoretical physics derivations with programmatic verification.\n",
        "\n",
        "**License:** CC-BY 4.0"
      ]
    }
  ]
}