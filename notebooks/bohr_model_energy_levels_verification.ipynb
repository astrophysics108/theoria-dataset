{
  "nbformat": 4,
  "nbformat_minor": 0,
  "metadata": {
    "colab": {
      "provenance": []
    },
    "kernelspec": {
      "name": "python3",
      "display_name": "Python 3"
    },
    "language_info": {
      "name": "python"
    }
  },
  "cells": [
    {
      "cell_type": "markdown",
      "metadata": {},
      "source": [
        "# Bohr Model Energy Levels\n",
        "\n",
        "This notebook contains the programmatic verification for the **Bohr Model Energy Levels** entry from the THEORIA dataset.\n",
        "\n",
        "**Entry ID:** bohr_model_energy_levels  \n",
        "**Required Library:** sympy 1.12.0\n",
        "\n",
        "## Description\n",
        "The Bohr model describes the energy levels of hydrogen atoms through quantized circular orbits, where electrons can only exist at specific energy states. The energy is inversely proportional to the square of the principal quantum number, explaining the discrete line spectra observed in hydrogen. This semi-classical model provided the first successful quantitative theory of atomic structure and paved the way for modern quantum mechanics.\n",
        "\n",
        "## Installation\n",
        "First, let's install the required library:"
      ]
    },
    {
      "cell_type": "code",
      "metadata": {},
      "source": [
        "# Install required library with exact version\n",
        "!pip install sympy==1.12.0"
      ],
      "execution_count": null,
      "outputs": []
    },
    {
      "cell_type": "markdown",
      "metadata": {},
      "source": [
        "## Programmatic Verification\n",
        "\n",
        "The following code verifies the derivation mathematically:"
      ]
    },
    {
      "cell_type": "code",
      "metadata": {},
      "source": [
        "import sympy as sp\n",
        "\n",
        "# Define symbols and constants\n",
        "n, m, e, k, hbar, r, v, E, a_0 = sp.symbols('n m e k hbar r v E a_0', positive=True, real=True)\n",
        "\n",
        "# Physical constants (in SI units)\n",
        "m_e = 9.10938356e-31    # electron mass (kg)\n",
        "e_charge = 1.602176634e-19  # elementary charge (C)\n",
        "hbar_val = 1.054571817e-34  # reduced Planck constant (J⋅s)\n",
        "k_val = 8.9875517923e9      # Coulomb constant (N⋅m²/C²)\n",
        "\n",
        "# Step 3: Force balance gives mv² = ke²/r\n",
        "force_balance = sp.Eq(m*v**2, k*e**2/r)\n",
        "\n",
        "# Step 5: Quantization gives v = nℏ/(mr)\n",
        "v_quantized = n*hbar/(m*r)\n",
        "\n",
        "# Step 6-9: Substitute and solve for r\n",
        "substituted = force_balance.subs(v, v_quantized)\n",
        "r_solution = sp.solve(substituted, r)[0]\n",
        "\n",
        "# Step 10-11: Define Bohr radius and orbital radii\n",
        "a_0_def = hbar**2/(m*k*e**2)\n",
        "r_n = n**2 * a_0_def\n",
        "\n",
        "# Verify r_solution equals r_n\n",
        "assert sp.simplify(r_solution - r_n) == 0\n",
        "\n",
        "# Step 12-14: Calculate energy using virial theorem\n",
        "# Total energy E = -½ ke²/r\n",
        "E_formula = -k*e**2/(2*r_n)\n",
        "\n",
        "# Step 16: Express in terms of fundamental constants\n",
        "E_n = -(m*k**2*e**4)/(2*hbar**2*n**2)\n",
        "\n",
        "# Verify they are equivalent\n",
        "E_substituted = E_formula.subs(r_n, n**2*a_0_def)\n",
        "assert sp.simplify(E_substituted - E_n) == 0\n",
        "\n",
        "# Step 17: Calculate numerical value\n",
        "E_1_joules = -(m_e*k_val**2*e_charge**4)/(2*hbar_val**2)\n",
        "E_1_eV = E_1_joules / e_charge  # Convert to eV\n",
        "\n",
        "# Verify this gives approximately -13.6 eV\n",
        "expected_value = -13.6\n",
        "relative_error = abs(E_1_eV - expected_value) / abs(expected_value)\n",
        "\n",
        "assert relative_error < 0.01  # Within 1% of expected value\n",
        "\n",
        "# Calculate Bohr radius\n",
        "a_0_val = hbar_val**2 / (m_e * k_val * e_charge**2)\n",
        "expected_a0 = 0.529e-10  # meters\n",
        "a0_error = abs(a_0_val - expected_a0) / expected_a0\n",
        "\n",
        "assert a0_error < 0.01  # Within 1% of expected value\n"
      ],
      "execution_count": null,
      "outputs": []
    },
    {
      "cell_type": "markdown",
      "metadata": {},
      "source": [
        "## Source\n",
        "\n",
        "📖 **View this entry:** [theoria-dataset.org/entries.html?entry=bohr_model_energy_levels.json](https://theoria-dataset.org/entries.html?entry=bohr_model_energy_levels.json)\n",
        "\n",
        "This verification code is part of the [THEORIA dataset](https://github.com/theoria-dataset/theoria-dataset), ",
        "a curated collection of theoretical physics derivations with programmatic verification.\n",
        "\n",
        "**License:** CC-BY 4.0"
      ]
    }
  ]
}