{
  "nbformat": 4,
  "nbformat_minor": 0,
  "metadata": {
    "colab": {
      "provenance": []
    },
    "kernelspec": {
      "name": "python3",
      "display_name": "Python 3"
    },
    "language_info": {
      "name": "python"
    }
  },
  "cells": [
    {
      "cell_type": "markdown",
      "metadata": {},
      "source": [
        "# Ampère's Circuital Law\n",
        "\n",
        "This notebook contains the programmatic verification for the **Ampère's Circuital Law** entry from the THEORIA dataset.\n",
        "\n",
        "**Entry ID:** amperes_law  \n",
        "**Required Library:** sympy 1.12.0\n",
        "\n",
        "## Description\n",
        "Ampère's law relates the circulation of magnetic field around a closed loop to the electric current passing through the loop. It provides a powerful method for calculating magnetic fields in cases with high symmetry and is one of Maxwell's fundamental equations of electromagnetism.\n",
        "\n",
        "## Installation\n",
        "First, let's install the required library:"
      ]
    },
    {
      "cell_type": "code",
      "metadata": {},
      "source": [
        "# Install required library with exact version\n",
        "!pip install sympy==1.12.0"
      ],
      "execution_count": null,
      "outputs": []
    },
    {
      "cell_type": "markdown",
      "metadata": {},
      "source": [
        "## Programmatic Verification\n",
        "\n",
        "The following code verifies the derivation mathematically:"
      ]
    },
    {
      "cell_type": "code",
      "metadata": {},
      "source": [
        "import sympy as sp\n",
        "# Example: magnetic field around an infinite straight wire\n",
        "mu0, I, r = sp.symbols('mu0 I r', positive=True)\n",
        "# For an infinite straight wire, B = (mu0 * I) / (2 * pi * r)\n",
        "B_wire = (mu0 * I) / (2 * sp.pi * r)\n",
        "# Apply Ampère's law to a circular loop of radius r\n",
        "# The circulation integral: B * circumference\n",
        "circulation = B_wire * 2 * sp.pi * r\n",
        "# Simplify\n",
        "circulation_simplified = sp.simplify(circulation)\n",
        "# This should equal mu0 * I_enclosed\n",
        "expected = mu0 * I\n",
        "assert circulation_simplified == expected\n",
        "# Test with specific values\n",
        "test_vals = {mu0: 1, I: 2, r: 3}\n",
        "circulation_val = circulation_simplified.subs(test_vals)\n",
        "expected_val = expected.subs(test_vals)\n",
        "assert circulation_val == expected_val\n"
      ],
      "execution_count": null,
      "outputs": []
    },
    {
      "cell_type": "markdown",
      "metadata": {},
      "source": [
        "## Source\n",
        "\n",
        "📖 **View this entry:** [theoria-dataset.org/entries.html?entry=amperes_law.json](https://theoria-dataset.org/entries.html?entry=amperes_law.json)\n",
        "\n",
        "This verification code is part of the [THEORIA dataset](https://github.com/theoria-dataset/theoria-dataset), ",
        "a curated collection of theoretical physics derivations with programmatic verification.\n",
        "\n",
        "**License:** CC-BY 4.0"
      ]
    }
  ]
}