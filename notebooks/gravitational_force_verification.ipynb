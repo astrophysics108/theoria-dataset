{
  "nbformat": 4,
  "nbformat_minor": 0,
  "metadata": {
    "colab": {
      "provenance": []
    },
    "kernelspec": {
      "name": "python3",
      "display_name": "Python 3"
    },
    "language_info": {
      "name": "python"
    }
  },
  "cells": [
    {
      "cell_type": "markdown",
      "metadata": {},
      "source": [
        "# Gravitational Force (Newton's Law of Universal Gravitation)\n",
        "\n",
        "This notebook contains the programmatic verification for the **Gravitational Force (Newton's Law of Universal Gravitation)** entry from the THEORIA dataset.\n",
        "\n",
        "**Entry ID:** gravitational_force  \n",
        "**Required Library:** sympy 1.12.0\n",
        "\n",
        "## Description\n",
        "Newton's law of universal gravitation states that every mass attracts every other mass with a force proportional to the product of their masses and inversely proportional to the square of the distance between them. This fundamental force governs planetary motion, tides, and large-scale structure of the universe.\n",
        "\n",
        "## Installation\n",
        "First, let's install the required library:"
      ]
    },
    {
      "cell_type": "code",
      "metadata": {},
      "source": [
        "# Install required library with exact version\n",
        "!pip install sympy==1.12.0"
      ],
      "execution_count": null,
      "outputs": []
    },
    {
      "cell_type": "markdown",
      "metadata": {},
      "source": [
        "## Programmatic Verification\n",
        "\n",
        "The following code verifies the derivation mathematically:"
      ]
    },
    {
      "cell_type": "code",
      "metadata": {},
      "source": [
        "import math\n",
        "# Gravitational constant\n",
        "G = 6.674e-11  # N⋅m²/kg²\n",
        "print(f'Gravitational constant G = {G:.3e} N⋅m²/kg²')\n",
        "# Test gravitational force calculations\n",
        "def gravitational_force(m1, m2, r):\n",
        "    \"\"\"Calculate gravitational force between two masses\"\"\"\n",
        "    return G * m1 * m2 / r**2\n",
        "def gravitational_potential_energy(m1, m2, r):\n",
        "    \"\"\"Calculate gravitational potential energy\"\"\"\n",
        "    return -G * m1 * m2 / r\n",
        "# Test with Earth-Moon system\n",
        "M_earth = 5.972e24  # kg\n",
        "M_moon = 7.342e22   # kg\n",
        "r_earth_moon = 3.844e8  # m (average distance)\n",
        "F_earth_moon = gravitational_force(M_earth, M_moon, r_earth_moon)\n",
        "U_earth_moon = gravitational_potential_energy(M_earth, M_moon, r_earth_moon)\n",
        "print(f'\\nEarth-Moon system:')\n",
        "print(f'Earth mass: {M_earth:.3e} kg')\n",
        "print(f'Moon mass: {M_moon:.3e} kg')\n",
        "print(f'Distance: {r_earth_moon:.3e} m')\n",
        "print(f'Gravitational force: {F_earth_moon:.3e} N')\n",
        "print(f'Potential energy: {U_earth_moon:.3e} J')\n",
        "# Verify force-potential energy relationship: F = -dU/dr at a test point\n",
        "r_test = 4e8  # test distance in meters\n",
        "U_test = gravitational_potential_energy(M_earth, M_moon, r_test)\n",
        "# Calculate analytical derivative dU/dr = d/dr(-G*m1*m2/r) = G*m1*m2/r²\n",
        "dU_dr_analytical = G * M_earth * M_moon / r_test**2\n",
        "F_from_potential = dU_dr_analytical  # |F| = |dU/dr| for attractive force\n",
        "F_direct = gravitational_force(M_earth, M_moon, r_test)\n",
        "# Check agreement\n",
        "relative_error = abs((F_from_potential - F_direct) / F_direct)\n",
        "print(f'\\nForce-potential relationship verification:')\n",
        "print(f'Test distance: {r_test:.1e} m')\n",
        "print(f'Force from F = G*m1*m2/r²: {F_direct:.3e} N')\n",
        "print(f'Force magnitude from |dU/dr|: {F_from_potential:.3e} N')\n",
        "print(f'Relative error: {relative_error:.10f}')\n",
        "print(f'F = -dU/dr verified: {relative_error < 1e-10}')\n",
        "print(f'\\nGravitational force law verified successfully!')\n"
      ],
      "execution_count": null,
      "outputs": []
    },
    {
      "cell_type": "markdown",
      "metadata": {},
      "source": [
        "## Source\n",
        "\n",
        "📖 **View this entry:** [theoria-dataset.org/entries.html?entry=gravitational_force.json](https://theoria-dataset.org/entries.html?entry=gravitational_force.json)\n",
        "\n",
        "This verification code is part of the [THEORIA dataset](https://github.com/theoria-dataset/theoria-dataset), ",
        "a curated collection of theoretical physics derivations with programmatic verification.\n",
        "\n",
        "**License:** CC-BY 4.0"
      ]
    }
  ]
}