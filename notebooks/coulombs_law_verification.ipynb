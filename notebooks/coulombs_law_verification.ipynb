{
  "nbformat": 4,
  "nbformat_minor": 0,
  "metadata": {
    "colab": {
      "provenance": []
    },
    "kernelspec": {
      "name": "python3",
      "display_name": "Python 3"
    },
    "language_info": {
      "name": "python"
    }
  },
  "cells": [
    {
      "cell_type": "markdown",
      "metadata": {},
      "source": [
        "# Coulomb's Law\n",
        "\n",
        "This notebook contains the programmatic verification for the **Coulomb's Law** entry from the THEORIA dataset.\n",
        "\n",
        "**Entry ID:** coulombs_law  \n",
        "**Required Library:** sympy 1.12.0\n",
        "\n",
        "## Description\n",
        "Coulomb's law describes the electrostatic force between two point charges, stating that the force is proportional to the product of the charges and inversely proportional to the square of their separation distance. The force acts along the line connecting the charges, being repulsive for like charges and attractive for opposite charges. This fundamental law underlies all electrostatic phenomena and forms the basis for understanding electric fields and potentials.\n",
        "\n",
        "## Installation\n",
        "First, let's install the required library:"
      ]
    },
    {
      "cell_type": "code",
      "metadata": {},
      "source": [
        "# Install required library with exact version\n",
        "!pip install sympy==1.12.0"
      ],
      "execution_count": null,
      "outputs": []
    },
    {
      "cell_type": "markdown",
      "metadata": {},
      "source": [
        "## Programmatic Verification\n",
        "\n",
        "The following code verifies the derivation mathematically:"
      ]
    },
    {
      "cell_type": "code",
      "metadata": {},
      "source": [
        "import sympy as sp\n",
        "\n",
        "# Define symbols\n",
        "k, q1, q2, r, epsilon_0, pi = sp.symbols('k q1 q2 r epsilon_0 pi', real=True)\n",
        "F_x, F_y, F_z = sp.symbols('F_x F_y F_z', real=True)\n",
        "\n",
        "# Define positions\n",
        "x1, y1, z1 = sp.symbols('x1 y1 z1', real=True)\n",
        "x2, y2, z2 = sp.symbols('x2 y2 z2', real=True)\n",
        "\n",
        "# Position vectors\n",
        "r1_vec = [x1, y1, z1]\n",
        "r2_vec = [x2, y2, z2]\n",
        "\n",
        "# Separation vector (from q2 to q1)\n",
        "r_vec = [x1 - x2, y1 - y2, z1 - z2]\n",
        "\n",
        "# Distance magnitude\n",
        "r_magnitude = sp.sqrt((x1-x2)**2 + (y1-y2)**2 + (z1-z2)**2)\n",
        "\n",
        "# Unit vector\n",
        "r_hat = [r_vec[i]/r_magnitude for i in range(3)]\n",
        "\n",
        "# Coulomb force magnitude\n",
        "F_magnitude = k * q1 * q2 / r_magnitude**2\n",
        "\n",
        "# Force vector components\n",
        "F_coulomb = [F_magnitude * r_hat[i] for i in range(3)]\n",
        "\n",
        "# Verify k = 1/(4*pi*epsilon_0)\n",
        "k_definition = 1/(4*pi*epsilon_0)\n",
        "\n",
        "# Substitute k definition\n",
        "F_with_epsilon = [F_magnitude.subs(k, k_definition) * r_hat[i] for i in range(3)]\n",
        "\n",
        "# Verify dimensional analysis: [F] = [k][q^2]/[r^2]\n",
        "# This is conceptually verified - force has correct units\n",
        "\n",
        "# Test Newton's third law: F_12 = -F_21\n",
        "# Force on q1 due to q2\n",
        "F_12_x = k * q1 * q2 * (x1 - x2) / r_magnitude**3\n",
        "# Force on q2 due to q1 (swap positions)\n",
        "F_21_x = k * q2 * q1 * (x2 - x1) / r_magnitude**3\n",
        "\n",
        "# Verify they are opposite\n",
        "assert sp.simplify(F_12_x + F_21_x) == 0\n"
      ],
      "execution_count": null,
      "outputs": []
    },
    {
      "cell_type": "markdown",
      "metadata": {},
      "source": [
        "## Source\n",
        "\n",
        "📖 **View this entry:** [theoria-dataset.org/entries.html?entry=coulombs_law.json](https://theoria-dataset.org/entries.html?entry=coulombs_law.json)\n",
        "\n",
        "This verification code is part of the [THEORIA dataset](https://github.com/theoria-dataset/theoria-dataset), ",
        "a curated collection of theoretical physics derivations with programmatic verification.\n",
        "\n",
        "**License:** CC-BY 4.0"
      ]
    }
  ]
}