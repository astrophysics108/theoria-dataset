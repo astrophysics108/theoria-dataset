{
  "nbformat": 4,
  "nbformat_minor": 0,
  "metadata": {
    "colab": {
      "provenance": []
    },
    "kernelspec": {
      "name": "python3",
      "display_name": "Python 3"
    },
    "language_info": {
      "name": "python"
    }
  },
  "cells": [
    {
      "cell_type": "markdown",
      "metadata": {},
      "source": [
        "# Noether's Theorem\n",
        "\n",
        "This notebook contains the programmatic verification for the **Noether's Theorem** entry from the THEORIA dataset.\n",
        "\n",
        "**Entry ID:** noethers_theorem  \n",
        "**Required Library:** sympy 1.12.0\n",
        "\n",
        "## Description\n",
        "Noether's Theorem states that every differentiable symmetry of the action of a physical system has a corresponding conservation law. This fundamental theorem links continuous symmetries in a system's Lagrangian to conserved quantities. For example, time translation symmetry leads to energy conservation, spatial translation symmetry to linear momentum conservation, and rotational symmetry to angular momentum conservation. It is a cornerstone of theoretical physics, providing deep insights into the structure of physical laws.\n",
        "\n",
        "## Installation\n",
        "First, let's install the required library:"
      ]
    },
    {
      "cell_type": "code",
      "metadata": {},
      "source": [
        "# Install required library with exact version\n",
        "!pip install sympy==1.12.0"
      ],
      "execution_count": null,
      "outputs": []
    },
    {
      "cell_type": "markdown",
      "metadata": {},
      "source": [
        "## Programmatic Verification\n",
        "\n",
        "The following code verifies the derivation mathematically:"
      ]
    },
    {
      "cell_type": "code",
      "metadata": {},
      "source": [
        "import sympy as sp\n",
        "\n",
        "# Define symbols\n",
        "t, m, x_t, v_t, a_t = sp.symbols('t m x_t v_t a_t', real=True)\n",
        "V_x = sp.Function('V')(x_t)\n",
        "\n",
        "# Define x(t) and its derivatives for substitution\n",
        "x = sp.Function('x')(t)\n",
        "v = x.diff(t)\n",
        "a = v.diff(t)\n",
        "\n",
        "# Lagrangian for a particle in 1D with potential V(x)\n",
        "L = 0.5 * m * v**2 - V_x.subs(x_t, x)\n",
        "\n",
        "# Euler-Lagrange equation: d/dt(dL/dv) - dL/dx = 0\n",
        "dL_dv = L.diff(v)\n",
        "ddt_dL_dv = dL_dv.diff(t).subs([(x.diff(t,t),a_t), (x.diff(t),v_t), (x,x_t)]) # substitute for explicit evaluation\n",
        "dL_dx = L.diff(x).subs([(x.diff(t,t),a_t), (x.diff(t),v_t), (x,x_t)])\n",
        "euler_lagrange_eq = sp.Eq(ddt_dL_dv, dL_dx)\n",
        "# Represents m*a = -dV/dx\n",
        "\n",
        "# Hamiltonian (conserved energy for time-translation symmetry)\n",
        "# H = p*v - L, where p = dL/dv\n",
        "p = L.diff(v) # p = m*v\n",
        "H_expr = p*v - L\n",
        "H_simplified = sp.simplify(H_expr)\n",
        "# H_simplified should be 0.5*m*v**2 + V(x)\n",
        "\n",
        "# Verify dH/dt = 0 using Euler-Lagrange equation\n",
        "# dH/dt = d/dt ( (dL/dv)*v - L )\n",
        "# dH/dt = (d/dt(dL/dv))*v + (dL/dv)*a - dL/dt\n",
        "# dL/dt = (dL/dx)*v + (dL/dv)*a (since L has no explicit t dependence for conservation of H)\n",
        "# So, dH/dt = (d/dt(dL/dv) - dL/dx) * v\n",
        "dH_dt_symbolic = (ddt_dL_dv - dL_dx) * v_t\n",
        "\n",
        "# Substitute Euler-Lagrange equation to show dH/dt -> 0\n",
        "el_diff = ddt_dL_dv - dL_dx\n",
        "dH_dt_final = (el_diff.subs(euler_lagrange_eq.lhs, euler_lagrange_eq.rhs)) * v_t\n",
        "assert sp.simplify(dH_dt_final) == 0\n",
        "\n",
        "# Print a confirmation if successful (code will be executed, assert will check)\n",
        "print('Programmatic verification conceptual check: dH/dt simplifies to 0 if Euler-Lagrange holds.')\n",
        "print(f'Hamiltonian H = {H_simplified.subs([(x.diff(t),v_t),(x,x_t)])}')\n",
        "print(f'Euler-Lagrange equation: {ddt_dL_dv.subs([(x.diff(t,t),a_t), (x.diff(t),v_t), (x,x_t)])} = {dL_dx.subs([(x.diff(t,t),a_t), (x.diff(t),v_t), (x,x_t)])}')\n",
        "print(f'Symbolic dH/dt based on EL: {dH_dt_symbolic}')\n",
        "print(f'Simplified dH/dt (should be 0): {sp.simplify(dH_dt_final)}')\n",
        "print('Verification successful if the last line is 0 and assert passes.')\n"
      ],
      "execution_count": null,
      "outputs": []
    },
    {
      "cell_type": "markdown",
      "metadata": {},
      "source": [
        "## Source\n",
        "\n",
        "📖 **View this entry:** [theoria-dataset.org/entries.html?entry=noethers_theorem.json](https://theoria-dataset.org/entries.html?entry=noethers_theorem.json)\n",
        "\n",
        "This verification code is part of the [THEORIA dataset](https://github.com/theoria-dataset/theoria-dataset), ",
        "a curated collection of theoretical physics derivations with programmatic verification.\n",
        "\n",
        "**License:** CC-BY 4.0"
      ]
    }
  ]
}