{
  "nbformat": 4,
  "nbformat_minor": 0,
  "metadata": {
    "colab": {
      "provenance": []
    },
    "kernelspec": {
      "name": "python3",
      "display_name": "Python 3"
    },
    "language_info": {
      "name": "python"
    }
  },
  "cells": [
    {
      "cell_type": "markdown",
      "metadata": {},
      "source": [
        "# Lenz's Law\n",
        "\n",
        "This notebook contains the programmatic verification for the **Lenz's Law** entry from the THEORIA dataset.\n",
        "\n",
        "**Entry ID:** lenzs_law  \n",
        "**Required Library:** sympy 1.12.0\n",
        "\n",
        "## Description\n",
        "Lenz's law states that the direction of an induced current is such that its magnetic field opposes the change in flux that produced it. This law is a manifestation of energy conservation in electromagnetic systems, ensuring that induced currents always act to resist changes in magnetic flux, requiring work to maintain the changing flux.\n",
        "\n",
        "## Installation\n",
        "First, let's install the required library:"
      ]
    },
    {
      "cell_type": "code",
      "metadata": {},
      "source": [
        "# Install required library with exact version\n",
        "!pip install sympy==1.12.0"
      ],
      "execution_count": null,
      "outputs": []
    },
    {
      "cell_type": "markdown",
      "metadata": {},
      "source": [
        "## Programmatic Verification\n",
        "\n",
        "The following code verifies the derivation mathematically:"
      ]
    },
    {
      "cell_type": "code",
      "metadata": {},
      "source": [
        "import sympy as sp\n",
        "# Example: conducting loop moving through magnetic field\n",
        "t, B0, v, L, R = sp.symbols('t B0 v L R', positive=True)\n",
        "x = sp.symbols('x', real=True)\n",
        "# Magnetic flux through loop of area A moving with velocity v\n",
        "# Assume uniform field B0, loop width L, position x(t) = v*t\n",
        "x_t = v * t\n",
        "# Flux change as loop enters/exits magnetic field region\n",
        "Phi_B = B0 * L * x_t  # simplified case\n",
        "# Induced EMF according to Faraday's law\n",
        "EMF = -sp.diff(Phi_B, t)\n",
        "# Induced current\n",
        "I_induced = EMF / R\n",
        "# Power dissipated\n",
        "P_dissipated = I_induced**2 * R\n",
        "assert sp.simplify(P_dissipated) == (B0*L*v)**2/R\n",
        "# Force on conductor (F = BIL)\n",
        "F_magnetic = B0 * sp.Abs(I_induced) * L\n",
        "# Work rate (power) required to maintain constant velocity\n",
        "P_external = F_magnetic * v\n",
        "assert sp.simplify(P_external - P_dissipated) == 0\n",
        "# Verify that EMF opposes flux change\n",
        "dPhi_dt = sp.diff(Phi_B, t)\n",
        "# If flux is increasing (dΦ/dt > 0), EMF should be negative\n",
        "# If flux is decreasing (dΦ/dt < 0), EMF should be positive\n",
        "assert EMF == -dPhi_dt  # This confirms Lenz's law sign\n"
      ],
      "execution_count": null,
      "outputs": []
    },
    {
      "cell_type": "markdown",
      "metadata": {},
      "source": [
        "## Source\n",
        "\n",
        "📖 **View this entry:** [theoria-dataset.org/entries.html?entry=lenzs_law.json](https://theoria-dataset.org/entries.html?entry=lenzs_law.json)\n",
        "\n",
        "This verification code is part of the [THEORIA dataset](https://github.com/theoria-dataset/theoria-dataset), ",
        "a curated collection of theoretical physics derivations with programmatic verification.\n",
        "\n",
        "**License:** CC-BY 4.0"
      ]
    }
  ]
}