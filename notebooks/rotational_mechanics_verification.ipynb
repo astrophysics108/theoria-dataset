{
  "nbformat": 4,
  "nbformat_minor": 0,
  "metadata": {
    "colab": {
      "provenance": []
    },
    "kernelspec": {
      "name": "python3",
      "display_name": "Python 3"
    },
    "language_info": {
      "name": "python"
    }
  },
  "cells": [
    {
      "cell_type": "markdown",
      "metadata": {},
      "source": [
        "# Rotational Mechanics\n",
        "\n",
        "This notebook contains the programmatic verification for the **Rotational Mechanics** entry from the THEORIA dataset.\n",
        "\n",
        "**Entry ID:** rotational_mechanics  \n",
        "**Required Library:** sympy 1.12.0\n",
        "\n",
        "## Description\n",
        "Rotational mechanics describes the motion of objects rotating about an axis, providing the rotational analogs of linear motion concepts. Angular velocity relates rotational speed to period and frequency, while torque is the rotational equivalent of force, causing angular acceleration through the moment of inertia. These concepts unified with angular momentum and rotational kinetic energy form a complete framework for analyzing spinning objects, from wheels to planets.\n",
        "\n",
        "## Installation\n",
        "First, let's install the required library:"
      ]
    },
    {
      "cell_type": "code",
      "metadata": {},
      "source": [
        "# Install required library with exact version\n",
        "!pip install sympy==1.12.0"
      ],
      "execution_count": null,
      "outputs": []
    },
    {
      "cell_type": "markdown",
      "metadata": {},
      "source": [
        "## Programmatic Verification\n",
        "\n",
        "The following code verifies the derivation mathematically:"
      ]
    },
    {
      "cell_type": "code",
      "metadata": {},
      "source": [
        "import sympy as sp\n",
        "import math\n",
        "\n",
        "# Define symbols\n",
        "omega, v, r, T, f, tau, F, I, alpha, L, theta, t = sp.symbols('omega v r T f tau F I alpha L theta t', real=True, positive=True)\n",
        "K_rot = sp.symbols('K_rot', real=True, positive=True)\n",
        "\n",
        "# Test angular velocity relationships\n",
        "# ω = v/r, so v = ωr\n",
        "# This is definitionally true, test with numerical values instead\n",
        "\n",
        "# ω = 2π/T = 2πf\n",
        "omega_from_period = 2*sp.pi/T\n",
        "omega_from_freq = 2*sp.pi*f\n",
        "# Verify consistency: if f = 1/T, then ω = 2πf should equal ω = 2π/T\n",
        "# This is automatically satisfied by the definitions\n",
        "\n",
        "# Test rotational Newton's 2nd law: τ = Iα\n",
        "# These are definitional relationships, test with numerical values\n",
        "\n",
        "# Test rotational kinetic energy: K_rot = (1/2)Iω²\n",
        "K_rot_eq = sp.Rational(1,2) * I * omega**2\n",
        "\n",
        "# Numerical verification with realistic values\n",
        "# Example: solid cylinder rotating\n",
        "mass = 2.0      # kg\n",
        "radius = 0.5    # m\n",
        "I_cylinder = mass * radius**2 / 2  # moment of inertia for solid cylinder\n",
        "omega_val = 10.0  # rad/s\n",
        "\n",
        "# Calculate rotational kinetic energy\n",
        "K_rot_val = 0.5 * I_cylinder * omega_val**2\n",
        "expected_K = 0.5 * (mass * radius**2 / 2) * omega_val**2\n",
        "assert abs(K_rot_val - expected_K) < 1e-10\n",
        "\n",
        "# Test angular-linear velocity relationship\n",
        "v_tangential = omega_val * radius\n",
        "expected_v = 5.0  # m/s\n",
        "assert abs(v_tangential - expected_v) < 1e-10\n",
        "\n",
        "# Test period-frequency relationships\n",
        "period_val = 2 * math.pi / omega_val\n",
        "freq_val = 1 / period_val\n",
        "omega_check = 2 * math.pi * freq_val\n",
        "assert abs(omega_check - omega_val) < 1e-10\n",
        "\n",
        "# Test torque calculation\n",
        "force_val = 20.0    # N\n",
        "lever_arm = 0.3     # m\n",
        "torque_val = force_val * lever_arm\n",
        "alpha_val = torque_val / I_cylinder\n",
        "\n",
        "# Verify τ = Iα\n",
        "torque_check = I_cylinder * alpha_val\n",
        "assert abs(torque_check - torque_val) < 1e-10\n",
        "\n",
        "# Test angular momentum\n",
        "L_val = I_cylinder * omega_val\n",
        "# L should also equal r × p for point masses\n",
        "# For our cylinder, this is a more complex integral, but the formula holds\n"
      ],
      "execution_count": null,
      "outputs": []
    },
    {
      "cell_type": "markdown",
      "metadata": {},
      "source": [
        "## Source\n",
        "\n",
        "📖 **View this entry:** [theoria-dataset.org/entries.html?entry=rotational_mechanics.json](https://theoria-dataset.org/entries.html?entry=rotational_mechanics.json)\n",
        "\n",
        "This verification code is part of the [THEORIA dataset](https://github.com/theoria-dataset/theoria-dataset), ",
        "a curated collection of theoretical physics derivations with programmatic verification.\n",
        "\n",
        "**License:** CC-BY 4.0"
      ]
    }
  ]
}