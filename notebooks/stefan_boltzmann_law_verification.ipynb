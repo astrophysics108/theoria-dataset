{
  "nbformat": 4,
  "nbformat_minor": 0,
  "metadata": {
    "colab": {
      "provenance": []
    },
    "kernelspec": {
      "name": "python3",
      "display_name": "Python 3"
    },
    "language_info": {
      "name": "python"
    }
  },
  "cells": [
    {
      "cell_type": "markdown",
      "metadata": {},
      "source": [
        "# Stefan–Boltzmann Law\n",
        "\n",
        "This notebook contains the programmatic verification for the **Stefan–Boltzmann Law** entry from the THEORIA dataset.\n",
        "\n",
        "**Entry ID:** stefan_boltzmann_law  \n",
        "**Required Library:** sympy 1.12.0\n",
        "\n",
        "## Description\n",
        "The Stefan–Boltzmann law gives the radiant energy flux emitted by an ideal black body as the fourth power of its absolute temperature, `j^* = sigma*T^4`. By linking thermodynamic temperature to measurable luminosity, the law is fundamental to stellar astrophysics, climate modelling and furnace engineering. It enables surface temperatures to be inferred from radiative output and sets theoretical efficiency limits for thermal devices.\n",
        "\n",
        "## Installation\n",
        "First, let's install the required library:"
      ]
    },
    {
      "cell_type": "code",
      "metadata": {},
      "source": [
        "# Install required library with exact version\n",
        "!pip install sympy==1.12.0"
      ],
      "execution_count": null,
      "outputs": []
    },
    {
      "cell_type": "markdown",
      "metadata": {},
      "source": [
        "## Programmatic Verification\n",
        "\n",
        "The following code verifies the derivation mathematically:"
      ]
    },
    {
      "cell_type": "code",
      "metadata": {},
      "source": [
        "import sympy as sp\n",
        "# Define symbolic variables (positive, real constants and temperature; frequency nu)\n",
        "nu, T, h, k, c = sp.symbols('nu T h k c', positive=True, real=True)\n",
        "\n",
        "# Derivation Step 1: Planck's law for spectral energy density u(nu,T)\n",
        "u_nu = (8*sp.pi*h*nu**3)/(c**3*(sp.exp(h*nu/(k*T)) - 1))\n",
        "\n",
        "# Derivation Step 2: Total energy density u(T) is the integral of u(nu,T) over all frequencies.\n",
        "# Derivation Step 3: Substitute x = h*nu/(k*T). This means nu = x*k*T/h, and dnu = (k*T/h)*dx.\n",
        "# Derivation Step 4: Rewrite the integral for u(T) in terms of x.\n",
        "x = sp.symbols('x', positive=True, real=True)\n",
        "integrand_for_u_T = u_nu.subs(nu, (x*k*T)/h) * ((k*T)/h) # This is u_nu(nu(x)) * (dnu/dx)\n",
        "\n",
        "# Perform the integration (Corresponds to evaluating the integral in Derivation Step 4 and using result from Derivation Step 5)\n",
        "# Integral evaluates to zeta(4)*Gamma(4) = pi**4/15\n",
        "integral_val = sp.zeta(4) * sp.gamma(4)\n",
        "u_T_calculated = (8*sp.pi*k**4*T**4)/(h**3*c**3) * integral_val\n",
        "\n",
        "# Derivation Step 6: Expected analytical result for u(T)\n",
        "u_T_expected = (8*sp.pi**5*k**4*T**4)/(15*h**3*c**3)\n",
        "assert sp.simplify(u_T_calculated - u_T_expected) == 0, f'Verification of u(T) failed. Calculated: {u_T_calculated}, Expected: {u_T_expected}'\n",
        "\n",
        "# Derivation Step 7: Relate u(T) to radiant exitance j_star: j_star = (c/4)*u(T)\n",
        "# Derivation Step 8: Substitute u(T) into j_star formula to get j_star in terms of constants and T\n",
        "j_star_from_u_T = (c/4) * u_T_calculated\n",
        "\n",
        "# Derivation Step 9: Define Stefan-Boltzmann constant sigma\n",
        "sigma_definition = (2*sp.pi**5*k**4)/(15*h**3*c**2)\n",
        "\n",
        "# Derivation Step 10: Final Stefan-Boltzmann law j_star = sigma*T^4\n",
        "j_star_from_sigma_T4 = sigma_definition*T**4\n",
        "assert sp.simplify(j_star_from_u_T - j_star_from_sigma_T4) == 0, f'Verification of Stefan-Boltzmann law j_star = sigma*T^4 failed. Calculated from u(T): {j_star_from_u_T}, Expected from sigma*T^4: {j_star_from_sigma_T4}'\n"
      ],
      "execution_count": null,
      "outputs": []
    },
    {
      "cell_type": "markdown",
      "metadata": {},
      "source": [
        "## Source\n",
        "\n",
        "📖 **View this entry:** [theoria-dataset.org/entries.html?entry=stefan_boltzmann_law.json](https://theoria-dataset.org/entries.html?entry=stefan_boltzmann_law.json)\n",
        "\n",
        "This verification code is part of the [THEORIA dataset](https://github.com/theoria-dataset/theoria-dataset), ",
        "a curated collection of theoretical physics derivations with programmatic verification.\n",
        "\n",
        "**License:** CC-BY 4.0"
      ]
    }
  ]
}