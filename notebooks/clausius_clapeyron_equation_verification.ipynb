{
  "nbformat": 4,
  "nbformat_minor": 0,
  "metadata": {
    "colab": {
      "provenance": []
    },
    "kernelspec": {
      "name": "python3",
      "display_name": "Python 3"
    },
    "language_info": {
      "name": "python"
    }
  },
  "cells": [
    {
      "cell_type": "markdown",
      "metadata": {},
      "source": [
        "# Clausius-Clapeyron Equation\n",
        "\n",
        "This notebook contains the programmatic verification for the **Clausius-Clapeyron Equation** entry from the THEORIA dataset.\n",
        "\n",
        "**Entry ID:** clausius_clapeyron_equation  \n",
        "**Required Library:** sympy 1.12.0\n",
        "\n",
        "## Description\n",
        "The Clausius-Clapeyron equation describes the relationship between pressure and temperature along phase transition curves. It relates the slope of the coexistence curve to the latent heat and volume change during phase transitions, providing fundamental insight into phase diagrams and enabling prediction of vapor pressures, melting points, and boiling points under different conditions.\n",
        "\n",
        "## Installation\n",
        "First, let's install the required library:"
      ]
    },
    {
      "cell_type": "code",
      "metadata": {},
      "source": [
        "# Install required library with exact version\n",
        "!pip install sympy==1.12.0"
      ],
      "execution_count": null,
      "outputs": []
    },
    {
      "cell_type": "markdown",
      "metadata": {},
      "source": [
        "## Programmatic Verification\n",
        "\n",
        "The following code verifies the derivation mathematically:"
      ]
    },
    {
      "cell_type": "code",
      "metadata": {},
      "source": [
        "import sympy as sp\n",
        "import math\n",
        "\n",
        "# Define symbols\n",
        "p, T, H_vap, V_liq, V_vap, R = sp.symbols('p T H_vap V_liq V_vap R', positive=True, real=True)\n",
        "\n",
        "# Clausius-Clapeyron for liquid-vapor transition\n",
        "# Assuming ideal gas: V_vap >> V_liq, V_vap ≈ RT/p\n",
        "dpdT = H_vap*p/(R*T**2)\n",
        "\n",
        "# Integrated form (assuming constant H_vap)\n",
        "# ln(p₂/p₁) = (ΔH_vap/R)(1/T₁ - 1/T₂)\n",
        "\n",
        "# Test with water vapor pressure\n",
        "# Constants for water\n",
        "H_vap_water = 40660  # J/mol (enthalpy of vaporization)\n",
        "R_val = 8.314        # J/(mol·K) (gas constant)\n",
        "T1 = 373.15          # K (100°C)\n",
        "p1 = 101325          # Pa (1 atm)\n",
        "\n",
        "# Predict vapor pressure at 90°C\n",
        "T2 = 363.15          # K (90°C)\n",
        "ln_p_ratio = (H_vap_water/R_val) * (1/T1 - 1/T2)\n",
        "p2_predicted = p1 * math.exp(ln_p_ratio)\n",
        "\n",
        "# Expected vapor pressure at 90°C is about 70 kPa\n",
        "p2_expected = 70000  # Pa\n",
        "relative_error = abs(p2_predicted - p2_expected) / p2_expected\n",
        "assert relative_error < 0.2, f'Water vapor pressure prediction error: {relative_error}'\n",
        "\n",
        "# Test with ice-water transition (solid-liquid)\n",
        "# For ice melting: dp/dT = ΔH_fus/(T·ΔV)\n",
        "H_fus_ice = 6010     # J/mol (enthalpy of fusion)\n",
        "V_water = 18e-6      # m³/mol (molar volume of liquid water)\n",
        "V_ice = 19.6e-6      # m³/mol (molar volume of ice)\n",
        "Delta_V_fusion = V_water - V_ice  # negative (ice contracts when melting)\n",
        "\n",
        "# Calculate dp/dT for ice-water transition\n",
        "T_melt = 273.15      # K (0°C)\n",
        "dpdT_ice = H_fus_ice / (T_melt * Delta_V_fusion)\n",
        "\n",
        "# This should be negative (pressure decreases melting point)\n",
        "assert dpdT_ice < 0, 'Ice melting should have negative dp/dT'\n",
        "\n",
        "# Estimate pressure needed to lower melting point by 1°C\n",
        "Delta_T = -1         # K (lower by 1°C)\n",
        "Delta_p = dpdT_ice * Delta_T\n",
        "# Should be positive pressure increase\n",
        "assert Delta_p > 0, 'Pressure should increase to lower melting point'\n",
        "\n",
        "# The result should be around 13.5 MPa per degree\n",
        "expected_dp_dt = -13.5e6  # Pa/K\n",
        "error_ice = abs(dpdT_ice - expected_dp_dt) / abs(expected_dp_dt)\n",
        "assert error_ice < 0.5, f'Ice dp/dT calculation error: {error_ice}'\n"
      ],
      "execution_count": null,
      "outputs": []
    },
    {
      "cell_type": "markdown",
      "metadata": {},
      "source": [
        "## Source\n",
        "\n",
        "📖 **View this entry:** [theoria-dataset.org/entries.html?entry=clausius_clapeyron_equation.json](https://theoria-dataset.org/entries.html?entry=clausius_clapeyron_equation.json)\n",
        "\n",
        "This verification code is part of the [THEORIA dataset](https://github.com/theoria-dataset/theoria-dataset), ",
        "a curated collection of theoretical physics derivations with programmatic verification.\n",
        "\n",
        "**License:** CC-BY 4.0"
      ]
    }
  ]
}