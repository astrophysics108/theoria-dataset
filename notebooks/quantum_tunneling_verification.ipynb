{
  "nbformat": 4,
  "nbformat_minor": 0,
  "metadata": {
    "colab": {
      "provenance": []
    },
    "kernelspec": {
      "name": "python3",
      "display_name": "Python 3"
    },
    "language_info": {
      "name": "python"
    }
  },
  "cells": [
    {
      "cell_type": "markdown",
      "metadata": {},
      "source": [
        "# Quantum Tunneling\n",
        "\n",
        "This notebook contains the programmatic verification for the **Quantum Tunneling** entry from the THEORIA dataset.\n",
        "\n",
        "**Entry ID:** quantum_tunneling  \n",
        "**Required Library:** sympy 1.12.0\n",
        "\n",
        "## Description\n",
        "Quantum tunneling is the quantum mechanical phenomenon where particles can pass through potential barriers even when their kinetic energy is less than the barrier height. The transmission probability depends exponentially on the barrier width and height, and is strictly forbidden in classical mechanics. This effect is crucial in nuclear fusion, semiconductor devices, and scanning tunneling microscopes.\n",
        "\n",
        "## Installation\n",
        "First, let's install the required library:"
      ]
    },
    {
      "cell_type": "code",
      "metadata": {},
      "source": [
        "# Install required library with exact version\n",
        "!pip install sympy==1.12.0"
      ],
      "execution_count": null,
      "outputs": []
    },
    {
      "cell_type": "markdown",
      "metadata": {},
      "source": [
        "## Programmatic Verification\n",
        "\n",
        "The following code verifies the derivation mathematically:"
      ]
    },
    {
      "cell_type": "code",
      "metadata": {},
      "source": [
        "import sympy as sp\n",
        "# Define symbols\n",
        "m, hbar, E, V0, a, kappa = sp.symbols('m hbar E V0 a kappa', positive=True)\n",
        "# Wave numbers\n",
        "k1 = sp.sqrt(2*m*E)/hbar\n",
        "kappa_def = sp.sqrt(2*m*(V0 - E))/hbar\n",
        "# Verify exponential approximation for thick barriers\n",
        "T_exact = 1/(1 + (V0**2 * sp.sinh(kappa*a)**2)/(4*E*(V0 - E)))\n",
        "# For large kappa*a, sinh(kappa*a) ≈ exp(kappa*a)/2\n",
        "T_approx = sp.exp(-2*kappa*a)\n",
        "# Verify limiting cases\n",
        "# As V0 approaches E, transmission should approach 1\n",
        "# When V0 → E, kappa → 0, so sinh(kappa*a) → kappa*a\n",
        "# and T_exact → 1/(1 + 0) = 1\n",
        "T_limit_energy = sp.limit(T_exact.subs(kappa, kappa_def), V0, E)\n",
        "# Check numerically since symbolic limit may be complex\n",
        "# Use very thin barrier and energy very close to barrier height\n",
        "T_near_limit = T_exact.subs(kappa, kappa_def).subs({E: 1, V0: 1.0001, m: 1, hbar: 1, a: 0.1})\n",
        "assert abs(float(T_near_limit) - 1) < 0.1  # Should be close to 1 for thin barrier\n",
        "# As barrier width approaches 0, transmission should approach 1\n",
        "T_limit_width = sp.limit(T_exact, a, 0)\n",
        "assert T_limit_width == 1\n",
        "# Verify that transmission is always between 0 and 1\n",
        "# For physical parameters: 0 < E < V0, a > 0\n",
        "test_vals = {E: 1, V0: 2, m: 1, hbar: 1, a: 1}\n",
        "kappa_val = kappa_def.subs(test_vals)\n",
        "T_val = T_exact.subs(test_vals).subs(kappa, kappa_val)\n",
        "assert 0 < float(T_val) < 1\n",
        "# Verify exponential suppression for thick barriers\n",
        "thick_barrier_vals = test_vals.copy()\n",
        "thick_barrier_vals[a] = 10  # thick barrier\n",
        "T_thick = T_exact.subs(thick_barrier_vals).subs(kappa, kappa_val)\n",
        "assert float(T_thick) < 1e-5  # very small transmission\n"
      ],
      "execution_count": null,
      "outputs": []
    },
    {
      "cell_type": "markdown",
      "metadata": {},
      "source": [
        "## Source\n",
        "\n",
        "📖 **View this entry:** [theoria-dataset.org/entries.html?entry=quantum_tunneling.json](https://theoria-dataset.org/entries.html?entry=quantum_tunneling.json)\n",
        "\n",
        "This verification code is part of the [THEORIA dataset](https://github.com/theoria-dataset/theoria-dataset), ",
        "a curated collection of theoretical physics derivations with programmatic verification.\n",
        "\n",
        "**License:** CC-BY 4.0"
      ]
    }
  ]
}