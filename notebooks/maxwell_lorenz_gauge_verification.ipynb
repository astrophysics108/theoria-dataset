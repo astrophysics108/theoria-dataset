{
  "nbformat": 4,
  "nbformat_minor": 0,
  "metadata": {
    "colab": {
      "provenance": []
    },
    "kernelspec": {
      "name": "python3",
      "display_name": "Python 3"
    },
    "language_info": {
      "name": "python"
    }
  },
  "cells": [
    {
      "cell_type": "markdown",
      "metadata": {},
      "source": [
        "# Maxwell's Equations (Lorenz Gauge)\n",
        "\n",
        "This notebook contains the programmatic verification for the **Maxwell's Equations (Lorenz Gauge)** entry from the THEORIA dataset.\n",
        "\n",
        "**Entry ID:** maxwell_lorenz_gauge  \n",
        "**Required Library:** sympy 1.12.0\n",
        "\n",
        "## Description\n",
        "In Lorenz gauge, Maxwell's equations for the scalar (phi) and vector (vec A) electromagnetic potentials reduce to decoupled inhomogeneous wave equations driven by charge and current densities. These forms make the causal propagation of electromagnetic influences explicit, simplify relativistic formulations, and are widely used in field quantisation and numerical electrodynamics.\n",
        "\n",
        "## Installation\n",
        "First, let's install the required library:"
      ]
    },
    {
      "cell_type": "code",
      "metadata": {},
      "source": [
        "# Install required library with exact version\n",
        "!pip install sympy==1.12.0"
      ],
      "execution_count": null,
      "outputs": []
    },
    {
      "cell_type": "markdown",
      "metadata": {},
      "source": [
        "## Programmatic Verification\n",
        "\n",
        "The following code verifies the derivation mathematically:"
      ]
    },
    {
      "cell_type": "code",
      "metadata": {},
      "source": [
        "import sympy as sp\n",
        "# ---- Plane-wave check of Lorenz gauge continuity ----\n",
        "t, x, c = sp.symbols('t x c', positive=True)\n",
        "epsilon0, mu0 = sp.symbols('epsilon0 mu0', positive=True)\n",
        "k, omega = sp.symbols('k omega', real=True)\n",
        "phi = sp.exp(sp.I*(k*x - omega*t))\n",
        "Ax = Ay = Az = 0\n",
        "def box(f):\n    return sp.diff(f, x, 2) - 1/c**2 * sp.diff(f, t, 2)\n",
        "rho = -epsilon0*box(phi)\n",
        "continuity = sp.diff(rho, t)\n",
        "continuity = continuity.subs(mu0, 1/(epsilon0*c**2)).subs(omega, c*k)\n",
        "assert sp.simplify(continuity) == 0\n"
      ],
      "execution_count": null,
      "outputs": []
    },
    {
      "cell_type": "markdown",
      "metadata": {},
      "source": [
        "## Source\n",
        "\n",
        "📖 **View this entry:** [theoria-dataset.org/entries.html?entry=maxwell_lorenz_gauge.json](https://theoria-dataset.org/entries.html?entry=maxwell_lorenz_gauge.json)\n",
        "\n",
        "This verification code is part of the [THEORIA dataset](https://github.com/theoria-dataset/theoria-dataset), ",
        "a curated collection of theoretical physics derivations with programmatic verification.\n",
        "\n",
        "**License:** CC-BY 4.0"
      ]
    }
  ]
}